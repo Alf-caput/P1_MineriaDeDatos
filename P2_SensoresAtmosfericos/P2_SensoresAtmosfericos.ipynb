{
  "cells": [
    {
      "cell_type": "code",
      "execution_count": 166,
      "metadata": {
        "id": "GxoWKYXMKC5L"
      },
      "outputs": [],
      "source": [
        "import pandas as pd\n",
        "import numpy as np\n",
        "import matplotlib.pyplot as plt\n",
        "%matplotlib inline"
      ]
    },
    {
      "cell_type": "code",
      "execution_count": 167,
      "metadata": {
        "colab": {
          "base_uri": "https://localhost:8080/",
          "height": 226
        },
        "id": "_o93t6ypKC5O",
        "outputId": "25c3b48e-8a48-48c4-ce1a-5e9581ca2bc3"
      },
      "outputs": [
        {
          "data": {
            "text/html": [
              "\n",
              "  <div id=\"df-9ab4ee06-4047-42aa-819c-109ec09cba07\" class=\"colab-df-container\">\n",
              "    <div>\n",
              "<style scoped>\n",
              "    .dataframe tbody tr th:only-of-type {\n",
              "        vertical-align: middle;\n",
              "    }\n",
              "\n",
              "    .dataframe tbody tr th {\n",
              "        vertical-align: top;\n",
              "    }\n",
              "\n",
              "    .dataframe thead th {\n",
              "        text-align: right;\n",
              "    }\n",
              "</style>\n",
              "<table border=\"1\" class=\"dataframe\">\n",
              "  <thead>\n",
              "    <tr style=\"text-align: right;\">\n",
              "      <th></th>\n",
              "      <th>Month</th>\n",
              "      <th>Day_of_month</th>\n",
              "      <th>Day_of_week</th>\n",
              "      <th>ozone_reading</th>\n",
              "      <th>pressure_height</th>\n",
              "      <th>Wind_speed</th>\n",
              "      <th>Humidity</th>\n",
              "      <th>Temperature_Sandburg</th>\n",
              "      <th>Temperature_ElMonte</th>\n",
              "      <th>Inversion_base_height</th>\n",
              "      <th>Pressure_gradient</th>\n",
              "      <th>Inversion_temperature</th>\n",
              "      <th>Visibility</th>\n",
              "    </tr>\n",
              "  </thead>\n",
              "  <tbody>\n",
              "    <tr>\n",
              "      <th>0</th>\n",
              "      <td>1</td>\n",
              "      <td>5</td>\n",
              "      <td>1</td>\n",
              "      <td>5.34</td>\n",
              "      <td>5760</td>\n",
              "      <td>3</td>\n",
              "      <td>51</td>\n",
              "      <td>54</td>\n",
              "      <td>45.32</td>\n",
              "      <td>1450</td>\n",
              "      <td>25</td>\n",
              "      <td>57.02</td>\n",
              "      <td>60</td>\n",
              "    </tr>\n",
              "    <tr>\n",
              "      <th>1</th>\n",
              "      <td>1</td>\n",
              "      <td>6</td>\n",
              "      <td>2</td>\n",
              "      <td>5.77</td>\n",
              "      <td>5720</td>\n",
              "      <td>4</td>\n",
              "      <td>69</td>\n",
              "      <td>35</td>\n",
              "      <td>49.64</td>\n",
              "      <td>1568</td>\n",
              "      <td>15</td>\n",
              "      <td>53.78</td>\n",
              "      <td>60</td>\n",
              "    </tr>\n",
              "    <tr>\n",
              "      <th>2</th>\n",
              "      <td>1</td>\n",
              "      <td>7</td>\n",
              "      <td>3</td>\n",
              "      <td>3.69</td>\n",
              "      <td>5790</td>\n",
              "      <td>6</td>\n",
              "      <td>19</td>\n",
              "      <td>45</td>\n",
              "      <td>46.40</td>\n",
              "      <td>2631</td>\n",
              "      <td>-33</td>\n",
              "      <td>54.14</td>\n",
              "      <td>100</td>\n",
              "    </tr>\n",
              "    <tr>\n",
              "      <th>3</th>\n",
              "      <td>1</td>\n",
              "      <td>8</td>\n",
              "      <td>4</td>\n",
              "      <td>3.89</td>\n",
              "      <td>5790</td>\n",
              "      <td>3</td>\n",
              "      <td>25</td>\n",
              "      <td>55</td>\n",
              "      <td>52.70</td>\n",
              "      <td>554</td>\n",
              "      <td>-28</td>\n",
              "      <td>64.76</td>\n",
              "      <td>250</td>\n",
              "    </tr>\n",
              "    <tr>\n",
              "      <th>4</th>\n",
              "      <td>1</td>\n",
              "      <td>9</td>\n",
              "      <td>5</td>\n",
              "      <td>5.76</td>\n",
              "      <td>5700</td>\n",
              "      <td>3</td>\n",
              "      <td>73</td>\n",
              "      <td>41</td>\n",
              "      <td>48.02</td>\n",
              "      <td>2083</td>\n",
              "      <td>23</td>\n",
              "      <td>52.52</td>\n",
              "      <td>120</td>\n",
              "    </tr>\n",
              "  </tbody>\n",
              "</table>\n",
              "</div>\n",
              "    <div class=\"colab-df-buttons\">\n",
              "\n",
              "  <div class=\"colab-df-container\">\n",
              "    <button class=\"colab-df-convert\" onclick=\"convertToInteractive('df-9ab4ee06-4047-42aa-819c-109ec09cba07')\"\n",
              "            title=\"Convert this dataframe to an interactive table.\"\n",
              "            style=\"display:none;\">\n",
              "\n",
              "  <svg xmlns=\"http://www.w3.org/2000/svg\" height=\"24px\" viewBox=\"0 -960 960 960\">\n",
              "    <path d=\"M120-120v-720h720v720H120Zm60-500h600v-160H180v160Zm220 220h160v-160H400v160Zm0 220h160v-160H400v160ZM180-400h160v-160H180v160Zm440 0h160v-160H620v160ZM180-180h160v-160H180v160Zm440 0h160v-160H620v160Z\"/>\n",
              "  </svg>\n",
              "    </button>\n",
              "\n",
              "  <style>\n",
              "    .colab-df-container {\n",
              "      display:flex;\n",
              "      gap: 12px;\n",
              "    }\n",
              "\n",
              "    .colab-df-convert {\n",
              "      background-color: #E8F0FE;\n",
              "      border: none;\n",
              "      border-radius: 50%;\n",
              "      cursor: pointer;\n",
              "      display: none;\n",
              "      fill: #1967D2;\n",
              "      height: 32px;\n",
              "      padding: 0 0 0 0;\n",
              "      width: 32px;\n",
              "    }\n",
              "\n",
              "    .colab-df-convert:hover {\n",
              "      background-color: #E2EBFA;\n",
              "      box-shadow: 0px 1px 2px rgba(60, 64, 67, 0.3), 0px 1px 3px 1px rgba(60, 64, 67, 0.15);\n",
              "      fill: #174EA6;\n",
              "    }\n",
              "\n",
              "    .colab-df-buttons div {\n",
              "      margin-bottom: 4px;\n",
              "    }\n",
              "\n",
              "    [theme=dark] .colab-df-convert {\n",
              "      background-color: #3B4455;\n",
              "      fill: #D2E3FC;\n",
              "    }\n",
              "\n",
              "    [theme=dark] .colab-df-convert:hover {\n",
              "      background-color: #434B5C;\n",
              "      box-shadow: 0px 1px 3px 1px rgba(0, 0, 0, 0.15);\n",
              "      filter: drop-shadow(0px 1px 2px rgba(0, 0, 0, 0.3));\n",
              "      fill: #FFFFFF;\n",
              "    }\n",
              "  </style>\n",
              "\n",
              "    <script>\n",
              "      const buttonEl =\n",
              "        document.querySelector('#df-9ab4ee06-4047-42aa-819c-109ec09cba07 button.colab-df-convert');\n",
              "      buttonEl.style.display =\n",
              "        google.colab.kernel.accessAllowed ? 'block' : 'none';\n",
              "\n",
              "      async function convertToInteractive(key) {\n",
              "        const element = document.querySelector('#df-9ab4ee06-4047-42aa-819c-109ec09cba07');\n",
              "        const dataTable =\n",
              "          await google.colab.kernel.invokeFunction('convertToInteractive',\n",
              "                                                    [key], {});\n",
              "        if (!dataTable) return;\n",
              "\n",
              "        const docLinkHtml = 'Like what you see? Visit the ' +\n",
              "          '<a target=\"_blank\" href=https://colab.research.google.com/notebooks/data_table.ipynb>data table notebook</a>'\n",
              "          + ' to learn more about interactive tables.';\n",
              "        element.innerHTML = '';\n",
              "        dataTable['output_type'] = 'display_data';\n",
              "        await google.colab.output.renderOutput(dataTable, element);\n",
              "        const docLink = document.createElement('div');\n",
              "        docLink.innerHTML = docLinkHtml;\n",
              "        element.appendChild(docLink);\n",
              "      }\n",
              "    </script>\n",
              "  </div>\n",
              "\n",
              "\n",
              "<div id=\"df-1c980706-472b-4d48-aa16-fc3c6891eb66\">\n",
              "  <button class=\"colab-df-quickchart\" onclick=\"quickchart('df-1c980706-472b-4d48-aa16-fc3c6891eb66')\"\n",
              "            title=\"Suggest charts\"\n",
              "            style=\"display:none;\">\n",
              "\n",
              "<svg xmlns=\"http://www.w3.org/2000/svg\" height=\"24px\"viewBox=\"0 0 24 24\"\n",
              "     width=\"24px\">\n",
              "    <g>\n",
              "        <path d=\"M19 3H5c-1.1 0-2 .9-2 2v14c0 1.1.9 2 2 2h14c1.1 0 2-.9 2-2V5c0-1.1-.9-2-2-2zM9 17H7v-7h2v7zm4 0h-2V7h2v10zm4 0h-2v-4h2v4z\"/>\n",
              "    </g>\n",
              "</svg>\n",
              "  </button>\n",
              "\n",
              "<style>\n",
              "  .colab-df-quickchart {\n",
              "      --bg-color: #E8F0FE;\n",
              "      --fill-color: #1967D2;\n",
              "      --hover-bg-color: #E2EBFA;\n",
              "      --hover-fill-color: #174EA6;\n",
              "      --disabled-fill-color: #AAA;\n",
              "      --disabled-bg-color: #DDD;\n",
              "  }\n",
              "\n",
              "  [theme=dark] .colab-df-quickchart {\n",
              "      --bg-color: #3B4455;\n",
              "      --fill-color: #D2E3FC;\n",
              "      --hover-bg-color: #434B5C;\n",
              "      --hover-fill-color: #FFFFFF;\n",
              "      --disabled-bg-color: #3B4455;\n",
              "      --disabled-fill-color: #666;\n",
              "  }\n",
              "\n",
              "  .colab-df-quickchart {\n",
              "    background-color: var(--bg-color);\n",
              "    border: none;\n",
              "    border-radius: 50%;\n",
              "    cursor: pointer;\n",
              "    display: none;\n",
              "    fill: var(--fill-color);\n",
              "    height: 32px;\n",
              "    padding: 0;\n",
              "    width: 32px;\n",
              "  }\n",
              "\n",
              "  .colab-df-quickchart:hover {\n",
              "    background-color: var(--hover-bg-color);\n",
              "    box-shadow: 0 1px 2px rgba(60, 64, 67, 0.3), 0 1px 3px 1px rgba(60, 64, 67, 0.15);\n",
              "    fill: var(--button-hover-fill-color);\n",
              "  }\n",
              "\n",
              "  .colab-df-quickchart-complete:disabled,\n",
              "  .colab-df-quickchart-complete:disabled:hover {\n",
              "    background-color: var(--disabled-bg-color);\n",
              "    fill: var(--disabled-fill-color);\n",
              "    box-shadow: none;\n",
              "  }\n",
              "\n",
              "  .colab-df-spinner {\n",
              "    border: 2px solid var(--fill-color);\n",
              "    border-color: transparent;\n",
              "    border-bottom-color: var(--fill-color);\n",
              "    animation:\n",
              "      spin 1s steps(1) infinite;\n",
              "  }\n",
              "\n",
              "  @keyframes spin {\n",
              "    0% {\n",
              "      border-color: transparent;\n",
              "      border-bottom-color: var(--fill-color);\n",
              "      border-left-color: var(--fill-color);\n",
              "    }\n",
              "    20% {\n",
              "      border-color: transparent;\n",
              "      border-left-color: var(--fill-color);\n",
              "      border-top-color: var(--fill-color);\n",
              "    }\n",
              "    30% {\n",
              "      border-color: transparent;\n",
              "      border-left-color: var(--fill-color);\n",
              "      border-top-color: var(--fill-color);\n",
              "      border-right-color: var(--fill-color);\n",
              "    }\n",
              "    40% {\n",
              "      border-color: transparent;\n",
              "      border-right-color: var(--fill-color);\n",
              "      border-top-color: var(--fill-color);\n",
              "    }\n",
              "    60% {\n",
              "      border-color: transparent;\n",
              "      border-right-color: var(--fill-color);\n",
              "    }\n",
              "    80% {\n",
              "      border-color: transparent;\n",
              "      border-right-color: var(--fill-color);\n",
              "      border-bottom-color: var(--fill-color);\n",
              "    }\n",
              "    90% {\n",
              "      border-color: transparent;\n",
              "      border-bottom-color: var(--fill-color);\n",
              "    }\n",
              "  }\n",
              "</style>\n",
              "\n",
              "  <script>\n",
              "    async function quickchart(key) {\n",
              "      const quickchartButtonEl =\n",
              "        document.querySelector('#' + key + ' button');\n",
              "      quickchartButtonEl.disabled = true;  // To prevent multiple clicks.\n",
              "      quickchartButtonEl.classList.add('colab-df-spinner');\n",
              "      try {\n",
              "        const charts = await google.colab.kernel.invokeFunction(\n",
              "            'suggestCharts', [key], {});\n",
              "      } catch (error) {\n",
              "        console.error('Error during call to suggestCharts:', error);\n",
              "      }\n",
              "      quickchartButtonEl.classList.remove('colab-df-spinner');\n",
              "      quickchartButtonEl.classList.add('colab-df-quickchart-complete');\n",
              "    }\n",
              "    (() => {\n",
              "      let quickchartButtonEl =\n",
              "        document.querySelector('#df-1c980706-472b-4d48-aa16-fc3c6891eb66 button');\n",
              "      quickchartButtonEl.style.display =\n",
              "        google.colab.kernel.accessAllowed ? 'block' : 'none';\n",
              "    })();\n",
              "  </script>\n",
              "</div>\n",
              "    </div>\n",
              "  </div>\n"
            ],
            "text/plain": [
              "   Month  Day_of_month  Day_of_week  ozone_reading  pressure_height  \\\n",
              "0      1             5            1           5.34             5760   \n",
              "1      1             6            2           5.77             5720   \n",
              "2      1             7            3           3.69             5790   \n",
              "3      1             8            4           3.89             5790   \n",
              "4      1             9            5           5.76             5700   \n",
              "\n",
              "   Wind_speed  Humidity  Temperature_Sandburg  Temperature_ElMonte  \\\n",
              "0           3        51                    54                45.32   \n",
              "1           4        69                    35                49.64   \n",
              "2           6        19                    45                46.40   \n",
              "3           3        25                    55                52.70   \n",
              "4           3        73                    41                48.02   \n",
              "\n",
              "   Inversion_base_height  Pressure_gradient  Inversion_temperature  Visibility  \n",
              "0                   1450                 25                  57.02          60  \n",
              "1                   1568                 15                  53.78          60  \n",
              "2                   2631                -33                  54.14         100  \n",
              "3                    554                -28                  64.76         250  \n",
              "4                   2083                 23                  52.52         120  "
            ]
          },
          "execution_count": 167,
          "metadata": {},
          "output_type": "execute_result"
        }
      ],
      "source": [
        "url = 'https://github.com/Alf-caput/P1_MineriaDeDatos/raw/main/P2_SensoresAtmosfericos/ozone.csv'\n",
        "df = pd.read_csv(url)\n",
        "df.head()\n"
      ]
    },
    {
      "cell_type": "markdown",
      "metadata": {
        "id": "l9ygC9wP93HW"
      },
      "source": [
        "Los nombres de las variables están mal posicionados en el .csv y así es imposible comenzar a trabajar con él, por lo que se cambiarán los nombres de las columnas y crearemos una nueva variable (new_df) que contenga la base de datos modificada."
      ]
    },
    {
      "cell_type": "code",
      "execution_count": 168,
      "metadata": {
        "colab": {
          "base_uri": "https://localhost:8080/",
          "height": 320
        },
        "id": "vs0ElXBHLX1g",
        "outputId": "ce737af7-7cd4-4395-8f5b-3fde2e34e9d1"
      },
      "outputs": [
        {
          "data": {
            "text/html": [
              "\n",
              "  <div id=\"df-739994f6-1bd9-4309-8e21-d1f680053839\" class=\"colab-df-container\">\n",
              "    <div>\n",
              "<style scoped>\n",
              "    .dataframe tbody tr th:only-of-type {\n",
              "        vertical-align: middle;\n",
              "    }\n",
              "\n",
              "    .dataframe tbody tr th {\n",
              "        vertical-align: top;\n",
              "    }\n",
              "\n",
              "    .dataframe thead th {\n",
              "        text-align: right;\n",
              "    }\n",
              "</style>\n",
              "<table border=\"1\" class=\"dataframe\">\n",
              "  <thead>\n",
              "    <tr style=\"text-align: right;\">\n",
              "      <th></th>\n",
              "      <th>Month</th>\n",
              "      <th>Day_of_month</th>\n",
              "      <th>Day_of_week</th>\n",
              "      <th>ozone_reading</th>\n",
              "      <th>pressure_height</th>\n",
              "      <th>Wind_speed</th>\n",
              "      <th>Humidity</th>\n",
              "      <th>Temperature_Sandburg</th>\n",
              "      <th>Temperature_ElMonte</th>\n",
              "      <th>Inversion_base_height</th>\n",
              "      <th>Pressure_gradient</th>\n",
              "      <th>Inversion_temperature</th>\n",
              "      <th>Visibility</th>\n",
              "    </tr>\n",
              "  </thead>\n",
              "  <tbody>\n",
              "    <tr>\n",
              "      <th>count</th>\n",
              "      <td>203.000000</td>\n",
              "      <td>203.000000</td>\n",
              "      <td>203.000000</td>\n",
              "      <td>203.000000</td>\n",
              "      <td>203.000000</td>\n",
              "      <td>203.000000</td>\n",
              "      <td>203.000000</td>\n",
              "      <td>203.000000</td>\n",
              "      <td>203.000000</td>\n",
              "      <td>203.000000</td>\n",
              "      <td>203.000000</td>\n",
              "      <td>203.000000</td>\n",
              "      <td>203.000000</td>\n",
              "    </tr>\n",
              "    <tr>\n",
              "      <th>mean</th>\n",
              "      <td>6.522167</td>\n",
              "      <td>15.704433</td>\n",
              "      <td>3.004926</td>\n",
              "      <td>11.373990</td>\n",
              "      <td>5746.157635</td>\n",
              "      <td>4.866995</td>\n",
              "      <td>57.610837</td>\n",
              "      <td>61.113300</td>\n",
              "      <td>56.542956</td>\n",
              "      <td>2601.748768</td>\n",
              "      <td>14.428571</td>\n",
              "      <td>60.692709</td>\n",
              "      <td>122.197044</td>\n",
              "    </tr>\n",
              "    <tr>\n",
              "      <th>std</th>\n",
              "      <td>3.594998</td>\n",
              "      <td>8.569537</td>\n",
              "      <td>1.401899</td>\n",
              "      <td>8.192652</td>\n",
              "      <td>113.027705</td>\n",
              "      <td>2.105402</td>\n",
              "      <td>20.847662</td>\n",
              "      <td>14.206468</td>\n",
              "      <td>11.742668</td>\n",
              "      <td>1859.889449</td>\n",
              "      <td>36.317202</td>\n",
              "      <td>14.124734</td>\n",
              "      <td>81.171317</td>\n",
              "    </tr>\n",
              "    <tr>\n",
              "      <th>min</th>\n",
              "      <td>1.000000</td>\n",
              "      <td>1.000000</td>\n",
              "      <td>1.000000</td>\n",
              "      <td>0.720000</td>\n",
              "      <td>5320.000000</td>\n",
              "      <td>0.000000</td>\n",
              "      <td>19.000000</td>\n",
              "      <td>25.000000</td>\n",
              "      <td>27.680000</td>\n",
              "      <td>111.000000</td>\n",
              "      <td>-69.000000</td>\n",
              "      <td>27.500000</td>\n",
              "      <td>0.000000</td>\n",
              "    </tr>\n",
              "    <tr>\n",
              "      <th>25%</th>\n",
              "      <td>3.000000</td>\n",
              "      <td>9.000000</td>\n",
              "      <td>2.000000</td>\n",
              "      <td>4.770000</td>\n",
              "      <td>5690.000000</td>\n",
              "      <td>3.000000</td>\n",
              "      <td>46.000000</td>\n",
              "      <td>51.500000</td>\n",
              "      <td>49.640000</td>\n",
              "      <td>869.000000</td>\n",
              "      <td>-14.000000</td>\n",
              "      <td>51.260000</td>\n",
              "      <td>60.000000</td>\n",
              "    </tr>\n",
              "    <tr>\n",
              "      <th>50%</th>\n",
              "      <td>6.000000</td>\n",
              "      <td>15.000000</td>\n",
              "      <td>3.000000</td>\n",
              "      <td>8.900000</td>\n",
              "      <td>5760.000000</td>\n",
              "      <td>5.000000</td>\n",
              "      <td>64.000000</td>\n",
              "      <td>61.000000</td>\n",
              "      <td>56.480000</td>\n",
              "      <td>2083.000000</td>\n",
              "      <td>18.000000</td>\n",
              "      <td>60.980000</td>\n",
              "      <td>100.000000</td>\n",
              "    </tr>\n",
              "    <tr>\n",
              "      <th>75%</th>\n",
              "      <td>10.000000</td>\n",
              "      <td>23.000000</td>\n",
              "      <td>4.000000</td>\n",
              "      <td>16.075000</td>\n",
              "      <td>5830.000000</td>\n",
              "      <td>6.000000</td>\n",
              "      <td>73.000000</td>\n",
              "      <td>71.000000</td>\n",
              "      <td>66.200000</td>\n",
              "      <td>5000.000000</td>\n",
              "      <td>43.000000</td>\n",
              "      <td>70.880000</td>\n",
              "      <td>150.000000</td>\n",
              "    </tr>\n",
              "    <tr>\n",
              "      <th>max</th>\n",
              "      <td>12.000000</td>\n",
              "      <td>31.000000</td>\n",
              "      <td>5.000000</td>\n",
              "      <td>37.980000</td>\n",
              "      <td>5950.000000</td>\n",
              "      <td>11.000000</td>\n",
              "      <td>93.000000</td>\n",
              "      <td>93.000000</td>\n",
              "      <td>82.580000</td>\n",
              "      <td>5000.000000</td>\n",
              "      <td>107.000000</td>\n",
              "      <td>90.680000</td>\n",
              "      <td>350.000000</td>\n",
              "    </tr>\n",
              "  </tbody>\n",
              "</table>\n",
              "</div>\n",
              "    <div class=\"colab-df-buttons\">\n",
              "\n",
              "  <div class=\"colab-df-container\">\n",
              "    <button class=\"colab-df-convert\" onclick=\"convertToInteractive('df-739994f6-1bd9-4309-8e21-d1f680053839')\"\n",
              "            title=\"Convert this dataframe to an interactive table.\"\n",
              "            style=\"display:none;\">\n",
              "\n",
              "  <svg xmlns=\"http://www.w3.org/2000/svg\" height=\"24px\" viewBox=\"0 -960 960 960\">\n",
              "    <path d=\"M120-120v-720h720v720H120Zm60-500h600v-160H180v160Zm220 220h160v-160H400v160Zm0 220h160v-160H400v160ZM180-400h160v-160H180v160Zm440 0h160v-160H620v160ZM180-180h160v-160H180v160Zm440 0h160v-160H620v160Z\"/>\n",
              "  </svg>\n",
              "    </button>\n",
              "\n",
              "  <style>\n",
              "    .colab-df-container {\n",
              "      display:flex;\n",
              "      gap: 12px;\n",
              "    }\n",
              "\n",
              "    .colab-df-convert {\n",
              "      background-color: #E8F0FE;\n",
              "      border: none;\n",
              "      border-radius: 50%;\n",
              "      cursor: pointer;\n",
              "      display: none;\n",
              "      fill: #1967D2;\n",
              "      height: 32px;\n",
              "      padding: 0 0 0 0;\n",
              "      width: 32px;\n",
              "    }\n",
              "\n",
              "    .colab-df-convert:hover {\n",
              "      background-color: #E2EBFA;\n",
              "      box-shadow: 0px 1px 2px rgba(60, 64, 67, 0.3), 0px 1px 3px 1px rgba(60, 64, 67, 0.15);\n",
              "      fill: #174EA6;\n",
              "    }\n",
              "\n",
              "    .colab-df-buttons div {\n",
              "      margin-bottom: 4px;\n",
              "    }\n",
              "\n",
              "    [theme=dark] .colab-df-convert {\n",
              "      background-color: #3B4455;\n",
              "      fill: #D2E3FC;\n",
              "    }\n",
              "\n",
              "    [theme=dark] .colab-df-convert:hover {\n",
              "      background-color: #434B5C;\n",
              "      box-shadow: 0px 1px 3px 1px rgba(0, 0, 0, 0.15);\n",
              "      filter: drop-shadow(0px 1px 2px rgba(0, 0, 0, 0.3));\n",
              "      fill: #FFFFFF;\n",
              "    }\n",
              "  </style>\n",
              "\n",
              "    <script>\n",
              "      const buttonEl =\n",
              "        document.querySelector('#df-739994f6-1bd9-4309-8e21-d1f680053839 button.colab-df-convert');\n",
              "      buttonEl.style.display =\n",
              "        google.colab.kernel.accessAllowed ? 'block' : 'none';\n",
              "\n",
              "      async function convertToInteractive(key) {\n",
              "        const element = document.querySelector('#df-739994f6-1bd9-4309-8e21-d1f680053839');\n",
              "        const dataTable =\n",
              "          await google.colab.kernel.invokeFunction('convertToInteractive',\n",
              "                                                    [key], {});\n",
              "        if (!dataTable) return;\n",
              "\n",
              "        const docLinkHtml = 'Like what you see? Visit the ' +\n",
              "          '<a target=\"_blank\" href=https://colab.research.google.com/notebooks/data_table.ipynb>data table notebook</a>'\n",
              "          + ' to learn more about interactive tables.';\n",
              "        element.innerHTML = '';\n",
              "        dataTable['output_type'] = 'display_data';\n",
              "        await google.colab.output.renderOutput(dataTable, element);\n",
              "        const docLink = document.createElement('div');\n",
              "        docLink.innerHTML = docLinkHtml;\n",
              "        element.appendChild(docLink);\n",
              "      }\n",
              "    </script>\n",
              "  </div>\n",
              "\n",
              "\n",
              "<div id=\"df-1be1918a-b203-46b9-8f39-f04195258340\">\n",
              "  <button class=\"colab-df-quickchart\" onclick=\"quickchart('df-1be1918a-b203-46b9-8f39-f04195258340')\"\n",
              "            title=\"Suggest charts\"\n",
              "            style=\"display:none;\">\n",
              "\n",
              "<svg xmlns=\"http://www.w3.org/2000/svg\" height=\"24px\"viewBox=\"0 0 24 24\"\n",
              "     width=\"24px\">\n",
              "    <g>\n",
              "        <path d=\"M19 3H5c-1.1 0-2 .9-2 2v14c0 1.1.9 2 2 2h14c1.1 0 2-.9 2-2V5c0-1.1-.9-2-2-2zM9 17H7v-7h2v7zm4 0h-2V7h2v10zm4 0h-2v-4h2v4z\"/>\n",
              "    </g>\n",
              "</svg>\n",
              "  </button>\n",
              "\n",
              "<style>\n",
              "  .colab-df-quickchart {\n",
              "      --bg-color: #E8F0FE;\n",
              "      --fill-color: #1967D2;\n",
              "      --hover-bg-color: #E2EBFA;\n",
              "      --hover-fill-color: #174EA6;\n",
              "      --disabled-fill-color: #AAA;\n",
              "      --disabled-bg-color: #DDD;\n",
              "  }\n",
              "\n",
              "  [theme=dark] .colab-df-quickchart {\n",
              "      --bg-color: #3B4455;\n",
              "      --fill-color: #D2E3FC;\n",
              "      --hover-bg-color: #434B5C;\n",
              "      --hover-fill-color: #FFFFFF;\n",
              "      --disabled-bg-color: #3B4455;\n",
              "      --disabled-fill-color: #666;\n",
              "  }\n",
              "\n",
              "  .colab-df-quickchart {\n",
              "    background-color: var(--bg-color);\n",
              "    border: none;\n",
              "    border-radius: 50%;\n",
              "    cursor: pointer;\n",
              "    display: none;\n",
              "    fill: var(--fill-color);\n",
              "    height: 32px;\n",
              "    padding: 0;\n",
              "    width: 32px;\n",
              "  }\n",
              "\n",
              "  .colab-df-quickchart:hover {\n",
              "    background-color: var(--hover-bg-color);\n",
              "    box-shadow: 0 1px 2px rgba(60, 64, 67, 0.3), 0 1px 3px 1px rgba(60, 64, 67, 0.15);\n",
              "    fill: var(--button-hover-fill-color);\n",
              "  }\n",
              "\n",
              "  .colab-df-quickchart-complete:disabled,\n",
              "  .colab-df-quickchart-complete:disabled:hover {\n",
              "    background-color: var(--disabled-bg-color);\n",
              "    fill: var(--disabled-fill-color);\n",
              "    box-shadow: none;\n",
              "  }\n",
              "\n",
              "  .colab-df-spinner {\n",
              "    border: 2px solid var(--fill-color);\n",
              "    border-color: transparent;\n",
              "    border-bottom-color: var(--fill-color);\n",
              "    animation:\n",
              "      spin 1s steps(1) infinite;\n",
              "  }\n",
              "\n",
              "  @keyframes spin {\n",
              "    0% {\n",
              "      border-color: transparent;\n",
              "      border-bottom-color: var(--fill-color);\n",
              "      border-left-color: var(--fill-color);\n",
              "    }\n",
              "    20% {\n",
              "      border-color: transparent;\n",
              "      border-left-color: var(--fill-color);\n",
              "      border-top-color: var(--fill-color);\n",
              "    }\n",
              "    30% {\n",
              "      border-color: transparent;\n",
              "      border-left-color: var(--fill-color);\n",
              "      border-top-color: var(--fill-color);\n",
              "      border-right-color: var(--fill-color);\n",
              "    }\n",
              "    40% {\n",
              "      border-color: transparent;\n",
              "      border-right-color: var(--fill-color);\n",
              "      border-top-color: var(--fill-color);\n",
              "    }\n",
              "    60% {\n",
              "      border-color: transparent;\n",
              "      border-right-color: var(--fill-color);\n",
              "    }\n",
              "    80% {\n",
              "      border-color: transparent;\n",
              "      border-right-color: var(--fill-color);\n",
              "      border-bottom-color: var(--fill-color);\n",
              "    }\n",
              "    90% {\n",
              "      border-color: transparent;\n",
              "      border-bottom-color: var(--fill-color);\n",
              "    }\n",
              "  }\n",
              "</style>\n",
              "\n",
              "  <script>\n",
              "    async function quickchart(key) {\n",
              "      const quickchartButtonEl =\n",
              "        document.querySelector('#' + key + ' button');\n",
              "      quickchartButtonEl.disabled = true;  // To prevent multiple clicks.\n",
              "      quickchartButtonEl.classList.add('colab-df-spinner');\n",
              "      try {\n",
              "        const charts = await google.colab.kernel.invokeFunction(\n",
              "            'suggestCharts', [key], {});\n",
              "      } catch (error) {\n",
              "        console.error('Error during call to suggestCharts:', error);\n",
              "      }\n",
              "      quickchartButtonEl.classList.remove('colab-df-spinner');\n",
              "      quickchartButtonEl.classList.add('colab-df-quickchart-complete');\n",
              "    }\n",
              "    (() => {\n",
              "      let quickchartButtonEl =\n",
              "        document.querySelector('#df-1be1918a-b203-46b9-8f39-f04195258340 button');\n",
              "      quickchartButtonEl.style.display =\n",
              "        google.colab.kernel.accessAllowed ? 'block' : 'none';\n",
              "    })();\n",
              "  </script>\n",
              "</div>\n",
              "    </div>\n",
              "  </div>\n"
            ],
            "text/plain": [
              "            Month  Day_of_month  Day_of_week  ozone_reading  pressure_height  \\\n",
              "count  203.000000    203.000000   203.000000     203.000000       203.000000   \n",
              "mean     6.522167     15.704433     3.004926      11.373990      5746.157635   \n",
              "std      3.594998      8.569537     1.401899       8.192652       113.027705   \n",
              "min      1.000000      1.000000     1.000000       0.720000      5320.000000   \n",
              "25%      3.000000      9.000000     2.000000       4.770000      5690.000000   \n",
              "50%      6.000000     15.000000     3.000000       8.900000      5760.000000   \n",
              "75%     10.000000     23.000000     4.000000      16.075000      5830.000000   \n",
              "max     12.000000     31.000000     5.000000      37.980000      5950.000000   \n",
              "\n",
              "       Wind_speed    Humidity  Temperature_Sandburg  Temperature_ElMonte  \\\n",
              "count  203.000000  203.000000            203.000000           203.000000   \n",
              "mean     4.866995   57.610837             61.113300            56.542956   \n",
              "std      2.105402   20.847662             14.206468            11.742668   \n",
              "min      0.000000   19.000000             25.000000            27.680000   \n",
              "25%      3.000000   46.000000             51.500000            49.640000   \n",
              "50%      5.000000   64.000000             61.000000            56.480000   \n",
              "75%      6.000000   73.000000             71.000000            66.200000   \n",
              "max     11.000000   93.000000             93.000000            82.580000   \n",
              "\n",
              "       Inversion_base_height  Pressure_gradient  Inversion_temperature  \\\n",
              "count             203.000000         203.000000             203.000000   \n",
              "mean             2601.748768          14.428571              60.692709   \n",
              "std              1859.889449          36.317202              14.124734   \n",
              "min               111.000000         -69.000000              27.500000   \n",
              "25%               869.000000         -14.000000              51.260000   \n",
              "50%              2083.000000          18.000000              60.980000   \n",
              "75%              5000.000000          43.000000              70.880000   \n",
              "max              5000.000000         107.000000              90.680000   \n",
              "\n",
              "       Visibility  \n",
              "count  203.000000  \n",
              "mean   122.197044  \n",
              "std     81.171317  \n",
              "min      0.000000  \n",
              "25%     60.000000  \n",
              "50%    100.000000  \n",
              "75%    150.000000  \n",
              "max    350.000000  "
            ]
          },
          "execution_count": 168,
          "metadata": {},
          "output_type": "execute_result"
        }
      ],
      "source": [
        "df.describe()"
      ]
    },
    {
      "cell_type": "markdown",
      "metadata": {
        "id": "fMY2uGeSTrcf"
      },
      "source": [
        "##1.- (0,75 puntos) Llevar a cabo el estudio de los outliers de 3 variables (Wind_speed, Ozone_reading,\n",
        "Visibility) de forma unidimensional. ¿Qué tipo de gráfico es necesario emplear? Interpretar los datos\n",
        "obtenidos en cada caso.\n"
      ]
    },
    {
      "cell_type": "markdown",
      "metadata": {
        "id": "ORhrucZ7Ryps"
      },
      "source": [
        "Primero se va a verificar la existencia o no de valores 'NaN' dentro de las variables que a continuación se analizarán.  "
      ]
    },
    {
      "cell_type": "code",
      "execution_count": 169,
      "metadata": {
        "colab": {
          "base_uri": "https://localhost:8080/"
        },
        "id": "kl47Wun3XGiO",
        "outputId": "17f09336-17eb-4a36-fa63-21a155f43a33"
      },
      "outputs": [
        {
          "name": "stdout",
          "output_type": "stream",
          "text": [
            "No hay valores NaN en el DataFrame\n"
          ]
        }
      ],
      "source": [
        "val_null = df.isna().any().any()\n",
        "\n",
        "if val_null:\n",
        "    print(\"Hay valores NaN en el DataFrame\")\n",
        "else:\n",
        "    print(\"No hay valores NaN en el DataFrame\")"
      ]
    },
    {
      "cell_type": "markdown",
      "metadata": {
        "id": "Dc8zrqFEXW3J"
      },
      "source": [
        "No hay valores NaN en toda la base de datos, por lo tanto tampoco en las tres variables que se pide analizar."
      ]
    },
    {
      "cell_type": "markdown",
      "metadata": {
        "id": "oHGYjCXZXf_-"
      },
      "source": [
        "**ANÁLISIS DE OUTLIERS**"
      ]
    },
    {
      "cell_type": "markdown",
      "metadata": {
        "id": "G-Hk4rM8FU4o"
      },
      "source": [
        "Para poder hacer un análisis de los outliers, es importante conocer el rango que pueden tomar nuestras variables.\n",
        "\n",
        "**wind_speed** : indica la velocidad del viento en km/h.  La velocidad del viento puede ir desde 0 km/h hasta más de 117 km/h en caso de huracanes, pero el rango para un viento suave o moderado sería de 0 km/h a 39 km/h, aproximadamente.  Como los datos son de Pozuelo de Alarcón, podemos afirmar que el viento es normalmente suave o moderado, así que se moverá en un rango [0, 17] km/h según datos históricos, aunque lo más común es que esté entre [0, 10] km/h.\n",
        "\n",
        "datos historicos:\n",
        "https://www.meteoblue.com/es/tiempo/historyclimate/climatemodelled/pozuelo-de-alarc%C3%B3n_espa%C3%B1a_3112989\n",
        "\n",
        "https://es.windfinder.com/forecast/pozuelo_de_alarcon_madrid_spain\n",
        "\n",
        "info wind speed:\n",
        "https://www.pce-iberica.es/medidor-detalles-tecnicos/tablas-de-velocidades-del-viento.htm\n",
        "\n",
        "\n",
        "**ozone_reading**: contiene datos sobre la cantidad de Ozono (O3) en el aire. Se mide en µg/m3.  Hasta un valor de 40 µg/m3 no se considera dañino para la salud. https://es.trotec.com/productos-y-servicios/aparatos-de-medicion/emision/gasometros/oz-one/\n",
        "\n",
        "**visibility**: mide, en km, la distancia máxima a la cual es posible ver claramente.  Se mide horizontalmente.\n"
      ]
    },
    {
      "cell_type": "code",
      "execution_count": 171,
      "metadata": {
        "colab": {
          "base_uri": "https://localhost:8080/",
          "height": 143
        },
        "id": "nQtNSULVT6Ch",
        "outputId": "3fe9da60-bcb8-4477-d6fd-6c971ef51720"
      },
      "outputs": [
        {
          "data": {
            "text/html": [
              "\n",
              "  <div id=\"df-f4cd102e-dea2-41b6-a965-8ef23743af0a\" class=\"colab-df-container\">\n",
              "    <div>\n",
              "<style scoped>\n",
              "    .dataframe tbody tr th:only-of-type {\n",
              "        vertical-align: middle;\n",
              "    }\n",
              "\n",
              "    .dataframe tbody tr th {\n",
              "        vertical-align: top;\n",
              "    }\n",
              "\n",
              "    .dataframe thead th {\n",
              "        text-align: right;\n",
              "    }\n",
              "</style>\n",
              "<table border=\"1\" class=\"dataframe\">\n",
              "  <thead>\n",
              "    <tr style=\"text-align: right;\">\n",
              "      <th></th>\n",
              "      <th>mean</th>\n",
              "      <th>std</th>\n",
              "      <th>min</th>\n",
              "      <th>25%</th>\n",
              "      <th>50%</th>\n",
              "      <th>75%</th>\n",
              "      <th>max</th>\n",
              "    </tr>\n",
              "  </thead>\n",
              "  <tbody>\n",
              "    <tr>\n",
              "      <th>Wind_speed</th>\n",
              "      <td>4.866995</td>\n",
              "      <td>2.105402</td>\n",
              "      <td>0.00</td>\n",
              "      <td>3.00</td>\n",
              "      <td>5.0</td>\n",
              "      <td>6.000</td>\n",
              "      <td>11.00</td>\n",
              "    </tr>\n",
              "    <tr>\n",
              "      <th>ozone_reading</th>\n",
              "      <td>11.373990</td>\n",
              "      <td>8.192652</td>\n",
              "      <td>0.72</td>\n",
              "      <td>4.77</td>\n",
              "      <td>8.9</td>\n",
              "      <td>16.075</td>\n",
              "      <td>37.98</td>\n",
              "    </tr>\n",
              "    <tr>\n",
              "      <th>Visibility</th>\n",
              "      <td>122.197044</td>\n",
              "      <td>81.171317</td>\n",
              "      <td>0.00</td>\n",
              "      <td>60.00</td>\n",
              "      <td>100.0</td>\n",
              "      <td>150.000</td>\n",
              "      <td>350.00</td>\n",
              "    </tr>\n",
              "  </tbody>\n",
              "</table>\n",
              "</div>\n",
              "    <div class=\"colab-df-buttons\">\n",
              "\n",
              "  <div class=\"colab-df-container\">\n",
              "    <button class=\"colab-df-convert\" onclick=\"convertToInteractive('df-f4cd102e-dea2-41b6-a965-8ef23743af0a')\"\n",
              "            title=\"Convert this dataframe to an interactive table.\"\n",
              "            style=\"display:none;\">\n",
              "\n",
              "  <svg xmlns=\"http://www.w3.org/2000/svg\" height=\"24px\" viewBox=\"0 -960 960 960\">\n",
              "    <path d=\"M120-120v-720h720v720H120Zm60-500h600v-160H180v160Zm220 220h160v-160H400v160Zm0 220h160v-160H400v160ZM180-400h160v-160H180v160Zm440 0h160v-160H620v160ZM180-180h160v-160H180v160Zm440 0h160v-160H620v160Z\"/>\n",
              "  </svg>\n",
              "    </button>\n",
              "\n",
              "  <style>\n",
              "    .colab-df-container {\n",
              "      display:flex;\n",
              "      gap: 12px;\n",
              "    }\n",
              "\n",
              "    .colab-df-convert {\n",
              "      background-color: #E8F0FE;\n",
              "      border: none;\n",
              "      border-radius: 50%;\n",
              "      cursor: pointer;\n",
              "      display: none;\n",
              "      fill: #1967D2;\n",
              "      height: 32px;\n",
              "      padding: 0 0 0 0;\n",
              "      width: 32px;\n",
              "    }\n",
              "\n",
              "    .colab-df-convert:hover {\n",
              "      background-color: #E2EBFA;\n",
              "      box-shadow: 0px 1px 2px rgba(60, 64, 67, 0.3), 0px 1px 3px 1px rgba(60, 64, 67, 0.15);\n",
              "      fill: #174EA6;\n",
              "    }\n",
              "\n",
              "    .colab-df-buttons div {\n",
              "      margin-bottom: 4px;\n",
              "    }\n",
              "\n",
              "    [theme=dark] .colab-df-convert {\n",
              "      background-color: #3B4455;\n",
              "      fill: #D2E3FC;\n",
              "    }\n",
              "\n",
              "    [theme=dark] .colab-df-convert:hover {\n",
              "      background-color: #434B5C;\n",
              "      box-shadow: 0px 1px 3px 1px rgba(0, 0, 0, 0.15);\n",
              "      filter: drop-shadow(0px 1px 2px rgba(0, 0, 0, 0.3));\n",
              "      fill: #FFFFFF;\n",
              "    }\n",
              "  </style>\n",
              "\n",
              "    <script>\n",
              "      const buttonEl =\n",
              "        document.querySelector('#df-f4cd102e-dea2-41b6-a965-8ef23743af0a button.colab-df-convert');\n",
              "      buttonEl.style.display =\n",
              "        google.colab.kernel.accessAllowed ? 'block' : 'none';\n",
              "\n",
              "      async function convertToInteractive(key) {\n",
              "        const element = document.querySelector('#df-f4cd102e-dea2-41b6-a965-8ef23743af0a');\n",
              "        const dataTable =\n",
              "          await google.colab.kernel.invokeFunction('convertToInteractive',\n",
              "                                                    [key], {});\n",
              "        if (!dataTable) return;\n",
              "\n",
              "        const docLinkHtml = 'Like what you see? Visit the ' +\n",
              "          '<a target=\"_blank\" href=https://colab.research.google.com/notebooks/data_table.ipynb>data table notebook</a>'\n",
              "          + ' to learn more about interactive tables.';\n",
              "        element.innerHTML = '';\n",
              "        dataTable['output_type'] = 'display_data';\n",
              "        await google.colab.output.renderOutput(dataTable, element);\n",
              "        const docLink = document.createElement('div');\n",
              "        docLink.innerHTML = docLinkHtml;\n",
              "        element.appendChild(docLink);\n",
              "      }\n",
              "    </script>\n",
              "  </div>\n",
              "\n",
              "\n",
              "<div id=\"df-36378803-1352-440b-86a9-0d9c3133476b\">\n",
              "  <button class=\"colab-df-quickchart\" onclick=\"quickchart('df-36378803-1352-440b-86a9-0d9c3133476b')\"\n",
              "            title=\"Suggest charts\"\n",
              "            style=\"display:none;\">\n",
              "\n",
              "<svg xmlns=\"http://www.w3.org/2000/svg\" height=\"24px\"viewBox=\"0 0 24 24\"\n",
              "     width=\"24px\">\n",
              "    <g>\n",
              "        <path d=\"M19 3H5c-1.1 0-2 .9-2 2v14c0 1.1.9 2 2 2h14c1.1 0 2-.9 2-2V5c0-1.1-.9-2-2-2zM9 17H7v-7h2v7zm4 0h-2V7h2v10zm4 0h-2v-4h2v4z\"/>\n",
              "    </g>\n",
              "</svg>\n",
              "  </button>\n",
              "\n",
              "<style>\n",
              "  .colab-df-quickchart {\n",
              "      --bg-color: #E8F0FE;\n",
              "      --fill-color: #1967D2;\n",
              "      --hover-bg-color: #E2EBFA;\n",
              "      --hover-fill-color: #174EA6;\n",
              "      --disabled-fill-color: #AAA;\n",
              "      --disabled-bg-color: #DDD;\n",
              "  }\n",
              "\n",
              "  [theme=dark] .colab-df-quickchart {\n",
              "      --bg-color: #3B4455;\n",
              "      --fill-color: #D2E3FC;\n",
              "      --hover-bg-color: #434B5C;\n",
              "      --hover-fill-color: #FFFFFF;\n",
              "      --disabled-bg-color: #3B4455;\n",
              "      --disabled-fill-color: #666;\n",
              "  }\n",
              "\n",
              "  .colab-df-quickchart {\n",
              "    background-color: var(--bg-color);\n",
              "    border: none;\n",
              "    border-radius: 50%;\n",
              "    cursor: pointer;\n",
              "    display: none;\n",
              "    fill: var(--fill-color);\n",
              "    height: 32px;\n",
              "    padding: 0;\n",
              "    width: 32px;\n",
              "  }\n",
              "\n",
              "  .colab-df-quickchart:hover {\n",
              "    background-color: var(--hover-bg-color);\n",
              "    box-shadow: 0 1px 2px rgba(60, 64, 67, 0.3), 0 1px 3px 1px rgba(60, 64, 67, 0.15);\n",
              "    fill: var(--button-hover-fill-color);\n",
              "  }\n",
              "\n",
              "  .colab-df-quickchart-complete:disabled,\n",
              "  .colab-df-quickchart-complete:disabled:hover {\n",
              "    background-color: var(--disabled-bg-color);\n",
              "    fill: var(--disabled-fill-color);\n",
              "    box-shadow: none;\n",
              "  }\n",
              "\n",
              "  .colab-df-spinner {\n",
              "    border: 2px solid var(--fill-color);\n",
              "    border-color: transparent;\n",
              "    border-bottom-color: var(--fill-color);\n",
              "    animation:\n",
              "      spin 1s steps(1) infinite;\n",
              "  }\n",
              "\n",
              "  @keyframes spin {\n",
              "    0% {\n",
              "      border-color: transparent;\n",
              "      border-bottom-color: var(--fill-color);\n",
              "      border-left-color: var(--fill-color);\n",
              "    }\n",
              "    20% {\n",
              "      border-color: transparent;\n",
              "      border-left-color: var(--fill-color);\n",
              "      border-top-color: var(--fill-color);\n",
              "    }\n",
              "    30% {\n",
              "      border-color: transparent;\n",
              "      border-left-color: var(--fill-color);\n",
              "      border-top-color: var(--fill-color);\n",
              "      border-right-color: var(--fill-color);\n",
              "    }\n",
              "    40% {\n",
              "      border-color: transparent;\n",
              "      border-right-color: var(--fill-color);\n",
              "      border-top-color: var(--fill-color);\n",
              "    }\n",
              "    60% {\n",
              "      border-color: transparent;\n",
              "      border-right-color: var(--fill-color);\n",
              "    }\n",
              "    80% {\n",
              "      border-color: transparent;\n",
              "      border-right-color: var(--fill-color);\n",
              "      border-bottom-color: var(--fill-color);\n",
              "    }\n",
              "    90% {\n",
              "      border-color: transparent;\n",
              "      border-bottom-color: var(--fill-color);\n",
              "    }\n",
              "  }\n",
              "</style>\n",
              "\n",
              "  <script>\n",
              "    async function quickchart(key) {\n",
              "      const quickchartButtonEl =\n",
              "        document.querySelector('#' + key + ' button');\n",
              "      quickchartButtonEl.disabled = true;  // To prevent multiple clicks.\n",
              "      quickchartButtonEl.classList.add('colab-df-spinner');\n",
              "      try {\n",
              "        const charts = await google.colab.kernel.invokeFunction(\n",
              "            'suggestCharts', [key], {});\n",
              "      } catch (error) {\n",
              "        console.error('Error during call to suggestCharts:', error);\n",
              "      }\n",
              "      quickchartButtonEl.classList.remove('colab-df-spinner');\n",
              "      quickchartButtonEl.classList.add('colab-df-quickchart-complete');\n",
              "    }\n",
              "    (() => {\n",
              "      let quickchartButtonEl =\n",
              "        document.querySelector('#df-36378803-1352-440b-86a9-0d9c3133476b button');\n",
              "      quickchartButtonEl.style.display =\n",
              "        google.colab.kernel.accessAllowed ? 'block' : 'none';\n",
              "    })();\n",
              "  </script>\n",
              "</div>\n",
              "    </div>\n",
              "  </div>\n"
            ],
            "text/plain": [
              "                     mean        std   min    25%    50%      75%     max\n",
              "Wind_speed       4.866995   2.105402  0.00   3.00    5.0    6.000   11.00\n",
              "ozone_reading   11.373990   8.192652  0.72   4.77    8.9   16.075   37.98\n",
              "Visibility     122.197044  81.171317  0.00  60.00  100.0  150.000  350.00"
            ]
          },
          "execution_count": 171,
          "metadata": {},
          "output_type": "execute_result"
        }
      ],
      "source": [
        "df[['Wind_speed','ozone_reading','Visibility']].describe().drop('count').T"
      ]
    },
    {
      "cell_type": "code",
      "execution_count": 175,
      "metadata": {
        "colab": {
          "base_uri": "https://localhost:8080/"
        },
        "id": "b1S9eosw2q2O",
        "outputId": "2bc36ab7-1729-4229-fa65-57167282fd21"
      },
      "outputs": [
        {
          "data": {
            "text/plain": [
              "178      0\n",
              "177      2\n",
              "43       2\n",
              "175      4\n",
              "17       6\n",
              "      ... \n",
              "23     300\n",
              "162    300\n",
              "187    300\n",
              "64     300\n",
              "22     350\n",
              "Name: Visibility, Length: 203, dtype: int64"
            ]
          },
          "execution_count": 175,
          "metadata": {},
          "output_type": "execute_result"
        }
      ],
      "source": [
        "df.sort_values(by='Visibility')['Visibility']"
      ]
    },
    {
      "cell_type": "markdown",
      "metadata": {
        "id": "EuR4PvZnRjv7"
      },
      "source": [
        "En cuando a wind_speed, no parece haber ningún dato fuera de lo normal."
      ]
    },
    {
      "cell_type": "markdown",
      "metadata": {
        "id": "r0ZgByi8iigl"
      },
      "source": [
        "analizamos los outliers"
      ]
    },
    {
      "cell_type": "code",
      "execution_count": null,
      "metadata": {
        "id": "I-kzE3UTikWF"
      },
      "outputs": [],
      "source": [
        "media = df['wind_speed'].mean()\n",
        "dt = df['wind_speed'].std()\n",
        "\n",
        "umbral = 2.1\n",
        "outliers = df[(df['wind_speed']>media + umbral * dt)|(df['wind_speed']<media-umbral*dt)]\n"
      ]
    },
    {
      "cell_type": "markdown",
      "metadata": {
        "id": "4XeMqJggjOZV"
      },
      "source": [
        "Uno de los mejores gráficos para observar la distribución de los datos y datos fuera de lo normal es el boxplot.  "
      ]
    },
    {
      "cell_type": "code",
      "execution_count": null,
      "metadata": {
        "colab": {
          "base_uri": "https://localhost:8080/",
          "height": 467
        },
        "id": "9j813QNwjTvv",
        "outputId": "ec191e7d-6ff1-4aa2-cbf9-43af90cbe31b"
      },
      "outputs": [
        {
          "data": {
            "text/plain": [
              "<Axes: xlabel='wind_speed'>"
            ]
          },
          "execution_count": 144,
          "metadata": {},
          "output_type": "execute_result"
        },
        {
          "data": {
            "image/png": "[encoded data removed]",
            "text/plain": [
              "<Figure size 640x480 with 1 Axes>"
            ]
          },
          "metadata": {},
          "output_type": "display_data"
        }
      ],
      "source": [
        "import seaborn as sns\n",
        "\n",
        "sns.boxplot(x=df['Wind_speed'])\n"
      ]
    },
    {
      "cell_type": "markdown",
      "metadata": {
        "id": "7jcr29LaGGaF"
      },
      "source": [
        "Todos los datos de wind_speed, excepto uno, se encuentran en el rango [0, 10]. Hay un valor atípico en el punto 11, pero no se desvía demasiado de los demás y no es un valor considerablemente raro, por lo que no se le debe tratar de ninguna forma especial."
      ]
    },
    {
      "cell_type": "code",
      "execution_count": null,
      "metadata": {
        "colab": {
          "base_uri": "https://localhost:8080/",
          "height": 467
        },
        "id": "I-EUV-ykDoIi",
        "outputId": "fe20bc83-f132-4e89-ef19-213bc3b98f5c"
      },
      "outputs": [
        {
          "data": {
            "text/plain": [
              "<Axes: xlabel='ozone_reading'>"
            ]
          },
          "execution_count": 145,
          "metadata": {},
          "output_type": "execute_result"
        },
        {
          "data": {
            "image/png": "[encoded data removed]",
            "text/plain": [
              "<Figure size 640x480 with 1 Axes>"
            ]
          },
          "metadata": {},
          "output_type": "display_data"
        }
      ],
      "source": [
        "sns.boxplot(x=df['ozone_reading'])\n"
      ]
    },
    {
      "cell_type": "markdown",
      "metadata": {
        "id": "BhH_iFKRI8ll"
      },
      "source": [
        "Los valores de ozono están mayoritariamente concentrados en un rango [0, 32].  Hay tan solo tres valores atípicos en los puntos 33, 34 y 38 aproximadamente."
      ]
    },
    {
      "cell_type": "code",
      "execution_count": null,
      "metadata": {
        "colab": {
          "base_uri": "https://localhost:8080/",
          "height": 466
        },
        "id": "gyVX0M-NDxRx",
        "outputId": "cdfeb0f9-66e7-493a-a4bf-e2cbe209fc2e"
      },
      "outputs": [
        {
          "data": {
            "text/plain": [
              "<Axes: xlabel='Visibility'>"
            ]
          },
          "execution_count": 146,
          "metadata": {},
          "output_type": "execute_result"
        },
        {
          "data": {
            "image/png": "[encoded data removed]",
            "text/plain": [
              "<Figure size 640x480 with 1 Axes>"
            ]
          },
          "metadata": {},
          "output_type": "display_data"
        }
      ],
      "source": [
        "sns.boxplot(x=df['Visibility'])"
      ]
    },
    {
      "cell_type": "markdown",
      "metadata": {
        "id": "xUfS7jKUJRa1"
      },
      "source": [
        "Los valores de la variable 'visibility' se concentran sobre todo en el rango [0, 250] y hay valores atípicos en los puntos 300 y 350."
      ]
    },
    {
      "cell_type": "markdown",
      "metadata": {
        "id": "bHzonc4nTtZY"
      },
      "source": [
        "\n",
        "## 2.- (0,75 puntos) Estudiar la intersección y la unión de outliers entre las variables “Wind_speed” y “Visibility”.\n"
      ]
    },
    {
      "cell_type": "code",
      "execution_count": null,
      "metadata": {
        "colab": {
          "base_uri": "https://localhost:8080/"
        },
        "id": "VctrCcgKUi1b",
        "outputId": "2dd17570-03e2-47a9-9ce0-c6156348d2b6"
      },
      "outputs": [
        {
          "name": "stdout",
          "output_type": "stream",
          "text": [
            "Intersección de outliers:\n",
            "    Month  Day_of_month  Day_of_week  ozone_reading  pressure_height  \\\n",
            "22      2             9            1           2.92             5490   \n",
            "\n",
            "    wind_speed  Humidity  Temperature_Sandburg  Temperature_ElMonte  \\\n",
            "22          11        72                    37                38.48   \n",
            "\n",
            "    inversion_base_height  pressure_gradient  Inversion_temperature  \\\n",
            "22                   5000                 32                  38.12   \n",
            "\n",
            "    Visibility     wind_category tempelmonte_category tempinversion_category  \n",
            "22         350  Viento tranquilo           Mucho frío             Mucho frío  \n"
          ]
        },
        {
          "name": "stderr",
          "output_type": "stream",
          "text": [
            "<ipython-input-163-eb3cadff1ec0>:30: FutureWarning: Passing a set as an indexer is deprecated and will raise in a future version. Use a list instead.\n",
            "  print(df.loc[outliers_intersection])\n"
          ]
        }
      ],
      "source": [
        "import pandas as pd\n",
        "\n",
        "# Supongamos que tienes un DataFrame llamado df que contiene las variables 'Wind_speed' y 'Visibility'\n",
        "\n",
        "# Calcular los cuantiles para cada variable\n",
        "Q1_Wind_speed = df['Wind_speed'].quantile(0.25)\n",
        "Q3_Wind_speed = df['Wind_speed'].quantile(0.75)\n",
        "IQR_Wind_speed = Q3_Wind_speed - Q1_Wind_speed\n",
        "\n",
        "Q1_visibility = df['Visibility'].quantile(0.25)\n",
        "Q3_visibility = df['Visibility'].quantile(0.75)\n",
        "IQR_visibility = Q3_visibility - Q1_visibility\n",
        "\n",
        "# Definir los límites del umbral para identificar outliers\n",
        "lower_bound_Wind_speed = Q1_Wind_speed - 1.5 * IQR_Wind_speed\n",
        "upper_bound_Wind_speed = Q3_Wind_speed + 1.5 * IQR_Wind_speed\n",
        "\n",
        "lower_bound_visibility = Q1_visibility - 1.5 * IQR_visibility\n",
        "upper_bound_visibility = Q3_visibility + 1.5 * IQR_visibility\n",
        "\n",
        "# Identificar outliers en 'Wind_speed' y 'Visibility'\n",
        "outliers_Wind_speed = set(df[(df['Wind_speed'] < lower_bound_Wind_speed) | (df['Wind_speed'] > upper_bound_Wind_speed)].index)\n",
        "outliers_visibility = set(df[(df['Visibility'] < lower_bound_visibility) | (df['Visibility'] > upper_bound_visibility)].index)\n",
        "\n",
        "# Encontrar la intersección de outliers\n",
        "outliers_intersection = outliers_Wind_speed.intersection(outliers_visibility)\n",
        "\n",
        "# Mostrar la intersección de outliers\n",
        "print(\"Intersección de outliers:\")\n",
        "print(df.loc[outliers_intersection])\n"
      ]
    },
    {
      "cell_type": "markdown",
      "metadata": {
        "id": "95Du2OMWk75k"
      },
      "source": [
        "INTERSECCIÓN\n",
        "Nos indica que con un viento de 11 km/h hay una visibilidad de 350 km/h"
      ]
    },
    {
      "cell_type": "code",
      "execution_count": null,
      "metadata": {
        "colab": {
          "base_uri": "https://localhost:8080/",
          "height": 472
        },
        "id": "fsD5yZNWVD3u",
        "outputId": "dc320b29-c902-4705-a1e4-cd14309da435"
      },
      "outputs": [
        {
          "data": {
            "image/png": "[encoded data removed]",
            "text/plain": [
              "<Figure size 640x480 with 1 Axes>"
            ]
          },
          "metadata": {},
          "output_type": "display_data"
        }
      ],
      "source": [
        "# Graficar outliers de 'Wind_speed'\n",
        "plt.scatter(df['Wind_speed'], [1] * len(df), color='blue', label='Wind_speed outliers')\n",
        "\n",
        "# Graficar outliers de 'Visibility'\n",
        "plt.scatter(df['Visibility'], [2] * len(df), color='red', label='Visibility outliers')\n",
        "\n",
        "# Ajustar ejes y etiquetas\n",
        "plt.yticks([1, 2], ['Wind_speed', 'Visibility'])\n",
        "plt.xlabel('Values')\n",
        "plt.title('Outliers in Wind_speed and Visibility')\n",
        "\n",
        "# Mostrar leyenda y gráfico\n",
        "plt.legend()\n",
        "plt.show()"
      ]
    },
    {
      "cell_type": "code",
      "execution_count": null,
      "metadata": {
        "id": "E4AazQWjspLR"
      },
      "outputs": [],
      "source": []
    },
    {
      "cell_type": "markdown",
      "metadata": {
        "id": "-lxqBewsTvX9"
      },
      "source": [
        "\n",
        "## 3.- (1 punto) Categoriza algunas de las variables y lleva a cabo representaciones que nos permitan relacionar diferentes variables ¿Qué nos dicen los datos?\n",
        "\n"
      ]
    },
    {
      "cell_type": "markdown",
      "metadata": {
        "id": "yezwMbKCLzVs"
      },
      "source": [
        "Resulta interesante comparar la concentración de ozono con la velocidad del viento para examinar la dispersión de contaminantes por el aire, pues influye en la calidad del aire y en consecuencia en la salud pública.\n",
        "\n",
        "Otra posible relación de variables podría ser la de la temperatura y presión atmosférica, pues se pueden detectar cambios en el clima, por ejemplo: una disminución en la presión atmosférica podría indicar la llegada de una tormenta o de frío.\n",
        "\n",
        "La última relación que se realizará es una de las más importantes ya que está relacionada con la contaminación: la relación entre la temperatura de inversión y la concentración de ozono, pues se sabe que a más contaminación, más calor hace en el planeta."
      ]
    },
    {
      "cell_type": "markdown",
      "metadata": {
        "id": "x2Dn3BrTTfSM"
      },
      "source": [
        "**CATEGORIZACIÓN DE VARIABLES**"
      ]
    },
    {
      "cell_type": "markdown",
      "metadata": {
        "id": "URkJ1DkMTi8y"
      },
      "source": [
        "Se emplearán cuatro variables en este apartado y dos de ellas serán las que se categorizarán."
      ]
    },
    {
      "cell_type": "markdown",
      "metadata": {
        "id": "CvbwfjZ4csh9"
      },
      "source": [
        "**wind_speed** : se dividirán los valores en 'Tranquilo' y 'Suave'."
      ]
    },
    {
      "cell_type": "code",
      "execution_count": null,
      "metadata": {
        "id": "odHeeReSdFWX"
      },
      "outputs": [],
      "source": [
        "lim = [0, 3, float('inf')]\n",
        "etiqueta= ['Viento suave', 'Viento tranquilo']\n",
        "df['wind_category'] = pd.cut(df['Wind_speed'], bins=lim, labels=etiqueta, right=False)\n"
      ]
    },
    {
      "cell_type": "markdown",
      "metadata": {
        "id": "BBvEQ_bps4ed"
      },
      "source": [
        "**temperature_elmonte** : se dividirán los datos en 'Mucho frío', de 0 a 7 grados, 'Frío', de 8 a 17 grados, 'Fresco', de 18 a 26 grados, y 'Caluroso', de 26 grados en adelante.  Como los valores aparecen, aparentemente, en grados Farenheit, se pondrá en el código lo equivalente al grado Celsius en Farenheit."
      ]
    },
    {
      "cell_type": "code",
      "execution_count": null,
      "metadata": {
        "id": "3BsBS48eyV5a"
      },
      "outputs": [],
      "source": [
        "lim = [26,47,65 ,78.8, float('inf')]\n",
        "etiqueta = ['Mucho frío','Frío','Fresco','Caluroso']\n",
        "df['tempelmonte_category'] = pd.cut(df['Temperature_ElMonte'], bins=lim, labels=etiqueta, right=False)"
      ]
    },
    {
      "cell_type": "markdown",
      "metadata": {
        "id": "ILleYV83yF4n"
      },
      "source": [
        "**inversion_temperature** : se van a distribuir los datos igual que en la anterior variable."
      ]
    },
    {
      "cell_type": "code",
      "execution_count": null,
      "metadata": {
        "id": "V96iZaV_yNpU"
      },
      "outputs": [],
      "source": [
        "lim = [26,47,65,78.8, float('inf')]\n",
        "etiqueta = ['Mucho frío','Frío','Fresco','Caluroso']\n",
        "df['tempinversion_category'] = pd.cut(df['Inversion_temperature'], bins=lim, labels=etiqueta, right=False)"
      ]
    },
    {
      "cell_type": "markdown",
      "metadata": {
        "id": "F2QZjYyERuKn"
      },
      "source": [
        "**RELACIÓN OZONE_READING Y WIND_SPEED**\n",
        "\n",
        "Para estudiar esta relación se empleará un gráfico de dispersión y el coeficiente de correlación."
      ]
    },
    {
      "cell_type": "code",
      "execution_count": null,
      "metadata": {
        "colab": {
          "base_uri": "https://localhost:8080/",
          "height": 489
        },
        "id": "qMj9Cnh9Rt1b",
        "outputId": "fc85d56e-e388-453b-e5b6-53ea3aade1b1"
      },
      "outputs": [
        {
          "data": {
            "image/png": "[encoded data removed]",
            "text/plain": [
              "<Figure size 640x480 with 1 Axes>"
            ]
          },
          "metadata": {},
          "output_type": "display_data"
        },
        {
          "name": "stdout",
          "output_type": "stream",
          "text": [
            "Coeficiente de correlación: 0.08179857982380294\n"
          ]
        }
      ],
      "source": [
        "import matplotlib.pyplot as plt\n",
        "\n",
        "plt.scatter(df['wind_category'], df['ozone_reading'])\n",
        "plt.xlabel('Wind_speed')\n",
        "plt.ylabel('ozone_reading')\n",
        "plt.title('Relación ozono-viento')\n",
        "plt.show()\n",
        "\n",
        "#COEFICIENTE DE CORRELACIÓN\n",
        "correlation = df['Wind_speed'].corr(df['ozone_reading'])\n",
        "print(\"Coeficiente de correlación:\", correlation)"
      ]
    },
    {
      "cell_type": "markdown",
      "metadata": {
        "id": "oPMeiNQSefnv"
      },
      "source": [
        "Se ha demostrado que las variables ozono y velocidad del tiempo tienen una débil relación lineal.  Tal y como se observa en el gráfico, con tiempo suave hay tanto contaminación alta como baja, y con viento ínfimamente más fuerte solo hay contaminación muy baja, pero esto no aporta ningún tipo de información.\n",
        "\n",
        "Con respecto al coeficiente de relación, se ve que la relación es directamente proporcional al ser el coeficiente de correlación positivo (a más viento más contaminación en el aire), pero es una relación demasiado débil porque el valor es muy cercano al 0.\n",
        "\n",
        "En definitiva, no hay suficiente evidencia para afirmar que la contaminación de ozono aumenta cuando más viento hay; por lo tanto, no sirve dicha relación para estudiar la contaminación en el aire."
      ]
    },
    {
      "cell_type": "markdown",
      "metadata": {
        "id": "pdeAGrTduOkf"
      },
      "source": [
        "**RELACIÓN PRESSURE_HEIGHT Y TEMPERATURE_ELMONTE**"
      ]
    },
    {
      "cell_type": "code",
      "execution_count": null,
      "metadata": {
        "colab": {
          "base_uri": "https://localhost:8080/",
          "height": 489
        },
        "id": "Vu3GRsiFgBgL",
        "outputId": "adb6252a-0983-4e51-f1d2-d1ac7db9468c"
      },
      "outputs": [
        {
          "data": {
            "image/png": "[encoded data removed]",
            "text/plain": [
              "<Figure size 640x480 with 1 Axes>"
            ]
          },
          "metadata": {},
          "output_type": "display_data"
        },
        {
          "name": "stdout",
          "output_type": "stream",
          "text": [
            "Coeficiente de correlación: 0.8968938521079255\n"
          ]
        }
      ],
      "source": [
        "plt.scatter(df['pressure_height'], df['tempelmonte_category'])\n",
        "plt.xlabel('inversion_height')\n",
        "plt.ylabel('temperature_elmonte')\n",
        "plt.title('Relación presión-temperatura')\n",
        "plt.show()\n",
        "\n",
        "correlation = df['Temperature_ElMonte'].corr(df['pressure_height'])\n",
        "print(\"Coeficiente de correlación:\", correlation)"
      ]
    },
    {
      "cell_type": "markdown",
      "metadata": {
        "id": "axVkVzi2jtzr"
      },
      "source": [
        "En el gráfico se ve que tiende a la derecha y a arriba.  Esto significa que hay correlación entre la presión atmosférica y la temperatura, pues para mismas temperaturas, mismas presiones.  Además, el coeficiente de correlación es positivo y muy cercano a 1 (casi 0.9), por lo que hay evidencia suficiente para afirmar que a más presión, más calor."
      ]
    },
    {
      "cell_type": "markdown",
      "metadata": {
        "id": "rcPnf2eyzEMH"
      },
      "source": [
        "**RELACIÓN INVERSION_TEMPERATURE Y OZONE_READING**\n",
        "\n"
      ]
    },
    {
      "cell_type": "code",
      "execution_count": null,
      "metadata": {
        "colab": {
          "base_uri": "https://localhost:8080/",
          "height": 489
        },
        "id": "CD8V4OPfzSFx",
        "outputId": "99621482-1957-4a9a-e1b0-e9710fc98efc"
      },
      "outputs": [
        {
          "data": {
            "image/png": "[encoded data removed]",
            "text/plain": [
              "<Figure size 640x480 with 1 Axes>"
            ]
          },
          "metadata": {},
          "output_type": "display_data"
        },
        {
          "name": "stdout",
          "output_type": "stream",
          "text": [
            "Coeficiente de correlación: 0.7175618600763667\n"
          ]
        }
      ],
      "source": [
        "plt.scatter(df['ozone_reading'], df['tempinversion_category'])\n",
        "plt.xlabel('ozone_reading')\n",
        "plt.ylabel('inversion_temperature')\n",
        "plt.title('Relación ozono-temperatura')\n",
        "plt.show()\n",
        "\n",
        "#COEFICIENTE DE CORRELACIÓN\n",
        "correlation = df['Inversion_temperature'].corr(df['ozone_reading'])\n",
        "print(\"Coeficiente de correlación:\", correlation)"
      ]
    },
    {
      "cell_type": "markdown",
      "metadata": {
        "id": "ID8e5STh0MiN"
      },
      "source": [
        "En el gráfico se observa una evidente relación: al aumentar la concentración de ozono, aumenta la temperatura.  El coeficiente de correlación también sostiene esta afirmación."
      ]
    },
    {
      "cell_type": "markdown",
      "metadata": {
        "id": "t413lJuyTxL1"
      },
      "source": [
        "## 4.- (1 punto) Se desea saber cómo se distribuyen y cuáles son las frecuencias de las principales variables respecto a los días de medición. Lleva a cabo la representación más útil (sólo una). Justificar la respuesta."
      ]
    },
    {
      "cell_type": "markdown",
      "metadata": {
        "id": "t3sEO2mQu3fQ"
      },
      "source": [
        "Las variables principales son: ozone_reading e inversion_temperature, pues parecen las más relacionadas con la contaminación."
      ]
    },
    {
      "cell_type": "code",
      "execution_count": null,
      "metadata": {
        "colab": {
          "base_uri": "https://localhost:8080/",
          "height": 647
        },
        "id": "YvofLz3xu22f",
        "outputId": "f50d4896-35c5-49a2-c3ef-c5af76b85261"
      },
      "outputs": [
        {
          "data": {
            "text/plain": [
              "<Axes: >"
            ]
          },
          "execution_count": 153,
          "metadata": {},
          "output_type": "execute_result"
        },
        {
          "data": {
            "image/png": "[encoded data removed]",
            "text/plain": [
              "<Figure size 1500x800 with 1 Axes>"
            ]
          },
          "metadata": {},
          "output_type": "display_data"
        }
      ],
      "source": [
        "df[['ozone_reading','Inversion_temperature']].plot(figsize = (15,8))"
      ]
    }
  ],
  "metadata": {
    "colab": {
      "provenance": []
    },
    "kernelspec": {
      "display_name": ".venv",
      "language": "python",
      "name": "python3"
    },
    "language_info": {
      "codemirror_mode": {
        "name": "ipython",
        "version": 3
      },
      "file_extension": ".py",
      "mimetype": "text/x-python",
      "name": "python",
      "nbconvert_exporter": "python",
      "pygments_lexer": "ipython3",
      "version": "3.11.4"
    }
  },
  "nbformat": 4,
  "nbformat_minor": 0
}
