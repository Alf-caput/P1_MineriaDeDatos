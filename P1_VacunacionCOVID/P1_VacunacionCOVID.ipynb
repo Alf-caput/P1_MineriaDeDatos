{
 "cells": [
  {
   "cell_type": "markdown",
   "metadata": {},
   "source": [
    "# Práctica 1: Vacunación COVID"
   ]
  },
  {
   "cell_type": "markdown",
   "metadata": {},
   "source": [
    "## Preparación de la zona de trabajo"
   ]
  },
  {
   "cell_type": "markdown",
   "metadata": {},
   "source": [
    "Importamos las librerías que vamos a necesitar para realizar la práctica"
   ]
  },
  {
   "cell_type": "code",
   "execution_count": 91,
   "metadata": {},
   "outputs": [],
   "source": [
    "import pandas as pd\n",
    "import numpy as np\n",
    "import sklearn as sk\n",
    "import matplotlib.pyplot as plt\n",
    "import plotly.express as px\n",
    "from statsmodels.graphics.tsaplots import plot_acf, plot_pacf\n",
    "from tabulate import tabulate"
   ]
  },
  {
   "cell_type": "markdown",
   "metadata": {},
   "source": [
    "Cargamos el dataset en un DataFrame de Pandas"
   ]
  },
  {
   "cell_type": "code",
   "execution_count": 92,
   "metadata": {},
   "outputs": [],
   "source": [
    "datos = pd.read_csv(\"vacunaciones.csv\")"
   ]
  },
  {
   "cell_type": "markdown",
   "metadata": {},
   "source": [
    "Vamos a visualizar los primeros y últimos valores de nuestro DataFrame para asegurarnos de que se hayan cargado correctamente"
   ]
  },
  {
   "cell_type": "code",
   "execution_count": 93,
   "metadata": {},
   "outputs": [
    {
     "data": {
      "text/html": [
       "<div>\n",
       "<style scoped>\n",
       "    .dataframe tbody tr th:only-of-type {\n",
       "        vertical-align: middle;\n",
       "    }\n",
       "\n",
       "    .dataframe tbody tr th {\n",
       "        vertical-align: top;\n",
       "    }\n",
       "\n",
       "    .dataframe thead th {\n",
       "        text-align: right;\n",
       "    }\n",
       "</style>\n",
       "<table border=\"1\" class=\"dataframe\">\n",
       "  <thead>\n",
       "    <tr style=\"text-align: right;\">\n",
       "      <th></th>\n",
       "      <th>country</th>\n",
       "      <th>iso_code</th>\n",
       "      <th>date</th>\n",
       "      <th>total_vaccinations</th>\n",
       "      <th>people_vaccinated</th>\n",
       "      <th>people_fully_vaccinated</th>\n",
       "      <th>daily_vaccinations_raw</th>\n",
       "      <th>daily_vaccinations</th>\n",
       "      <th>total_vaccinations_per_hundred</th>\n",
       "      <th>people_vaccinated_per_hundred</th>\n",
       "      <th>people_fully_vaccinated_per_hundred</th>\n",
       "      <th>daily_vaccinations_per_million</th>\n",
       "      <th>vaccines</th>\n",
       "      <th>source_name</th>\n",
       "      <th>source_website</th>\n",
       "    </tr>\n",
       "  </thead>\n",
       "  <tbody>\n",
       "    <tr>\n",
       "      <th>0</th>\n",
       "      <td>Albania</td>\n",
       "      <td>ALB</td>\n",
       "      <td>2021-01-10</td>\n",
       "      <td>0.0</td>\n",
       "      <td>0.0</td>\n",
       "      <td>NaN</td>\n",
       "      <td>NaN</td>\n",
       "      <td>NaN</td>\n",
       "      <td>0.00</td>\n",
       "      <td>0.00</td>\n",
       "      <td>NaN</td>\n",
       "      <td>NaN</td>\n",
       "      <td>Pfizer/BioNTech</td>\n",
       "      <td>Ministry of Health</td>\n",
       "      <td>https://shendetesia.gov.al/vaksinimi-anticovid...</td>\n",
       "    </tr>\n",
       "    <tr>\n",
       "      <th>1</th>\n",
       "      <td>Albania</td>\n",
       "      <td>ALB</td>\n",
       "      <td>2021-01-11</td>\n",
       "      <td>NaN</td>\n",
       "      <td>NaN</td>\n",
       "      <td>NaN</td>\n",
       "      <td>NaN</td>\n",
       "      <td>64.0</td>\n",
       "      <td>NaN</td>\n",
       "      <td>NaN</td>\n",
       "      <td>NaN</td>\n",
       "      <td>22.0</td>\n",
       "      <td>Pfizer/BioNTech</td>\n",
       "      <td>Ministry of Health</td>\n",
       "      <td>https://shendetesia.gov.al/vaksinimi-anticovid...</td>\n",
       "    </tr>\n",
       "    <tr>\n",
       "      <th>2</th>\n",
       "      <td>Albania</td>\n",
       "      <td>ALB</td>\n",
       "      <td>2021-01-12</td>\n",
       "      <td>128.0</td>\n",
       "      <td>128.0</td>\n",
       "      <td>NaN</td>\n",
       "      <td>NaN</td>\n",
       "      <td>64.0</td>\n",
       "      <td>0.00</td>\n",
       "      <td>0.00</td>\n",
       "      <td>NaN</td>\n",
       "      <td>22.0</td>\n",
       "      <td>Pfizer/BioNTech</td>\n",
       "      <td>Ministry of Health</td>\n",
       "      <td>https://shendetesia.gov.al/vaksinimi-anticovid...</td>\n",
       "    </tr>\n",
       "    <tr>\n",
       "      <th>3</th>\n",
       "      <td>Albania</td>\n",
       "      <td>ALB</td>\n",
       "      <td>2021-01-13</td>\n",
       "      <td>188.0</td>\n",
       "      <td>188.0</td>\n",
       "      <td>NaN</td>\n",
       "      <td>60.0</td>\n",
       "      <td>63.0</td>\n",
       "      <td>0.01</td>\n",
       "      <td>0.01</td>\n",
       "      <td>NaN</td>\n",
       "      <td>22.0</td>\n",
       "      <td>Pfizer/BioNTech</td>\n",
       "      <td>Ministry of Health</td>\n",
       "      <td>https://shendetesia.gov.al/vaksinimi-anticovid...</td>\n",
       "    </tr>\n",
       "    <tr>\n",
       "      <th>4</th>\n",
       "      <td>Albania</td>\n",
       "      <td>ALB</td>\n",
       "      <td>2021-01-14</td>\n",
       "      <td>266.0</td>\n",
       "      <td>266.0</td>\n",
       "      <td>NaN</td>\n",
       "      <td>78.0</td>\n",
       "      <td>66.0</td>\n",
       "      <td>0.01</td>\n",
       "      <td>0.01</td>\n",
       "      <td>NaN</td>\n",
       "      <td>23.0</td>\n",
       "      <td>Pfizer/BioNTech</td>\n",
       "      <td>Ministry of Health</td>\n",
       "      <td>https://shendetesia.gov.al/vaksinimi-anticovid...</td>\n",
       "    </tr>\n",
       "  </tbody>\n",
       "</table>\n",
       "</div>"
      ],
      "text/plain": [
       "   country iso_code        date  total_vaccinations  people_vaccinated  \\\n",
       "0  Albania      ALB  2021-01-10                 0.0                0.0   \n",
       "1  Albania      ALB  2021-01-11                 NaN                NaN   \n",
       "2  Albania      ALB  2021-01-12               128.0              128.0   \n",
       "3  Albania      ALB  2021-01-13               188.0              188.0   \n",
       "4  Albania      ALB  2021-01-14               266.0              266.0   \n",
       "\n",
       "   people_fully_vaccinated  daily_vaccinations_raw  daily_vaccinations  \\\n",
       "0                      NaN                     NaN                 NaN   \n",
       "1                      NaN                     NaN                64.0   \n",
       "2                      NaN                     NaN                64.0   \n",
       "3                      NaN                    60.0                63.0   \n",
       "4                      NaN                    78.0                66.0   \n",
       "\n",
       "   total_vaccinations_per_hundred  people_vaccinated_per_hundred  \\\n",
       "0                            0.00                           0.00   \n",
       "1                             NaN                            NaN   \n",
       "2                            0.00                           0.00   \n",
       "3                            0.01                           0.01   \n",
       "4                            0.01                           0.01   \n",
       "\n",
       "   people_fully_vaccinated_per_hundred  daily_vaccinations_per_million  \\\n",
       "0                                  NaN                             NaN   \n",
       "1                                  NaN                            22.0   \n",
       "2                                  NaN                            22.0   \n",
       "3                                  NaN                            22.0   \n",
       "4                                  NaN                            23.0   \n",
       "\n",
       "          vaccines         source_name  \\\n",
       "0  Pfizer/BioNTech  Ministry of Health   \n",
       "1  Pfizer/BioNTech  Ministry of Health   \n",
       "2  Pfizer/BioNTech  Ministry of Health   \n",
       "3  Pfizer/BioNTech  Ministry of Health   \n",
       "4  Pfizer/BioNTech  Ministry of Health   \n",
       "\n",
       "                                      source_website  \n",
       "0  https://shendetesia.gov.al/vaksinimi-anticovid...  \n",
       "1  https://shendetesia.gov.al/vaksinimi-anticovid...  \n",
       "2  https://shendetesia.gov.al/vaksinimi-anticovid...  \n",
       "3  https://shendetesia.gov.al/vaksinimi-anticovid...  \n",
       "4  https://shendetesia.gov.al/vaksinimi-anticovid...  "
      ]
     },
     "execution_count": 93,
     "metadata": {},
     "output_type": "execute_result"
    }
   ],
   "source": [
    "datos.head()"
   ]
  },
  {
   "cell_type": "code",
   "execution_count": 94,
   "metadata": {
    "scrolled": false
   },
   "outputs": [
    {
     "data": {
      "text/html": [
       "<div>\n",
       "<style scoped>\n",
       "    .dataframe tbody tr th:only-of-type {\n",
       "        vertical-align: middle;\n",
       "    }\n",
       "\n",
       "    .dataframe tbody tr th {\n",
       "        vertical-align: top;\n",
       "    }\n",
       "\n",
       "    .dataframe thead th {\n",
       "        text-align: right;\n",
       "    }\n",
       "</style>\n",
       "<table border=\"1\" class=\"dataframe\">\n",
       "  <thead>\n",
       "    <tr style=\"text-align: right;\">\n",
       "      <th></th>\n",
       "      <th>country</th>\n",
       "      <th>iso_code</th>\n",
       "      <th>date</th>\n",
       "      <th>total_vaccinations</th>\n",
       "      <th>people_vaccinated</th>\n",
       "      <th>people_fully_vaccinated</th>\n",
       "      <th>daily_vaccinations_raw</th>\n",
       "      <th>daily_vaccinations</th>\n",
       "      <th>total_vaccinations_per_hundred</th>\n",
       "      <th>people_vaccinated_per_hundred</th>\n",
       "      <th>people_fully_vaccinated_per_hundred</th>\n",
       "      <th>daily_vaccinations_per_million</th>\n",
       "      <th>vaccines</th>\n",
       "      <th>source_name</th>\n",
       "      <th>source_website</th>\n",
       "    </tr>\n",
       "  </thead>\n",
       "  <tbody>\n",
       "    <tr>\n",
       "      <th>3203</th>\n",
       "      <td>Wales</td>\n",
       "      <td>NaN</td>\n",
       "      <td>2021-02-10</td>\n",
       "      <td>687892.0</td>\n",
       "      <td>684097.0</td>\n",
       "      <td>3795.0</td>\n",
       "      <td>28786.0</td>\n",
       "      <td>28015.0</td>\n",
       "      <td>21.82</td>\n",
       "      <td>21.70</td>\n",
       "      <td>0.12</td>\n",
       "      <td>8886.0</td>\n",
       "      <td>Oxford/AstraZeneca, Pfizer/BioNTech</td>\n",
       "      <td>Government of the United Kingdom</td>\n",
       "      <td>https://coronavirus.data.gov.uk/details/health...</td>\n",
       "    </tr>\n",
       "    <tr>\n",
       "      <th>3204</th>\n",
       "      <td>Wales</td>\n",
       "      <td>NaN</td>\n",
       "      <td>2021-02-11</td>\n",
       "      <td>719954.0</td>\n",
       "      <td>715944.0</td>\n",
       "      <td>4010.0</td>\n",
       "      <td>32062.0</td>\n",
       "      <td>27897.0</td>\n",
       "      <td>22.83</td>\n",
       "      <td>22.71</td>\n",
       "      <td>0.13</td>\n",
       "      <td>8848.0</td>\n",
       "      <td>Oxford/AstraZeneca, Pfizer/BioNTech</td>\n",
       "      <td>Government of the United Kingdom</td>\n",
       "      <td>https://coronavirus.data.gov.uk/details/health...</td>\n",
       "    </tr>\n",
       "    <tr>\n",
       "      <th>3205</th>\n",
       "      <td>Wales</td>\n",
       "      <td>NaN</td>\n",
       "      <td>2021-02-12</td>\n",
       "      <td>753669.0</td>\n",
       "      <td>749445.0</td>\n",
       "      <td>4224.0</td>\n",
       "      <td>33715.0</td>\n",
       "      <td>27743.0</td>\n",
       "      <td>23.90</td>\n",
       "      <td>23.77</td>\n",
       "      <td>0.13</td>\n",
       "      <td>8799.0</td>\n",
       "      <td>Oxford/AstraZeneca, Pfizer/BioNTech</td>\n",
       "      <td>Government of the United Kingdom</td>\n",
       "      <td>https://coronavirus.data.gov.uk/details/health...</td>\n",
       "    </tr>\n",
       "    <tr>\n",
       "      <th>3206</th>\n",
       "      <td>Wales</td>\n",
       "      <td>NaN</td>\n",
       "      <td>2021-02-13</td>\n",
       "      <td>776224.0</td>\n",
       "      <td>771651.0</td>\n",
       "      <td>4573.0</td>\n",
       "      <td>22555.0</td>\n",
       "      <td>26285.0</td>\n",
       "      <td>24.62</td>\n",
       "      <td>24.47</td>\n",
       "      <td>0.15</td>\n",
       "      <td>8337.0</td>\n",
       "      <td>Oxford/AstraZeneca, Pfizer/BioNTech</td>\n",
       "      <td>Government of the United Kingdom</td>\n",
       "      <td>https://coronavirus.data.gov.uk/details/health...</td>\n",
       "    </tr>\n",
       "    <tr>\n",
       "      <th>3207</th>\n",
       "      <td>Wales</td>\n",
       "      <td>NaN</td>\n",
       "      <td>2021-02-14</td>\n",
       "      <td>790211.0</td>\n",
       "      <td>784809.0</td>\n",
       "      <td>5402.0</td>\n",
       "      <td>13987.0</td>\n",
       "      <td>26206.0</td>\n",
       "      <td>25.06</td>\n",
       "      <td>24.89</td>\n",
       "      <td>0.17</td>\n",
       "      <td>8312.0</td>\n",
       "      <td>Oxford/AstraZeneca, Pfizer/BioNTech</td>\n",
       "      <td>Government of the United Kingdom</td>\n",
       "      <td>https://coronavirus.data.gov.uk/details/health...</td>\n",
       "    </tr>\n",
       "  </tbody>\n",
       "</table>\n",
       "</div>"
      ],
      "text/plain": [
       "     country iso_code        date  total_vaccinations  people_vaccinated  \\\n",
       "3203   Wales      NaN  2021-02-10            687892.0           684097.0   \n",
       "3204   Wales      NaN  2021-02-11            719954.0           715944.0   \n",
       "3205   Wales      NaN  2021-02-12            753669.0           749445.0   \n",
       "3206   Wales      NaN  2021-02-13            776224.0           771651.0   \n",
       "3207   Wales      NaN  2021-02-14            790211.0           784809.0   \n",
       "\n",
       "      people_fully_vaccinated  daily_vaccinations_raw  daily_vaccinations  \\\n",
       "3203                   3795.0                 28786.0             28015.0   \n",
       "3204                   4010.0                 32062.0             27897.0   \n",
       "3205                   4224.0                 33715.0             27743.0   \n",
       "3206                   4573.0                 22555.0             26285.0   \n",
       "3207                   5402.0                 13987.0             26206.0   \n",
       "\n",
       "      total_vaccinations_per_hundred  people_vaccinated_per_hundred  \\\n",
       "3203                           21.82                          21.70   \n",
       "3204                           22.83                          22.71   \n",
       "3205                           23.90                          23.77   \n",
       "3206                           24.62                          24.47   \n",
       "3207                           25.06                          24.89   \n",
       "\n",
       "      people_fully_vaccinated_per_hundred  daily_vaccinations_per_million  \\\n",
       "3203                                 0.12                          8886.0   \n",
       "3204                                 0.13                          8848.0   \n",
       "3205                                 0.13                          8799.0   \n",
       "3206                                 0.15                          8337.0   \n",
       "3207                                 0.17                          8312.0   \n",
       "\n",
       "                                 vaccines                       source_name  \\\n",
       "3203  Oxford/AstraZeneca, Pfizer/BioNTech  Government of the United Kingdom   \n",
       "3204  Oxford/AstraZeneca, Pfizer/BioNTech  Government of the United Kingdom   \n",
       "3205  Oxford/AstraZeneca, Pfizer/BioNTech  Government of the United Kingdom   \n",
       "3206  Oxford/AstraZeneca, Pfizer/BioNTech  Government of the United Kingdom   \n",
       "3207  Oxford/AstraZeneca, Pfizer/BioNTech  Government of the United Kingdom   \n",
       "\n",
       "                                         source_website  \n",
       "3203  https://coronavirus.data.gov.uk/details/health...  \n",
       "3204  https://coronavirus.data.gov.uk/details/health...  \n",
       "3205  https://coronavirus.data.gov.uk/details/health...  \n",
       "3206  https://coronavirus.data.gov.uk/details/health...  \n",
       "3207  https://coronavirus.data.gov.uk/details/health...  "
      ]
     },
     "execution_count": 94,
     "metadata": {},
     "output_type": "execute_result"
    }
   ],
   "source": [
    "datos.tail()"
   ]
  },
  {
   "cell_type": "markdown",
   "metadata": {},
   "source": [
    "## Preprocesamiento de los datos"
   ]
  },
  {
   "cell_type": "markdown",
   "metadata": {},
   "source": [
    "### Estandarización de los nombres"
   ]
  },
  {
   "cell_type": "markdown",
   "metadata": {},
   "source": [
    "Primero de todo, vamos a estandarizar los nombres de nuestra base de datos:"
   ]
  },
  {
   "cell_type": "code",
   "execution_count": 95,
   "metadata": {},
   "outputs": [
    {
     "name": "stdout",
     "output_type": "stream",
     "text": [
      "['Albania', 'Algeria', 'Andorra', 'Anguilla', 'Argentina', 'Austria', 'Azerbaijan', 'Bahrain', 'Bangladesh', 'Belgium', 'Bermuda', 'Bolivia', 'Brazil', 'Bulgaria', 'Cambodia', 'Canada', 'Cayman Islands', 'Chile', 'China', 'Costa Rica', 'Croatia', 'Cyprus', 'Czechia', 'Denmark', 'Ecuador', 'Egypt', 'England', 'Estonia', 'Faeroe Islands', 'Finland', 'France', 'Germany', 'Gibraltar', 'Greece', 'Greenland', 'Guernsey', 'Hungary', 'Iceland', 'India', 'Indonesia', 'Iran', 'Ireland', 'Isle of Man', 'Israel', 'Italy', 'Jersey', 'Kuwait', 'Latvia', 'Liechtenstein', 'Lithuania', 'Luxembourg', 'Maldives', 'Malta', 'Mauritius', 'Mexico', 'Monaco', 'Morocco', 'Myanmar', 'Nepal', 'Netherlands', 'Northern Cyprus', 'Northern Ireland', 'Norway', 'Oman', 'Pakistan', 'Panama', 'Peru', 'Poland', 'Portugal', 'Qatar', 'Romania', 'Russia', 'Saint Helena', 'Saudi Arabia', 'Scotland', 'Serbia', 'Seychelles', 'Singapore', 'Slovakia', 'Slovenia', 'Spain', 'Sri Lanka', 'Sweden', 'Switzerland', 'Turkey', 'Turks and Caicos Islands', 'United Arab Emirates', 'United Kingdom', 'United States', 'Wales']\n"
     ]
    }
   ],
   "source": [
    "print(datos.country.unique().tolist())"
   ]
  },
  {
   "cell_type": "markdown",
   "metadata": {},
   "source": [
    "Podemos observar que tenemos datos de Anguilla, Bermuda, Islas Caimán, Gibraltar, Guernsey, Isla de Man, Jersey, Irlanda del Norte, Inglaterra, Islas Turcas y Caicos, Santa Elena, Escocia, Gales que pertenecen al Reino Unido (\"United Kingdom\"), por tanto, tenemos información redundante:"
   ]
  },
  {
   "cell_type": "code",
   "execution_count": 96,
   "metadata": {},
   "outputs": [],
   "source": [
    "datos = datos[datos.country.apply(lambda x: x not in ['Anguilla', 'Bermuda', 'Cayman Islands', 'Gibraltar', 'Guernsey', \n",
    "                                                      'Isle of Man', 'Jersey', 'Northern Ireland', 'England', \n",
    "                                                      'Turks and Caicos Islands', 'Saint Helena', 'Scotland', 'Wales'])]"
   ]
  },
  {
   "cell_type": "markdown",
   "metadata": {},
   "source": [
    "Otra cosa que podemos hacer es fusionar Chipre y Chipre del Norte; este último es un estado con reconocimiento limitado que controla aproximadamente un tercio de la isla de Chipre. De hecho, Turquía es el único país que lo reconoce formalmente."
   ]
  },
  {
   "cell_type": "code",
   "execution_count": 97,
   "metadata": {},
   "outputs": [],
   "source": [
    "datos.country = datos.country.replace().replace({\"Northern Cyprus\" : \"Cyprus\"})"
   ]
  },
  {
   "cell_type": "markdown",
   "metadata": {},
   "source": [
    "Comprobamos que todos los nombres de países han sido transformados correctamente"
   ]
  },
  {
   "cell_type": "code",
   "execution_count": 98,
   "metadata": {},
   "outputs": [
    {
     "name": "stdout",
     "output_type": "stream",
     "text": [
      "['Albania', 'Algeria', 'Andorra', 'Argentina', 'Austria', 'Azerbaijan', 'Bahrain', 'Bangladesh', 'Belgium', 'Bolivia', 'Brazil', 'Bulgaria', 'Cambodia', 'Canada', 'Chile', 'China', 'Costa Rica', 'Croatia', 'Cyprus', 'Czechia', 'Denmark', 'Ecuador', 'Egypt', 'Estonia', 'Faeroe Islands', 'Finland', 'France', 'Germany', 'Greece', 'Greenland', 'Hungary', 'Iceland', 'India', 'Indonesia', 'Iran', 'Ireland', 'Israel', 'Italy', 'Kuwait', 'Latvia', 'Liechtenstein', 'Lithuania', 'Luxembourg', 'Maldives', 'Malta', 'Mauritius', 'Mexico', 'Monaco', 'Morocco', 'Myanmar', 'Nepal', 'Netherlands', 'Norway', 'Oman', 'Pakistan', 'Panama', 'Peru', 'Poland', 'Portugal', 'Qatar', 'Romania', 'Russia', 'Saudi Arabia', 'Serbia', 'Seychelles', 'Singapore', 'Slovakia', 'Slovenia', 'Spain', 'Sri Lanka', 'Sweden', 'Switzerland', 'Turkey', 'United Arab Emirates', 'United Kingdom', 'United States']\n"
     ]
    }
   ],
   "source": [
    "print(datos.country.unique().tolist())"
   ]
  },
  {
   "cell_type": "markdown",
   "metadata": {},
   "source": [
    "### Ordenamiento por fecha y estandarización de esta"
   ]
  },
  {
   "cell_type": "markdown",
   "metadata": {},
   "source": [
    "Podemos observar que el DataFrame esta ordenado por país y no por fecha, vamos a ordenarlo por fecha."
   ]
  },
  {
   "cell_type": "code",
   "execution_count": 99,
   "metadata": {},
   "outputs": [],
   "source": [
    "datos['date'] = pd.to_datetime(datos['date'])\n",
    "datos = datos.sort_values('date', ascending=True)"
   ]
  },
  {
   "cell_type": "markdown",
   "metadata": {},
   "source": [
    "### Tratamiento de los NaNs"
   ]
  },
  {
   "cell_type": "markdown",
   "metadata": {},
   "source": [
    "Vamos a comprobar la cantidad faltante de datos en cada campo:"
   ]
  },
  {
   "cell_type": "code",
   "execution_count": 100,
   "metadata": {},
   "outputs": [
    {
     "data": {
      "text/plain": [
       "country                                   0\n",
       "iso_code                                  0\n",
       "date                                      0\n",
       "total_vaccinations                      888\n",
       "people_vaccinated                      1241\n",
       "people_fully_vaccinated                1834\n",
       "daily_vaccinations_raw                 1190\n",
       "daily_vaccinations                      112\n",
       "total_vaccinations_per_hundred          888\n",
       "people_vaccinated_per_hundred          1241\n",
       "people_fully_vaccinated_per_hundred    1834\n",
       "daily_vaccinations_per_million          112\n",
       "vaccines                                  0\n",
       "source_name                               0\n",
       "source_website                            0\n",
       "dtype: int64"
      ]
     },
     "execution_count": 100,
     "metadata": {},
     "output_type": "execute_result"
    }
   ],
   "source": [
    "datos.isna().sum()"
   ]
  },
  {
   "cell_type": "markdown",
   "metadata": {},
   "source": [
    "Podemos comprobar que hay bastantes registros faltantes, para solventar los de la columna “people vaccinated” cogeremos los valores de los 3 días anteriores (si existen, en caso contrario dos o uno) y su media para rellenar dicha celda. La media móvil solo la hemos aplicado con los datos respectivos de cada país, no con el total."
   ]
  },
  {
   "cell_type": "code",
   "execution_count": 101,
   "metadata": {},
   "outputs": [],
   "source": [
    "datos['people_vaccinated'] = datos.groupby('country')['people_vaccinated'].apply(lambda x: x.fillna(x.rolling(3, min_periods=1).mean()))"
   ]
  },
  {
   "cell_type": "code",
   "execution_count": 102,
   "metadata": {},
   "outputs": [
    {
     "data": {
      "text/plain": [
       "country                                   0\n",
       "iso_code                                  0\n",
       "date                                      0\n",
       "total_vaccinations                      888\n",
       "people_vaccinated                       997\n",
       "people_fully_vaccinated                1834\n",
       "daily_vaccinations_raw                 1190\n",
       "daily_vaccinations                      112\n",
       "total_vaccinations_per_hundred          888\n",
       "people_vaccinated_per_hundred          1241\n",
       "people_fully_vaccinated_per_hundred    1834\n",
       "daily_vaccinations_per_million          112\n",
       "vaccines                                  0\n",
       "source_name                               0\n",
       "source_website                            0\n",
       "dtype: int64"
      ]
     },
     "execution_count": 102,
     "metadata": {},
     "output_type": "execute_result"
    }
   ],
   "source": [
    "datos.isna().sum()"
   ]
  },
  {
   "cell_type": "code",
   "execution_count": 103,
   "metadata": {},
   "outputs": [
    {
     "data": {
      "image/png": "[encoded data removed]",
      "text/plain": [
       "<Figure size 1080x1440 with 8 Axes>"
      ]
     },
     "metadata": {},
     "output_type": "display_data"
    }
   ],
   "source": [
    "variables_nans = ['total_vaccinations','people_vaccinated', 'people_fully_vaccinated', 'daily_vaccinations_raw',\n",
    "                  'daily_vaccinations', 'people_vaccinated_per_hundred',\n",
    "                  'people_fully_vaccinated_per_hundred', 'daily_vaccinations_per_million']\n",
    "\n",
    "fig, axs = plt.subplots(nrows=4, ncols=2, figsize=(15, 20))\n",
    "\n",
    "for i, var in enumerate(variables_nans):\n",
    "    nan_count = datos[var].isna().sum()\n",
    "    no_nan_count = len(datos) - nan_count\n",
    "    \n",
    "    labels = ['NaNs', 'No NaNs']\n",
    "    sizes = [nan_count, no_nan_count]\n",
    "    \n",
    "    row = i // 2\n",
    "    col = i % 2\n",
    "    axs[row, col].pie(sizes, labels=labels, autopct='%1.1f%%', startangle=140)\n",
    "    axs[row, col].set_title(f'Proporción de NaNs en {var}')\n",
    "    \n",
    "plt.tight_layout()\n",
    "plt.show()"
   ]
  },
  {
   "cell_type": "markdown",
   "metadata": {},
   "source": [
    "Es notable que tanto 'people_vaccinated_per_hundred', 'total_vaccinations_per_hundred', 'people_fully_vaccinated' y 'people_fully_vaccinated_per_hundred' presentan un alto porcentaje de valores NaN. Esta situación genera preocupación, ya que estos campos son cruciales para evaluar el rendimiento de los planes de vacunación de los países."
   ]
  },
  {
   "cell_type": "code",
   "execution_count": 104,
   "metadata": {},
   "outputs": [
    {
     "data": {
      "text/html": [
       "<div>\n",
       "<style scoped>\n",
       "    .dataframe tbody tr th:only-of-type {\n",
       "        vertical-align: middle;\n",
       "    }\n",
       "\n",
       "    .dataframe tbody tr th {\n",
       "        vertical-align: top;\n",
       "    }\n",
       "\n",
       "    .dataframe thead th {\n",
       "        text-align: right;\n",
       "    }\n",
       "</style>\n",
       "<table border=\"1\" class=\"dataframe\">\n",
       "  <thead>\n",
       "    <tr style=\"text-align: right;\">\n",
       "      <th></th>\n",
       "      <th>country</th>\n",
       "      <th>Cantidad NaNs</th>\n",
       "    </tr>\n",
       "  </thead>\n",
       "  <tbody>\n",
       "    <tr>\n",
       "      <th>11</th>\n",
       "      <td>China</td>\n",
       "      <td>57</td>\n",
       "    </tr>\n",
       "    <tr>\n",
       "      <th>45</th>\n",
       "      <td>Russia</td>\n",
       "      <td>53</td>\n",
       "    </tr>\n",
       "    <tr>\n",
       "      <th>53</th>\n",
       "      <td>Switzerland</td>\n",
       "      <td>50</td>\n",
       "    </tr>\n",
       "    <tr>\n",
       "      <th>12</th>\n",
       "      <td>Costa Rica</td>\n",
       "      <td>48</td>\n",
       "    </tr>\n",
       "    <tr>\n",
       "      <th>14</th>\n",
       "      <td>Cyprus</td>\n",
       "      <td>42</td>\n",
       "    </tr>\n",
       "    <tr>\n",
       "      <th>55</th>\n",
       "      <td>United Arab Emirates</td>\n",
       "      <td>41</td>\n",
       "    </tr>\n",
       "    <tr>\n",
       "      <th>38</th>\n",
       "      <td>Netherlands</td>\n",
       "      <td>41</td>\n",
       "    </tr>\n",
       "    <tr>\n",
       "      <th>46</th>\n",
       "      <td>Saudi Arabia</td>\n",
       "      <td>40</td>\n",
       "    </tr>\n",
       "    <tr>\n",
       "      <th>22</th>\n",
       "      <td>Iceland</td>\n",
       "      <td>39</td>\n",
       "    </tr>\n",
       "    <tr>\n",
       "      <th>44</th>\n",
       "      <td>Qatar</td>\n",
       "      <td>38</td>\n",
       "    </tr>\n",
       "    <tr>\n",
       "      <th>52</th>\n",
       "      <td>Sweden</td>\n",
       "      <td>37</td>\n",
       "    </tr>\n",
       "    <tr>\n",
       "      <th>25</th>\n",
       "      <td>Ireland</td>\n",
       "      <td>35</td>\n",
       "    </tr>\n",
       "    <tr>\n",
       "      <th>23</th>\n",
       "      <td>India</td>\n",
       "      <td>32</td>\n",
       "    </tr>\n",
       "    <tr>\n",
       "      <th>17</th>\n",
       "      <td>Estonia</td>\n",
       "      <td>32</td>\n",
       "    </tr>\n",
       "    <tr>\n",
       "      <th>10</th>\n",
       "      <td>Canada</td>\n",
       "      <td>31</td>\n",
       "    </tr>\n",
       "    <tr>\n",
       "      <th>13</th>\n",
       "      <td>Croatia</td>\n",
       "      <td>30</td>\n",
       "    </tr>\n",
       "    <tr>\n",
       "      <th>54</th>\n",
       "      <td>Turkey</td>\n",
       "      <td>30</td>\n",
       "    </tr>\n",
       "    <tr>\n",
       "      <th>26</th>\n",
       "      <td>Kuwait</td>\n",
       "      <td>30</td>\n",
       "    </tr>\n",
       "    <tr>\n",
       "      <th>41</th>\n",
       "      <td>Panama</td>\n",
       "      <td>28</td>\n",
       "    </tr>\n",
       "    <tr>\n",
       "      <th>43</th>\n",
       "      <td>Portugal</td>\n",
       "      <td>28</td>\n",
       "    </tr>\n",
       "    <tr>\n",
       "      <th>19</th>\n",
       "      <td>Finland</td>\n",
       "      <td>26</td>\n",
       "    </tr>\n",
       "    <tr>\n",
       "      <th>3</th>\n",
       "      <td>Argentina</td>\n",
       "      <td>25</td>\n",
       "    </tr>\n",
       "    <tr>\n",
       "      <th>49</th>\n",
       "      <td>Singapore</td>\n",
       "      <td>24</td>\n",
       "    </tr>\n",
       "    <tr>\n",
       "      <th>56</th>\n",
       "      <td>United Kingdom</td>\n",
       "      <td>24</td>\n",
       "    </tr>\n",
       "    <tr>\n",
       "      <th>30</th>\n",
       "      <td>Luxembourg</td>\n",
       "      <td>22</td>\n",
       "    </tr>\n",
       "    <tr>\n",
       "      <th>21</th>\n",
       "      <td>Hungary</td>\n",
       "      <td>21</td>\n",
       "    </tr>\n",
       "    <tr>\n",
       "      <th>34</th>\n",
       "      <td>Monaco</td>\n",
       "      <td>20</td>\n",
       "    </tr>\n",
       "    <tr>\n",
       "      <th>4</th>\n",
       "      <td>Azerbaijan</td>\n",
       "      <td>19</td>\n",
       "    </tr>\n",
       "    <tr>\n",
       "      <th>35</th>\n",
       "      <td>Morocco</td>\n",
       "      <td>19</td>\n",
       "    </tr>\n",
       "    <tr>\n",
       "      <th>0</th>\n",
       "      <td>Albania</td>\n",
       "      <td>18</td>\n",
       "    </tr>\n",
       "    <tr>\n",
       "      <th>51</th>\n",
       "      <td>Sri Lanka</td>\n",
       "      <td>18</td>\n",
       "    </tr>\n",
       "    <tr>\n",
       "      <th>24</th>\n",
       "      <td>Indonesia</td>\n",
       "      <td>17</td>\n",
       "    </tr>\n",
       "    <tr>\n",
       "      <th>47</th>\n",
       "      <td>Serbia</td>\n",
       "      <td>15</td>\n",
       "    </tr>\n",
       "    <tr>\n",
       "      <th>39</th>\n",
       "      <td>Oman</td>\n",
       "      <td>15</td>\n",
       "    </tr>\n",
       "    <tr>\n",
       "      <th>8</th>\n",
       "      <td>Bolivia</td>\n",
       "      <td>15</td>\n",
       "    </tr>\n",
       "    <tr>\n",
       "      <th>48</th>\n",
       "      <td>Seychelles</td>\n",
       "      <td>14</td>\n",
       "    </tr>\n",
       "    <tr>\n",
       "      <th>57</th>\n",
       "      <td>United States</td>\n",
       "      <td>14</td>\n",
       "    </tr>\n",
       "    <tr>\n",
       "      <th>2</th>\n",
       "      <td>Andorra</td>\n",
       "      <td>14</td>\n",
       "    </tr>\n",
       "    <tr>\n",
       "      <th>31</th>\n",
       "      <td>Maldives</td>\n",
       "      <td>13</td>\n",
       "    </tr>\n",
       "    <tr>\n",
       "      <th>6</th>\n",
       "      <td>Bangladesh</td>\n",
       "      <td>12</td>\n",
       "    </tr>\n",
       "    <tr>\n",
       "      <th>50</th>\n",
       "      <td>Spain</td>\n",
       "      <td>12</td>\n",
       "    </tr>\n",
       "    <tr>\n",
       "      <th>15</th>\n",
       "      <td>Ecuador</td>\n",
       "      <td>11</td>\n",
       "    </tr>\n",
       "    <tr>\n",
       "      <th>37</th>\n",
       "      <td>Nepal</td>\n",
       "      <td>10</td>\n",
       "    </tr>\n",
       "    <tr>\n",
       "      <th>18</th>\n",
       "      <td>Faeroe Islands</td>\n",
       "      <td>9</td>\n",
       "    </tr>\n",
       "    <tr>\n",
       "      <th>28</th>\n",
       "      <td>Liechtenstein</td>\n",
       "      <td>8</td>\n",
       "    </tr>\n",
       "    <tr>\n",
       "      <th>36</th>\n",
       "      <td>Myanmar</td>\n",
       "      <td>8</td>\n",
       "    </tr>\n",
       "    <tr>\n",
       "      <th>33</th>\n",
       "      <td>Mexico</td>\n",
       "      <td>7</td>\n",
       "    </tr>\n",
       "    <tr>\n",
       "      <th>40</th>\n",
       "      <td>Pakistan</td>\n",
       "      <td>7</td>\n",
       "    </tr>\n",
       "    <tr>\n",
       "      <th>16</th>\n",
       "      <td>Egypt</td>\n",
       "      <td>7</td>\n",
       "    </tr>\n",
       "    <tr>\n",
       "      <th>32</th>\n",
       "      <td>Mauritius</td>\n",
       "      <td>6</td>\n",
       "    </tr>\n",
       "    <tr>\n",
       "      <th>9</th>\n",
       "      <td>Bulgaria</td>\n",
       "      <td>5</td>\n",
       "    </tr>\n",
       "    <tr>\n",
       "      <th>5</th>\n",
       "      <td>Bahrain</td>\n",
       "      <td>5</td>\n",
       "    </tr>\n",
       "    <tr>\n",
       "      <th>20</th>\n",
       "      <td>Greece</td>\n",
       "      <td>5</td>\n",
       "    </tr>\n",
       "    <tr>\n",
       "      <th>29</th>\n",
       "      <td>Lithuania</td>\n",
       "      <td>5</td>\n",
       "    </tr>\n",
       "    <tr>\n",
       "      <th>42</th>\n",
       "      <td>Poland</td>\n",
       "      <td>3</td>\n",
       "    </tr>\n",
       "    <tr>\n",
       "      <th>7</th>\n",
       "      <td>Belgium</td>\n",
       "      <td>2</td>\n",
       "    </tr>\n",
       "    <tr>\n",
       "      <th>27</th>\n",
       "      <td>Latvia</td>\n",
       "      <td>2</td>\n",
       "    </tr>\n",
       "    <tr>\n",
       "      <th>1</th>\n",
       "      <td>Algeria</td>\n",
       "      <td>2</td>\n",
       "    </tr>\n",
       "  </tbody>\n",
       "</table>\n",
       "</div>"
      ],
      "text/plain": [
       "                 country  Cantidad NaNs\n",
       "11                 China             57\n",
       "45                Russia             53\n",
       "53           Switzerland             50\n",
       "12            Costa Rica             48\n",
       "14                Cyprus             42\n",
       "55  United Arab Emirates             41\n",
       "38           Netherlands             41\n",
       "46          Saudi Arabia             40\n",
       "22               Iceland             39\n",
       "44                 Qatar             38\n",
       "52                Sweden             37\n",
       "25               Ireland             35\n",
       "23                 India             32\n",
       "17               Estonia             32\n",
       "10                Canada             31\n",
       "13               Croatia             30\n",
       "54                Turkey             30\n",
       "26                Kuwait             30\n",
       "41                Panama             28\n",
       "43              Portugal             28\n",
       "19               Finland             26\n",
       "3              Argentina             25\n",
       "49             Singapore             24\n",
       "56        United Kingdom             24\n",
       "30            Luxembourg             22\n",
       "21               Hungary             21\n",
       "34                Monaco             20\n",
       "4             Azerbaijan             19\n",
       "35               Morocco             19\n",
       "0                Albania             18\n",
       "51             Sri Lanka             18\n",
       "24             Indonesia             17\n",
       "47                Serbia             15\n",
       "39                  Oman             15\n",
       "8                Bolivia             15\n",
       "48            Seychelles             14\n",
       "57         United States             14\n",
       "2                Andorra             14\n",
       "31              Maldives             13\n",
       "6             Bangladesh             12\n",
       "50                 Spain             12\n",
       "15               Ecuador             11\n",
       "37                 Nepal             10\n",
       "18        Faeroe Islands              9\n",
       "28         Liechtenstein              8\n",
       "36               Myanmar              8\n",
       "33                Mexico              7\n",
       "40              Pakistan              7\n",
       "16                 Egypt              7\n",
       "32             Mauritius              6\n",
       "9               Bulgaria              5\n",
       "5                Bahrain              5\n",
       "20                Greece              5\n",
       "29             Lithuania              5\n",
       "42                Poland              3\n",
       "7                Belgium              2\n",
       "27                Latvia              2\n",
       "1                Algeria              2"
      ]
     },
     "execution_count": 104,
     "metadata": {},
     "output_type": "execute_result"
    }
   ],
   "source": [
    "nans_vaccinated_hundred = datos[datos['people_vaccinated_per_hundred'].isna()]\n",
    "cantidad_nans_vaccinated_hundred = nans_vaccinated_hundred.groupby('country').size().reset_index(name='Cantidad NaNs')\n",
    "cantidad_nans_vaccinated_hundred = cantidad_nans_vaccinated_hundred.sort_values(by='Cantidad NaNs', ascending=False)\n",
    "\n",
    "cantidad_nans_vaccinated_hundred"
   ]
  },
  {
   "cell_type": "code",
   "execution_count": 105,
   "metadata": {},
   "outputs": [
    {
     "data": {
      "text/html": [
       "<div>\n",
       "<style scoped>\n",
       "    .dataframe tbody tr th:only-of-type {\n",
       "        vertical-align: middle;\n",
       "    }\n",
       "\n",
       "    .dataframe tbody tr th {\n",
       "        vertical-align: top;\n",
       "    }\n",
       "\n",
       "    .dataframe thead th {\n",
       "        text-align: right;\n",
       "    }\n",
       "</style>\n",
       "<table border=\"1\" class=\"dataframe\">\n",
       "  <thead>\n",
       "    <tr style=\"text-align: right;\">\n",
       "      <th></th>\n",
       "      <th>country</th>\n",
       "      <th>Cantidad NaNs</th>\n",
       "    </tr>\n",
       "  </thead>\n",
       "  <tbody>\n",
       "    <tr>\n",
       "      <th>42</th>\n",
       "      <td>Russia</td>\n",
       "      <td>53</td>\n",
       "    </tr>\n",
       "    <tr>\n",
       "      <th>11</th>\n",
       "      <td>China</td>\n",
       "      <td>48</td>\n",
       "    </tr>\n",
       "    <tr>\n",
       "      <th>12</th>\n",
       "      <td>Costa Rica</td>\n",
       "      <td>45</td>\n",
       "    </tr>\n",
       "    <tr>\n",
       "      <th>49</th>\n",
       "      <td>Switzerland</td>\n",
       "      <td>40</td>\n",
       "    </tr>\n",
       "    <tr>\n",
       "      <th>22</th>\n",
       "      <td>Iceland</td>\n",
       "      <td>39</td>\n",
       "    </tr>\n",
       "    <tr>\n",
       "      <th>48</th>\n",
       "      <td>Sweden</td>\n",
       "      <td>37</td>\n",
       "    </tr>\n",
       "    <tr>\n",
       "      <th>41</th>\n",
       "      <td>Qatar</td>\n",
       "      <td>36</td>\n",
       "    </tr>\n",
       "    <tr>\n",
       "      <th>14</th>\n",
       "      <td>Cyprus</td>\n",
       "      <td>36</td>\n",
       "    </tr>\n",
       "    <tr>\n",
       "      <th>43</th>\n",
       "      <td>Saudi Arabia</td>\n",
       "      <td>31</td>\n",
       "    </tr>\n",
       "    <tr>\n",
       "      <th>25</th>\n",
       "      <td>Kuwait</td>\n",
       "      <td>28</td>\n",
       "    </tr>\n",
       "    <tr>\n",
       "      <th>13</th>\n",
       "      <td>Croatia</td>\n",
       "      <td>28</td>\n",
       "    </tr>\n",
       "    <tr>\n",
       "      <th>24</th>\n",
       "      <td>Ireland</td>\n",
       "      <td>27</td>\n",
       "    </tr>\n",
       "    <tr>\n",
       "      <th>46</th>\n",
       "      <td>Singapore</td>\n",
       "      <td>24</td>\n",
       "    </tr>\n",
       "    <tr>\n",
       "      <th>51</th>\n",
       "      <td>United Kingdom</td>\n",
       "      <td>24</td>\n",
       "    </tr>\n",
       "    <tr>\n",
       "      <th>40</th>\n",
       "      <td>Portugal</td>\n",
       "      <td>22</td>\n",
       "    </tr>\n",
       "    <tr>\n",
       "      <th>29</th>\n",
       "      <td>Luxembourg</td>\n",
       "      <td>22</td>\n",
       "    </tr>\n",
       "    <tr>\n",
       "      <th>26</th>\n",
       "      <td>Latvia</td>\n",
       "      <td>20</td>\n",
       "    </tr>\n",
       "    <tr>\n",
       "      <th>4</th>\n",
       "      <td>Azerbaijan</td>\n",
       "      <td>19</td>\n",
       "    </tr>\n",
       "    <tr>\n",
       "      <th>2</th>\n",
       "      <td>Argentina</td>\n",
       "      <td>19</td>\n",
       "    </tr>\n",
       "    <tr>\n",
       "      <th>32</th>\n",
       "      <td>Monaco</td>\n",
       "      <td>18</td>\n",
       "    </tr>\n",
       "    <tr>\n",
       "      <th>0</th>\n",
       "      <td>Albania</td>\n",
       "      <td>18</td>\n",
       "    </tr>\n",
       "    <tr>\n",
       "      <th>37</th>\n",
       "      <td>Oman</td>\n",
       "      <td>15</td>\n",
       "    </tr>\n",
       "    <tr>\n",
       "      <th>44</th>\n",
       "      <td>Serbia</td>\n",
       "      <td>15</td>\n",
       "    </tr>\n",
       "    <tr>\n",
       "      <th>1</th>\n",
       "      <td>Andorra</td>\n",
       "      <td>14</td>\n",
       "    </tr>\n",
       "    <tr>\n",
       "      <th>45</th>\n",
       "      <td>Seychelles</td>\n",
       "      <td>14</td>\n",
       "    </tr>\n",
       "    <tr>\n",
       "      <th>10</th>\n",
       "      <td>Canada</td>\n",
       "      <td>14</td>\n",
       "    </tr>\n",
       "    <tr>\n",
       "      <th>52</th>\n",
       "      <td>United States</td>\n",
       "      <td>13</td>\n",
       "    </tr>\n",
       "    <tr>\n",
       "      <th>6</th>\n",
       "      <td>Bangladesh</td>\n",
       "      <td>12</td>\n",
       "    </tr>\n",
       "    <tr>\n",
       "      <th>47</th>\n",
       "      <td>Spain</td>\n",
       "      <td>12</td>\n",
       "    </tr>\n",
       "    <tr>\n",
       "      <th>36</th>\n",
       "      <td>Netherlands</td>\n",
       "      <td>12</td>\n",
       "    </tr>\n",
       "    <tr>\n",
       "      <th>15</th>\n",
       "      <td>Ecuador</td>\n",
       "      <td>11</td>\n",
       "    </tr>\n",
       "    <tr>\n",
       "      <th>23</th>\n",
       "      <td>Indonesia</td>\n",
       "      <td>11</td>\n",
       "    </tr>\n",
       "    <tr>\n",
       "      <th>19</th>\n",
       "      <td>Finland</td>\n",
       "      <td>11</td>\n",
       "    </tr>\n",
       "    <tr>\n",
       "      <th>18</th>\n",
       "      <td>Faeroe Islands</td>\n",
       "      <td>9</td>\n",
       "    </tr>\n",
       "    <tr>\n",
       "      <th>38</th>\n",
       "      <td>Pakistan</td>\n",
       "      <td>7</td>\n",
       "    </tr>\n",
       "    <tr>\n",
       "      <th>31</th>\n",
       "      <td>Mexico</td>\n",
       "      <td>7</td>\n",
       "    </tr>\n",
       "    <tr>\n",
       "      <th>8</th>\n",
       "      <td>Bolivia</td>\n",
       "      <td>7</td>\n",
       "    </tr>\n",
       "    <tr>\n",
       "      <th>35</th>\n",
       "      <td>Nepal</td>\n",
       "      <td>7</td>\n",
       "    </tr>\n",
       "    <tr>\n",
       "      <th>27</th>\n",
       "      <td>Liechtenstein</td>\n",
       "      <td>6</td>\n",
       "    </tr>\n",
       "    <tr>\n",
       "      <th>30</th>\n",
       "      <td>Mauritius</td>\n",
       "      <td>6</td>\n",
       "    </tr>\n",
       "    <tr>\n",
       "      <th>28</th>\n",
       "      <td>Lithuania</td>\n",
       "      <td>5</td>\n",
       "    </tr>\n",
       "    <tr>\n",
       "      <th>20</th>\n",
       "      <td>Greece</td>\n",
       "      <td>5</td>\n",
       "    </tr>\n",
       "    <tr>\n",
       "      <th>9</th>\n",
       "      <td>Bulgaria</td>\n",
       "      <td>5</td>\n",
       "    </tr>\n",
       "    <tr>\n",
       "      <th>34</th>\n",
       "      <td>Myanmar</td>\n",
       "      <td>5</td>\n",
       "    </tr>\n",
       "    <tr>\n",
       "      <th>16</th>\n",
       "      <td>Egypt</td>\n",
       "      <td>5</td>\n",
       "    </tr>\n",
       "    <tr>\n",
       "      <th>5</th>\n",
       "      <td>Bahrain</td>\n",
       "      <td>5</td>\n",
       "    </tr>\n",
       "    <tr>\n",
       "      <th>3</th>\n",
       "      <td>Austria</td>\n",
       "      <td>4</td>\n",
       "    </tr>\n",
       "    <tr>\n",
       "      <th>21</th>\n",
       "      <td>Hungary</td>\n",
       "      <td>4</td>\n",
       "    </tr>\n",
       "    <tr>\n",
       "      <th>39</th>\n",
       "      <td>Poland</td>\n",
       "      <td>3</td>\n",
       "    </tr>\n",
       "    <tr>\n",
       "      <th>33</th>\n",
       "      <td>Morocco</td>\n",
       "      <td>3</td>\n",
       "    </tr>\n",
       "    <tr>\n",
       "      <th>50</th>\n",
       "      <td>United Arab Emirates</td>\n",
       "      <td>3</td>\n",
       "    </tr>\n",
       "    <tr>\n",
       "      <th>7</th>\n",
       "      <td>Belgium</td>\n",
       "      <td>2</td>\n",
       "    </tr>\n",
       "    <tr>\n",
       "      <th>17</th>\n",
       "      <td>Estonia</td>\n",
       "      <td>2</td>\n",
       "    </tr>\n",
       "  </tbody>\n",
       "</table>\n",
       "</div>"
      ],
      "text/plain": [
       "                 country  Cantidad NaNs\n",
       "42                Russia             53\n",
       "11                 China             48\n",
       "12            Costa Rica             45\n",
       "49           Switzerland             40\n",
       "22               Iceland             39\n",
       "48                Sweden             37\n",
       "41                 Qatar             36\n",
       "14                Cyprus             36\n",
       "43          Saudi Arabia             31\n",
       "25                Kuwait             28\n",
       "13               Croatia             28\n",
       "24               Ireland             27\n",
       "46             Singapore             24\n",
       "51        United Kingdom             24\n",
       "40              Portugal             22\n",
       "29            Luxembourg             22\n",
       "26                Latvia             20\n",
       "4             Azerbaijan             19\n",
       "2              Argentina             19\n",
       "32                Monaco             18\n",
       "0                Albania             18\n",
       "37                  Oman             15\n",
       "44                Serbia             15\n",
       "1                Andorra             14\n",
       "45            Seychelles             14\n",
       "10                Canada             14\n",
       "52         United States             13\n",
       "6             Bangladesh             12\n",
       "47                 Spain             12\n",
       "36           Netherlands             12\n",
       "15               Ecuador             11\n",
       "23             Indonesia             11\n",
       "19               Finland             11\n",
       "18        Faeroe Islands              9\n",
       "38              Pakistan              7\n",
       "31                Mexico              7\n",
       "8                Bolivia              7\n",
       "35                 Nepal              7\n",
       "27         Liechtenstein              6\n",
       "30             Mauritius              6\n",
       "28             Lithuania              5\n",
       "20                Greece              5\n",
       "9               Bulgaria              5\n",
       "34               Myanmar              5\n",
       "16                 Egypt              5\n",
       "5                Bahrain              5\n",
       "3                Austria              4\n",
       "21               Hungary              4\n",
       "39                Poland              3\n",
       "33               Morocco              3\n",
       "50  United Arab Emirates              3\n",
       "7                Belgium              2\n",
       "17               Estonia              2"
      ]
     },
     "execution_count": 105,
     "metadata": {},
     "output_type": "execute_result"
    }
   ],
   "source": [
    "nans_total_vaccinated_hundred = datos[datos['total_vaccinations_per_hundred'].isna()]\n",
    "cantidad_nans_total_vaccinated_hundred = nans_total_vaccinated_hundred.groupby('country').size().reset_index(name='Cantidad NaNs')\n",
    "cantidad_nans_total_vaccinated_hundred = cantidad_nans_total_vaccinated_hundred.sort_values(by='Cantidad NaNs', ascending=False)\n",
    "\n",
    "cantidad_nans_total_vaccinated_hundred"
   ]
  },
  {
   "cell_type": "code",
   "execution_count": 106,
   "metadata": {},
   "outputs": [
    {
     "data": {
      "text/html": [
       "<div>\n",
       "<style scoped>\n",
       "    .dataframe tbody tr th:only-of-type {\n",
       "        vertical-align: middle;\n",
       "    }\n",
       "\n",
       "    .dataframe tbody tr th {\n",
       "        vertical-align: top;\n",
       "    }\n",
       "\n",
       "    .dataframe thead th {\n",
       "        text-align: right;\n",
       "    }\n",
       "</style>\n",
       "<table border=\"1\" class=\"dataframe\">\n",
       "  <thead>\n",
       "    <tr style=\"text-align: right;\">\n",
       "      <th></th>\n",
       "      <th>country</th>\n",
       "      <th>Cantidad NaNs</th>\n",
       "    </tr>\n",
       "  </thead>\n",
       "  <tbody>\n",
       "    <tr>\n",
       "      <th>15</th>\n",
       "      <td>China</td>\n",
       "      <td>57</td>\n",
       "    </tr>\n",
       "    <tr>\n",
       "      <th>61</th>\n",
       "      <td>Russia</td>\n",
       "      <td>57</td>\n",
       "    </tr>\n",
       "    <tr>\n",
       "      <th>6</th>\n",
       "      <td>Bahrain</td>\n",
       "      <td>55</td>\n",
       "    </tr>\n",
       "    <tr>\n",
       "      <th>71</th>\n",
       "      <td>Switzerland</td>\n",
       "      <td>50</td>\n",
       "    </tr>\n",
       "    <tr>\n",
       "      <th>16</th>\n",
       "      <td>Costa Rica</td>\n",
       "      <td>48</td>\n",
       "    </tr>\n",
       "    <tr>\n",
       "      <th>...</th>\n",
       "      <td>...</td>\n",
       "      <td>...</td>\n",
       "    </tr>\n",
       "    <tr>\n",
       "      <th>22</th>\n",
       "      <td>Egypt</td>\n",
       "      <td>7</td>\n",
       "    </tr>\n",
       "    <tr>\n",
       "      <th>1</th>\n",
       "      <td>Algeria</td>\n",
       "      <td>2</td>\n",
       "    </tr>\n",
       "    <tr>\n",
       "      <th>12</th>\n",
       "      <td>Cambodia</td>\n",
       "      <td>2</td>\n",
       "    </tr>\n",
       "    <tr>\n",
       "      <th>34</th>\n",
       "      <td>Iran</td>\n",
       "      <td>2</td>\n",
       "    </tr>\n",
       "    <tr>\n",
       "      <th>29</th>\n",
       "      <td>Greenland</td>\n",
       "      <td>1</td>\n",
       "    </tr>\n",
       "  </tbody>\n",
       "</table>\n",
       "<p>76 rows × 2 columns</p>\n",
       "</div>"
      ],
      "text/plain": [
       "        country  Cantidad NaNs\n",
       "15        China             57\n",
       "61       Russia             57\n",
       "6       Bahrain             55\n",
       "71  Switzerland             50\n",
       "16   Costa Rica             48\n",
       "..          ...            ...\n",
       "22        Egypt              7\n",
       "1       Algeria              2\n",
       "12     Cambodia              2\n",
       "34         Iran              2\n",
       "29    Greenland              1\n",
       "\n",
       "[76 rows x 2 columns]"
      ]
     },
     "execution_count": 106,
     "metadata": {},
     "output_type": "execute_result"
    }
   ],
   "source": [
    "nans_fully_vaccinated = datos[datos['people_fully_vaccinated'].isna()]\n",
    "cantidad_nans_fully_vaccinated = nans_fully_vaccinated.groupby('country').size().reset_index(name='Cantidad NaNs')\n",
    "cantidad_nans_fully_vaccinated = cantidad_nans_fully_vaccinated.sort_values(by='Cantidad NaNs', ascending=False)\n",
    "\n",
    "cantidad_nans_fully_vaccinated"
   ]
  },
  {
   "cell_type": "code",
   "execution_count": 107,
   "metadata": {},
   "outputs": [
    {
     "data": {
      "text/html": [
       "<div>\n",
       "<style scoped>\n",
       "    .dataframe tbody tr th:only-of-type {\n",
       "        vertical-align: middle;\n",
       "    }\n",
       "\n",
       "    .dataframe tbody tr th {\n",
       "        vertical-align: top;\n",
       "    }\n",
       "\n",
       "    .dataframe thead th {\n",
       "        text-align: right;\n",
       "    }\n",
       "</style>\n",
       "<table border=\"1\" class=\"dataframe\">\n",
       "  <thead>\n",
       "    <tr style=\"text-align: right;\">\n",
       "      <th></th>\n",
       "      <th>country</th>\n",
       "      <th>Cantidad NaNs</th>\n",
       "    </tr>\n",
       "  </thead>\n",
       "  <tbody>\n",
       "    <tr>\n",
       "      <th>15</th>\n",
       "      <td>China</td>\n",
       "      <td>57</td>\n",
       "    </tr>\n",
       "    <tr>\n",
       "      <th>61</th>\n",
       "      <td>Russia</td>\n",
       "      <td>57</td>\n",
       "    </tr>\n",
       "    <tr>\n",
       "      <th>6</th>\n",
       "      <td>Bahrain</td>\n",
       "      <td>55</td>\n",
       "    </tr>\n",
       "    <tr>\n",
       "      <th>71</th>\n",
       "      <td>Switzerland</td>\n",
       "      <td>50</td>\n",
       "    </tr>\n",
       "    <tr>\n",
       "      <th>16</th>\n",
       "      <td>Costa Rica</td>\n",
       "      <td>48</td>\n",
       "    </tr>\n",
       "    <tr>\n",
       "      <th>...</th>\n",
       "      <td>...</td>\n",
       "      <td>...</td>\n",
       "    </tr>\n",
       "    <tr>\n",
       "      <th>22</th>\n",
       "      <td>Egypt</td>\n",
       "      <td>7</td>\n",
       "    </tr>\n",
       "    <tr>\n",
       "      <th>1</th>\n",
       "      <td>Algeria</td>\n",
       "      <td>2</td>\n",
       "    </tr>\n",
       "    <tr>\n",
       "      <th>12</th>\n",
       "      <td>Cambodia</td>\n",
       "      <td>2</td>\n",
       "    </tr>\n",
       "    <tr>\n",
       "      <th>34</th>\n",
       "      <td>Iran</td>\n",
       "      <td>2</td>\n",
       "    </tr>\n",
       "    <tr>\n",
       "      <th>29</th>\n",
       "      <td>Greenland</td>\n",
       "      <td>1</td>\n",
       "    </tr>\n",
       "  </tbody>\n",
       "</table>\n",
       "<p>76 rows × 2 columns</p>\n",
       "</div>"
      ],
      "text/plain": [
       "        country  Cantidad NaNs\n",
       "15        China             57\n",
       "61       Russia             57\n",
       "6       Bahrain             55\n",
       "71  Switzerland             50\n",
       "16   Costa Rica             48\n",
       "..          ...            ...\n",
       "22        Egypt              7\n",
       "1       Algeria              2\n",
       "12     Cambodia              2\n",
       "34         Iran              2\n",
       "29    Greenland              1\n",
       "\n",
       "[76 rows x 2 columns]"
      ]
     },
     "execution_count": 107,
     "metadata": {},
     "output_type": "execute_result"
    }
   ],
   "source": [
    "nans_fully_vaccinated_hundred = datos[datos['people_fully_vaccinated_per_hundred'].isna()]\n",
    "cantidad_nans_fully_vaccinated_hundred = nans_fully_vaccinated_hundred.groupby('country').size().reset_index(name='Cantidad NaNs')\n",
    "cantidad_nans_fully_vaccinated_hundred = cantidad_nans_fully_vaccinated_hundred.sort_values(by='Cantidad NaNs', ascending=False)\n",
    "\n",
    "cantidad_nans_fully_vaccinated_hundred"
   ]
  },
  {
   "cell_type": "markdown",
   "metadata": {},
   "source": [
    "Varios países muestran una cantidad significativa de valores NaN en los campos mencionados anteriormente, lo cual podría complicar el análisis. Es relevante señalar que algunos de estos países, como Rusia o China, tienen una gran relevancia en el contexto de la vacunación contra el COVID-19. Por lo tanto, el análisis podría verse afectado por un sesgo significativo.\n",
    "\n",
    "Dado que la situación varía considerablemente de un país a otro, al aplicar la media móvil hay que emplear únicamente los datos del país del que queremos hacer la estimación."
   ]
  },
  {
   "cell_type": "code",
   "execution_count": 108,
   "metadata": {},
   "outputs": [],
   "source": [
    "datos['people_vaccinated_per_hundred'] = datos.groupby('country')['people_vaccinated_per_hundred'].apply(lambda x: x.fillna(x.rolling(3, min_periods=1).mean()))\n",
    "datos['total_vaccinations_per_hundred'] = datos.groupby('country')['total_vaccinations_per_hundred'].apply(lambda x: x.fillna(x.rolling(3, min_periods=1).mean()))\n",
    "datos['people_fully_vaccinated'] = datos.groupby('country')['people_fully_vaccinated'].apply(lambda x: x.fillna(x.rolling(3, min_periods=1).mean()))\n",
    "datos['people_fully_vaccinated_per_hundred'] = datos.groupby('country')['people_fully_vaccinated_per_hundred'].apply(lambda x: x.fillna(x.rolling(3, min_periods=1).mean()))"
   ]
  },
  {
   "cell_type": "markdown",
   "metadata": {},
   "source": [
    "Vamos a aplicar también la media móvil a \"total_vaccinations\", \"people_fully_vaccinated\" y \"people_fully_vaccinated_per_hundred\""
   ]
  },
  {
   "cell_type": "code",
   "execution_count": 109,
   "metadata": {},
   "outputs": [],
   "source": [
    "datos['total_vaccinations'] = datos.groupby('country')['total_vaccinations'].apply(lambda x: x.fillna(x.rolling(3, min_periods=1).mean()))\n",
    "datos['people_fully_vaccinated'] = datos.groupby('country')['people_fully_vaccinated'].apply(lambda x: x.fillna(x.rolling(3, min_periods=1).mean()))\n",
    "datos['people_fully_vaccinated_per_hundred'] = datos.groupby('country')['people_fully_vaccinated_per_hundred'].apply(lambda x: x.fillna(x.rolling(3, min_periods=1).mean()))\n"
   ]
  },
  {
   "cell_type": "code",
   "execution_count": 110,
   "metadata": {},
   "outputs": [
    {
     "data": {
      "text/plain": [
       "country                                   0\n",
       "iso_code                                  0\n",
       "date                                      0\n",
       "total_vaccinations                      505\n",
       "people_vaccinated                       997\n",
       "people_fully_vaccinated                1647\n",
       "daily_vaccinations_raw                 1190\n",
       "daily_vaccinations                      112\n",
       "total_vaccinations_per_hundred          505\n",
       "people_vaccinated_per_hundred           997\n",
       "people_fully_vaccinated_per_hundred    1647\n",
       "daily_vaccinations_per_million          112\n",
       "vaccines                                  0\n",
       "source_name                               0\n",
       "source_website                            0\n",
       "dtype: int64"
      ]
     },
     "execution_count": 110,
     "metadata": {},
     "output_type": "execute_result"
    }
   ],
   "source": [
    "datos.isna().sum()"
   ]
  },
  {
   "cell_type": "markdown",
   "metadata": {},
   "source": [
    "Podemos comprobar que, en términos porcentuales, la cantidad de valores NaN en \"daily_vaccinations\", \"daily_vaccinations_per_million\" y \"people_vaccinated\" es ínfima. Por tanto, podemos optar por eliminar directamente dichos registros."
   ]
  },
  {
   "cell_type": "code",
   "execution_count": 111,
   "metadata": {},
   "outputs": [],
   "source": [
    "datos = datos.dropna(subset=['daily_vaccinations', 'daily_vaccinations_per_million', 'people_vaccinated'])\n",
    "datos.reset_index(drop=True, inplace=True)"
   ]
  },
  {
   "cell_type": "markdown",
   "metadata": {},
   "source": [
    "Además, los registros en los que no disponemos del campo \"total_vaccinations\" resultan inútiles para nuestro estudio ya que no conocemos la gente que ha sido vacunada en dichos días, también podemos eliminarlos directamente."
   ]
  },
  {
   "cell_type": "code",
   "execution_count": 112,
   "metadata": {},
   "outputs": [],
   "source": [
    "datos = datos.dropna(subset=['total_vaccinations'])\n",
    "datos.reset_index(drop=True, inplace=True)"
   ]
  },
  {
   "cell_type": "markdown",
   "metadata": {},
   "source": [
    "Comprobamos nuevamente la cantidad de NaNs en nuestra base de datos:"
   ]
  },
  {
   "cell_type": "code",
   "execution_count": 113,
   "metadata": {},
   "outputs": [
    {
     "data": {
      "text/plain": [
       "country                                  0\n",
       "iso_code                                 0\n",
       "date                                     0\n",
       "total_vaccinations                       0\n",
       "people_vaccinated                        0\n",
       "people_fully_vaccinated                645\n",
       "daily_vaccinations_raw                 387\n",
       "daily_vaccinations                       0\n",
       "total_vaccinations_per_hundred           0\n",
       "people_vaccinated_per_hundred            0\n",
       "people_fully_vaccinated_per_hundred    645\n",
       "daily_vaccinations_per_million           0\n",
       "vaccines                                 0\n",
       "source_name                              0\n",
       "source_website                           0\n",
       "dtype: int64"
      ]
     },
     "execution_count": 113,
     "metadata": {},
     "output_type": "execute_result"
    }
   ],
   "source": [
    "datos.isna().sum()"
   ]
  },
  {
   "cell_type": "markdown",
   "metadata": {},
   "source": [
    "Hemos logrado reducir notablemente la cantidad de valores NaN presentes en nuestra base de datos. Sin embargo, no podemos solucionar las demás variables con valores NaN, ya que dependen de otras variables como el tiempo y la población total del país. Parece contraproducente eliminar las muestras con NaN, ya que, si nos fijamos, \"people_fully_vaccinated\" y \"people_fully_vaccinated_per_hundred\" nos proporcionan prácticamente la misma información, por lo que no estamos perdiendo mucho contexto del dataset. Además, la cantidad de NaNs es pequeña en comparación con el resto del dataset. Optaremos por asignarles un valor de 0, ya que previamente hemos aplicado la media móvil para intentar solventar el problema, pero no ha variado su condición. Podemos concluir que los NaNs se encuentran en las primeras fechas recogidas y, por tanto, los países realmente tendrían un valor cercano a 0 en dichas variables."
   ]
  },
  {
   "cell_type": "code",
   "execution_count": 114,
   "metadata": {},
   "outputs": [
    {
     "data": {
      "text/plain": [
       "country                                0\n",
       "iso_code                               0\n",
       "date                                   0\n",
       "total_vaccinations                     0\n",
       "people_vaccinated                      0\n",
       "people_fully_vaccinated                0\n",
       "daily_vaccinations_raw                 0\n",
       "daily_vaccinations                     0\n",
       "total_vaccinations_per_hundred         0\n",
       "people_vaccinated_per_hundred          0\n",
       "people_fully_vaccinated_per_hundred    0\n",
       "daily_vaccinations_per_million         0\n",
       "vaccines                               0\n",
       "source_name                            0\n",
       "source_website                         0\n",
       "dtype: int64"
      ]
     },
     "execution_count": 114,
     "metadata": {},
     "output_type": "execute_result"
    }
   ],
   "source": [
    "datos[['people_fully_vaccinated', 'daily_vaccinations_raw', 'people_fully_vaccinated_per_hundred']] = datos[['people_fully_vaccinated', 'daily_vaccinations_raw', 'people_fully_vaccinated_per_hundred']].fillna(0)\n",
    "datos.isna().sum()"
   ]
  },
  {
   "cell_type": "markdown",
   "metadata": {},
   "source": [
    "## Estudio de la Base de Datos"
   ]
  },
  {
   "cell_type": "markdown",
   "metadata": {},
   "source": [
    "Vamos a comprobar cuáles son los países que más vacunas han puesto"
   ]
  },
  {
   "cell_type": "code",
   "execution_count": 115,
   "metadata": {
    "scrolled": false
   },
   "outputs": [
    {
     "data": {
      "image/png": "[encoded data removed]",
      "text/plain": [
       "<Figure size 1800x720 with 1 Axes>"
      ]
     },
     "metadata": {
      "needs_background": "light"
     },
     "output_type": "display_data"
    }
   ],
   "source": [
    "data = datos.sort_values('people_vaccinated', ascending=False)\n",
    "plt.figure(figsize=(25, 10))\n",
    "plt.bar(data['country'], data['people_vaccinated'], color='blue')\n",
    "plt.title('Personas vacunadas por país')\n",
    "plt.xlabel('Países')\n",
    "plt.ylabel('Personas vacunadas')\n",
    "plt.xticks(rotation=45, ha='right', fontsize=10)\n",
    "plt.grid(True, color='lightgrey', linestyle='--', linewidth=0.5)\n",
    "plt.gca().spines['top'].set_visible(False)\n",
    "plt.gca().spines['right'].set_visible(False)\n",
    "plt.gca().spines['bottom'].set_linewidth(2)\n",
    "plt.gca().spines['left'].set_linewidth(2)\n",
    "plt.show()"
   ]
  },
  {
   "cell_type": "markdown",
   "metadata": {},
   "source": [
    "Parece evidente que los países más poblados y ricos son los que más personas vacunadas tienen, sin embargo, esto no implica per sé que hayan tenido los mejores planes de vacunación, urge investigar los datos con más profundidad.\n",
    "\n",
    "Vamos a estudiar la variabilidad de los cinco países con más personas vacunadas utilizando un diagrama de líneas que relacione el número de personas vacunadas por país con la fecha. De esta manera, podremos analizar la evolución temporal y también identificar la tendencia."
   ]
  },
  {
   "cell_type": "code",
   "execution_count": 116,
   "metadata": {
    "scrolled": true
   },
   "outputs": [
    {
     "data": {
      "image/png": "[encoded data removed]",
      "text/plain": [
       "<Figure size 864x576 with 1 Axes>"
      ]
     },
     "metadata": {
      "needs_background": "light"
     },
     "output_type": "display_data"
    }
   ],
   "source": [
    "top_5_paises = datos.groupby('country')['people_vaccinated'].max().nlargest(5).index.tolist()\n",
    "datos_top_5 = datos[datos['country'].isin(top_5_paises)]\n",
    "\n",
    "plt.figure(figsize=(12, 8))\n",
    "for pais in top_5_paises:\n",
    "    datos_pais = datos_top_5[datos_top_5['country'] == pais]\n",
    "    plt.plot(datos_pais['date'], datos_pais['people_vaccinated'], label=pais)\n",
    "\n",
    "plt.title('Evolución en el tiempo de los 5 países con más personas vacunadas')\n",
    "plt.xlabel('Fecha')\n",
    "plt.ylabel('Vacunaciones totales')\n",
    "plt.legend()\n",
    "plt.grid(True)\n",
    "plt.xticks(rotation=45)\n",
    "plt.tight_layout()\n",
    "plt.show()"
   ]
  },
  {
   "cell_type": "code",
   "execution_count": 117,
   "metadata": {},
   "outputs": [
    {
     "name": "stdout",
     "output_type": "stream",
     "text": [
      "+----------------+--------------+---------------------+\n",
      "|      País      |    Media     | Desviación estándar |\n",
      "+----------------+--------------+---------------------+\n",
      "| United States  | 15088859.136 |    11887066.966     |\n",
      "| United Kingdom | 6455564.745  |     4732345.77      |\n",
      "|     Brazil     |  2224696.0   |     1718218.781     |\n",
      "|     Israel     | 2176133.569  |     1188610.53      |\n",
      "|     Turkey     |  3316284.75  |     224586.588      |\n",
      "+----------------+--------------+---------------------+\n"
     ]
    }
   ],
   "source": [
    "data_table = []\n",
    "\n",
    "for pais in top_5_paises:\n",
    "    datos_pais = datos_top_5[datos_top_5['country'] == pais]['people_vaccinated']\n",
    "    media = round(datos_pais.mean(), 3)\n",
    "    desviacion_estandar = round(datos_pais.std(), 3)\n",
    "    data_table.append([pais, media, desviacion_estandar])\n",
    "\n",
    "print(tabulate(data_table, headers=[\"País\", \"Media\", \"Desviación estándar\"], tablefmt=\"pretty\"))"
   ]
  },
  {
   "cell_type": "markdown",
   "metadata": {},
   "source": [
    "Podemos observar que tanto el Reino Unido como los Estados Unidos tienen desviaciones estándar muy altas en comparación con el resto de países, lo que indica una mayor variabilidad de los datos. Por otro lado, el país con la menor desviación estándar es Turquía; sin embargo, si nos fijamos en la gráfica previa, hay muy pocos datos disponibles para Turquía, lo que hace que su fiabilidad sea cuestionable. El segundo país con la menor desviación estándar es Israel, y de este sí tenemos una mayor cantidad de datos disponibles."
   ]
  },
  {
   "cell_type": "markdown",
   "metadata": {},
   "source": [
    "Podemos visualizar de una mejor manera la evolución de las personas vacunadas en todos los países en el siguiente gráfico."
   ]
  },
  {
   "cell_type": "code",
   "execution_count": 118,
   "metadata": {},
   "outputs": [
    {
     "data": {
      "application/vnd.plotly.v1+json": {
       "config": {
        "plotlyServerURL": "https://plot.ly"
       },
       "data": [
        {
         "coloraxis": "coloraxis",
         "geo": "geo",
         "hovertemplate": "<b>%{hovertext}</b><br><br>date=2020-12-14<br>iso_code=%{location}<br>people_vaccinated=%{z}<extra></extra>",
         "hovertext": [
          "United Kingdom"
         ],
         "locations": [
          "GBR"
         ],
         "name": "",
         "type": "choropleth",
         "z": [
          86215
         ]
        }
       ],
       "frames": [
        {
         "data": [
          {
           "coloraxis": "coloraxis",
           "geo": "geo",
           "hovertemplate": "<b>%{hovertext}</b><br><br>date=2020-12-14<br>iso_code=%{location}<br>people_vaccinated=%{z}<extra></extra>",
           "hovertext": [
            "United Kingdom"
           ],
           "locations": [
            "GBR"
           ],
           "name": "",
           "type": "choropleth",
           "z": [
            86215
           ]
          }
         ],
         "name": "2020-12-14"
        },
        {
         "data": [
          {
           "coloraxis": "coloraxis",
           "geo": "geo",
           "hovertemplate": "<b>%{hovertext}</b><br><br>date=2020-12-15<br>iso_code=%{location}<br>people_vaccinated=%{z}<extra></extra>",
           "hovertext": [
            "United Kingdom"
           ],
           "locations": [
            "GBR"
           ],
           "name": "",
           "type": "choropleth",
           "z": [
            86215
           ]
          }
         ],
         "name": "2020-12-15"
        },
        {
         "data": [
          {
           "coloraxis": "coloraxis",
           "geo": "geo",
           "hovertemplate": "<b>%{hovertext}</b><br><br>date=2020-12-16<br>iso_code=%{location}<br>people_vaccinated=%{z}<extra></extra>",
           "hovertext": [
            "Russia"
           ],
           "locations": [
            "RUS"
           ],
           "name": "",
           "type": "choropleth",
           "z": [
            28500
           ]
          }
         ],
         "name": "2020-12-16"
        },
        {
         "data": [
          {
           "coloraxis": "coloraxis",
           "geo": "geo",
           "hovertemplate": "<b>%{hovertext}</b><br><br>date=2020-12-17<br>iso_code=%{location}<br>people_vaccinated=%{z}<extra></extra>",
           "hovertext": [
            "Russia"
           ],
           "locations": [
            "RUS"
           ],
           "name": "",
           "type": "choropleth",
           "z": [
            28500
           ]
          }
         ],
         "name": "2020-12-17"
        },
        {
         "data": [
          {
           "coloraxis": "coloraxis",
           "geo": "geo",
           "hovertemplate": "<b>%{hovertext}</b><br><br>date=2020-12-20<br>iso_code=%{location}<br>people_vaccinated=%{z}<extra></extra>",
           "hovertext": [
            "United Kingdom",
            "Israel"
           ],
           "locations": [
            "GBR",
            "ISR"
           ],
           "name": "",
           "type": "choropleth",
           "z": [
            673798,
            7409
           ]
          }
         ],
         "name": "2020-12-20"
        },
        {
         "data": [
          {
           "coloraxis": "coloraxis",
           "geo": "geo",
           "hovertemplate": "<b>%{hovertext}</b><br><br>date=2020-12-21<br>iso_code=%{location}<br>people_vaccinated=%{z}<extra></extra>",
           "hovertext": [
            "Israel",
            "United States",
            "United Kingdom"
           ],
           "locations": [
            "ISR",
            "USA",
            "GBR"
           ],
           "name": "",
           "type": "choropleth",
           "z": [
            32272,
            614117,
            673798
           ]
          }
         ],
         "name": "2020-12-21"
        },
        {
         "data": [
          {
           "coloraxis": "coloraxis",
           "geo": "geo",
           "hovertemplate": "<b>%{hovertext}</b><br><br>date=2020-12-22<br>iso_code=%{location}<br>people_vaccinated=%{z}<extra></extra>",
           "hovertext": [
            "Russia",
            "Israel",
            "United Kingdom",
            "United States"
           ],
           "locations": [
            "RUS",
            "ISR",
            "GBR",
            "USA"
           ],
           "name": "",
           "type": "choropleth",
           "z": [
            52000,
            76880,
            673798,
            585162.5
           ]
          }
         ],
         "name": "2020-12-22"
        },
        {
         "data": [
          {
           "coloraxis": "coloraxis",
           "geo": "geo",
           "hovertemplate": "<b>%{hovertext}</b><br><br>date=2020-12-23<br>iso_code=%{location}<br>people_vaccinated=%{z}<extra></extra>",
           "hovertext": [
            "United States",
            "Israel",
            "Russia"
           ],
           "locations": [
            "USA",
            "ISR",
            "RUS"
           ],
           "name": "",
           "type": "choropleth",
           "z": [
            1008025,
            139554,
            52000
           ]
          }
         ],
         "name": "2020-12-23"
        },
        {
         "data": [
          {
           "coloraxis": "coloraxis",
           "geo": "geo",
           "hovertemplate": "<b>%{hovertext}</b><br><br>date=2020-12-24<br>iso_code=%{location}<br>people_vaccinated=%{z}<extra></extra>",
           "hovertext": [
            "Israel",
            "Russia",
            "United States",
            "Bahrain"
           ],
           "locations": [
            "ISR",
            "RUS",
            "USA",
            "BHR"
           ],
           "name": "",
           "type": "choropleth",
           "z": [
            212886,
            52000,
            1008025,
            50071
           ]
          }
         ],
         "name": "2020-12-24"
        },
        {
         "data": [
          {
           "coloraxis": "coloraxis",
           "geo": "geo",
           "hovertemplate": "<b>%{hovertext}</b><br><br>date=2020-12-25<br>iso_code=%{location}<br>people_vaccinated=%{z}<extra></extra>",
           "hovertext": [
            "United States",
            "Israel",
            "Mexico",
            "Bahrain",
            "Chile"
           ],
           "locations": [
            "USA",
            "ISR",
            "MEX",
            "BHR",
            "CHL"
           ],
           "name": "",
           "type": "choropleth",
           "z": [
            1008025,
            251448,
            2924,
            50543,
            5199
           ]
          }
         ],
         "name": "2020-12-25"
        },
        {
         "data": [
          {
           "coloraxis": "coloraxis",
           "geo": "geo",
           "hovertemplate": "<b>%{hovertext}</b><br><br>date=2020-12-26<br>iso_code=%{location}<br>people_vaccinated=%{z}<extra></extra>",
           "hovertext": [
            "Chile",
            "Mexico",
            "Israel",
            "United States",
            "Bahrain"
           ],
           "locations": [
            "CHL",
            "MEX",
            "ISR",
            "USA",
            "BHR"
           ],
           "name": "",
           "type": "choropleth",
           "z": [
            8339,
            2924,
            284107,
            1944585,
            51556
           ]
          }
         ],
         "name": "2020-12-26"
        },
        {
         "data": [
          {
           "coloraxis": "coloraxis",
           "geo": "geo",
           "hovertemplate": "<b>%{hovertext}</b><br><br>date=2020-12-27<br>iso_code=%{location}<br>people_vaccinated=%{z}<extra></extra>",
           "hovertext": [
            "United States",
            "Bahrain",
            "Israel",
            "Mexico",
            "Chile",
            "United Kingdom"
           ],
           "locations": [
            "USA",
            "BHR",
            "ISR",
            "MEX",
            "CHL",
            "GBR"
           ],
           "name": "",
           "type": "choropleth",
           "z": [
            1944585,
            53614,
            388767,
            6824,
            8650,
            1002930
           ]
          }
         ],
         "name": "2020-12-27"
        },
        {
         "data": [
          {
           "coloraxis": "coloraxis",
           "geo": "geo",
           "hovertemplate": "<b>%{hovertext}</b><br><br>date=2020-12-28<br>iso_code=%{location}<br>people_vaccinated=%{z}<extra></extra>",
           "hovertext": [
            "Germany",
            "Lithuania",
            "Sweden",
            "United States",
            "Czechia",
            "Bahrain",
            "Chile",
            "Mexico",
            "France",
            "Norway",
            "United Kingdom",
            "Italy",
            "Slovenia",
            "Denmark",
            "Israel"
           ],
           "locations": [
            "DEU",
            "LTU",
            "SWE",
            "USA",
            "CZE",
            "BHR",
            "CHL",
            "MEX",
            "FRA",
            "NOR",
            "GBR",
            "ITA",
            "SVN",
            "DNK",
            "ISR"
           ],
           "name": "",
           "type": "choropleth",
           "z": [
            42071,
            5203,
            1885,
            2127143,
            3541,
            55014,
            8650,
            9579,
            52,
            606,
            1002930,
            7985,
            7367,
            8479,
            523779
           ]
          }
         ],
         "name": "2020-12-28"
        },
        {
         "data": [
          {
           "coloraxis": "coloraxis",
           "geo": "geo",
           "hovertemplate": "<b>%{hovertext}</b><br><br>date=2020-12-29<br>iso_code=%{location}<br>people_vaccinated=%{z}<extra></extra>",
           "hovertext": [
            "Czechia",
            "Portugal",
            "Poland",
            "Mexico",
            "United States",
            "Greece",
            "Bahrain",
            "Norway",
            "France",
            "Romania",
            "Oman",
            "United Kingdom",
            "Belgium",
            "Sweden",
            "Israel",
            "Slovenia",
            "Lithuania",
            "Germany",
            "Italy",
            "Chile",
            "Denmark"
           ],
           "locations": [
            "CZE",
            "PRT",
            "POL",
            "MEX",
            "USA",
            "GRC",
            "BHR",
            "NOR",
            "FRA",
            "ROU",
            "OMN",
            "GBR",
            "BEL",
            "SWE",
            "ISR",
            "SVN",
            "LTU",
            "DEU",
            "ITA",
            "CHL",
            "DNK"
           ],
           "name": "",
           "type": "choropleth",
           "z": [
            7001,
            16701,
            6300,
            18529,
            2127143,
            1077,
            56041,
            1674,
            138,
            2778,
            3363,
            1002930,
            298,
            1885,
            680107,
            8470,
            8189,
            84516,
            8912,
            8650,
            17440
           ]
          }
         ],
         "name": "2020-12-29"
        },
        {
         "data": [
          {
           "coloraxis": "coloraxis",
           "geo": "geo",
           "hovertemplate": "<b>%{hovertext}</b><br><br>date=2020-12-30<br>iso_code=%{location}<br>people_vaccinated=%{z}<extra></extra>",
           "hovertext": [
            "Romania",
            "Lithuania",
            "Italy",
            "Norway",
            "Belgium",
            "Oman",
            "Poland",
            "Germany",
            "Israel",
            "United States",
            "Denmark",
            "Portugal",
            "Chile",
            "Mexico",
            "Bahrain",
            "Bulgaria",
            "Czechia",
            "Greece",
            "France",
            "Slovenia"
           ],
           "locations": [
            "ROU",
            "LTU",
            "ITA",
            "NOR",
            "BEL",
            "OMN",
            "POL",
            "DEU",
            "ISR",
            "USA",
            "DNK",
            "PRT",
            "CHL",
            "MEX",
            "BHR",
            "BGR",
            "CZE",
            "GRC",
            "FRA",
            "SVN"
           ],
           "name": "",
           "type": "choropleth",
           "z": [
            5666,
            9722,
            13580,
            2098,
            777,
            5043,
            36300,
            142211,
            833126,
            2794588,
            28917,
            26850,
            8650,
            24998,
            57317,
            4608,
            10467,
            1722,
            237,
            8911
           ]
          }
         ],
         "name": "2020-12-30"
        },
        {
         "data": [
          {
           "coloraxis": "coloraxis",
           "geo": "geo",
           "hovertemplate": "<b>%{hovertext}</b><br><br>date=2020-12-31<br>iso_code=%{location}<br>people_vaccinated=%{z}<extra></extra>",
           "hovertext": [
            "Italy",
            "Belgium",
            "Oman",
            "Israel",
            "Germany",
            "Norway",
            "Lithuania",
            "Luxembourg",
            "Bulgaria",
            "France",
            "Mexico",
            "Chile",
            "Iceland",
            "United States",
            "Poland",
            "Greece",
            "Slovenia",
            "Czechia",
            "Portugal",
            "Romania",
            "Bahrain",
            "Croatia",
            "Denmark"
           ],
           "locations": [
            "ITA",
            "BEL",
            "OMN",
            "ISR",
            "DEU",
            "NOR",
            "LTU",
            "LUX",
            "BGR",
            "FRA",
            "MEX",
            "CHL",
            "ISL",
            "USA",
            "POL",
            "GRC",
            "SVN",
            "CZE",
            "PRT",
            "ROU",
            "BHR",
            "HRV",
            "DNK"
           ],
           "name": "",
           "type": "choropleth",
           "z": [
            38838,
            786,
            6516,
            992388,
            180326,
            2170,
            9747,
            1200,
            3163.5,
            316,
            21763.5,
            8650,
            4875,
            2794588,
            47600,
            2339,
            10619,
            11777,
            21775.5,
            10289,
            58643,
            7864,
            35114
           ]
          }
         ],
         "name": "2020-12-31"
        },
        {
         "data": [
          {
           "coloraxis": "coloraxis",
           "geo": "geo",
           "hovertemplate": "<b>%{hovertext}</b><br><br>date=2021-01-01<br>iso_code=%{location}<br>people_vaccinated=%{z}<extra></extra>",
           "hovertext": [
            "Greece",
            "Denmark",
            "Czechia",
            "Norway",
            "Germany",
            "Romania",
            "Lithuania",
            "Bahrain",
            "France",
            "Iceland",
            "Mexico",
            "Bulgaria",
            "Luxembourg",
            "United States",
            "Chile",
            "Belgium",
            "Italy",
            "Portugal",
            "Croatia",
            "Israel",
            "Poland",
            "Slovenia",
            "Oman"
           ],
           "locations": [
            "GRC",
            "DNK",
            "CZE",
            "NOR",
            "DEU",
            "ROU",
            "LTU",
            "BHR",
            "FRA",
            "ISL",
            "MEX",
            "BGR",
            "LUX",
            "USA",
            "CHL",
            "BEL",
            "ITA",
            "PRT",
            "HRV",
            "ISR",
            "POL",
            "SVN",
            "OMN"
           ],
           "name": "",
           "type": "choropleth",
           "z": [
            2603,
            37458,
            12039,
            2176,
            204782,
            11656,
            9734.5,
            59351,
            325,
            4875,
            24998,
            4739,
            1200,
            2794588,
            8650,
            793,
            49875,
            26850,
            7864,
            1064321,
            41950,
            10766,
            5779.5
           ]
          }
         ],
         "name": "2021-01-01"
        },
        {
         "data": [
          {
           "coloraxis": "coloraxis",
           "geo": "geo",
           "hovertemplate": "<b>%{hovertext}</b><br><br>date=2021-01-02<br>iso_code=%{location}<br>people_vaccinated=%{z}<extra></extra>",
           "hovertext": [
            "Bulgaria",
            "Italy",
            "Bahrain",
            "France",
            "Poland",
            "Slovenia",
            "Romania",
            "Russia",
            "Greece",
            "Denmark",
            "Oman",
            "Germany",
            "Norway",
            "Chile",
            "Israel",
            "Czechia",
            "United States",
            "Belgium",
            "Lithuania"
           ],
           "locations": [
            "BGR",
            "ITA",
            "BHR",
            "FRA",
            "POL",
            "SVN",
            "ROU",
            "RUS",
            "GRC",
            "DNK",
            "OMN",
            "DEU",
            "NOR",
            "CHL",
            "ISR",
            "CZE",
            "USA",
            "BEL",
            "LTU"
           ],
           "name": "",
           "type": "choropleth",
           "z": [
            4739,
            88361,
            60097,
            367,
            50391,
            11170,
            13242,
            800000,
            3149,
            46353,
            7231,
            256056,
            2176,
            8650,
            1136481,
            13295,
            4225756,
            789.5,
            9747
           ]
          }
         ],
         "name": "2021-01-02"
        },
        {
         "data": [
          {
           "coloraxis": "coloraxis",
           "geo": "geo",
           "hovertemplate": "<b>%{hovertext}</b><br><br>date=2021-01-03<br>iso_code=%{location}<br>people_vaccinated=%{z}<extra></extra>",
           "hovertext": [
            "United States",
            "Germany",
            "Bulgaria",
            "Russia",
            "Israel",
            "Italy",
            "Denmark",
            "Sweden",
            "Romania",
            "Norway",
            "Oman",
            "Belgium",
            "Bahrain",
            "Croatia",
            "Czechia",
            "United Kingdom",
            "Slovenia",
            "Greece",
            "Portugal",
            "France",
            "Poland"
           ],
           "locations": [
            "USA",
            "DEU",
            "BGR",
            "RUS",
            "ISR",
            "ITA",
            "DNK",
            "SWE",
            "ROU",
            "NOR",
            "OMN",
            "BEL",
            "BHR",
            "HRV",
            "CZE",
            "GBR",
            "SVN",
            "GRC",
            "PRT",
            "FRA",
            "POL"
           ],
           "name": "",
           "type": "choropleth",
           "z": [
            4225756,
            281300,
            4739,
            800000,
            1286922,
            123464,
            52377,
            14159,
            13596,
            2179,
            8826,
            793,
            60689,
            12285,
            14211,
            1376994,
            11725,
            3869,
            32000,
            441,
            50833
           ]
          }
         ],
         "name": "2021-01-03"
        },
        {
         "data": [
          {
           "coloraxis": "coloraxis",
           "geo": "geo",
           "hovertemplate": "<b>%{hovertext}</b><br><br>date=2021-01-04<br>iso_code=%{location}<br>people_vaccinated=%{z}<extra></extra>",
           "hovertext": [
            "Czechia",
            "United Kingdom",
            "Belgium",
            "Croatia",
            "Germany",
            "Israel",
            "United States",
            "Italy",
            "Greece",
            "Portugal",
            "Poland",
            "Oman",
            "Denmark",
            "France",
            "Romania",
            "Mexico",
            "Russia",
            "Bahrain",
            "Norway",
            "Sweden",
            "Slovenia",
            "Chile"
           ],
           "locations": [
            "CZE",
            "GBR",
            "BEL",
            "HRV",
            "DEU",
            "ISR",
            "USA",
            "ITA",
            "GRC",
            "PRT",
            "POL",
            "OMN",
            "DNK",
            "FRA",
            "ROU",
            "MEX",
            "RUS",
            "BHR",
            "NOR",
            "SWE",
            "SVN",
            "CHL"
           ],
           "name": "",
           "type": "choropleth",
           "z": [
            17779,
            1376994,
            794,
            12285,
            329657,
            1439101,
            4563260,
            191773,
            10327,
            32000,
            92220,
            10728,
            54780,
            1800,
            25508,
            43960,
            800000,
            61612,
            2185,
            14159,
            12816,
            9055
           ]
          }
         ],
         "name": "2021-01-04"
        },
        {
         "data": [
          {
           "coloraxis": "coloraxis",
           "geo": "geo",
           "hovertemplate": "<b>%{hovertext}</b><br><br>date=2021-01-05<br>iso_code=%{location}<br>people_vaccinated=%{z}<extra></extra>",
           "hovertext": [
            "Sweden",
            "Spain",
            "Israel",
            "Slovenia",
            "Greece",
            "Chile",
            "Czechia",
            "United Kingdom",
            "United States",
            "France",
            "Lithuania",
            "Mexico",
            "Romania",
            "Norway",
            "Denmark",
            "Italy",
            "Bahrain",
            "Croatia",
            "Slovakia",
            "Germany",
            "Belgium",
            "Bulgaria",
            "Portugal",
            "Poland",
            "Oman"
           ],
           "locations": [
            "SWE",
            "ESP",
            "ISR",
            "SVN",
            "GRC",
            "CHL",
            "CZE",
            "GBR",
            "USA",
            "FRA",
            "LTU",
            "MEX",
            "ROU",
            "NOR",
            "DNK",
            "ITA",
            "BHR",
            "HRV",
            "SVK",
            "DEU",
            "BEL",
            "BGR",
            "PRT",
            "POL",
            "OMN"
           ],
           "name": "",
           "type": "choropleth",
           "z": [
            14159,
            139339,
            1565031,
            15233,
            16631,
            10498,
            22288,
            1376994,
            4836469,
            6744,
            10369,
            48236,
            41609,
            5570,
            68324,
            271157,
            63893,
            13798,
            425,
            381939,
            2369,
            5448,
            32000,
            140226,
            12751
           ]
          }
         ],
         "name": "2021-01-05"
        },
        {
         "data": [
          {
           "coloraxis": "coloraxis",
           "geo": "geo",
           "hovertemplate": "<b>%{hovertext}</b><br><br>date=2021-01-06<br>iso_code=%{location}<br>people_vaccinated=%{z}<extra></extra>",
           "hovertext": [
            "United States",
            "Romania",
            "Mexico",
            "Italy",
            "Bahrain",
            "Portugal",
            "Greece",
            "Belgium",
            "Oman",
            "Norway",
            "Bulgaria",
            "Croatia",
            "France",
            "Germany",
            "Israel",
            "Slovakia",
            "Slovenia",
            "Spain",
            "Denmark",
            "Chile",
            "Lithuania",
            "Poland",
            "Czechia"
           ],
           "locations": [
            "USA",
            "ROU",
            "MEX",
            "ITA",
            "BHR",
            "PRT",
            "GRC",
            "BEL",
            "OMN",
            "NOR",
            "BGR",
            "HRV",
            "FRA",
            "DEU",
            "ISR",
            "SVK",
            "SVN",
            "ESP",
            "DNK",
            "CHL",
            "LTU",
            "POL",
            "CZE"
           ],
           "name": "",
           "type": "choropleth",
           "z": [
            5306797,
            58554,
            53185,
            336238,
            68472,
            42035,
            20616,
            6236,
            14005,
            14627,
            7913,
            13798,
            17064,
            440085,
            1668895,
            6618,
            20335,
            111086.5,
            88148,
            10703,
            13866,
            160359,
            28090
           ]
          }
         ],
         "name": "2021-01-06"
        },
        {
         "data": [
          {
           "coloraxis": "coloraxis",
           "geo": "geo",
           "hovertemplate": "<b>%{hovertext}</b><br><br>date=2021-01-07<br>iso_code=%{location}<br>people_vaccinated=%{z}<extra></extra>",
           "hovertext": [
            "Spain",
            "Germany",
            "Poland",
            "Norway",
            "Slovenia",
            "United States",
            "Romania",
            "Oman",
            "Belgium",
            "Slovakia",
            "Italy",
            "Greece",
            "Israel",
            "Portugal",
            "France",
            "Denmark",
            "Lithuania",
            "Mexico",
            "Chile",
            "Czechia",
            "Bahrain",
            "Bulgaria",
            "Croatia"
           ],
           "locations": [
            "ESP",
            "DEU",
            "POL",
            "NOR",
            "SVN",
            "USA",
            "ROU",
            "OMN",
            "BEL",
            "SVK",
            "ITA",
            "GRC",
            "ISR",
            "PRT",
            "FRA",
            "DNK",
            "LTU",
            "MEX",
            "CHL",
            "CZE",
            "BHR",
            "BGR",
            "HRV"
           ],
           "name": "",
           "type": "choropleth",
           "z": [
            207323,
            498497,
            188956,
            21194,
            25589,
            5919418,
            76400,
            14911,
            14362,
            13661,
            427914,
            26445,
            1785152,
            42035,
            43282,
            105701,
            18020,
            58402,
            10703,
            36031,
            72239,
            11117,
            20603
           ]
          }
         ],
         "name": "2021-01-07"
        },
        {
         "data": [
          {
           "coloraxis": "coloraxis",
           "geo": "geo",
           "hovertemplate": "<b>%{hovertext}</b><br><br>date=2021-01-08<br>iso_code=%{location}<br>people_vaccinated=%{z}<extra></extra>",
           "hovertext": [
            "France",
            "Germany",
            "Croatia",
            "Czechia",
            "Denmark",
            "Belgium",
            "Bulgaria",
            "Spain",
            "Slovenia",
            "Italy",
            "Slovakia",
            "Oman",
            "Lithuania",
            "Mexico",
            "Bahrain",
            "Chile",
            "Israel",
            "Greece",
            "Poland",
            "Norway",
            "Romania",
            "Portugal",
            "United States"
           ],
           "locations": [
            "FRA",
            "DEU",
            "HRV",
            "CZE",
            "DNK",
            "BEL",
            "BGR",
            "ESP",
            "SVN",
            "ITA",
            "SVK",
            "OMN",
            "LTU",
            "MEX",
            "BHR",
            "CHL",
            "ISR",
            "GRC",
            "POL",
            "NOR",
            "ROU",
            "PRT",
            "USA"
           ],
           "name": "",
           "type": "choropleth",
           "z": [
            76022,
            558497,
            24985,
            45968,
            114212,
            23513,
            13355,
            277976,
            28780,
            523070,
            20702,
            14980,
            23190,
            67468,
            78291,
            10703,
            1851710,
            35272,
            198787,
            22807,
            92706,
            70000,
            6688231
           ]
          }
         ],
         "name": "2021-01-08"
        },
        {
         "data": [
          {
           "coloraxis": "coloraxis",
           "geo": "geo",
           "hovertemplate": "<b>%{hovertext}</b><br><br>date=2021-01-09<br>iso_code=%{location}<br>people_vaccinated=%{z}<extra></extra>",
           "hovertext": [
            "Croatia",
            "Bahrain",
            "Portugal",
            "Poland",
            "Greece",
            "Denmark",
            "Serbia",
            "Slovakia",
            "Slovenia",
            "Spain",
            "Czechia",
            "Romania",
            "Oman",
            "Italy",
            "Israel",
            "Chile",
            "Belgium",
            "United States",
            "France",
            "Lithuania",
            "Mexico",
            "Bulgaria",
            "Norway",
            "Germany"
           ],
           "locations": [
            "HRV",
            "BHR",
            "PRT",
            "POL",
            "GRC",
            "DNK",
            "SRB",
            "SVK",
            "SVN",
            "ESP",
            "CZE",
            "ROU",
            "OMN",
            "ITA",
            "ISR",
            "CHL",
            "BEL",
            "USA",
            "FRA",
            "LTU",
            "MEX",
            "BGR",
            "NOR",
            "DEU"
           ],
           "name": "",
           "type": "choropleth",
           "z": [
            30000,
            84157,
            70000,
            200022,
            40427,
            116113,
            7000,
            22311,
            29028,
            242649.5,
            47963,
            102301,
            15023,
            609850,
            1896338,
            10703,
            26699,
            6303824.5,
            86315,
            23494,
            74794,
            13473,
            22941,
            615366
           ]
          }
         ],
         "name": "2021-01-09"
        },
        {
         "data": [
          {
           "coloraxis": "coloraxis",
           "geo": "geo",
           "hovertemplate": "<b>%{hovertext}</b><br><br>date=2021-01-10<br>iso_code=%{location}<br>people_vaccinated=%{z}<extra></extra>",
           "hovertext": [
            "United Kingdom",
            "Greece",
            "Germany",
            "Spain",
            "United Arab Emirates",
            "Sweden",
            "United States",
            "Slovenia",
            "Czechia",
            "Norway",
            "Slovakia",
            "Oman",
            "Poland",
            "Portugal",
            "Mexico",
            "Israel",
            "Lithuania",
            "France",
            "Denmark",
            "Seychelles",
            "Italy",
            "Romania",
            "Serbia",
            "Croatia",
            "Chile",
            "Belgium",
            "Bahrain",
            "Bulgaria"
           ],
           "locations": [
            "GBR",
            "GRC",
            "DEU",
            "ESP",
            "ARE",
            "SWE",
            "USA",
            "SVN",
            "CZE",
            "NOR",
            "SVK",
            "OMN",
            "POL",
            "PRT",
            "MEX",
            "ISR",
            "LTU",
            "FRA",
            "DNK",
            "SYC",
            "ITA",
            "ROU",
            "SRB",
            "HRV",
            "CHL",
            "BEL",
            "BHR",
            "BGR"
           ],
           "name": "",
           "type": "choropleth",
           "z": [
            2286572,
            44645,
            648594,
            277976,
            836568,
            47223,
            6688231,
            29029,
            49677,
            23048,
            25356,
            15907,
            203053,
            70000,
            81300,
            1934042,
            23497,
            91629,
            116926,
            0,
            670081,
            108294,
            9300,
            27492.5,
            10703,
            27096,
            89250,
            13414
           ]
          }
         ],
         "name": "2021-01-10"
        },
        {
         "data": [
          {
           "coloraxis": "coloraxis",
           "geo": "geo",
           "hovertemplate": "<b>%{hovertext}</b><br><br>date=2021-01-11<br>iso_code=%{location}<br>people_vaccinated=%{z}<extra></extra>",
           "hovertext": [
            "Seychelles",
            "Norway",
            "Slovenia",
            "Croatia",
            "France",
            "Italy",
            "Spain",
            "Czechia",
            "Luxembourg",
            "Germany",
            "Belgium",
            "Bulgaria",
            "Oman",
            "United Arab Emirates",
            "Poland",
            "Lithuania",
            "Denmark",
            "Chile",
            "Romania",
            "Bahrain",
            "Israel",
            "Sweden",
            "Greece",
            "Mexico",
            "United States",
            "United Kingdom",
            "Albania",
            "Serbia",
            "Slovakia"
           ],
           "locations": [
            "SYC",
            "NOR",
            "SVN",
            "HRV",
            "FRA",
            "ITA",
            "ESP",
            "CZE",
            "LUX",
            "DEU",
            "BEL",
            "BGR",
            "OMN",
            "ARE",
            "POL",
            "LTU",
            "DNK",
            "CHL",
            "ROU",
            "BHR",
            "ISR",
            "SWE",
            "GRC",
            "MEX",
            "USA",
            "GBR",
            "ALB",
            "SRB",
            "SVK"
           ],
           "name": "",
           "type": "choropleth",
           "z": [
            0,
            23395,
            29513,
            30000,
            125412,
            750646,
            406091,
            59444,
            1943,
            714229,
            32546,
            14161,
            18287,
            836568,
            257834,
            25704,
            117583,
            10703,
            125190,
            92598,
            1955180,
            47223,
            50045,
            87060,
            8987322,
            2431648,
            0,
            9300,
            29411
           ]
          }
         ],
         "name": "2021-01-11"
        },
        {
         "data": [
          {
           "coloraxis": "coloraxis",
           "geo": "geo",
           "hovertemplate": "<b>%{hovertext}</b><br><br>date=2021-01-12<br>iso_code=%{location}<br>people_vaccinated=%{z}<extra></extra>",
           "hovertext": [
            "Chile",
            "Sweden",
            "Poland",
            "Lithuania",
            "Denmark",
            "United Arab Emirates",
            "Bulgaria",
            "France",
            "Israel",
            "Italy",
            "Bahrain",
            "Romania",
            "Spain",
            "United States",
            "Serbia",
            "Singapore",
            "Slovenia",
            "Luxembourg",
            "Germany",
            "United Kingdom",
            "Czechia",
            "Belgium",
            "Oman",
            "Greece",
            "Albania",
            "Norway",
            "Slovakia",
            "Mexico"
           ],
           "locations": [
            "CHL",
            "SWE",
            "POL",
            "LTU",
            "DNK",
            "ARE",
            "BGR",
            "FRA",
            "ISR",
            "ITA",
            "BHR",
            "ROU",
            "ESP",
            "USA",
            "SRB",
            "SGP",
            "SVN",
            "LUX",
            "DEU",
            "GBR",
            "CZE",
            "BEL",
            "OMN",
            "GRC",
            "ALB",
            "NOR",
            "SVK",
            "MEX"
           ],
           "name": "",
           "type": "choropleth",
           "z": [
            10703,
            47223,
            309620,
            27789,
            118045,
            836568,
            15780,
            179119,
            1979129,
            831751,
            97776,
            140447,
            488122,
            9327138,
            9300,
            6200,
            31304,
            2372,
            796285,
            2639309,
            72812,
            47988,
            20649,
            56475,
            128,
            27656,
            39977,
            92879
           ]
          }
         ],
         "name": "2021-01-12"
        },
        {
         "data": [
          {
           "coloraxis": "coloraxis",
           "geo": "geo",
           "hovertemplate": "<b>%{hovertext}</b><br><br>date=2021-01-13<br>iso_code=%{location}<br>people_vaccinated=%{z}<extra></extra>",
           "hovertext": [
            "Bahrain",
            "Albania",
            "Norway",
            "Italy",
            "Czechia",
            "Croatia",
            "United States",
            "France",
            "Russia",
            "Slovakia",
            "Chile",
            "Mexico",
            "Romania",
            "Greece",
            "United Kingdom",
            "Israel",
            "Canada",
            "Denmark",
            "Spain",
            "Bulgaria",
            "Belgium",
            "Poland",
            "Luxembourg",
            "Lithuania",
            "Slovenia",
            "Singapore",
            "Germany",
            "Oman",
            "Seychelles"
           ],
           "locations": [
            "BHR",
            "ALB",
            "NOR",
            "ITA",
            "CZE",
            "HRV",
            "USA",
            "FRA",
            "RUS",
            "SVK",
            "CHL",
            "MEX",
            "ROU",
            "GRC",
            "GBR",
            "ISR",
            "CAN",
            "DNK",
            "ESP",
            "BGR",
            "BEL",
            "POL",
            "LUX",
            "LTU",
            "SVN",
            "SGP",
            "DEU",
            "OMN",
            "SYC"
           ],
           "name": "",
           "type": "choropleth",
           "z": [
            101363,
            188,
            37426,
            924694,
            86281,
            34553,
            9157230,
            235786,
            1000000,
            46727,
            10704,
            192567,
            154268,
            64932,
            2918252,
            2030863,
            213147,
            130774,
            581638,
            17038,
            68682,
            369212,
            2871,
            33935,
            35974,
            4800,
            894698,
            22749,
            2000
           ]
          }
         ],
         "name": "2021-01-13"
        },
        {
         "data": [
          {
           "coloraxis": "coloraxis",
           "geo": "geo",
           "hovertemplate": "<b>%{hovertext}</b><br><br>date=2021-01-14<br>iso_code=%{location}<br>people_vaccinated=%{z}<extra></extra>",
           "hovertext": [
            "Greece",
            "United Kingdom",
            "Singapore",
            "Austria",
            "Poland",
            "Oman",
            "Bulgaria",
            "Chile",
            "Mexico",
            "Lithuania",
            "Russia",
            "Slovakia",
            "Denmark",
            "Romania",
            "Belgium",
            "Seychelles",
            "Norway",
            "Italy",
            "France",
            "Croatia",
            "Spain",
            "United States",
            "Germany",
            "Czechia",
            "Bahrain",
            "Israel",
            "Slovenia",
            "Luxembourg",
            "Serbia",
            "Albania"
           ],
           "locations": [
            "GRC",
            "GBR",
            "SGP",
            "AUT",
            "POL",
            "OMN",
            "BGR",
            "CHL",
            "MEX",
            "LTU",
            "RUS",
            "SVK",
            "DNK",
            "ROU",
            "BEL",
            "SYC",
            "NOR",
            "ITA",
            "FRA",
            "HRV",
            "ESP",
            "USA",
            "DEU",
            "CZE",
            "BHR",
            "ISR",
            "SVN",
            "LUX",
            "SRB",
            "ALB"
           ],
           "name": "",
           "type": "choropleth",
           "z": [
            70960,
            3234946,
            6200,
            29359,
            410480,
            24204,
            17686,
            12822,
            329983,
            42560,
            1000000,
            54183,
            148671,
            167612,
            91263,
            2000,
            45872,
            1016857,
            306206,
            38000,
            676186,
            9690757,
            994710,
            101360,
            109566,
            2086909,
            42628,
            3233,
            18136,
            266
           ]
          }
         ],
         "name": "2021-01-14"
        },
        {
         "data": [
          {
           "coloraxis": "coloraxis",
           "geo": "geo",
           "hovertemplate": "<b>%{hovertext}</b><br><br>date=2021-01-15<br>iso_code=%{location}<br>people_vaccinated=%{z}<extra></extra>",
           "hovertext": [
            "Germany",
            "Seychelles",
            "Greece",
            "France",
            "Russia",
            "Costa Rica",
            "Austria",
            "Slovenia",
            "Spain",
            "United States",
            "Serbia",
            "Slovakia",
            "Norway",
            "Bahrain",
            "Luxembourg",
            "Belgium",
            "Oman",
            "Croatia",
            "Israel",
            "Italy",
            "Denmark",
            "Bulgaria",
            "Portugal",
            "Poland",
            "Lithuania",
            "Czechia",
            "Romania",
            "Chile",
            "Mexico",
            "Albania",
            "United Kingdom"
           ],
           "locations": [
            "DEU",
            "SYC",
            "GRC",
            "FRA",
            "RUS",
            "CRI",
            "AUT",
            "SVN",
            "ESP",
            "USA",
            "SRB",
            "SVK",
            "NOR",
            "BHR",
            "LUX",
            "BEL",
            "OMN",
            "HRV",
            "ISR",
            "ITA",
            "DNK",
            "BGR",
            "PRT",
            "POL",
            "LTU",
            "CZE",
            "ROU",
            "CHL",
            "MEX",
            "ALB",
            "GBR"
           ],
           "name": "",
           "type": "choropleth",
           "z": [
            1086895,
            4000,
            75412,
            364846,
            1000000,
            24804,
            39751,
            47384,
            768950,
            10595866,
            18136,
            62037,
            50338,
            122819,
            3052,
            114030,
            23476.5,
            41532,
            2117631,
            1104922,
            163877,
            18126,
            106000,
            436963,
            49825,
            115184,
            183669,
            13779,
            415417,
            308,
            3559179
           ]
          }
         ],
         "name": "2021-01-15"
        },
        {
         "data": [
          {
           "coloraxis": "coloraxis",
           "geo": "geo",
           "hovertemplate": "<b>%{hovertext}</b><br><br>date=2021-01-16<br>iso_code=%{location}<br>people_vaccinated=%{z}<extra></extra>",
           "hovertext": [
            "Austria",
            "United Kingdom",
            "Denmark",
            "Bulgaria",
            "United States",
            "Mexico",
            "Costa Rica",
            "Greece",
            "Czechia",
            "Oman",
            "Slovenia",
            "Belgium",
            "Luxembourg",
            "Poland",
            "Germany",
            "Norway",
            "Albania",
            "Lithuania",
            "Israel",
            "Slovakia",
            "Romania",
            "Spain",
            "Serbia",
            "Canada",
            "Croatia",
            "France",
            "Italy",
            "Bahrain",
            "Chile",
            "Portugal",
            "Seychelles"
           ],
           "locations": [
            "AUT",
            "GBR",
            "DNK",
            "BGR",
            "USA",
            "MEX",
            "CRI",
            "GRC",
            "CZE",
            "OMN",
            "SVN",
            "BEL",
            "LUX",
            "POL",
            "DEU",
            "NOR",
            "ALB",
            "LTU",
            "ISR",
            "SVK",
            "ROU",
            "ESP",
            "SRB",
            "CAN",
            "HRV",
            "FRA",
            "ITA",
            "BHR",
            "CHL",
            "PRT",
            "SYC"
           ],
           "name": "",
           "type": "choropleth",
           "z": [
            50402,
            3837094,
            168489,
            18332,
            10143311.5,
            461025,
            24804,
            80389,
            118505,
            24773,
            47708,
            119051,
            3233,
            457303,
            1143459,
            51078,
            369,
            50921,
            2147089,
            63399,
            196090,
            722568,
            18136,
            564874,
            45906,
            382326,
            1169164,
            137159,
            13802,
            106000,
            7000
           ]
          }
         ],
         "name": "2021-01-16"
        },
        {
         "data": [
          {
           "coloraxis": "coloraxis",
           "geo": "geo",
           "hovertemplate": "<b>%{hovertext}</b><br><br>date=2021-01-17<br>iso_code=%{location}<br>people_vaccinated=%{z}<extra></extra>",
           "hovertext": [
            "Chile",
            "Romania",
            "Greece",
            "Brazil",
            "Mexico",
            "Austria",
            "Bulgaria",
            "Seychelles",
            "Portugal",
            "Bahrain",
            "Italy",
            "Lithuania",
            "Oman",
            "Belgium",
            "Luxembourg",
            "Norway",
            "Israel",
            "Canada",
            "Poland",
            "Croatia",
            "Sweden",
            "Denmark",
            "United States",
            "Albania",
            "Slovakia",
            "Costa Rica",
            "France",
            "Slovenia",
            "Spain",
            "United Kingdom",
            "Germany",
            "Czechia"
           ],
           "locations": [
            "CHL",
            "ROU",
            "GRC",
            "BRA",
            "MEX",
            "AUT",
            "BGR",
            "SYC",
            "PRT",
            "BHR",
            "ITA",
            "LTU",
            "OMN",
            "BEL",
            "LUX",
            "NOR",
            "ISR",
            "CAN",
            "POL",
            "HRV",
            "SWE",
            "DNK",
            "USA",
            "ALB",
            "SVK",
            "CRI",
            "FRA",
            "SVN",
            "ESP",
            "GBR",
            "DEU",
            "CZE"
           ],
           "name": "",
           "type": "choropleth",
           "z": [
            13802,
            204185,
            77900.5,
            112,
            468708,
            55450,
            18453,
            5500,
            106000,
            141563,
            1202615,
            50963,
            24773,
            122259,
            3755,
            51418,
            2215529,
            564874,
            468795,
            43719,
            118490,
            171028,
            10595866,
            405,
            63453,
            24804,
            391910,
            47712,
            768950,
            4062501,
            1174410,
            120951
           ]
          }
         ],
         "name": "2021-01-17"
        },
        {
         "data": [
          {
           "coloraxis": "coloraxis",
           "geo": "geo",
           "hovertemplate": "<b>%{hovertext}</b><br><br>date=2021-01-18<br>iso_code=%{location}<br>people_vaccinated=%{z}<extra></extra>",
           "hovertext": [
            "Israel",
            "Romania",
            "Sweden",
            "Chile",
            "Azerbaijan",
            "Spain",
            "Slovakia",
            "Mexico",
            "Brazil",
            "United Kingdom",
            "Czechia",
            "Malta",
            "Albania",
            "Norway",
            "Luxembourg",
            "Belgium",
            "Canada",
            "Lithuania",
            "Denmark",
            "Bulgaria",
            "Poland",
            "Bahrain",
            "Italy",
            "Croatia",
            "France",
            "Oman",
            "Seychelles",
            "Slovenia",
            "Costa Rica",
            "Hungary",
            "Greece",
            "Austria",
            "Germany"
           ],
           "locations": [
            "ISR",
            "ROU",
            "SWE",
            "CHL",
            "AZE",
            "ESP",
            "SVK",
            "MEX",
            "BRA",
            "GBR",
            "CZE",
            "MLT",
            "ALB",
            "NOR",
            "LUX",
            "BEL",
            "CAN",
            "LTU",
            "DNK",
            "BGR",
            "POL",
            "BHR",
            "ITA",
            "HRV",
            "FRA",
            "OMN",
            "SYC",
            "SVN",
            "CRI",
            "HUN",
            "GRC",
            "AUT",
            "DEU"
           ],
           "name": "",
           "type": "choropleth",
           "z": [
            2285461,
            233288,
            118490,
            24846,
            0,
            895627,
            71674,
            485983,
            1109,
            4266577,
            133347,
            13002,
            447,
            52697,
            4569,
            132883,
            564874,
            53789,
            174911,
            18524,
            491696,
            142831,
            1240104,
            45906,
            468073,
            24773,
            7000,
            47774,
            29257,
            129689,
            85475,
            60708,
            1232291
           ]
          }
         ],
         "name": "2021-01-18"
        },
        {
         "data": [
          {
           "coloraxis": "coloraxis",
           "geo": "geo",
           "hovertemplate": "<b>%{hovertext}</b><br><br>date=2021-01-19<br>iso_code=%{location}<br>people_vaccinated=%{z}<extra></extra>",
           "hovertext": [
            "Hungary",
            "Norway",
            "Chile",
            "Albania",
            "Luxembourg",
            "Germany",
            "Oman",
            "Lithuania",
            "Greece",
            "Denmark",
            "Bulgaria",
            "Belgium",
            "Poland",
            "Spain",
            "Latvia",
            "Slovenia",
            "Costa Rica",
            "France",
            "Malta",
            "Mexico",
            "Romania",
            "Brazil",
            "United Kingdom",
            "Croatia",
            "Seychelles",
            "Slovakia",
            "Sweden",
            "Israel",
            "Czechia",
            "Azerbaijan",
            "United States",
            "Bahrain",
            "Italy",
            "Austria"
           ],
           "locations": [
            "HUN",
            "NOR",
            "CHL",
            "ALB",
            "LUX",
            "DEU",
            "OMN",
            "LTU",
            "GRC",
            "DNK",
            "BGR",
            "BEL",
            "POL",
            "ESP",
            "LVA",
            "SVN",
            "CRI",
            "FRA",
            "MLT",
            "MEX",
            "ROU",
            "BRA",
            "GBR",
            "HRV",
            "SYC",
            "SVK",
            "SWE",
            "ISR",
            "CZE",
            "AZE",
            "USA",
            "BHR",
            "ITA",
            "AUT"
           ],
           "name": "",
           "type": "choropleth",
           "z": [
            130318,
            57249,
            44147,
            483,
            5294,
            1299539,
            24773,
            56153,
            93382,
            177393,
            19058,
            151701,
            530055,
            956756,
            16294,
            48324,
            29257,
            585735,
            14276,
            488513,
            267424,
            11470,
            4609740,
            54304,
            10976,
            79129,
            118490,
            2358771,
            145618,
            0,
            13595803,
            143596,
            1270254,
            70474
           ]
          }
         ],
         "name": "2021-01-19"
        },
        {
         "data": [
          {
           "coloraxis": "coloraxis",
           "geo": "geo",
           "hovertemplate": "<b>%{hovertext}</b><br><br>date=2021-01-20<br>iso_code=%{location}<br>people_vaccinated=%{z}<extra></extra>",
           "hovertext": [
            "Germany",
            "Lithuania",
            "Bulgaria",
            "Romania",
            "United States",
            "Israel",
            "Poland",
            "Bahrain",
            "Italy",
            "Chile",
            "Austria",
            "Croatia",
            "Argentina",
            "Latvia",
            "Denmark",
            "Iceland",
            "Brazil",
            "Belgium",
            "Czechia",
            "Luxembourg",
            "Malta",
            "France",
            "Slovakia",
            "Mexico",
            "United Kingdom",
            "Seychelles",
            "Norway",
            "Albania",
            "Serbia",
            "Greece",
            "Oman",
            "Costa Rica",
            "Hungary",
            "Slovenia",
            "Spain"
           ],
           "locations": [
            "DEU",
            "LTU",
            "BGR",
            "ROU",
            "USA",
            "ISR",
            "POL",
            "BHR",
            "ITA",
            "CHL",
            "AUT",
            "HRV",
            "ARG",
            "LVA",
            "DNK",
            "ISL",
            "BRA",
            "BEL",
            "CZE",
            "LUX",
            "MLT",
            "FRA",
            "SVK",
            "MEX",
            "GBR",
            "SYC",
            "NOR",
            "ALB",
            "SRB",
            "GRC",
            "OMN",
            "CRI",
            "HUN",
            "SVN",
            "ESP"
           ],
           "name": "",
           "type": "choropleth",
           "z": [
            1376972,
            57790,
            19834,
            302570,
            14270441,
            2435411,
            566793,
            144130,
            1295129,
            53397,
            86888,
            54304,
            243539,
            16313,
            178901,
            5725,
            28543,
            171779,
            158763,
            6193,
            15316,
            708973,
            86147,
            489628,
            4973248,
            13163,
            67275,
            519,
            44611,
            108167,
            24773,
            29257,
            134554,
            49490,
            1010295
           ]
          }
         ],
         "name": "2021-01-20"
        },
        {
         "data": [
          {
           "coloraxis": "coloraxis",
           "geo": "geo",
           "hovertemplate": "<b>%{hovertext}</b><br><br>date=2021-01-21<br>iso_code=%{location}<br>people_vaccinated=%{z}<extra></extra>",
           "hovertext": [
            "Italy",
            "France",
            "Malta",
            "Bahrain",
            "Czechia",
            "Lithuania",
            "Croatia",
            "Hungary",
            "Israel",
            "Slovenia",
            "Mexico",
            "Romania",
            "United Kingdom",
            "Slovakia",
            "Brazil",
            "Austria",
            "Seychelles",
            "Chile",
            "Albania",
            "Latvia",
            "Iceland",
            "Spain",
            "Bulgaria",
            "Denmark",
            "Greece",
            "Germany",
            "Oman",
            "Luxembourg",
            "Serbia",
            "Poland",
            "Norway",
            "Argentina",
            "Belgium",
            "United States"
           ],
           "locations": [
            "ITA",
            "FRA",
            "MLT",
            "BHR",
            "CZE",
            "LTU",
            "HRV",
            "HUN",
            "ISR",
            "SVN",
            "MEX",
            "ROU",
            "GBR",
            "SVK",
            "BRA",
            "AUT",
            "SYC",
            "CHL",
            "ALB",
            "LVA",
            "ISL",
            "ESP",
            "BGR",
            "DNK",
            "GRC",
            "DEU",
            "OMN",
            "LUX",
            "SRB",
            "POL",
            "NOR",
            "ARG",
            "BEL",
            "USA"
           ],
           "name": "",
           "type": "choropleth",
           "z": [
            1310176,
            850380,
            16531,
            143863,
            173940,
            58701,
            54304,
            138983,
            2504881,
            50768,
            534317,
            338252,
            5383103,
            92818,
            136519,
            105038,
            12069.5,
            56454,
            549,
            16579,
            5725,
            1054245,
            20719,
            180432,
            123667,
            1437073,
            24773,
            6897,
            84832,
            605313,
            75664,
            249372,
            201364,
            15053257
           ]
          }
         ],
         "name": "2021-01-21"
        },
        {
         "data": [
          {
           "coloraxis": "coloraxis",
           "geo": "geo",
           "hovertemplate": "<b>%{hovertext}</b><br><br>date=2021-01-22<br>iso_code=%{location}<br>people_vaccinated=%{z}<extra></extra>",
           "hovertext": [
            "United States",
            "Denmark",
            "Ecuador",
            "Czechia",
            "Greece",
            "Mexico",
            "Cyprus",
            "Singapore",
            "Cyprus",
            "Oman",
            "Lithuania",
            "Israel",
            "Bulgaria",
            "Italy",
            "Malta",
            "Luxembourg",
            "Latvia",
            "United Kingdom",
            "Poland",
            "Albania",
            "Brazil",
            "Norway",
            "Slovakia",
            "Belgium",
            "Bahrain",
            "Spain",
            "Seychelles",
            "France",
            "Austria",
            "Iceland",
            "Slovenia",
            "Serbia",
            "Chile",
            "Argentina",
            "Germany",
            "Hungary",
            "Romania"
           ],
           "locations": [
            "USA",
            "DNK",
            "ECU",
            "CZE",
            "GRC",
            "MEX",
            "CYP",
            "SGP",
            "OWID_NCY",
            "OMN",
            "LTU",
            "ISR",
            "BGR",
            "ITA",
            "MLT",
            "LUX",
            "LVA",
            "GBR",
            "POL",
            "ALB",
            "BRA",
            "NOR",
            "SVK",
            "BEL",
            "BHR",
            "ESP",
            "SYC",
            "FRA",
            "AUT",
            "ISL",
            "SVN",
            "SRB",
            "CHL",
            "ARG",
            "DEU",
            "HUN",
            "ROU"
           ],
           "name": "",
           "type": "choropleth",
           "z": [
            16243093,
            181089,
            108,
            188449,
            141298,
            594725,
            15322,
            60000,
            15322,
            24773,
            59024,
            2542496,
            21496,
            1321940,
            17767,
            6545,
            16777,
            5861351,
            638798,
            534,
            245877,
            78951,
            99455,
            230243,
            144130,
            1097369,
            16890,
            959716,
            121216,
            5725,
            51966,
            119711,
            56865,
            254456,
            1520603,
            143184,
            374681
           ]
          }
         ],
         "name": "2021-01-22"
        },
        {
         "data": [
          {
           "coloraxis": "coloraxis",
           "geo": "geo",
           "hovertemplate": "<b>%{hovertext}</b><br><br>date=2021-01-23<br>iso_code=%{location}<br>people_vaccinated=%{z}<extra></extra>",
           "hovertext": [
            "Italy",
            "Serbia",
            "France",
            "Germany",
            "Poland",
            "Czechia",
            "Malta",
            "Belgium",
            "Austria",
            "Luxembourg",
            "Slovakia",
            "Chile",
            "Albania",
            "Bulgaria",
            "Argentina",
            "Denmark",
            "Singapore",
            "Lithuania",
            "Ecuador",
            "Greece",
            "United Kingdom",
            "Slovenia",
            "Cyprus",
            "Israel",
            "Hungary",
            "Mexico",
            "Romania",
            "Norway",
            "Seychelles",
            "United States",
            "Latvia",
            "Brazil",
            "Spain",
            "Oman",
            "Canada"
           ],
           "locations": [
            "ITA",
            "SRB",
            "FRA",
            "DEU",
            "POL",
            "CZE",
            "MLT",
            "BEL",
            "AUT",
            "LUX",
            "SVK",
            "CHL",
            "ALB",
            "BGR",
            "ARG",
            "DNK",
            "SGP",
            "LTU",
            "ECU",
            "GRC",
            "GBR",
            "SVN",
            "CYP",
            "ISR",
            "HUN",
            "MEX",
            "ROU",
            "NOR",
            "SYC",
            "USA",
            "LVA",
            "BRA",
            "ESP",
            "OMN",
            "CAN"
           ],
           "name": "",
           "type": "choropleth",
           "z": [
            1327565,
            163355,
            995147,
            1569182,
            654184,
            191652,
            18930,
            238128,
            132105,
            6897,
            99731,
            56865,
            549,
            21509,
            258876,
            181861,
            60000,
            59032,
            54,
            156966,
            6353321,
            52197,
            15322,
            2582283,
            145257,
            596296,
            406006,
            79304,
            18353,
            17390345,
            16903,
            537774,
            1075807,
            24773,
            781559
           ]
          }
         ],
         "name": "2021-01-23"
        },
        {
         "data": [
          {
           "coloraxis": "coloraxis",
           "geo": "geo",
           "hovertemplate": "<b>%{hovertext}</b><br><br>date=2021-01-24<br>iso_code=%{location}<br>people_vaccinated=%{z}<extra></extra>",
           "hovertext": [
            "Argentina",
            "Serbia",
            "Norway",
            "Greece",
            "Oman",
            "Latvia",
            "Lithuania",
            "Austria",
            "Denmark",
            "Spain",
            "Poland",
            "Bulgaria",
            "Italy",
            "France",
            "Slovenia",
            "United States",
            "Ecuador",
            "Brazil",
            "Canada",
            "Germany",
            "Singapore",
            "Seychelles",
            "United Kingdom",
            "Mexico",
            "Romania",
            "Hungary",
            "Sweden",
            "Slovakia",
            "Israel",
            "Czechia",
            "Belgium",
            "Chile",
            "Malta"
           ],
           "locations": [
            "ARG",
            "SRB",
            "NOR",
            "GRC",
            "OMN",
            "LVA",
            "LTU",
            "AUT",
            "DNK",
            "ESP",
            "POL",
            "BGR",
            "ITA",
            "FRA",
            "SVN",
            "USA",
            "ECU",
            "BRA",
            "CAN",
            "DEU",
            "SGP",
            "SYC",
            "GBR",
            "MEX",
            "ROU",
            "HUN",
            "SWE",
            "SVK",
            "ISR",
            "CZE",
            "BEL",
            "CHL",
            "MLT"
           ],
           "name": "",
           "type": "choropleth",
           "z": [
            260036,
            217800,
            79370,
            149132,
            24773,
            16840,
            59028,
            135249,
            182473,
            1148895,
            659753,
            21533,
            1330572,
            1003968,
            52213,
            18502131,
            108,
            604722,
            781559,
            1607133,
            60000,
            17621.5,
            6573570,
            604441,
            433129,
            146695,
            217738,
            99731,
            2651163,
            193873,
            239974,
            56865,
            18783
           ]
          }
         ],
         "name": "2021-01-24"
        },
        {
         "data": [
          {
           "coloraxis": "coloraxis",
           "geo": "geo",
           "hovertemplate": "<b>%{hovertext}</b><br><br>date=2021-01-25<br>iso_code=%{location}<br>people_vaccinated=%{z}<extra></extra>",
           "hovertext": [
            "Hungary",
            "Denmark",
            "Croatia",
            "Spain",
            "Mexico",
            "Argentina",
            "United Kingdom",
            "Slovenia",
            "Norway",
            "Oman",
            "Serbia",
            "Slovakia",
            "Luxembourg",
            "Czechia",
            "Belgium",
            "Costa Rica",
            "Austria",
            "Malta",
            "France",
            "Brazil",
            "Seychelles",
            "Lithuania",
            "Iceland",
            "Canada",
            "Germany",
            "United States",
            "Bulgaria",
            "Greece",
            "Finland",
            "Latvia",
            "Romania",
            "Chile",
            "Poland",
            "Sweden",
            "Israel",
            "Italy"
           ],
           "locations": [
            "HUN",
            "DNK",
            "HRV",
            "ESP",
            "MEX",
            "ARG",
            "GBR",
            "SVN",
            "NOR",
            "OMN",
            "SRB",
            "SVK",
            "LUX",
            "CZE",
            "BEL",
            "CRI",
            "AUT",
            "MLT",
            "FRA",
            "BRA",
            "SYC",
            "LTU",
            "ISL",
            "CAN",
            "DEU",
            "USA",
            "BGR",
            "GRC",
            "FIN",
            "LVA",
            "ROU",
            "CHL",
            "POL",
            "SWE",
            "ISR",
            "ITA"
           ],
           "name": "",
           "type": "choropleth",
           "z": [
            149676,
            182720,
            58077,
            1167519,
            616390,
            260122,
            6853327,
            52215,
            79945,
            24773,
            256521,
            106399,
            7309,
            203332,
            250881,
            45707,
            137044,
            19709,
            1075045,
            700608,
            19889,
            59134,
            10433,
            781559,
            1664606,
            19252279,
            22129,
            171890,
            106098,
            16922,
            459567,
            56883,
            701222,
            217738,
            2731741,
            1335050
           ]
          }
         ],
         "name": "2021-01-25"
        },
        {
         "data": [
          {
           "coloraxis": "coloraxis",
           "geo": "geo",
           "hovertemplate": "<b>%{hovertext}</b><br><br>date=2021-01-26<br>iso_code=%{location}<br>people_vaccinated=%{z}<extra></extra>",
           "hovertext": [
            "Luxembourg",
            "Finland",
            "Costa Rica",
            "Bahrain",
            "Brazil",
            "Italy",
            "Mauritius",
            "Belgium",
            "Norway",
            "Portugal",
            "Germany",
            "Poland",
            "Slovakia",
            "Iceland",
            "Serbia",
            "Chile",
            "France",
            "Czechia",
            "Bulgaria",
            "Greece",
            "United Kingdom",
            "Oman",
            "United States",
            "Lithuania",
            "Andorra",
            "Croatia",
            "Mexico",
            "Hungary",
            "Israel",
            "Denmark",
            "Argentina",
            "Sweden",
            "Spain",
            "Austria",
            "Romania",
            "Seychelles",
            "Latvia",
            "Malta",
            "Slovenia"
           ],
           "locations": [
            "LUX",
            "FIN",
            "CRI",
            "BHR",
            "BRA",
            "ITA",
            "MUS",
            "BEL",
            "NOR",
            "PRT",
            "DEU",
            "POL",
            "SVK",
            "ISL",
            "SRB",
            "CHL",
            "FRA",
            "CZE",
            "BGR",
            "GRC",
            "GBR",
            "OMN",
            "USA",
            "LTU",
            "AND",
            "HRV",
            "MEX",
            "HUN",
            "ISR",
            "DNK",
            "ARG",
            "SWE",
            "ESP",
            "AUT",
            "ROU",
            "SYC",
            "LVA",
            "MLT",
            "SVN"
           ],
           "name": "",
           "type": "choropleth",
           "z": [
            8280,
            110047,
            45707,
            165953,
            848883,
            1339169,
            0,
            260982,
            82178,
            225499,
            1717708,
            782413,
            113371,
            10433,
            319504,
            56905,
            1165852,
            213598,
            23667,
            184610,
            7164387,
            24773,
            19902237,
            61601,
            576,
            58077,
            621005,
            152704,
            2809685,
            182933,
            266969,
            217738,
            1183395,
            146587,
            487711,
            22712,
            16952,
            20677,
            52303
           ]
          }
         ],
         "name": "2021-01-26"
        },
        {
         "data": [
          {
           "coloraxis": "coloraxis",
           "geo": "geo",
           "hovertemplate": "<b>%{hovertext}</b><br><br>date=2021-01-27<br>iso_code=%{location}<br>people_vaccinated=%{z}<extra></extra>",
           "hovertext": [
            "Slovenia",
            "Romania",
            "Brazil",
            "Israel",
            "Mexico",
            "Singapore",
            "Ireland",
            "United Kingdom",
            "Hungary",
            "Malta",
            "Seychelles",
            "Mauritius",
            "France",
            "Bahrain",
            "Costa Rica",
            "United States",
            "Poland",
            "Italy",
            "Latvia",
            "Croatia",
            "Austria",
            "Lithuania",
            "Andorra",
            "Denmark",
            "Spain",
            "Argentina",
            "Bulgaria",
            "Oman",
            "Slovakia",
            "Bangladesh",
            "Czechia",
            "Portugal",
            "Iceland",
            "Belgium",
            "Norway",
            "Serbia",
            "Germany",
            "Greece",
            "Finland",
            "Chile",
            "Luxembourg"
           ],
           "locations": [
            "SVN",
            "ROU",
            "BRA",
            "ISR",
            "MEX",
            "SGP",
            "IRL",
            "GBR",
            "HUN",
            "MLT",
            "SYC",
            "MUS",
            "FRA",
            "BHR",
            "CRI",
            "USA",
            "POL",
            "ITA",
            "LVA",
            "HRV",
            "AUT",
            "LTU",
            "AND",
            "DNK",
            "ESP",
            "ARG",
            "BGR",
            "OMN",
            "SVK",
            "BGD",
            "CZE",
            "PRT",
            "ISL",
            "BEL",
            "NOR",
            "SRB",
            "DEU",
            "GRC",
            "FIN",
            "CHL",
            "LUX"
           ],
           "name": "",
           "type": "choropleth",
           "z": [
            52589,
            513429,
            1129885,
            2887099,
            624730,
            113000,
            147700,
            7476765,
            161215,
            21417,
            25587,
            0,
            1262972,
            167731,
            45707,
            20687970,
            858474,
            1345038,
            17033,
            58077,
            153859,
            65433,
            576,
            183145,
            1202859,
            272323,
            25245,
            24773,
            120162,
            26,
            222359,
            225499,
            10702,
            273776,
            93366,
            361830,
            1771536,
            198161,
            117555,
            56906,
            9107
           ]
          }
         ],
         "name": "2021-01-27"
        },
        {
         "data": [
          {
           "coloraxis": "coloraxis",
           "geo": "geo",
           "hovertemplate": "<b>%{hovertext}</b><br><br>date=2021-01-28<br>iso_code=%{location}<br>people_vaccinated=%{z}<extra></extra>",
           "hovertext": [
            "Serbia",
            "Bahrain",
            "Bangladesh",
            "Spain",
            "Argentina",
            "Oman",
            "Portugal",
            "Poland",
            "Norway",
            "Slovakia",
            "Seychelles",
            "Singapore",
            "Austria",
            "Slovenia",
            "Romania",
            "Belgium",
            "United Kingdom",
            "Malta",
            "Luxembourg",
            "Lithuania",
            "Denmark",
            "Latvia",
            "Bulgaria",
            "Ecuador",
            "Italy",
            "France",
            "Estonia",
            "Israel",
            "Ireland",
            "Chile",
            "Indonesia",
            "Iceland",
            "Finland",
            "United States",
            "Hungary",
            "Greece",
            "Germany",
            "Czechia",
            "Brazil",
            "Mexico"
           ],
           "locations": [
            "SRB",
            "BHR",
            "BGD",
            "ESP",
            "ARG",
            "OMN",
            "PRT",
            "POL",
            "NOR",
            "SVK",
            "SYC",
            "SGP",
            "AUT",
            "SVN",
            "ROU",
            "BEL",
            "GBR",
            "MLT",
            "LUX",
            "LTU",
            "DNK",
            "LVA",
            "BGR",
            "ECU",
            "ITA",
            "FRA",
            "EST",
            "ISR",
            "IRL",
            "CHL",
            "IDN",
            "ISL",
            "FIN",
            "USA",
            "HUN",
            "GRC",
            "DEU",
            "CZE",
            "BRA",
            "MEX"
           ],
           "name": "",
           "type": "choropleth",
           "z": [
            401556,
            169440,
            567,
            1222323,
            276548,
            24773,
            225499,
            917908,
            104109,
            128350,
            28779,
            113000,
            163806,
            53080,
            534346,
            288547,
            7891184,
            22162,
            9890,
            68808,
            183386,
            17062,
            26753,
            2982,
            1349378,
            1372680,
            25415,
            2966253,
            147700,
            56906,
            368318,
            10702,
            127783,
            21698606,
            175283,
            210488,
            1823058,
            229356,
            1450900,
            626528
           ]
          }
         ],
         "name": "2021-01-28"
        },
        {
         "data": [
          {
           "coloraxis": "coloraxis",
           "geo": "geo",
           "hovertemplate": "<b>%{hovertext}</b><br><br>date=2021-01-29<br>iso_code=%{location}<br>people_vaccinated=%{z}<extra></extra>",
           "hovertext": [
            "Denmark",
            "Iceland",
            "Serbia",
            "Finland",
            "Oman",
            "Lithuania",
            "Seychelles",
            "Argentina",
            "Hungary",
            "United Kingdom",
            "Singapore",
            "Norway",
            "Greece",
            "Cyprus",
            "Belgium",
            "Slovakia",
            "Malta",
            "Germany",
            "Luxembourg",
            "Estonia",
            "Italy",
            "Israel",
            "Bahrain",
            "United States",
            "Romania",
            "Ecuador",
            "Ireland",
            "Chile",
            "Poland",
            "Bulgaria",
            "Latvia",
            "Bangladesh",
            "Austria",
            "Indonesia",
            "France",
            "Brazil",
            "Mexico",
            "Spain",
            "Czechia",
            "Slovenia"
           ],
           "locations": [
            "DNK",
            "ISL",
            "SRB",
            "FIN",
            "OMN",
            "LTU",
            "SYC",
            "ARG",
            "HUN",
            "GBR",
            "SGP",
            "NOR",
            "GRC",
            "CYP",
            "BEL",
            "SVK",
            "MLT",
            "DEU",
            "LUX",
            "EST",
            "ITA",
            "ISR",
            "BHR",
            "USA",
            "ROU",
            "ECU",
            "IRL",
            "CHL",
            "POL",
            "BGR",
            "LVA",
            "BGD",
            "AUT",
            "IDN",
            "FRA",
            "BRA",
            "MEX",
            "ESP",
            "CZE",
            "SVN"
           ],
           "name": "",
           "type": "choropleth",
           "z": [
            184518,
            10702,
            430759,
            137551,
            24773,
            71778,
            30861,
            278451,
            198283,
            8378940,
            113000,
            107850,
            220621,
            19617,
            299707,
            137815,
            22853,
            1879564,
            9498.5,
            26412,
            1353802,
            3002696,
            169810,
            22858318,
            554924,
            2982,
            147700,
            56906,
            945600,
            27856,
            17114,
            296.5,
            174262,
            405012,
            1453325,
            1656851,
            630820,
            1212591,
            235371,
            53605
           ]
          }
         ],
         "name": "2021-01-29"
        },
        {
         "data": [
          {
           "coloraxis": "coloraxis",
           "geo": "geo",
           "hovertemplate": "<b>%{hovertext}</b><br><br>date=2021-01-30<br>iso_code=%{location}<br>people_vaccinated=%{z}<extra></extra>",
           "hovertext": [
            "Poland",
            "United States",
            "Cyprus",
            "Argentina",
            "Brazil",
            "Norway",
            "Luxembourg",
            "Romania",
            "Bulgaria",
            "Czechia",
            "Greece",
            "Estonia",
            "Mexico",
            "Seychelles",
            "Lithuania",
            "Chile",
            "Finland",
            "Hungary",
            "Indonesia",
            "United Kingdom",
            "Ecuador",
            "Serbia",
            "Denmark",
            "Germany",
            "Israel",
            "Italy",
            "Bangladesh",
            "Malta",
            "Latvia",
            "Austria",
            "Slovakia",
            "France",
            "Slovenia",
            "Spain",
            "Faeroe Islands",
            "Bahrain",
            "Belgium",
            "Canada"
           ],
           "locations": [
            "POL",
            "USA",
            "CYP",
            "ARG",
            "BRA",
            "NOR",
            "LUX",
            "ROU",
            "BGR",
            "CZE",
            "GRC",
            "EST",
            "MEX",
            "SYC",
            "LTU",
            "CHL",
            "FIN",
            "HUN",
            "IDN",
            "GBR",
            "ECU",
            "SRB",
            "DNK",
            "DEU",
            "ISR",
            "ITA",
            "BGD",
            "MLT",
            "LVA",
            "AUT",
            "SVK",
            "FRA",
            "SVN",
            "ESP",
            "FRO",
            "BHR",
            "BEL",
            "CAN"
           ],
           "name": "",
           "type": "choropleth",
           "z": [
            958453,
            24064165,
            19617,
            281023,
            1923813,
            107979,
            9890,
            571091,
            27957,
            236085,
            232399,
            27633,
            631298,
            29820,
            71973,
            56906,
            144520,
            222005,
            482145,
            8977329,
            2982,
            437380,
            185748,
            1918003,
            3036877,
            1357661,
            567,
            23391,
            17118,
            183628,
            139204,
            1479909,
            53610,
            1222323,
            3993,
            170433,
            301345,
            871905
           ]
          }
         ],
         "name": "2021-01-30"
        },
        {
         "data": [
          {
           "coloraxis": "coloraxis",
           "geo": "geo",
           "hovertemplate": "<b>%{hovertext}</b><br><br>date=2021-01-31<br>iso_code=%{location}<br>people_vaccinated=%{z}<extra></extra>",
           "hovertext": [
            "Sweden",
            "United Kingdom",
            "Lithuania",
            "Denmark",
            "Finland",
            "Chile",
            "Latvia",
            "Faeroe Islands",
            "Brazil",
            "Bulgaria",
            "Poland",
            "Serbia",
            "Austria",
            "Indonesia",
            "Slovenia",
            "Luxembourg",
            "Portugal",
            "Canada",
            "Greece",
            "Czechia",
            "Estonia",
            "Ireland",
            "Malta",
            "France",
            "Italy",
            "Bahrain",
            "Belgium",
            "Slovakia",
            "Norway",
            "Argentina",
            "Germany",
            "Seychelles",
            "Hungary",
            "Cyprus",
            "Spain",
            "United States",
            "Israel",
            "Romania",
            "Mexico",
            "Singapore"
           ],
           "locations": [
            "SWE",
            "GBR",
            "LTU",
            "DNK",
            "FIN",
            "CHL",
            "LVA",
            "FRO",
            "BRA",
            "BGR",
            "POL",
            "SRB",
            "AUT",
            "IDN",
            "SVN",
            "LUX",
            "PRT",
            "CAN",
            "GRC",
            "CZE",
            "EST",
            "IRL",
            "MLT",
            "FRA",
            "ITA",
            "BHR",
            "BEL",
            "SVK",
            "NOR",
            "ARG",
            "DEU",
            "SYC",
            "HUN",
            "CYP",
            "ESP",
            "USA",
            "ISR",
            "ROU",
            "MEX",
            "SGP"
           ],
           "name": "",
           "type": "choropleth",
           "z": [
            278114,
            9296367,
            71981,
            187010,
            141035.5,
            56906,
            17116,
            3993,
            2046523,
            28041,
            976367,
            434069.5,
            185291,
            493133,
            53610,
            10748,
            268386,
            871905,
            226510,
            236779,
            27900,
            150500,
            23811,
            1486493,
            1360109,
            171568,
            301909,
            139317,
            108059,
            279737,
            1949239,
            30861,
            237872,
            19617,
            1251369,
            25201143,
            3109851,
            585218,
            631485,
            155000
           ]
          }
         ],
         "name": "2021-01-31"
        },
        {
         "data": [
          {
           "coloraxis": "coloraxis",
           "geo": "geo",
           "hovertemplate": "<b>%{hovertext}</b><br><br>date=2021-02-01<br>iso_code=%{location}<br>people_vaccinated=%{z}<extra></extra>",
           "hovertext": [
            "Sweden",
            "Italy",
            "Israel",
            "Canada",
            "Chile",
            "Austria",
            "Bahrain",
            "Ireland",
            "Andorra",
            "Indonesia",
            "Romania",
            "Poland",
            "Argentina",
            "Bulgaria",
            "Portugal",
            "Estonia",
            "France",
            "Latvia",
            "United States",
            "Malta",
            "Seychelles",
            "Croatia",
            "Costa Rica",
            "Serbia",
            "Czechia",
            "Greece",
            "Luxembourg",
            "Norway",
            "Slovenia",
            "Lithuania",
            "Singapore",
            "Finland",
            "Hungary",
            "Belgium",
            "Slovakia",
            "Brazil",
            "Mauritius",
            "Denmark",
            "Mexico",
            "Germany",
            "Spain",
            "United Kingdom"
           ],
           "locations": [
            "SWE",
            "ITA",
            "ISR",
            "CAN",
            "CHL",
            "AUT",
            "BHR",
            "IRL",
            "AND",
            "IDN",
            "ROU",
            "POL",
            "ARG",
            "BGR",
            "PRT",
            "EST",
            "FRA",
            "LVA",
            "USA",
            "MLT",
            "SYC",
            "HRV",
            "CRI",
            "SRB",
            "CZE",
            "GRC",
            "LUX",
            "NOR",
            "SVN",
            "LTU",
            "SGP",
            "FIN",
            "HUN",
            "BEL",
            "SVK",
            "BRA",
            "MUS",
            "DNK",
            "MEX",
            "DEU",
            "ESP",
            "GBR"
           ],
           "name": "",
           "type": "choropleth",
           "z": [
            278114,
            1364548,
            3191812,
            871905,
            56906,
            186479,
            172912,
            150500,
            1036,
            539532,
            598135,
            998587,
            281577,
            28978,
            269814,
            28186,
            1541079,
            17131,
            26023153,
            24526,
            35079,
            58829,
            45863,
            437380,
            240433,
            247251,
            11336,
            108239,
            53628,
            73032,
            155000,
            145557,
            243136,
            305532,
            148168,
            2107624,
            207,
            187758,
            631747,
            1997481,
            1254535,
            9646715
           ]
          }
         ],
         "name": "2021-02-01"
        },
        {
         "data": [
          {
           "coloraxis": "coloraxis",
           "geo": "geo",
           "hovertemplate": "<b>%{hovertext}</b><br><br>date=2021-02-02<br>iso_code=%{location}<br>people_vaccinated=%{z}<extra></extra>",
           "hovertext": [
            "Romania",
            "United Kingdom",
            "Mexico",
            "Singapore",
            "Greece",
            "Spain",
            "Norway",
            "Hungary",
            "Argentina",
            "Germany",
            "Portugal",
            "Luxembourg",
            "Belgium",
            "Czechia",
            "Slovakia",
            "Bahrain",
            "Italy",
            "United States",
            "France",
            "Estonia",
            "Bulgaria",
            "Poland",
            "Israel",
            "Seychelles",
            "Croatia",
            "Chile",
            "Latvia",
            "Malta",
            "Brazil",
            "Sweden",
            "Denmark",
            "Serbia",
            "Lithuania",
            "Andorra",
            "Costa Rica",
            "Ireland",
            "Austria",
            "Slovenia",
            "Finland",
            "Indonesia"
           ],
           "locations": [
            "ROU",
            "GBR",
            "MEX",
            "SGP",
            "GRC",
            "ESP",
            "NOR",
            "HUN",
            "ARG",
            "DEU",
            "PRT",
            "LUX",
            "BEL",
            "CZE",
            "SVK",
            "BHR",
            "ITA",
            "USA",
            "FRA",
            "EST",
            "BGR",
            "POL",
            "ISR",
            "SYC",
            "HRV",
            "CHL",
            "LVA",
            "MLT",
            "BRA",
            "SWE",
            "DNK",
            "SRB",
            "LTU",
            "AND",
            "CRI",
            "IRL",
            "AUT",
            "SVN",
            "FIN",
            "IDN"
           ],
           "name": "",
           "type": "choropleth",
           "z": [
            610383,
            10021471,
            631791,
            175000,
            261543,
            1265800,
            114511,
            247270,
            281577,
            2053765,
            269100,
            11925,
            314931,
            244460,
            156980,
            174075,
            1370744,
            26440836,
            1615088,
            28907,
            30817,
            1053245,
            3261365,
            36284,
            58829,
            70016,
            17266,
            25361,
            2292551,
            278114,
            189818,
            495964,
            74675,
            1036,
            45863,
            150500,
            189926,
            53644,
            145770,
            596260
           ]
          }
         ],
         "name": "2021-02-02"
        },
        {
         "data": [
          {
           "coloraxis": "coloraxis",
           "geo": "geo",
           "hovertemplate": "<b>%{hovertext}</b><br><br>date=2021-02-03<br>iso_code=%{location}<br>people_vaccinated=%{z}<extra></extra>",
           "hovertext": [
            "France",
            "United Kingdom",
            "Hungary",
            "Romania",
            "Seychelles",
            "Finland",
            "Costa Rica",
            "Spain",
            "Germany",
            "Estonia",
            "Serbia",
            "Slovenia",
            "Chile",
            "Slovakia",
            "Indonesia",
            "Iceland",
            "Austria",
            "Greece",
            "Andorra",
            "Singapore",
            "Argentina",
            "Israel",
            "Mexico",
            "Malta",
            "Croatia",
            "Pakistan",
            "Bulgaria",
            "Norway",
            "Lithuania",
            "Belgium",
            "Portugal",
            "Albania",
            "Bahrain",
            "Italy",
            "Denmark",
            "Luxembourg",
            "Latvia",
            "United States",
            "Brazil",
            "Czechia",
            "Poland"
           ],
           "locations": [
            "FRA",
            "GBR",
            "HUN",
            "ROU",
            "SYC",
            "FIN",
            "CRI",
            "ESP",
            "DEU",
            "EST",
            "SRB",
            "SVN",
            "CHL",
            "SVK",
            "IDN",
            "ISL",
            "AUT",
            "GRC",
            "AND",
            "SGP",
            "ARG",
            "ISR",
            "MEX",
            "MLT",
            "HRV",
            "PAK",
            "BGR",
            "NOR",
            "LTU",
            "BEL",
            "PRT",
            "ALB",
            "BHR",
            "ITA",
            "DNK",
            "LUX",
            "LVA",
            "USA",
            "BRA",
            "CZE",
            "POL"
           ],
           "name": "",
           "type": "choropleth",
           "z": [
            1687026,
            10490487,
            249687,
            620176,
            37087,
            149951,
            45863,
            1279220,
            2108944,
            30158,
            513652,
            53792,
            239693,
            166355,
            646026,
            12098,
            194287,
            276103,
            1036,
            175000,
            284196,
            3321221,
            632439,
            26223,
            59064,
            0,
            33691,
            139149,
            76298,
            323991,
            275093,
            549,
            175094,
            1379815,
            191370,
            12597,
            17506,
            27154956,
            2521704,
            248714,
            1117146
           ]
          }
         ],
         "name": "2021-02-03"
        },
        {
         "data": [
          {
           "coloraxis": "coloraxis",
           "geo": "geo",
           "hovertemplate": "<b>%{hovertext}</b><br><br>date=2021-02-04<br>iso_code=%{location}<br>people_vaccinated=%{z}<extra></extra>",
           "hovertext": [
            "Pakistan",
            "Iceland",
            "Chile",
            "Croatia",
            "Israel",
            "Mexico",
            "Latvia",
            "Poland",
            "Indonesia",
            "Denmark",
            "Norway",
            "Hungary",
            "Argentina",
            "United Kingdom",
            "United States",
            "Slovenia",
            "France",
            "Malta",
            "Spain",
            "Czechia",
            "Slovakia",
            "Brazil",
            "Belgium",
            "Germany",
            "Albania",
            "Luxembourg",
            "Singapore",
            "Greece",
            "Finland",
            "Seychelles",
            "Lithuania",
            "Bulgaria",
            "Serbia",
            "Portugal",
            "Italy",
            "Bahrain",
            "Estonia",
            "Austria",
            "Romania",
            "Ecuador"
           ],
           "locations": [
            "PAK",
            "ISL",
            "CHL",
            "HRV",
            "ISR",
            "MEX",
            "LVA",
            "POL",
            "IDN",
            "DNK",
            "NOR",
            "HUN",
            "ARG",
            "GBR",
            "USA",
            "SVN",
            "FRA",
            "MLT",
            "ESP",
            "CZE",
            "SVK",
            "BRA",
            "BEL",
            "DEU",
            "ALB",
            "LUX",
            "SGP",
            "GRC",
            "FIN",
            "SYC",
            "LTU",
            "BGR",
            "SRB",
            "PRT",
            "ITA",
            "BHR",
            "EST",
            "AUT",
            "ROU",
            "ECU"
           ],
           "name": "",
           "type": "choropleth",
           "z": [
            0,
            12098,
            412948,
            59593,
            3392818,
            634346,
            17646,
            1171229,
            700266,
            192806,
            164547,
            264530,
            297717,
            10971047,
            27905197,
            54452,
            1772602,
            27020,
            1305251,
            253449,
            175225,
            3073057,
            332563,
            2170344,
            549,
            13256,
            175000,
            291259,
            159624,
            36685.5,
            77823,
            36929,
            526930,
            279236,
            1392839,
            177233,
            31864,
            198912,
            629279,
            6228
           ]
          }
         ],
         "name": "2021-02-04"
        },
        {
         "data": [
          {
           "coloraxis": "coloraxis",
           "geo": "geo",
           "hovertemplate": "<b>%{hovertext}</b><br><br>date=2021-02-05<br>iso_code=%{location}<br>people_vaccinated=%{z}<extra></extra>",
           "hovertext": [
            "Israel",
            "United Kingdom",
            "Croatia",
            "Iceland",
            "Ireland",
            "Spain",
            "Serbia",
            "Czechia",
            "Mexico",
            "Slovakia",
            "Finland",
            "Chile",
            "Norway",
            "Greece",
            "Luxembourg",
            "Brazil",
            "Seychelles",
            "Romania",
            "Estonia",
            "United States",
            "Hungary",
            "Lithuania",
            "Germany",
            "Bulgaria",
            "Portugal",
            "Belgium",
            "Bahrain",
            "Latvia",
            "Sweden",
            "Italy",
            "Argentina",
            "France",
            "Poland",
            "Slovenia",
            "Cyprus",
            "Denmark",
            "Austria",
            "Indonesia",
            "Malta"
           ],
           "locations": [
            "ISR",
            "GBR",
            "HRV",
            "ISL",
            "IRL",
            "ESP",
            "SRB",
            "CZE",
            "MEX",
            "SVK",
            "FIN",
            "CHL",
            "NOR",
            "GRC",
            "LUX",
            "BRA",
            "SYC",
            "ROU",
            "EST",
            "USA",
            "HUN",
            "LTU",
            "DEU",
            "BGR",
            "PRT",
            "BEL",
            "BHR",
            "LVA",
            "SWE",
            "ITA",
            "ARG",
            "FRA",
            "POL",
            "SVN",
            "CYP",
            "DNK",
            "AUT",
            "IDN",
            "MLT"
           ],
           "name": "",
           "type": "choropleth",
           "z": [
            3426473,
            11465210,
            59328.5,
            12660,
            151212,
            1292235.5,
            538373,
            258645,
            636070,
            183591,
            164636,
            580928,
            174953,
            306441,
            12926.5,
            3074906,
            37087,
            638886,
            33927,
            28909497,
            279410,
            78781,
            2228516,
            39468,
            277164.5,
            339658,
            179550,
            17807,
            286853,
            1409926,
            290956.5,
            1843763,
            1193034,
            54812,
            22813,
            194386,
            202160,
            744884,
            28082
           ]
          }
         ],
         "name": "2021-02-05"
        },
        {
         "data": [
          {
           "coloraxis": "coloraxis",
           "geo": "geo",
           "hovertemplate": "<b>%{hovertext}</b><br><br>date=2021-02-06<br>iso_code=%{location}<br>people_vaccinated=%{z}<extra></extra>",
           "hovertext": [
            "Estonia",
            "Italy",
            "Indonesia",
            "Chile",
            "Brazil",
            "Finland",
            "Slovenia",
            "Belgium",
            "Bulgaria",
            "Seychelles",
            "Germany",
            "Sweden",
            "Latvia",
            "Lithuania",
            "Hungary",
            "Luxembourg",
            "Cyprus",
            "Romania",
            "Austria",
            "United States",
            "Poland",
            "Portugal",
            "Serbia",
            "Greece",
            "Faeroe Islands",
            "Bahrain",
            "Spain",
            "Mexico",
            "Canada",
            "Argentina",
            "France",
            "Israel",
            "Slovakia",
            "Iceland",
            "Azerbaijan",
            "United Kingdom",
            "Croatia",
            "Norway",
            "Ireland",
            "Denmark",
            "Malta",
            "Czechia"
           ],
           "locations": [
            "EST",
            "ITA",
            "IDN",
            "CHL",
            "BRA",
            "FIN",
            "SVN",
            "BEL",
            "BGR",
            "SYC",
            "DEU",
            "SWE",
            "LVA",
            "LTU",
            "HUN",
            "LUX",
            "CYP",
            "ROU",
            "AUT",
            "USA",
            "POL",
            "PRT",
            "SRB",
            "GRC",
            "FRO",
            "BHR",
            "ESP",
            "MEX",
            "CAN",
            "ARG",
            "FRA",
            "ISR",
            "SVK",
            "ISL",
            "AZE",
            "GBR",
            "HRV",
            "NOR",
            "IRL",
            "DNK",
            "MLT",
            "CZE"
           ],
           "name": "",
           "type": "choropleth",
           "z": [
            35492,
            1424245,
            777096,
            608296,
            3399421,
            169194,
            54840,
            340856,
            39624,
            37589,
            2275406,
            286853,
            17815,
            78848,
            286379,
            13256,
            22813,
            647690,
            208144,
            30250964,
            1200793,
            284462,
            532651.5,
            318097,
            4051,
            182543,
            1305251,
            637098,
            922234,
            307501,
            1866091,
            3447299,
            185679,
            12660,
            65000,
            12015018,
            59593,
            175730,
            151212,
            195409,
            28837,
            259477
           ]
          }
         ],
         "name": "2021-02-06"
        },
        {
         "data": [
          {
           "coloraxis": "coloraxis",
           "geo": "geo",
           "hovertemplate": "<b>%{hovertext}</b><br><br>date=2021-02-07<br>iso_code=%{location}<br>people_vaccinated=%{z}<extra></extra>",
           "hovertext": [
            "Ireland",
            "Luxembourg",
            "Israel",
            "Estonia",
            "France",
            "Argentina",
            "Spain",
            "Canada",
            "Italy",
            "Malta",
            "Czechia",
            "Belgium",
            "Slovakia",
            "Portugal",
            "Slovenia",
            "Germany",
            "Cyprus",
            "Norway",
            "United States",
            "Chile",
            "Faeroe Islands",
            "Serbia",
            "United Kingdom",
            "Bahrain",
            "Denmark",
            "Bangladesh",
            "Mexico",
            "Latvia",
            "Austria",
            "Poland",
            "Indonesia",
            "Sweden",
            "Bulgaria",
            "Iceland",
            "Finland",
            "Brazil",
            "Seychelles",
            "Romania",
            "Greece",
            "Hungary",
            "Lithuania"
           ],
           "locations": [
            "IRL",
            "LUX",
            "ISR",
            "EST",
            "FRA",
            "ARG",
            "ESP",
            "CAN",
            "ITA",
            "MLT",
            "CZE",
            "BEL",
            "SVK",
            "PRT",
            "SVN",
            "DEU",
            "CYP",
            "NOR",
            "USA",
            "CHL",
            "FRO",
            "SRB",
            "GBR",
            "BHR",
            "DNK",
            "BGD",
            "MEX",
            "LVA",
            "AUT",
            "POL",
            "IDN",
            "SWE",
            "BGR",
            "ISL",
            "FIN",
            "BRA",
            "SYC",
            "ROU",
            "GRC",
            "HUN",
            "LTU"
           ],
           "name": "",
           "type": "choropleth",
           "z": [
            153654,
            13940,
            3499883,
            35905,
            1871604,
            319316,
            1318626,
            922234,
            1433177,
            29339,
            260301,
            341157,
            185859,
            290302,
            54840,
            2307972,
            22813,
            176050,
            31579100,
            616883,
            4051,
            544209,
            12294006,
            191406,
            197321,
            31160,
            637681,
            17817,
            210239,
            1206212,
            784318,
            286853,
            39646,
            12660,
            170335,
            3534004,
            37589,
            656177,
            312269,
            289042,
            78851
           ]
          }
         ],
         "name": "2021-02-07"
        },
        {
         "data": [
          {
           "coloraxis": "coloraxis",
           "geo": "geo",
           "hovertemplate": "<b>%{hovertext}</b><br><br>date=2021-02-08<br>iso_code=%{location}<br>people_vaccinated=%{z}<extra></extra>",
           "hovertext": [
            "Portugal",
            "Italy",
            "France",
            "United States",
            "Ireland",
            "Bangladesh",
            "Malta",
            "Hungary",
            "Latvia",
            "Slovenia",
            "Greece",
            "Austria",
            "Indonesia",
            "Poland",
            "Israel",
            "Estonia",
            "Brazil",
            "Denmark",
            "Spain",
            "Belgium",
            "Finland",
            "Slovakia",
            "Serbia",
            "Oman",
            "Faeroe Islands",
            "Costa Rica",
            "Lithuania",
            "Chile",
            "Romania",
            "Germany",
            "Canada",
            "Czechia",
            "Seychelles",
            "United Kingdom",
            "Argentina",
            "Bahrain",
            "Luxembourg",
            "Bulgaria",
            "Iceland",
            "Mexico",
            "Norway"
           ],
           "locations": [
            "PRT",
            "ITA",
            "FRA",
            "USA",
            "IRL",
            "BGD",
            "MLT",
            "HUN",
            "LVA",
            "SVN",
            "GRC",
            "AUT",
            "IDN",
            "POL",
            "ISR",
            "EST",
            "BRA",
            "DNK",
            "ESP",
            "BEL",
            "FIN",
            "SVK",
            "SRB",
            "OMN",
            "FRO",
            "CRI",
            "LTU",
            "CHL",
            "ROU",
            "DEU",
            "CAN",
            "CZE",
            "SYC",
            "GBR",
            "ARG",
            "BHR",
            "LUX",
            "BGR",
            "ISL",
            "MEX",
            "NOR"
           ],
           "name": "",
           "type": "choropleth",
           "z": [
            291378,
            1459473,
            1922706,
            32340146,
            154900,
            31160,
            30235,
            291396,
            18072,
            55240,
            332812,
            212062,
            814585,
            1203502.5,
            3558046,
            35917,
            3579850,
            199868,
            1328459,
            343393,
            170641,
            193204,
            544209,
            26874,
            4098,
            46750,
            79080,
            836412,
            661062,
            2358079,
            922234,
            263909,
            37714,
            12646486,
            322318,
            201116,
            14089,
            41407,
            12801,
            638391,
            176173
           ]
          }
         ],
         "name": "2021-02-08"
        },
        {
         "data": [
          {
           "coloraxis": "coloraxis",
           "geo": "geo",
           "hovertemplate": "<b>%{hovertext}</b><br><br>date=2021-02-09<br>iso_code=%{location}<br>people_vaccinated=%{z}<extra></extra>",
           "hovertext": [
            "Spain",
            "Denmark",
            "Sweden",
            "Estonia",
            "Croatia",
            "Albania",
            "Finland",
            "Czechia",
            "Faeroe Islands",
            "Costa Rica",
            "Hungary",
            "Bangladesh",
            "Israel",
            "Slovakia",
            "Germany",
            "Austria",
            "Latvia",
            "Poland",
            "Chile",
            "Greece",
            "Malta",
            "Norway",
            "Luxembourg",
            "Lithuania",
            "Bahrain",
            "Belgium",
            "Indonesia",
            "Seychelles",
            "Oman",
            "Portugal",
            "United States",
            "Slovenia",
            "France",
            "Iceland",
            "Mexico",
            "Serbia",
            "Brazil",
            "Italy",
            "Ireland",
            "Argentina",
            "Romania",
            "Bulgaria",
            "United Kingdom",
            "Iran"
           ],
           "locations": [
            "ESP",
            "DNK",
            "SWE",
            "EST",
            "HRV",
            "ALB",
            "FIN",
            "CZE",
            "FRO",
            "CRI",
            "HUN",
            "BGD",
            "ISR",
            "SVK",
            "DEU",
            "AUT",
            "LVA",
            "POL",
            "CHL",
            "GRC",
            "MLT",
            "NOR",
            "LUX",
            "LTU",
            "BHR",
            "BEL",
            "IDN",
            "SYC",
            "OMN",
            "PRT",
            "USA",
            "SVN",
            "FRA",
            "ISL",
            "MEX",
            "SRB",
            "BRA",
            "ITA",
            "IRL",
            "ARG",
            "ROU",
            "BGR",
            "GBR",
            "IRN"
           ],
           "name": "",
           "type": "choropleth",
           "z": [
            1343566,
            203413,
            308622,
            35911,
            61241,
            689,
            173558,
            268632,
            4098,
            46750,
            292627,
            179318,
            3622976,
            200544,
            2421845,
            215592,
            18213,
            1291569,
            1076484,
            345290,
            31202,
            181485,
            14227,
            80088,
            212940,
            350468,
            845407,
            37723,
            31021,
            291758,
            32867213,
            55328,
            1990860,
            12801,
            640129,
            544209,
            3786591,
            1493329,
            158904,
            322975,
            666942,
            44482,
            13058298,
            3000
           ]
          }
         ],
         "name": "2021-02-09"
        },
        {
         "data": [
          {
           "coloraxis": "coloraxis",
           "geo": "geo",
           "hovertemplate": "<b>%{hovertext}</b><br><br>date=2021-02-10<br>iso_code=%{location}<br>people_vaccinated=%{z}<extra></extra>",
           "hovertext": [
            "Cambodia",
            "Czechia",
            "Russia",
            "Brazil",
            "Ireland",
            "Romania",
            "United Kingdom",
            "United States",
            "Lithuania",
            "Portugal",
            "Austria",
            "Andorra",
            "Estonia",
            "Italy",
            "Norway",
            "Luxembourg",
            "Sweden",
            "Indonesia",
            "Israel",
            "Poland",
            "Pakistan",
            "Peru",
            "Greece",
            "Singapore",
            "Finland",
            "Germany",
            "Slovakia",
            "Bangladesh",
            "Spain",
            "Latvia",
            "Argentina",
            "Croatia",
            "Slovenia",
            "Iceland",
            "Serbia",
            "Bulgaria",
            "Faeroe Islands",
            "Costa Rica",
            "Chile",
            "Mexico",
            "Denmark",
            "Bahrain",
            "Hungary",
            "Seychelles",
            "France",
            "Belgium",
            "Oman",
            "Malta"
           ],
           "locations": [
            "KHM",
            "CZE",
            "RUS",
            "BRA",
            "IRL",
            "ROU",
            "GBR",
            "USA",
            "LTU",
            "PRT",
            "AUT",
            "AND",
            "EST",
            "ITA",
            "NOR",
            "LUX",
            "SWE",
            "IDN",
            "ISR",
            "POL",
            "PAK",
            "PER",
            "GRC",
            "SGP",
            "FIN",
            "DEU",
            "SVK",
            "BGD",
            "ESP",
            "LVA",
            "ARG",
            "HRV",
            "SVN",
            "ISL",
            "SRB",
            "BGR",
            "FRO",
            "CRI",
            "CHL",
            "MEX",
            "DNK",
            "BHR",
            "HUN",
            "SYC",
            "FRA",
            "BEL",
            "OMN",
            "MLT"
           ],
           "name": "",
           "type": "choropleth",
           "z": [
            1492,
            273911,
            2200000,
            4069677,
            166863,
            671448,
            13509108,
            33783384,
            84509,
            294135,
            219286,
            1291,
            39147,
            1537154,
            203681,
            15052,
            316765,
            969546,
            3691595,
            1291569,
            27228,
            9779,
            353412,
            250000,
            178005,
            2493501,
            206966,
            337769,
            1377229,
            18623,
            337772,
            61241,
            57790,
            12801,
            592634,
            47551,
            4134,
            46750,
            1345352,
            640115,
            206691,
            219595,
            294624,
            37726,
            2060675,
            355972,
            37209,
            31670
           ]
          }
         ],
         "name": "2021-02-10"
        },
        {
         "data": [
          {
           "coloraxis": "coloraxis",
           "geo": "geo",
           "hovertemplate": "<b>%{hovertext}</b><br><br>date=2021-02-11<br>iso_code=%{location}<br>people_vaccinated=%{z}<extra></extra>",
           "hovertext": [
            "Brazil",
            "Bulgaria",
            "United Kingdom",
            "Lithuania",
            "Latvia",
            "Czechia",
            "Poland",
            "Italy",
            "Oman",
            "Bahrain",
            "Denmark",
            "Peru",
            "Portugal",
            "Indonesia",
            "Chile",
            "Israel",
            "Hungary",
            "Seychelles",
            "Belgium",
            "Croatia",
            "Greece",
            "Cyprus",
            "Germany",
            "Spain",
            "United States",
            "Argentina",
            "Mexico",
            "France",
            "Finland",
            "Slovenia",
            "Slovakia",
            "Malta",
            "Serbia",
            "Ireland",
            "Romania",
            "Norway",
            "Austria",
            "Estonia",
            "Luxembourg",
            "Bangladesh",
            "Sweden"
           ],
           "locations": [
            "BRA",
            "BGR",
            "GBR",
            "LTU",
            "LVA",
            "CZE",
            "POL",
            "ITA",
            "OMN",
            "BHR",
            "DNK",
            "PER",
            "PRT",
            "IDN",
            "CHL",
            "ISR",
            "HUN",
            "SYC",
            "BEL",
            "HRV",
            "GRC",
            "CYP",
            "DEU",
            "ESP",
            "USA",
            "ARG",
            "MEX",
            "FRA",
            "FIN",
            "SVN",
            "SVK",
            "MLT",
            "SRB",
            "IRL",
            "ROU",
            "NOR",
            "AUT",
            "EST",
            "LUX",
            "BGD",
            "SWE"
           ],
           "name": "",
           "type": "choropleth",
           "z": [
            4326075,
            51435,
            14012224,
            91891,
            19616,
            279497,
            1413132,
            1589173,
            45229,
            224919,
            212301,
            32921,
            303142,
            1017186,
            1593170,
            3770184,
            310448,
            37952,
            362339,
            64775,
            360800,
            41673,
            2563161,
            1422560,
            34723964,
            362649,
            640115,
            2146212,
            187384,
            64095,
            213893,
            32524,
            636119,
            171239,
            675234,
            223461,
            224467,
            41731,
            16131,
            258543.5,
            331389
           ]
          }
         ],
         "name": "2021-02-11"
        },
        {
         "data": [
          {
           "coloraxis": "coloraxis",
           "geo": "geo",
           "hovertemplate": "<b>%{hovertext}</b><br><br>date=2021-02-12<br>iso_code=%{location}<br>people_vaccinated=%{z}<extra></extra>",
           "hovertext": [
            "Luxembourg",
            "Brazil",
            "Czechia",
            "Malta",
            "Mexico",
            "Lithuania",
            "Latvia",
            "Belgium",
            "Croatia",
            "Oman",
            "Norway",
            "Slovenia",
            "Bangladesh",
            "Ireland",
            "Romania",
            "Austria",
            "Estonia",
            "Indonesia",
            "Iceland",
            "Serbia",
            "Chile",
            "Seychelles",
            "Greece",
            "Germany",
            "Spain",
            "Slovakia",
            "United States",
            "Argentina",
            "France",
            "Finland",
            "Hungary",
            "Israel",
            "Sweden",
            "Peru",
            "United Kingdom",
            "Poland",
            "Denmark",
            "Italy",
            "Bulgaria",
            "Turkey",
            "Portugal",
            "Bahrain"
           ],
           "locations": [
            "LUX",
            "BRA",
            "CZE",
            "MLT",
            "MEX",
            "LTU",
            "LVA",
            "BEL",
            "HRV",
            "OMN",
            "NOR",
            "SVN",
            "BGD",
            "IRL",
            "ROU",
            "AUT",
            "EST",
            "IDN",
            "ISL",
            "SRB",
            "CHL",
            "SYC",
            "GRC",
            "DEU",
            "ESP",
            "SVK",
            "USA",
            "ARG",
            "FRA",
            "FIN",
            "HUN",
            "ISR",
            "SWE",
            "PER",
            "GBR",
            "POL",
            "DNK",
            "ITA",
            "BGR",
            "TUR",
            "PRT",
            "BHR"
           ],
           "name": "",
           "type": "choropleth",
           "z": [
            15591.5,
            4586270,
            284759,
            33735,
            640115,
            97727,
            20637,
            366295,
            64775,
            55013,
            230985,
            70335,
            337769,
            175238,
            679333,
            229317,
            44486,
            993366,
            14086,
            614376.5,
            1818987,
            37839,
            366749,
            2639096,
            1399894.5,
            221452,
            35834855,
            368023,
            2225321,
            197540,
            330745,
            3809010,
            341656,
            55279,
            14556827,
            1446102,
            223989,
            1644955,
            54123,
            3067822,
            310715,
            232540
           ]
          }
         ],
         "name": "2021-02-12"
        },
        {
         "data": [
          {
           "coloraxis": "coloraxis",
           "geo": "geo",
           "hovertemplate": "<b>%{hovertext}</b><br><br>date=2021-02-13<br>iso_code=%{location}<br>people_vaccinated=%{z}<extra></extra>",
           "hovertext": [
            "Bangladesh",
            "Germany",
            "Seychelles",
            "Greece",
            "Poland",
            "Malta",
            "Oman",
            "Lithuania",
            "Spain",
            "Latvia",
            "Belgium",
            "United Kingdom",
            "Slovakia",
            "Peru",
            "Argentina",
            "Mexico",
            "France",
            "Turkey",
            "Finland",
            "Croatia",
            "Hungary",
            "Serbia",
            "Portugal",
            "Brazil",
            "Israel",
            "Slovenia",
            "Norway",
            "Italy",
            "Romania",
            "Austria",
            "United States",
            "Chile",
            "Bulgaria",
            "Indonesia",
            "Czechia",
            "Luxembourg",
            "Denmark",
            "Iceland",
            "Bahrain",
            "Estonia"
           ],
           "locations": [
            "BGD",
            "DEU",
            "SYC",
            "GRC",
            "POL",
            "MLT",
            "OMN",
            "LTU",
            "ESP",
            "LVA",
            "BEL",
            "GBR",
            "SVK",
            "PER",
            "ARG",
            "MEX",
            "FRA",
            "TUR",
            "FIN",
            "HRV",
            "HUN",
            "SRB",
            "PRT",
            "BRA",
            "ISR",
            "SVN",
            "NOR",
            "ITA",
            "ROU",
            "AUT",
            "USA",
            "CHL",
            "BGR",
            "IDN",
            "CZE",
            "LUX",
            "DNK",
            "ISL",
            "BHR",
            "EST"
           ],
           "name": "",
           "type": "choropleth",
           "z": [
            736680,
            2700343,
            41799,
            371462,
            1466439,
            34574,
            65166,
            98163,
            1422560,
            20860,
            366551,
            15062189,
            224953,
            68811,
            371629,
            640125,
            2249685,
            3253005,
            206283,
            64775,
            335188,
            783161,
            320677,
            4946738,
            3836305,
            71011,
            231755,
            1688821,
            683346,
            236728,
            37056122,
            1848061,
            54646,
            1060326,
            286168,
            16131,
            230531,
            14086,
            242260,
            46020
           ]
          }
         ],
         "name": "2021-02-13"
        },
        {
         "data": [
          {
           "coloraxis": "coloraxis",
           "geo": "geo",
           "hovertemplate": "<b>%{hovertext}</b><br><br>date=2021-02-14<br>iso_code=%{location}<br>people_vaccinated=%{z}<extra></extra>",
           "hovertext": [
            "United Kingdom",
            "United States",
            "Latvia",
            "Italy",
            "Israel",
            "Indonesia",
            "Iceland",
            "Hungary",
            "Greece",
            "Germany",
            "France",
            "Finland",
            "Estonia",
            "Luxembourg",
            "Denmark",
            "Chile",
            "Bulgaria",
            "Brazil",
            "Belgium",
            "Bangladesh",
            "Bahrain",
            "Austria",
            "Argentina",
            "Czechia",
            "Mexico",
            "Malta",
            "Portugal",
            "Poland",
            "Slovakia",
            "Peru",
            "Romania",
            "Slovenia",
            "Norway",
            "Oman",
            "Spain",
            "Turkey"
           ],
           "locations": [
            "GBR",
            "USA",
            "LVA",
            "ITA",
            "ISR",
            "IDN",
            "ISL",
            "HUN",
            "GRC",
            "DEU",
            "FRA",
            "FIN",
            "EST",
            "LUX",
            "DNK",
            "CHL",
            "BGR",
            "BRA",
            "BEL",
            "BGD",
            "BHR",
            "AUT",
            "ARG",
            "CZE",
            "MEX",
            "MLT",
            "PRT",
            "POL",
            "SVK",
            "PER",
            "ROU",
            "SVN",
            "NOR",
            "OMN",
            "ESP",
            "TUR"
           ],
           "name": "",
           "type": "choropleth",
           "z": [
            15300151,
            38292270,
            20861,
            1715393,
            3910283,
            1068747,
            14086,
            336297,
            369105.5,
            2736109,
            2255597,
            209510,
            46152,
            17257,
            236645,
            1852521,
            54690,
            5042713,
            366558,
            906033,
            248775,
            241795,
            372122,
            287031,
            640120,
            35376,
            328819,
            1476274,
            235556,
            72430,
            686634,
            71025,
            231862,
            76940,
            1491517,
            3336164
           ]
          }
         ],
         "name": "2021-02-14"
        },
        {
         "data": [
          {
           "coloraxis": "coloraxis",
           "geo": "geo",
           "hovertemplate": "<b>%{hovertext}</b><br><br>date=2021-02-15<br>iso_code=%{location}<br>people_vaccinated=%{z}<extra></extra>",
           "hovertext": [
            "Bahrain",
            "Slovakia",
            "Brazil",
            "Austria",
            "Bulgaria",
            "Argentina",
            "Turkey",
            "Bangladesh",
            "Romania",
            "Croatia",
            "Costa Rica",
            "Mexico",
            "Israel",
            "Indonesia",
            "Chile",
            "Iceland",
            "Greece",
            "Finland",
            "Estonia",
            "Peru",
            "Portugal",
            "Italy"
           ],
           "locations": [
            "BHR",
            "SVK",
            "BRA",
            "AUT",
            "BGR",
            "ARG",
            "TUR",
            "BGD",
            "ROU",
            "HRV",
            "CRI",
            "MEX",
            "ISR",
            "IDN",
            "CHL",
            "ISL",
            "GRC",
            "FIN",
            "EST",
            "PER",
            "PRT",
            "ITA"
           ],
           "name": "",
           "type": "choropleth",
           "z": [
            250946,
            235556,
            5076110,
            242625,
            56113,
            372181,
            3608148,
            1132711,
            696943,
            67825,
            54395,
            663484,
            3988763,
            1096095,
            2092453,
            14087,
            386049,
            210194,
            46154,
            79763,
            331321,
            1756512
           ]
          }
         ],
         "name": "2021-02-15"
        }
       ],
       "layout": {
        "coloraxis": {
         "cmax": 5000000,
         "cmin": 0,
         "colorbar": {
          "title": {
           "text": "people_vaccinated"
          }
         },
         "colorscale": [
          [
           0,
           "#440154"
          ],
          [
           0.1111111111111111,
           "#482878"
          ],
          [
           0.2222222222222222,
           "#3e4989"
          ],
          [
           0.3333333333333333,
           "#31688e"
          ],
          [
           0.4444444444444444,
           "#26828e"
          ],
          [
           0.5555555555555556,
           "#1f9e89"
          ],
          [
           0.6666666666666666,
           "#35b779"
          ],
          [
           0.7777777777777778,
           "#6ece58"
          ],
          [
           0.8888888888888888,
           "#b5de2b"
          ],
          [
           1,
           "#fde725"
          ]
         ]
        },
        "geo": {
         "center": {},
         "domain": {
          "x": [
           0,
           1
          ],
          "y": [
           0,
           1
          ]
         },
         "projection": {
          "type": "natural earth"
         }
        },
        "legend": {
         "tracegroupgap": 0
        },
        "sliders": [
         {
          "active": 0,
          "currentvalue": {
           "prefix": "date="
          },
          "len": 0.9,
          "pad": {
           "b": 10,
           "t": 60
          },
          "steps": [
           {
            "args": [
             [
              "2020-12-14"
             ],
             {
              "frame": {
               "duration": 0,
               "redraw": true
              },
              "fromcurrent": true,
              "mode": "immediate",
              "transition": {
               "duration": 0,
               "easing": "linear"
              }
             }
            ],
            "label": "2020-12-14",
            "method": "animate"
           },
           {
            "args": [
             [
              "2020-12-15"
             ],
             {
              "frame": {
               "duration": 0,
               "redraw": true
              },
              "fromcurrent": true,
              "mode": "immediate",
              "transition": {
               "duration": 0,
               "easing": "linear"
              }
             }
            ],
            "label": "2020-12-15",
            "method": "animate"
           },
           {
            "args": [
             [
              "2020-12-16"
             ],
             {
              "frame": {
               "duration": 0,
               "redraw": true
              },
              "fromcurrent": true,
              "mode": "immediate",
              "transition": {
               "duration": 0,
               "easing": "linear"
              }
             }
            ],
            "label": "2020-12-16",
            "method": "animate"
           },
           {
            "args": [
             [
              "2020-12-17"
             ],
             {
              "frame": {
               "duration": 0,
               "redraw": true
              },
              "fromcurrent": true,
              "mode": "immediate",
              "transition": {
               "duration": 0,
               "easing": "linear"
              }
             }
            ],
            "label": "2020-12-17",
            "method": "animate"
           },
           {
            "args": [
             [
              "2020-12-20"
             ],
             {
              "frame": {
               "duration": 0,
               "redraw": true
              },
              "fromcurrent": true,
              "mode": "immediate",
              "transition": {
               "duration": 0,
               "easing": "linear"
              }
             }
            ],
            "label": "2020-12-20",
            "method": "animate"
           },
           {
            "args": [
             [
              "2020-12-21"
             ],
             {
              "frame": {
               "duration": 0,
               "redraw": true
              },
              "fromcurrent": true,
              "mode": "immediate",
              "transition": {
               "duration": 0,
               "easing": "linear"
              }
             }
            ],
            "label": "2020-12-21",
            "method": "animate"
           },
           {
            "args": [
             [
              "2020-12-22"
             ],
             {
              "frame": {
               "duration": 0,
               "redraw": true
              },
              "fromcurrent": true,
              "mode": "immediate",
              "transition": {
               "duration": 0,
               "easing": "linear"
              }
             }
            ],
            "label": "2020-12-22",
            "method": "animate"
           },
           {
            "args": [
             [
              "2020-12-23"
             ],
             {
              "frame": {
               "duration": 0,
               "redraw": true
              },
              "fromcurrent": true,
              "mode": "immediate",
              "transition": {
               "duration": 0,
               "easing": "linear"
              }
             }
            ],
            "label": "2020-12-23",
            "method": "animate"
           },
           {
            "args": [
             [
              "2020-12-24"
             ],
             {
              "frame": {
               "duration": 0,
               "redraw": true
              },
              "fromcurrent": true,
              "mode": "immediate",
              "transition": {
               "duration": 0,
               "easing": "linear"
              }
             }
            ],
            "label": "2020-12-24",
            "method": "animate"
           },
           {
            "args": [
             [
              "2020-12-25"
             ],
             {
              "frame": {
               "duration": 0,
               "redraw": true
              },
              "fromcurrent": true,
              "mode": "immediate",
              "transition": {
               "duration": 0,
               "easing": "linear"
              }
             }
            ],
            "label": "2020-12-25",
            "method": "animate"
           },
           {
            "args": [
             [
              "2020-12-26"
             ],
             {
              "frame": {
               "duration": 0,
               "redraw": true
              },
              "fromcurrent": true,
              "mode": "immediate",
              "transition": {
               "duration": 0,
               "easing": "linear"
              }
             }
            ],
            "label": "2020-12-26",
            "method": "animate"
           },
           {
            "args": [
             [
              "2020-12-27"
             ],
             {
              "frame": {
               "duration": 0,
               "redraw": true
              },
              "fromcurrent": true,
              "mode": "immediate",
              "transition": {
               "duration": 0,
               "easing": "linear"
              }
             }
            ],
            "label": "2020-12-27",
            "method": "animate"
           },
           {
            "args": [
             [
              "2020-12-28"
             ],
             {
              "frame": {
               "duration": 0,
               "redraw": true
              },
              "fromcurrent": true,
              "mode": "immediate",
              "transition": {
               "duration": 0,
               "easing": "linear"
              }
             }
            ],
            "label": "2020-12-28",
            "method": "animate"
           },
           {
            "args": [
             [
              "2020-12-29"
             ],
             {
              "frame": {
               "duration": 0,
               "redraw": true
              },
              "fromcurrent": true,
              "mode": "immediate",
              "transition": {
               "duration": 0,
               "easing": "linear"
              }
             }
            ],
            "label": "2020-12-29",
            "method": "animate"
           },
           {
            "args": [
             [
              "2020-12-30"
             ],
             {
              "frame": {
               "duration": 0,
               "redraw": true
              },
              "fromcurrent": true,
              "mode": "immediate",
              "transition": {
               "duration": 0,
               "easing": "linear"
              }
             }
            ],
            "label": "2020-12-30",
            "method": "animate"
           },
           {
            "args": [
             [
              "2020-12-31"
             ],
             {
              "frame": {
               "duration": 0,
               "redraw": true
              },
              "fromcurrent": true,
              "mode": "immediate",
              "transition": {
               "duration": 0,
               "easing": "linear"
              }
             }
            ],
            "label": "2020-12-31",
            "method": "animate"
           },
           {
            "args": [
             [
              "2021-01-01"
             ],
             {
              "frame": {
               "duration": 0,
               "redraw": true
              },
              "fromcurrent": true,
              "mode": "immediate",
              "transition": {
               "duration": 0,
               "easing": "linear"
              }
             }
            ],
            "label": "2021-01-01",
            "method": "animate"
           },
           {
            "args": [
             [
              "2021-01-02"
             ],
             {
              "frame": {
               "duration": 0,
               "redraw": true
              },
              "fromcurrent": true,
              "mode": "immediate",
              "transition": {
               "duration": 0,
               "easing": "linear"
              }
             }
            ],
            "label": "2021-01-02",
            "method": "animate"
           },
           {
            "args": [
             [
              "2021-01-03"
             ],
             {
              "frame": {
               "duration": 0,
               "redraw": true
              },
              "fromcurrent": true,
              "mode": "immediate",
              "transition": {
               "duration": 0,
               "easing": "linear"
              }
             }
            ],
            "label": "2021-01-03",
            "method": "animate"
           },
           {
            "args": [
             [
              "2021-01-04"
             ],
             {
              "frame": {
               "duration": 0,
               "redraw": true
              },
              "fromcurrent": true,
              "mode": "immediate",
              "transition": {
               "duration": 0,
               "easing": "linear"
              }
             }
            ],
            "label": "2021-01-04",
            "method": "animate"
           },
           {
            "args": [
             [
              "2021-01-05"
             ],
             {
              "frame": {
               "duration": 0,
               "redraw": true
              },
              "fromcurrent": true,
              "mode": "immediate",
              "transition": {
               "duration": 0,
               "easing": "linear"
              }
             }
            ],
            "label": "2021-01-05",
            "method": "animate"
           },
           {
            "args": [
             [
              "2021-01-06"
             ],
             {
              "frame": {
               "duration": 0,
               "redraw": true
              },
              "fromcurrent": true,
              "mode": "immediate",
              "transition": {
               "duration": 0,
               "easing": "linear"
              }
             }
            ],
            "label": "2021-01-06",
            "method": "animate"
           },
           {
            "args": [
             [
              "2021-01-07"
             ],
             {
              "frame": {
               "duration": 0,
               "redraw": true
              },
              "fromcurrent": true,
              "mode": "immediate",
              "transition": {
               "duration": 0,
               "easing": "linear"
              }
             }
            ],
            "label": "2021-01-07",
            "method": "animate"
           },
           {
            "args": [
             [
              "2021-01-08"
             ],
             {
              "frame": {
               "duration": 0,
               "redraw": true
              },
              "fromcurrent": true,
              "mode": "immediate",
              "transition": {
               "duration": 0,
               "easing": "linear"
              }
             }
            ],
            "label": "2021-01-08",
            "method": "animate"
           },
           {
            "args": [
             [
              "2021-01-09"
             ],
             {
              "frame": {
               "duration": 0,
               "redraw": true
              },
              "fromcurrent": true,
              "mode": "immediate",
              "transition": {
               "duration": 0,
               "easing": "linear"
              }
             }
            ],
            "label": "2021-01-09",
            "method": "animate"
           },
           {
            "args": [
             [
              "2021-01-10"
             ],
             {
              "frame": {
               "duration": 0,
               "redraw": true
              },
              "fromcurrent": true,
              "mode": "immediate",
              "transition": {
               "duration": 0,
               "easing": "linear"
              }
             }
            ],
            "label": "2021-01-10",
            "method": "animate"
           },
           {
            "args": [
             [
              "2021-01-11"
             ],
             {
              "frame": {
               "duration": 0,
               "redraw": true
              },
              "fromcurrent": true,
              "mode": "immediate",
              "transition": {
               "duration": 0,
               "easing": "linear"
              }
             }
            ],
            "label": "2021-01-11",
            "method": "animate"
           },
           {
            "args": [
             [
              "2021-01-12"
             ],
             {
              "frame": {
               "duration": 0,
               "redraw": true
              },
              "fromcurrent": true,
              "mode": "immediate",
              "transition": {
               "duration": 0,
               "easing": "linear"
              }
             }
            ],
            "label": "2021-01-12",
            "method": "animate"
           },
           {
            "args": [
             [
              "2021-01-13"
             ],
             {
              "frame": {
               "duration": 0,
               "redraw": true
              },
              "fromcurrent": true,
              "mode": "immediate",
              "transition": {
               "duration": 0,
               "easing": "linear"
              }
             }
            ],
            "label": "2021-01-13",
            "method": "animate"
           },
           {
            "args": [
             [
              "2021-01-14"
             ],
             {
              "frame": {
               "duration": 0,
               "redraw": true
              },
              "fromcurrent": true,
              "mode": "immediate",
              "transition": {
               "duration": 0,
               "easing": "linear"
              }
             }
            ],
            "label": "2021-01-14",
            "method": "animate"
           },
           {
            "args": [
             [
              "2021-01-15"
             ],
             {
              "frame": {
               "duration": 0,
               "redraw": true
              },
              "fromcurrent": true,
              "mode": "immediate",
              "transition": {
               "duration": 0,
               "easing": "linear"
              }
             }
            ],
            "label": "2021-01-15",
            "method": "animate"
           },
           {
            "args": [
             [
              "2021-01-16"
             ],
             {
              "frame": {
               "duration": 0,
               "redraw": true
              },
              "fromcurrent": true,
              "mode": "immediate",
              "transition": {
               "duration": 0,
               "easing": "linear"
              }
             }
            ],
            "label": "2021-01-16",
            "method": "animate"
           },
           {
            "args": [
             [
              "2021-01-17"
             ],
             {
              "frame": {
               "duration": 0,
               "redraw": true
              },
              "fromcurrent": true,
              "mode": "immediate",
              "transition": {
               "duration": 0,
               "easing": "linear"
              }
             }
            ],
            "label": "2021-01-17",
            "method": "animate"
           },
           {
            "args": [
             [
              "2021-01-18"
             ],
             {
              "frame": {
               "duration": 0,
               "redraw": true
              },
              "fromcurrent": true,
              "mode": "immediate",
              "transition": {
               "duration": 0,
               "easing": "linear"
              }
             }
            ],
            "label": "2021-01-18",
            "method": "animate"
           },
           {
            "args": [
             [
              "2021-01-19"
             ],
             {
              "frame": {
               "duration": 0,
               "redraw": true
              },
              "fromcurrent": true,
              "mode": "immediate",
              "transition": {
               "duration": 0,
               "easing": "linear"
              }
             }
            ],
            "label": "2021-01-19",
            "method": "animate"
           },
           {
            "args": [
             [
              "2021-01-20"
             ],
             {
              "frame": {
               "duration": 0,
               "redraw": true
              },
              "fromcurrent": true,
              "mode": "immediate",
              "transition": {
               "duration": 0,
               "easing": "linear"
              }
             }
            ],
            "label": "2021-01-20",
            "method": "animate"
           },
           {
            "args": [
             [
              "2021-01-21"
             ],
             {
              "frame": {
               "duration": 0,
               "redraw": true
              },
              "fromcurrent": true,
              "mode": "immediate",
              "transition": {
               "duration": 0,
               "easing": "linear"
              }
             }
            ],
            "label": "2021-01-21",
            "method": "animate"
           },
           {
            "args": [
             [
              "2021-01-22"
             ],
             {
              "frame": {
               "duration": 0,
               "redraw": true
              },
              "fromcurrent": true,
              "mode": "immediate",
              "transition": {
               "duration": 0,
               "easing": "linear"
              }
             }
            ],
            "label": "2021-01-22",
            "method": "animate"
           },
           {
            "args": [
             [
              "2021-01-23"
             ],
             {
              "frame": {
               "duration": 0,
               "redraw": true
              },
              "fromcurrent": true,
              "mode": "immediate",
              "transition": {
               "duration": 0,
               "easing": "linear"
              }
             }
            ],
            "label": "2021-01-23",
            "method": "animate"
           },
           {
            "args": [
             [
              "2021-01-24"
             ],
             {
              "frame": {
               "duration": 0,
               "redraw": true
              },
              "fromcurrent": true,
              "mode": "immediate",
              "transition": {
               "duration": 0,
               "easing": "linear"
              }
             }
            ],
            "label": "2021-01-24",
            "method": "animate"
           },
           {
            "args": [
             [
              "2021-01-25"
             ],
             {
              "frame": {
               "duration": 0,
               "redraw": true
              },
              "fromcurrent": true,
              "mode": "immediate",
              "transition": {
               "duration": 0,
               "easing": "linear"
              }
             }
            ],
            "label": "2021-01-25",
            "method": "animate"
           },
           {
            "args": [
             [
              "2021-01-26"
             ],
             {
              "frame": {
               "duration": 0,
               "redraw": true
              },
              "fromcurrent": true,
              "mode": "immediate",
              "transition": {
               "duration": 0,
               "easing": "linear"
              }
             }
            ],
            "label": "2021-01-26",
            "method": "animate"
           },
           {
            "args": [
             [
              "2021-01-27"
             ],
             {
              "frame": {
               "duration": 0,
               "redraw": true
              },
              "fromcurrent": true,
              "mode": "immediate",
              "transition": {
               "duration": 0,
               "easing": "linear"
              }
             }
            ],
            "label": "2021-01-27",
            "method": "animate"
           },
           {
            "args": [
             [
              "2021-01-28"
             ],
             {
              "frame": {
               "duration": 0,
               "redraw": true
              },
              "fromcurrent": true,
              "mode": "immediate",
              "transition": {
               "duration": 0,
               "easing": "linear"
              }
             }
            ],
            "label": "2021-01-28",
            "method": "animate"
           },
           {
            "args": [
             [
              "2021-01-29"
             ],
             {
              "frame": {
               "duration": 0,
               "redraw": true
              },
              "fromcurrent": true,
              "mode": "immediate",
              "transition": {
               "duration": 0,
               "easing": "linear"
              }
             }
            ],
            "label": "2021-01-29",
            "method": "animate"
           },
           {
            "args": [
             [
              "2021-01-30"
             ],
             {
              "frame": {
               "duration": 0,
               "redraw": true
              },
              "fromcurrent": true,
              "mode": "immediate",
              "transition": {
               "duration": 0,
               "easing": "linear"
              }
             }
            ],
            "label": "2021-01-30",
            "method": "animate"
           },
           {
            "args": [
             [
              "2021-01-31"
             ],
             {
              "frame": {
               "duration": 0,
               "redraw": true
              },
              "fromcurrent": true,
              "mode": "immediate",
              "transition": {
               "duration": 0,
               "easing": "linear"
              }
             }
            ],
            "label": "2021-01-31",
            "method": "animate"
           },
           {
            "args": [
             [
              "2021-02-01"
             ],
             {
              "frame": {
               "duration": 0,
               "redraw": true
              },
              "fromcurrent": true,
              "mode": "immediate",
              "transition": {
               "duration": 0,
               "easing": "linear"
              }
             }
            ],
            "label": "2021-02-01",
            "method": "animate"
           },
           {
            "args": [
             [
              "2021-02-02"
             ],
             {
              "frame": {
               "duration": 0,
               "redraw": true
              },
              "fromcurrent": true,
              "mode": "immediate",
              "transition": {
               "duration": 0,
               "easing": "linear"
              }
             }
            ],
            "label": "2021-02-02",
            "method": "animate"
           },
           {
            "args": [
             [
              "2021-02-03"
             ],
             {
              "frame": {
               "duration": 0,
               "redraw": true
              },
              "fromcurrent": true,
              "mode": "immediate",
              "transition": {
               "duration": 0,
               "easing": "linear"
              }
             }
            ],
            "label": "2021-02-03",
            "method": "animate"
           },
           {
            "args": [
             [
              "2021-02-04"
             ],
             {
              "frame": {
               "duration": 0,
               "redraw": true
              },
              "fromcurrent": true,
              "mode": "immediate",
              "transition": {
               "duration": 0,
               "easing": "linear"
              }
             }
            ],
            "label": "2021-02-04",
            "method": "animate"
           },
           {
            "args": [
             [
              "2021-02-05"
             ],
             {
              "frame": {
               "duration": 0,
               "redraw": true
              },
              "fromcurrent": true,
              "mode": "immediate",
              "transition": {
               "duration": 0,
               "easing": "linear"
              }
             }
            ],
            "label": "2021-02-05",
            "method": "animate"
           },
           {
            "args": [
             [
              "2021-02-06"
             ],
             {
              "frame": {
               "duration": 0,
               "redraw": true
              },
              "fromcurrent": true,
              "mode": "immediate",
              "transition": {
               "duration": 0,
               "easing": "linear"
              }
             }
            ],
            "label": "2021-02-06",
            "method": "animate"
           },
           {
            "args": [
             [
              "2021-02-07"
             ],
             {
              "frame": {
               "duration": 0,
               "redraw": true
              },
              "fromcurrent": true,
              "mode": "immediate",
              "transition": {
               "duration": 0,
               "easing": "linear"
              }
             }
            ],
            "label": "2021-02-07",
            "method": "animate"
           },
           {
            "args": [
             [
              "2021-02-08"
             ],
             {
              "frame": {
               "duration": 0,
               "redraw": true
              },
              "fromcurrent": true,
              "mode": "immediate",
              "transition": {
               "duration": 0,
               "easing": "linear"
              }
             }
            ],
            "label": "2021-02-08",
            "method": "animate"
           },
           {
            "args": [
             [
              "2021-02-09"
             ],
             {
              "frame": {
               "duration": 0,
               "redraw": true
              },
              "fromcurrent": true,
              "mode": "immediate",
              "transition": {
               "duration": 0,
               "easing": "linear"
              }
             }
            ],
            "label": "2021-02-09",
            "method": "animate"
           },
           {
            "args": [
             [
              "2021-02-10"
             ],
             {
              "frame": {
               "duration": 0,
               "redraw": true
              },
              "fromcurrent": true,
              "mode": "immediate",
              "transition": {
               "duration": 0,
               "easing": "linear"
              }
             }
            ],
            "label": "2021-02-10",
            "method": "animate"
           },
           {
            "args": [
             [
              "2021-02-11"
             ],
             {
              "frame": {
               "duration": 0,
               "redraw": true
              },
              "fromcurrent": true,
              "mode": "immediate",
              "transition": {
               "duration": 0,
               "easing": "linear"
              }
             }
            ],
            "label": "2021-02-11",
            "method": "animate"
           },
           {
            "args": [
             [
              "2021-02-12"
             ],
             {
              "frame": {
               "duration": 0,
               "redraw": true
              },
              "fromcurrent": true,
              "mode": "immediate",
              "transition": {
               "duration": 0,
               "easing": "linear"
              }
             }
            ],
            "label": "2021-02-12",
            "method": "animate"
           },
           {
            "args": [
             [
              "2021-02-13"
             ],
             {
              "frame": {
               "duration": 0,
               "redraw": true
              },
              "fromcurrent": true,
              "mode": "immediate",
              "transition": {
               "duration": 0,
               "easing": "linear"
              }
             }
            ],
            "label": "2021-02-13",
            "method": "animate"
           },
           {
            "args": [
             [
              "2021-02-14"
             ],
             {
              "frame": {
               "duration": 0,
               "redraw": true
              },
              "fromcurrent": true,
              "mode": "immediate",
              "transition": {
               "duration": 0,
               "easing": "linear"
              }
             }
            ],
            "label": "2021-02-14",
            "method": "animate"
           },
           {
            "args": [
             [
              "2021-02-15"
             ],
             {
              "frame": {
               "duration": 0,
               "redraw": true
              },
              "fromcurrent": true,
              "mode": "immediate",
              "transition": {
               "duration": 0,
               "easing": "linear"
              }
             }
            ],
            "label": "2021-02-15",
            "method": "animate"
           }
          ],
          "x": 0.1,
          "xanchor": "left",
          "y": 0,
          "yanchor": "top"
         }
        ],
        "template": {
         "data": {
          "bar": [
           {
            "error_x": {
             "color": "#2a3f5f"
            },
            "error_y": {
             "color": "#2a3f5f"
            },
            "marker": {
             "line": {
              "color": "#E5ECF6",
              "width": 0.5
             },
             "pattern": {
              "fillmode": "overlay",
              "size": 10,
              "solidity": 0.2
             }
            },
            "type": "bar"
           }
          ],
          "barpolar": [
           {
            "marker": {
             "line": {
              "color": "#E5ECF6",
              "width": 0.5
             },
             "pattern": {
              "fillmode": "overlay",
              "size": 10,
              "solidity": 0.2
             }
            },
            "type": "barpolar"
           }
          ],
          "carpet": [
           {
            "aaxis": {
             "endlinecolor": "#2a3f5f",
             "gridcolor": "white",
             "linecolor": "white",
             "minorgridcolor": "white",
             "startlinecolor": "#2a3f5f"
            },
            "baxis": {
             "endlinecolor": "#2a3f5f",
             "gridcolor": "white",
             "linecolor": "white",
             "minorgridcolor": "white",
             "startlinecolor": "#2a3f5f"
            },
            "type": "carpet"
           }
          ],
          "choropleth": [
           {
            "colorbar": {
             "outlinewidth": 0,
             "ticks": ""
            },
            "type": "choropleth"
           }
          ],
          "contour": [
           {
            "colorbar": {
             "outlinewidth": 0,
             "ticks": ""
            },
            "colorscale": [
             [
              0,
              "#0d0887"
             ],
             [
              0.1111111111111111,
              "#46039f"
             ],
             [
              0.2222222222222222,
              "#7201a8"
             ],
             [
              0.3333333333333333,
              "#9c179e"
             ],
             [
              0.4444444444444444,
              "#bd3786"
             ],
             [
              0.5555555555555556,
              "#d8576b"
             ],
             [
              0.6666666666666666,
              "#ed7953"
             ],
             [
              0.7777777777777778,
              "#fb9f3a"
             ],
             [
              0.8888888888888888,
              "#fdca26"
             ],
             [
              1,
              "#f0f921"
             ]
            ],
            "type": "contour"
           }
          ],
          "contourcarpet": [
           {
            "colorbar": {
             "outlinewidth": 0,
             "ticks": ""
            },
            "type": "contourcarpet"
           }
          ],
          "heatmap": [
           {
            "colorbar": {
             "outlinewidth": 0,
             "ticks": ""
            },
            "colorscale": [
             [
              0,
              "#0d0887"
             ],
             [
              0.1111111111111111,
              "#46039f"
             ],
             [
              0.2222222222222222,
              "#7201a8"
             ],
             [
              0.3333333333333333,
              "#9c179e"
             ],
             [
              0.4444444444444444,
              "#bd3786"
             ],
             [
              0.5555555555555556,
              "#d8576b"
             ],
             [
              0.6666666666666666,
              "#ed7953"
             ],
             [
              0.7777777777777778,
              "#fb9f3a"
             ],
             [
              0.8888888888888888,
              "#fdca26"
             ],
             [
              1,
              "#f0f921"
             ]
            ],
            "type": "heatmap"
           }
          ],
          "heatmapgl": [
           {
            "colorbar": {
             "outlinewidth": 0,
             "ticks": ""
            },
            "colorscale": [
             [
              0,
              "#0d0887"
             ],
             [
              0.1111111111111111,
              "#46039f"
             ],
             [
              0.2222222222222222,
              "#7201a8"
             ],
             [
              0.3333333333333333,
              "#9c179e"
             ],
             [
              0.4444444444444444,
              "#bd3786"
             ],
             [
              0.5555555555555556,
              "#d8576b"
             ],
             [
              0.6666666666666666,
              "#ed7953"
             ],
             [
              0.7777777777777778,
              "#fb9f3a"
             ],
             [
              0.8888888888888888,
              "#fdca26"
             ],
             [
              1,
              "#f0f921"
             ]
            ],
            "type": "heatmapgl"
           }
          ],
          "histogram": [
           {
            "marker": {
             "pattern": {
              "fillmode": "overlay",
              "size": 10,
              "solidity": 0.2
             }
            },
            "type": "histogram"
           }
          ],
          "histogram2d": [
           {
            "colorbar": {
             "outlinewidth": 0,
             "ticks": ""
            },
            "colorscale": [
             [
              0,
              "#0d0887"
             ],
             [
              0.1111111111111111,
              "#46039f"
             ],
             [
              0.2222222222222222,
              "#7201a8"
             ],
             [
              0.3333333333333333,
              "#9c179e"
             ],
             [
              0.4444444444444444,
              "#bd3786"
             ],
             [
              0.5555555555555556,
              "#d8576b"
             ],
             [
              0.6666666666666666,
              "#ed7953"
             ],
             [
              0.7777777777777778,
              "#fb9f3a"
             ],
             [
              0.8888888888888888,
              "#fdca26"
             ],
             [
              1,
              "#f0f921"
             ]
            ],
            "type": "histogram2d"
           }
          ],
          "histogram2dcontour": [
           {
            "colorbar": {
             "outlinewidth": 0,
             "ticks": ""
            },
            "colorscale": [
             [
              0,
              "#0d0887"
             ],
             [
              0.1111111111111111,
              "#46039f"
             ],
             [
              0.2222222222222222,
              "#7201a8"
             ],
             [
              0.3333333333333333,
              "#9c179e"
             ],
             [
              0.4444444444444444,
              "#bd3786"
             ],
             [
              0.5555555555555556,
              "#d8576b"
             ],
             [
              0.6666666666666666,
              "#ed7953"
             ],
             [
              0.7777777777777778,
              "#fb9f3a"
             ],
             [
              0.8888888888888888,
              "#fdca26"
             ],
             [
              1,
              "#f0f921"
             ]
            ],
            "type": "histogram2dcontour"
           }
          ],
          "mesh3d": [
           {
            "colorbar": {
             "outlinewidth": 0,
             "ticks": ""
            },
            "type": "mesh3d"
           }
          ],
          "parcoords": [
           {
            "line": {
             "colorbar": {
              "outlinewidth": 0,
              "ticks": ""
             }
            },
            "type": "parcoords"
           }
          ],
          "pie": [
           {
            "automargin": true,
            "type": "pie"
           }
          ],
          "scatter": [
           {
            "marker": {
             "colorbar": {
              "outlinewidth": 0,
              "ticks": ""
             }
            },
            "type": "scatter"
           }
          ],
          "scatter3d": [
           {
            "line": {
             "colorbar": {
              "outlinewidth": 0,
              "ticks": ""
             }
            },
            "marker": {
             "colorbar": {
              "outlinewidth": 0,
              "ticks": ""
             }
            },
            "type": "scatter3d"
           }
          ],
          "scattercarpet": [
           {
            "marker": {
             "colorbar": {
              "outlinewidth": 0,
              "ticks": ""
             }
            },
            "type": "scattercarpet"
           }
          ],
          "scattergeo": [
           {
            "marker": {
             "colorbar": {
              "outlinewidth": 0,
              "ticks": ""
             }
            },
            "type": "scattergeo"
           }
          ],
          "scattergl": [
           {
            "marker": {
             "colorbar": {
              "outlinewidth": 0,
              "ticks": ""
             }
            },
            "type": "scattergl"
           }
          ],
          "scattermapbox": [
           {
            "marker": {
             "colorbar": {
              "outlinewidth": 0,
              "ticks": ""
             }
            },
            "type": "scattermapbox"
           }
          ],
          "scatterpolar": [
           {
            "marker": {
             "colorbar": {
              "outlinewidth": 0,
              "ticks": ""
             }
            },
            "type": "scatterpolar"
           }
          ],
          "scatterpolargl": [
           {
            "marker": {
             "colorbar": {
              "outlinewidth": 0,
              "ticks": ""
             }
            },
            "type": "scatterpolargl"
           }
          ],
          "scatterternary": [
           {
            "marker": {
             "colorbar": {
              "outlinewidth": 0,
              "ticks": ""
             }
            },
            "type": "scatterternary"
           }
          ],
          "surface": [
           {
            "colorbar": {
             "outlinewidth": 0,
             "ticks": ""
            },
            "colorscale": [
             [
              0,
              "#0d0887"
             ],
             [
              0.1111111111111111,
              "#46039f"
             ],
             [
              0.2222222222222222,
              "#7201a8"
             ],
             [
              0.3333333333333333,
              "#9c179e"
             ],
             [
              0.4444444444444444,
              "#bd3786"
             ],
             [
              0.5555555555555556,
              "#d8576b"
             ],
             [
              0.6666666666666666,
              "#ed7953"
             ],
             [
              0.7777777777777778,
              "#fb9f3a"
             ],
             [
              0.8888888888888888,
              "#fdca26"
             ],
             [
              1,
              "#f0f921"
             ]
            ],
            "type": "surface"
           }
          ],
          "table": [
           {
            "cells": {
             "fill": {
              "color": "#EBF0F8"
             },
             "line": {
              "color": "white"
             }
            },
            "header": {
             "fill": {
              "color": "#C8D4E3"
             },
             "line": {
              "color": "white"
             }
            },
            "type": "table"
           }
          ]
         },
         "layout": {
          "annotationdefaults": {
           "arrowcolor": "#2a3f5f",
           "arrowhead": 0,
           "arrowwidth": 1
          },
          "autotypenumbers": "strict",
          "coloraxis": {
           "colorbar": {
            "outlinewidth": 0,
            "ticks": ""
           }
          },
          "colorscale": {
           "diverging": [
            [
             0,
             "#8e0152"
            ],
            [
             0.1,
             "#c51b7d"
            ],
            [
             0.2,
             "#de77ae"
            ],
            [
             0.3,
             "#f1b6da"
            ],
            [
             0.4,
             "#fde0ef"
            ],
            [
             0.5,
             "#f7f7f7"
            ],
            [
             0.6,
             "#e6f5d0"
            ],
            [
             0.7,
             "#b8e186"
            ],
            [
             0.8,
             "#7fbc41"
            ],
            [
             0.9,
             "#4d9221"
            ],
            [
             1,
             "#276419"
            ]
           ],
           "sequential": [
            [
             0,
             "#0d0887"
            ],
            [
             0.1111111111111111,
             "#46039f"
            ],
            [
             0.2222222222222222,
             "#7201a8"
            ],
            [
             0.3333333333333333,
             "#9c179e"
            ],
            [
             0.4444444444444444,
             "#bd3786"
            ],
            [
             0.5555555555555556,
             "#d8576b"
            ],
            [
             0.6666666666666666,
             "#ed7953"
            ],
            [
             0.7777777777777778,
             "#fb9f3a"
            ],
            [
             0.8888888888888888,
             "#fdca26"
            ],
            [
             1,
             "#f0f921"
            ]
           ],
           "sequentialminus": [
            [
             0,
             "#0d0887"
            ],
            [
             0.1111111111111111,
             "#46039f"
            ],
            [
             0.2222222222222222,
             "#7201a8"
            ],
            [
             0.3333333333333333,
             "#9c179e"
            ],
            [
             0.4444444444444444,
             "#bd3786"
            ],
            [
             0.5555555555555556,
             "#d8576b"
            ],
            [
             0.6666666666666666,
             "#ed7953"
            ],
            [
             0.7777777777777778,
             "#fb9f3a"
            ],
            [
             0.8888888888888888,
             "#fdca26"
            ],
            [
             1,
             "#f0f921"
            ]
           ]
          },
          "colorway": [
           "#636efa",
           "#EF553B",
           "#00cc96",
           "#ab63fa",
           "#FFA15A",
           "#19d3f3",
           "#FF6692",
           "#B6E880",
           "#FF97FF",
           "#FECB52"
          ],
          "font": {
           "color": "#2a3f5f"
          },
          "geo": {
           "bgcolor": "white",
           "lakecolor": "white",
           "landcolor": "#E5ECF6",
           "showlakes": true,
           "showland": true,
           "subunitcolor": "white"
          },
          "hoverlabel": {
           "align": "left"
          },
          "hovermode": "closest",
          "mapbox": {
           "style": "light"
          },
          "paper_bgcolor": "white",
          "plot_bgcolor": "#E5ECF6",
          "polar": {
           "angularaxis": {
            "gridcolor": "white",
            "linecolor": "white",
            "ticks": ""
           },
           "bgcolor": "#E5ECF6",
           "radialaxis": {
            "gridcolor": "white",
            "linecolor": "white",
            "ticks": ""
           }
          },
          "scene": {
           "xaxis": {
            "backgroundcolor": "#E5ECF6",
            "gridcolor": "white",
            "gridwidth": 2,
            "linecolor": "white",
            "showbackground": true,
            "ticks": "",
            "zerolinecolor": "white"
           },
           "yaxis": {
            "backgroundcolor": "#E5ECF6",
            "gridcolor": "white",
            "gridwidth": 2,
            "linecolor": "white",
            "showbackground": true,
            "ticks": "",
            "zerolinecolor": "white"
           },
           "zaxis": {
            "backgroundcolor": "#E5ECF6",
            "gridcolor": "white",
            "gridwidth": 2,
            "linecolor": "white",
            "showbackground": true,
            "ticks": "",
            "zerolinecolor": "white"
           }
          },
          "shapedefaults": {
           "line": {
            "color": "#2a3f5f"
           }
          },
          "ternary": {
           "aaxis": {
            "gridcolor": "white",
            "linecolor": "white",
            "ticks": ""
           },
           "baxis": {
            "gridcolor": "white",
            "linecolor": "white",
            "ticks": ""
           },
           "bgcolor": "#E5ECF6",
           "caxis": {
            "gridcolor": "white",
            "linecolor": "white",
            "ticks": ""
           }
          },
          "title": {
           "x": 0.05
          },
          "xaxis": {
           "automargin": true,
           "gridcolor": "white",
           "linecolor": "white",
           "ticks": "",
           "title": {
            "standoff": 15
           },
           "zerolinecolor": "white",
           "zerolinewidth": 2
          },
          "yaxis": {
           "automargin": true,
           "gridcolor": "white",
           "linecolor": "white",
           "ticks": "",
           "title": {
            "standoff": 15
           },
           "zerolinecolor": "white",
           "zerolinewidth": 2
          }
         }
        },
        "title": {
         "text": "<span style=\"font-size:36px; font-family:Times New Roman\">Número de personas vacunadas por país</span>"
        },
        "updatemenus": [
         {
          "buttons": [
           {
            "args": [
             null,
             {
              "frame": {
               "duration": 500,
               "redraw": true
              },
              "fromcurrent": true,
              "mode": "immediate",
              "transition": {
               "duration": 500,
               "easing": "linear"
              }
             }
            ],
            "label": "&#9654;",
            "method": "animate"
           },
           {
            "args": [
             [
              null
             ],
             {
              "frame": {
               "duration": 0,
               "redraw": true
              },
              "fromcurrent": true,
              "mode": "immediate",
              "transition": {
               "duration": 0,
               "easing": "linear"
              }
             }
            ],
            "label": "&#9724;",
            "method": "animate"
           }
          ],
          "direction": "left",
          "pad": {
           "r": 10,
           "t": 70
          },
          "showactive": false,
          "type": "buttons",
          "x": 0.1,
          "xanchor": "right",
          "y": 0,
          "yanchor": "top"
         }
        ]
       }
      },
      "text/html": [
       "<div>                            <div id=\"dcc53dd1-ece0-408e-a273-abc2738510bc\" class=\"plotly-graph-div\" style=\"height:525px; width:100%;\"></div>            <script type=\"text/javascript\">                require([\"plotly\"], function(Plotly) {                    window.PLOTLYENV=window.PLOTLYENV || {};                                    if (document.getElementById(\"dcc53dd1-ece0-408e-a273-abc2738510bc\")) {                    Plotly.newPlot(                        \"dcc53dd1-ece0-408e-a273-abc2738510bc\",                        [{\"coloraxis\":\"coloraxis\",\"geo\":\"geo\",\"hovertemplate\":\"<b>%{hovertext}</b><br><br>date=2020-12-14<br>iso_code=%{location}<br>people_vaccinated=%{z}<extra></extra>\",\"hovertext\":[\"United Kingdom\"],\"locations\":[\"GBR\"],\"name\":\"\",\"z\":[86215.0],\"type\":\"choropleth\"}],                        {\"template\":{\"data\":{\"bar\":[{\"error_x\":{\"color\":\"#2a3f5f\"},\"error_y\":{\"color\":\"#2a3f5f\"},\"marker\":{\"line\":{\"color\":\"#E5ECF6\",\"width\":0.5},\"pattern\":{\"fillmode\":\"overlay\",\"size\":10,\"solidity\":0.2}},\"type\":\"bar\"}],\"barpolar\":[{\"marker\":{\"line\":{\"color\":\"#E5ECF6\",\"width\":0.5},\"pattern\":{\"fillmode\":\"overlay\",\"size\":10,\"solidity\":0.2}},\"type\":\"barpolar\"}],\"carpet\":[{\"aaxis\":{\"endlinecolor\":\"#2a3f5f\",\"gridcolor\":\"white\",\"linecolor\":\"white\",\"minorgridcolor\":\"white\",\"startlinecolor\":\"#2a3f5f\"},\"baxis\":{\"endlinecolor\":\"#2a3f5f\",\"gridcolor\":\"white\",\"linecolor\":\"white\",\"minorgridcolor\":\"white\",\"startlinecolor\":\"#2a3f5f\"},\"type\":\"carpet\"}],\"choropleth\":[{\"colorbar\":{\"outlinewidth\":0,\"ticks\":\"\"},\"type\":\"choropleth\"}],\"contour\":[{\"colorbar\":{\"outlinewidth\":0,\"ticks\":\"\"},\"colorscale\":[[0.0,\"#0d0887\"],[0.1111111111111111,\"#46039f\"],[0.2222222222222222,\"#7201a8\"],[0.3333333333333333,\"#9c179e\"],[0.4444444444444444,\"#bd3786\"],[0.5555555555555556,\"#d8576b\"],[0.6666666666666666,\"#ed7953\"],[0.7777777777777778,\"#fb9f3a\"],[0.8888888888888888,\"#fdca26\"],[1.0,\"#f0f921\"]],\"type\":\"contour\"}],\"contourcarpet\":[{\"colorbar\":{\"outlinewidth\":0,\"ticks\":\"\"},\"type\":\"contourcarpet\"}],\"heatmap\":[{\"colorbar\":{\"outlinewidth\":0,\"ticks\":\"\"},\"colorscale\":[[0.0,\"#0d0887\"],[0.1111111111111111,\"#46039f\"],[0.2222222222222222,\"#7201a8\"],[0.3333333333333333,\"#9c179e\"],[0.4444444444444444,\"#bd3786\"],[0.5555555555555556,\"#d8576b\"],[0.6666666666666666,\"#ed7953\"],[0.7777777777777778,\"#fb9f3a\"],[0.8888888888888888,\"#fdca26\"],[1.0,\"#f0f921\"]],\"type\":\"heatmap\"}],\"heatmapgl\":[{\"colorbar\":{\"outlinewidth\":0,\"ticks\":\"\"},\"colorscale\":[[0.0,\"#0d0887\"],[0.1111111111111111,\"#46039f\"],[0.2222222222222222,\"#7201a8\"],[0.3333333333333333,\"#9c179e\"],[0.4444444444444444,\"#bd3786\"],[0.5555555555555556,\"#d8576b\"],[0.6666666666666666,\"#ed7953\"],[0.7777777777777778,\"#fb9f3a\"],[0.8888888888888888,\"#fdca26\"],[1.0,\"#f0f921\"]],\"type\":\"heatmapgl\"}],\"histogram\":[{\"marker\":{\"pattern\":{\"fillmode\":\"overlay\",\"size\":10,\"solidity\":0.2}},\"type\":\"histogram\"}],\"histogram2d\":[{\"colorbar\":{\"outlinewidth\":0,\"ticks\":\"\"},\"colorscale\":[[0.0,\"#0d0887\"],[0.1111111111111111,\"#46039f\"],[0.2222222222222222,\"#7201a8\"],[0.3333333333333333,\"#9c179e\"],[0.4444444444444444,\"#bd3786\"],[0.5555555555555556,\"#d8576b\"],[0.6666666666666666,\"#ed7953\"],[0.7777777777777778,\"#fb9f3a\"],[0.8888888888888888,\"#fdca26\"],[1.0,\"#f0f921\"]],\"type\":\"histogram2d\"}],\"histogram2dcontour\":[{\"colorbar\":{\"outlinewidth\":0,\"ticks\":\"\"},\"colorscale\":[[0.0,\"#0d0887\"],[0.1111111111111111,\"#46039f\"],[0.2222222222222222,\"#7201a8\"],[0.3333333333333333,\"#9c179e\"],[0.4444444444444444,\"#bd3786\"],[0.5555555555555556,\"#d8576b\"],[0.6666666666666666,\"#ed7953\"],[0.7777777777777778,\"#fb9f3a\"],[0.8888888888888888,\"#fdca26\"],[1.0,\"#f0f921\"]],\"type\":\"histogram2dcontour\"}],\"mesh3d\":[{\"colorbar\":{\"outlinewidth\":0,\"ticks\":\"\"},\"type\":\"mesh3d\"}],\"parcoords\":[{\"line\":{\"colorbar\":{\"outlinewidth\":0,\"ticks\":\"\"}},\"type\":\"parcoords\"}],\"pie\":[{\"automargin\":true,\"type\":\"pie\"}],\"scatter\":[{\"marker\":{\"colorbar\":{\"outlinewidth\":0,\"ticks\":\"\"}},\"type\":\"scatter\"}],\"scatter3d\":[{\"line\":{\"colorbar\":{\"outlinewidth\":0,\"ticks\":\"\"}},\"marker\":{\"colorbar\":{\"outlinewidth\":0,\"ticks\":\"\"}},\"type\":\"scatter3d\"}],\"scattercarpet\":[{\"marker\":{\"colorbar\":{\"outlinewidth\":0,\"ticks\":\"\"}},\"type\":\"scattercarpet\"}],\"scattergeo\":[{\"marker\":{\"colorbar\":{\"outlinewidth\":0,\"ticks\":\"\"}},\"type\":\"scattergeo\"}],\"scattergl\":[{\"marker\":{\"colorbar\":{\"outlinewidth\":0,\"ticks\":\"\"}},\"type\":\"scattergl\"}],\"scattermapbox\":[{\"marker\":{\"colorbar\":{\"outlinewidth\":0,\"ticks\":\"\"}},\"type\":\"scattermapbox\"}],\"scatterpolar\":[{\"marker\":{\"colorbar\":{\"outlinewidth\":0,\"ticks\":\"\"}},\"type\":\"scatterpolar\"}],\"scatterpolargl\":[{\"marker\":{\"colorbar\":{\"outlinewidth\":0,\"ticks\":\"\"}},\"type\":\"scatterpolargl\"}],\"scatterternary\":[{\"marker\":{\"colorbar\":{\"outlinewidth\":0,\"ticks\":\"\"}},\"type\":\"scatterternary\"}],\"surface\":[{\"colorbar\":{\"outlinewidth\":0,\"ticks\":\"\"},\"colorscale\":[[0.0,\"#0d0887\"],[0.1111111111111111,\"#46039f\"],[0.2222222222222222,\"#7201a8\"],[0.3333333333333333,\"#9c179e\"],[0.4444444444444444,\"#bd3786\"],[0.5555555555555556,\"#d8576b\"],[0.6666666666666666,\"#ed7953\"],[0.7777777777777778,\"#fb9f3a\"],[0.8888888888888888,\"#fdca26\"],[1.0,\"#f0f921\"]],\"type\":\"surface\"}],\"table\":[{\"cells\":{\"fill\":{\"color\":\"#EBF0F8\"},\"line\":{\"color\":\"white\"}},\"header\":{\"fill\":{\"color\":\"#C8D4E3\"},\"line\":{\"color\":\"white\"}},\"type\":\"table\"}]},\"layout\":{\"annotationdefaults\":{\"arrowcolor\":\"#2a3f5f\",\"arrowhead\":0,\"arrowwidth\":1},\"autotypenumbers\":\"strict\",\"coloraxis\":{\"colorbar\":{\"outlinewidth\":0,\"ticks\":\"\"}},\"colorscale\":{\"diverging\":[[0,\"#8e0152\"],[0.1,\"#c51b7d\"],[0.2,\"#de77ae\"],[0.3,\"#f1b6da\"],[0.4,\"#fde0ef\"],[0.5,\"#f7f7f7\"],[0.6,\"#e6f5d0\"],[0.7,\"#b8e186\"],[0.8,\"#7fbc41\"],[0.9,\"#4d9221\"],[1,\"#276419\"]],\"sequential\":[[0.0,\"#0d0887\"],[0.1111111111111111,\"#46039f\"],[0.2222222222222222,\"#7201a8\"],[0.3333333333333333,\"#9c179e\"],[0.4444444444444444,\"#bd3786\"],[0.5555555555555556,\"#d8576b\"],[0.6666666666666666,\"#ed7953\"],[0.7777777777777778,\"#fb9f3a\"],[0.8888888888888888,\"#fdca26\"],[1.0,\"#f0f921\"]],\"sequentialminus\":[[0.0,\"#0d0887\"],[0.1111111111111111,\"#46039f\"],[0.2222222222222222,\"#7201a8\"],[0.3333333333333333,\"#9c179e\"],[0.4444444444444444,\"#bd3786\"],[0.5555555555555556,\"#d8576b\"],[0.6666666666666666,\"#ed7953\"],[0.7777777777777778,\"#fb9f3a\"],[0.8888888888888888,\"#fdca26\"],[1.0,\"#f0f921\"]]},\"colorway\":[\"#636efa\",\"#EF553B\",\"#00cc96\",\"#ab63fa\",\"#FFA15A\",\"#19d3f3\",\"#FF6692\",\"#B6E880\",\"#FF97FF\",\"#FECB52\"],\"font\":{\"color\":\"#2a3f5f\"},\"geo\":{\"bgcolor\":\"white\",\"lakecolor\":\"white\",\"landcolor\":\"#E5ECF6\",\"showlakes\":true,\"showland\":true,\"subunitcolor\":\"white\"},\"hoverlabel\":{\"align\":\"left\"},\"hovermode\":\"closest\",\"mapbox\":{\"style\":\"light\"},\"paper_bgcolor\":\"white\",\"plot_bgcolor\":\"#E5ECF6\",\"polar\":{\"angularaxis\":{\"gridcolor\":\"white\",\"linecolor\":\"white\",\"ticks\":\"\"},\"bgcolor\":\"#E5ECF6\",\"radialaxis\":{\"gridcolor\":\"white\",\"linecolor\":\"white\",\"ticks\":\"\"}},\"scene\":{\"xaxis\":{\"backgroundcolor\":\"#E5ECF6\",\"gridcolor\":\"white\",\"gridwidth\":2,\"linecolor\":\"white\",\"showbackground\":true,\"ticks\":\"\",\"zerolinecolor\":\"white\"},\"yaxis\":{\"backgroundcolor\":\"#E5ECF6\",\"gridcolor\":\"white\",\"gridwidth\":2,\"linecolor\":\"white\",\"showbackground\":true,\"ticks\":\"\",\"zerolinecolor\":\"white\"},\"zaxis\":{\"backgroundcolor\":\"#E5ECF6\",\"gridcolor\":\"white\",\"gridwidth\":2,\"linecolor\":\"white\",\"showbackground\":true,\"ticks\":\"\",\"zerolinecolor\":\"white\"}},\"shapedefaults\":{\"line\":{\"color\":\"#2a3f5f\"}},\"ternary\":{\"aaxis\":{\"gridcolor\":\"white\",\"linecolor\":\"white\",\"ticks\":\"\"},\"baxis\":{\"gridcolor\":\"white\",\"linecolor\":\"white\",\"ticks\":\"\"},\"bgcolor\":\"#E5ECF6\",\"caxis\":{\"gridcolor\":\"white\",\"linecolor\":\"white\",\"ticks\":\"\"}},\"title\":{\"x\":0.05},\"xaxis\":{\"automargin\":true,\"gridcolor\":\"white\",\"linecolor\":\"white\",\"ticks\":\"\",\"title\":{\"standoff\":15},\"zerolinecolor\":\"white\",\"zerolinewidth\":2},\"yaxis\":{\"automargin\":true,\"gridcolor\":\"white\",\"linecolor\":\"white\",\"ticks\":\"\",\"title\":{\"standoff\":15},\"zerolinecolor\":\"white\",\"zerolinewidth\":2}}},\"geo\":{\"domain\":{\"x\":[0.0,1.0],\"y\":[0.0,1.0]},\"projection\":{\"type\":\"natural earth\"},\"center\":{}},\"coloraxis\":{\"colorbar\":{\"title\":{\"text\":\"people_vaccinated\"}},\"colorscale\":[[0.0,\"#440154\"],[0.1111111111111111,\"#482878\"],[0.2222222222222222,\"#3e4989\"],[0.3333333333333333,\"#31688e\"],[0.4444444444444444,\"#26828e\"],[0.5555555555555556,\"#1f9e89\"],[0.6666666666666666,\"#35b779\"],[0.7777777777777778,\"#6ece58\"],[0.8888888888888888,\"#b5de2b\"],[1.0,\"#fde725\"]],\"cmin\":0,\"cmax\":5000000},\"legend\":{\"tracegroupgap\":0},\"title\":{\"text\":\"<span style=\\\"font-size:36px; font-family:Times New Roman\\\">N\\u00famero de personas vacunadas por pa\\u00eds</span>\"},\"updatemenus\":[{\"buttons\":[{\"args\":[null,{\"frame\":{\"duration\":500,\"redraw\":true},\"mode\":\"immediate\",\"fromcurrent\":true,\"transition\":{\"duration\":500,\"easing\":\"linear\"}}],\"label\":\"&#9654;\",\"method\":\"animate\"},{\"args\":[[null],{\"frame\":{\"duration\":0,\"redraw\":true},\"mode\":\"immediate\",\"fromcurrent\":true,\"transition\":{\"duration\":0,\"easing\":\"linear\"}}],\"label\":\"&#9724;\",\"method\":\"animate\"}],\"direction\":\"left\",\"pad\":{\"r\":10,\"t\":70},\"showactive\":false,\"type\":\"buttons\",\"x\":0.1,\"xanchor\":\"right\",\"y\":0,\"yanchor\":\"top\"}],\"sliders\":[{\"active\":0,\"currentvalue\":{\"prefix\":\"date=\"},\"len\":0.9,\"pad\":{\"b\":10,\"t\":60},\"steps\":[{\"args\":[[\"2020-12-14\"],{\"frame\":{\"duration\":0,\"redraw\":true},\"mode\":\"immediate\",\"fromcurrent\":true,\"transition\":{\"duration\":0,\"easing\":\"linear\"}}],\"label\":\"2020-12-14\",\"method\":\"animate\"},{\"args\":[[\"2020-12-15\"],{\"frame\":{\"duration\":0,\"redraw\":true},\"mode\":\"immediate\",\"fromcurrent\":true,\"transition\":{\"duration\":0,\"easing\":\"linear\"}}],\"label\":\"2020-12-15\",\"method\":\"animate\"},{\"args\":[[\"2020-12-16\"],{\"frame\":{\"duration\":0,\"redraw\":true},\"mode\":\"immediate\",\"fromcurrent\":true,\"transition\":{\"duration\":0,\"easing\":\"linear\"}}],\"label\":\"2020-12-16\",\"method\":\"animate\"},{\"args\":[[\"2020-12-17\"],{\"frame\":{\"duration\":0,\"redraw\":true},\"mode\":\"immediate\",\"fromcurrent\":true,\"transition\":{\"duration\":0,\"easing\":\"linear\"}}],\"label\":\"2020-12-17\",\"method\":\"animate\"},{\"args\":[[\"2020-12-20\"],{\"frame\":{\"duration\":0,\"redraw\":true},\"mode\":\"immediate\",\"fromcurrent\":true,\"transition\":{\"duration\":0,\"easing\":\"linear\"}}],\"label\":\"2020-12-20\",\"method\":\"animate\"},{\"args\":[[\"2020-12-21\"],{\"frame\":{\"duration\":0,\"redraw\":true},\"mode\":\"immediate\",\"fromcurrent\":true,\"transition\":{\"duration\":0,\"easing\":\"linear\"}}],\"label\":\"2020-12-21\",\"method\":\"animate\"},{\"args\":[[\"2020-12-22\"],{\"frame\":{\"duration\":0,\"redraw\":true},\"mode\":\"immediate\",\"fromcurrent\":true,\"transition\":{\"duration\":0,\"easing\":\"linear\"}}],\"label\":\"2020-12-22\",\"method\":\"animate\"},{\"args\":[[\"2020-12-23\"],{\"frame\":{\"duration\":0,\"redraw\":true},\"mode\":\"immediate\",\"fromcurrent\":true,\"transition\":{\"duration\":0,\"easing\":\"linear\"}}],\"label\":\"2020-12-23\",\"method\":\"animate\"},{\"args\":[[\"2020-12-24\"],{\"frame\":{\"duration\":0,\"redraw\":true},\"mode\":\"immediate\",\"fromcurrent\":true,\"transition\":{\"duration\":0,\"easing\":\"linear\"}}],\"label\":\"2020-12-24\",\"method\":\"animate\"},{\"args\":[[\"2020-12-25\"],{\"frame\":{\"duration\":0,\"redraw\":true},\"mode\":\"immediate\",\"fromcurrent\":true,\"transition\":{\"duration\":0,\"easing\":\"linear\"}}],\"label\":\"2020-12-25\",\"method\":\"animate\"},{\"args\":[[\"2020-12-26\"],{\"frame\":{\"duration\":0,\"redraw\":true},\"mode\":\"immediate\",\"fromcurrent\":true,\"transition\":{\"duration\":0,\"easing\":\"linear\"}}],\"label\":\"2020-12-26\",\"method\":\"animate\"},{\"args\":[[\"2020-12-27\"],{\"frame\":{\"duration\":0,\"redraw\":true},\"mode\":\"immediate\",\"fromcurrent\":true,\"transition\":{\"duration\":0,\"easing\":\"linear\"}}],\"label\":\"2020-12-27\",\"method\":\"animate\"},{\"args\":[[\"2020-12-28\"],{\"frame\":{\"duration\":0,\"redraw\":true},\"mode\":\"immediate\",\"fromcurrent\":true,\"transition\":{\"duration\":0,\"easing\":\"linear\"}}],\"label\":\"2020-12-28\",\"method\":\"animate\"},{\"args\":[[\"2020-12-29\"],{\"frame\":{\"duration\":0,\"redraw\":true},\"mode\":\"immediate\",\"fromcurrent\":true,\"transition\":{\"duration\":0,\"easing\":\"linear\"}}],\"label\":\"2020-12-29\",\"method\":\"animate\"},{\"args\":[[\"2020-12-30\"],{\"frame\":{\"duration\":0,\"redraw\":true},\"mode\":\"immediate\",\"fromcurrent\":true,\"transition\":{\"duration\":0,\"easing\":\"linear\"}}],\"label\":\"2020-12-30\",\"method\":\"animate\"},{\"args\":[[\"2020-12-31\"],{\"frame\":{\"duration\":0,\"redraw\":true},\"mode\":\"immediate\",\"fromcurrent\":true,\"transition\":{\"duration\":0,\"easing\":\"linear\"}}],\"label\":\"2020-12-31\",\"method\":\"animate\"},{\"args\":[[\"2021-01-01\"],{\"frame\":{\"duration\":0,\"redraw\":true},\"mode\":\"immediate\",\"fromcurrent\":true,\"transition\":{\"duration\":0,\"easing\":\"linear\"}}],\"label\":\"2021-01-01\",\"method\":\"animate\"},{\"args\":[[\"2021-01-02\"],{\"frame\":{\"duration\":0,\"redraw\":true},\"mode\":\"immediate\",\"fromcurrent\":true,\"transition\":{\"duration\":0,\"easing\":\"linear\"}}],\"label\":\"2021-01-02\",\"method\":\"animate\"},{\"args\":[[\"2021-01-03\"],{\"frame\":{\"duration\":0,\"redraw\":true},\"mode\":\"immediate\",\"fromcurrent\":true,\"transition\":{\"duration\":0,\"easing\":\"linear\"}}],\"label\":\"2021-01-03\",\"method\":\"animate\"},{\"args\":[[\"2021-01-04\"],{\"frame\":{\"duration\":0,\"redraw\":true},\"mode\":\"immediate\",\"fromcurrent\":true,\"transition\":{\"duration\":0,\"easing\":\"linear\"}}],\"label\":\"2021-01-04\",\"method\":\"animate\"},{\"args\":[[\"2021-01-05\"],{\"frame\":{\"duration\":0,\"redraw\":true},\"mode\":\"immediate\",\"fromcurrent\":true,\"transition\":{\"duration\":0,\"easing\":\"linear\"}}],\"label\":\"2021-01-05\",\"method\":\"animate\"},{\"args\":[[\"2021-01-06\"],{\"frame\":{\"duration\":0,\"redraw\":true},\"mode\":\"immediate\",\"fromcurrent\":true,\"transition\":{\"duration\":0,\"easing\":\"linear\"}}],\"label\":\"2021-01-06\",\"method\":\"animate\"},{\"args\":[[\"2021-01-07\"],{\"frame\":{\"duration\":0,\"redraw\":true},\"mode\":\"immediate\",\"fromcurrent\":true,\"transition\":{\"duration\":0,\"easing\":\"linear\"}}],\"label\":\"2021-01-07\",\"method\":\"animate\"},{\"args\":[[\"2021-01-08\"],{\"frame\":{\"duration\":0,\"redraw\":true},\"mode\":\"immediate\",\"fromcurrent\":true,\"transition\":{\"duration\":0,\"easing\":\"linear\"}}],\"label\":\"2021-01-08\",\"method\":\"animate\"},{\"args\":[[\"2021-01-09\"],{\"frame\":{\"duration\":0,\"redraw\":true},\"mode\":\"immediate\",\"fromcurrent\":true,\"transition\":{\"duration\":0,\"easing\":\"linear\"}}],\"label\":\"2021-01-09\",\"method\":\"animate\"},{\"args\":[[\"2021-01-10\"],{\"frame\":{\"duration\":0,\"redraw\":true},\"mode\":\"immediate\",\"fromcurrent\":true,\"transition\":{\"duration\":0,\"easing\":\"linear\"}}],\"label\":\"2021-01-10\",\"method\":\"animate\"},{\"args\":[[\"2021-01-11\"],{\"frame\":{\"duration\":0,\"redraw\":true},\"mode\":\"immediate\",\"fromcurrent\":true,\"transition\":{\"duration\":0,\"easing\":\"linear\"}}],\"label\":\"2021-01-11\",\"method\":\"animate\"},{\"args\":[[\"2021-01-12\"],{\"frame\":{\"duration\":0,\"redraw\":true},\"mode\":\"immediate\",\"fromcurrent\":true,\"transition\":{\"duration\":0,\"easing\":\"linear\"}}],\"label\":\"2021-01-12\",\"method\":\"animate\"},{\"args\":[[\"2021-01-13\"],{\"frame\":{\"duration\":0,\"redraw\":true},\"mode\":\"immediate\",\"fromcurrent\":true,\"transition\":{\"duration\":0,\"easing\":\"linear\"}}],\"label\":\"2021-01-13\",\"method\":\"animate\"},{\"args\":[[\"2021-01-14\"],{\"frame\":{\"duration\":0,\"redraw\":true},\"mode\":\"immediate\",\"fromcurrent\":true,\"transition\":{\"duration\":0,\"easing\":\"linear\"}}],\"label\":\"2021-01-14\",\"method\":\"animate\"},{\"args\":[[\"2021-01-15\"],{\"frame\":{\"duration\":0,\"redraw\":true},\"mode\":\"immediate\",\"fromcurrent\":true,\"transition\":{\"duration\":0,\"easing\":\"linear\"}}],\"label\":\"2021-01-15\",\"method\":\"animate\"},{\"args\":[[\"2021-01-16\"],{\"frame\":{\"duration\":0,\"redraw\":true},\"mode\":\"immediate\",\"fromcurrent\":true,\"transition\":{\"duration\":0,\"easing\":\"linear\"}}],\"label\":\"2021-01-16\",\"method\":\"animate\"},{\"args\":[[\"2021-01-17\"],{\"frame\":{\"duration\":0,\"redraw\":true},\"mode\":\"immediate\",\"fromcurrent\":true,\"transition\":{\"duration\":0,\"easing\":\"linear\"}}],\"label\":\"2021-01-17\",\"method\":\"animate\"},{\"args\":[[\"2021-01-18\"],{\"frame\":{\"duration\":0,\"redraw\":true},\"mode\":\"immediate\",\"fromcurrent\":true,\"transition\":{\"duration\":0,\"easing\":\"linear\"}}],\"label\":\"2021-01-18\",\"method\":\"animate\"},{\"args\":[[\"2021-01-19\"],{\"frame\":{\"duration\":0,\"redraw\":true},\"mode\":\"immediate\",\"fromcurrent\":true,\"transition\":{\"duration\":0,\"easing\":\"linear\"}}],\"label\":\"2021-01-19\",\"method\":\"animate\"},{\"args\":[[\"2021-01-20\"],{\"frame\":{\"duration\":0,\"redraw\":true},\"mode\":\"immediate\",\"fromcurrent\":true,\"transition\":{\"duration\":0,\"easing\":\"linear\"}}],\"label\":\"2021-01-20\",\"method\":\"animate\"},{\"args\":[[\"2021-01-21\"],{\"frame\":{\"duration\":0,\"redraw\":true},\"mode\":\"immediate\",\"fromcurrent\":true,\"transition\":{\"duration\":0,\"easing\":\"linear\"}}],\"label\":\"2021-01-21\",\"method\":\"animate\"},{\"args\":[[\"2021-01-22\"],{\"frame\":{\"duration\":0,\"redraw\":true},\"mode\":\"immediate\",\"fromcurrent\":true,\"transition\":{\"duration\":0,\"easing\":\"linear\"}}],\"label\":\"2021-01-22\",\"method\":\"animate\"},{\"args\":[[\"2021-01-23\"],{\"frame\":{\"duration\":0,\"redraw\":true},\"mode\":\"immediate\",\"fromcurrent\":true,\"transition\":{\"duration\":0,\"easing\":\"linear\"}}],\"label\":\"2021-01-23\",\"method\":\"animate\"},{\"args\":[[\"2021-01-24\"],{\"frame\":{\"duration\":0,\"redraw\":true},\"mode\":\"immediate\",\"fromcurrent\":true,\"transition\":{\"duration\":0,\"easing\":\"linear\"}}],\"label\":\"2021-01-24\",\"method\":\"animate\"},{\"args\":[[\"2021-01-25\"],{\"frame\":{\"duration\":0,\"redraw\":true},\"mode\":\"immediate\",\"fromcurrent\":true,\"transition\":{\"duration\":0,\"easing\":\"linear\"}}],\"label\":\"2021-01-25\",\"method\":\"animate\"},{\"args\":[[\"2021-01-26\"],{\"frame\":{\"duration\":0,\"redraw\":true},\"mode\":\"immediate\",\"fromcurrent\":true,\"transition\":{\"duration\":0,\"easing\":\"linear\"}}],\"label\":\"2021-01-26\",\"method\":\"animate\"},{\"args\":[[\"2021-01-27\"],{\"frame\":{\"duration\":0,\"redraw\":true},\"mode\":\"immediate\",\"fromcurrent\":true,\"transition\":{\"duration\":0,\"easing\":\"linear\"}}],\"label\":\"2021-01-27\",\"method\":\"animate\"},{\"args\":[[\"2021-01-28\"],{\"frame\":{\"duration\":0,\"redraw\":true},\"mode\":\"immediate\",\"fromcurrent\":true,\"transition\":{\"duration\":0,\"easing\":\"linear\"}}],\"label\":\"2021-01-28\",\"method\":\"animate\"},{\"args\":[[\"2021-01-29\"],{\"frame\":{\"duration\":0,\"redraw\":true},\"mode\":\"immediate\",\"fromcurrent\":true,\"transition\":{\"duration\":0,\"easing\":\"linear\"}}],\"label\":\"2021-01-29\",\"method\":\"animate\"},{\"args\":[[\"2021-01-30\"],{\"frame\":{\"duration\":0,\"redraw\":true},\"mode\":\"immediate\",\"fromcurrent\":true,\"transition\":{\"duration\":0,\"easing\":\"linear\"}}],\"label\":\"2021-01-30\",\"method\":\"animate\"},{\"args\":[[\"2021-01-31\"],{\"frame\":{\"duration\":0,\"redraw\":true},\"mode\":\"immediate\",\"fromcurrent\":true,\"transition\":{\"duration\":0,\"easing\":\"linear\"}}],\"label\":\"2021-01-31\",\"method\":\"animate\"},{\"args\":[[\"2021-02-01\"],{\"frame\":{\"duration\":0,\"redraw\":true},\"mode\":\"immediate\",\"fromcurrent\":true,\"transition\":{\"duration\":0,\"easing\":\"linear\"}}],\"label\":\"2021-02-01\",\"method\":\"animate\"},{\"args\":[[\"2021-02-02\"],{\"frame\":{\"duration\":0,\"redraw\":true},\"mode\":\"immediate\",\"fromcurrent\":true,\"transition\":{\"duration\":0,\"easing\":\"linear\"}}],\"label\":\"2021-02-02\",\"method\":\"animate\"},{\"args\":[[\"2021-02-03\"],{\"frame\":{\"duration\":0,\"redraw\":true},\"mode\":\"immediate\",\"fromcurrent\":true,\"transition\":{\"duration\":0,\"easing\":\"linear\"}}],\"label\":\"2021-02-03\",\"method\":\"animate\"},{\"args\":[[\"2021-02-04\"],{\"frame\":{\"duration\":0,\"redraw\":true},\"mode\":\"immediate\",\"fromcurrent\":true,\"transition\":{\"duration\":0,\"easing\":\"linear\"}}],\"label\":\"2021-02-04\",\"method\":\"animate\"},{\"args\":[[\"2021-02-05\"],{\"frame\":{\"duration\":0,\"redraw\":true},\"mode\":\"immediate\",\"fromcurrent\":true,\"transition\":{\"duration\":0,\"easing\":\"linear\"}}],\"label\":\"2021-02-05\",\"method\":\"animate\"},{\"args\":[[\"2021-02-06\"],{\"frame\":{\"duration\":0,\"redraw\":true},\"mode\":\"immediate\",\"fromcurrent\":true,\"transition\":{\"duration\":0,\"easing\":\"linear\"}}],\"label\":\"2021-02-06\",\"method\":\"animate\"},{\"args\":[[\"2021-02-07\"],{\"frame\":{\"duration\":0,\"redraw\":true},\"mode\":\"immediate\",\"fromcurrent\":true,\"transition\":{\"duration\":0,\"easing\":\"linear\"}}],\"label\":\"2021-02-07\",\"method\":\"animate\"},{\"args\":[[\"2021-02-08\"],{\"frame\":{\"duration\":0,\"redraw\":true},\"mode\":\"immediate\",\"fromcurrent\":true,\"transition\":{\"duration\":0,\"easing\":\"linear\"}}],\"label\":\"2021-02-08\",\"method\":\"animate\"},{\"args\":[[\"2021-02-09\"],{\"frame\":{\"duration\":0,\"redraw\":true},\"mode\":\"immediate\",\"fromcurrent\":true,\"transition\":{\"duration\":0,\"easing\":\"linear\"}}],\"label\":\"2021-02-09\",\"method\":\"animate\"},{\"args\":[[\"2021-02-10\"],{\"frame\":{\"duration\":0,\"redraw\":true},\"mode\":\"immediate\",\"fromcurrent\":true,\"transition\":{\"duration\":0,\"easing\":\"linear\"}}],\"label\":\"2021-02-10\",\"method\":\"animate\"},{\"args\":[[\"2021-02-11\"],{\"frame\":{\"duration\":0,\"redraw\":true},\"mode\":\"immediate\",\"fromcurrent\":true,\"transition\":{\"duration\":0,\"easing\":\"linear\"}}],\"label\":\"2021-02-11\",\"method\":\"animate\"},{\"args\":[[\"2021-02-12\"],{\"frame\":{\"duration\":0,\"redraw\":true},\"mode\":\"immediate\",\"fromcurrent\":true,\"transition\":{\"duration\":0,\"easing\":\"linear\"}}],\"label\":\"2021-02-12\",\"method\":\"animate\"},{\"args\":[[\"2021-02-13\"],{\"frame\":{\"duration\":0,\"redraw\":true},\"mode\":\"immediate\",\"fromcurrent\":true,\"transition\":{\"duration\":0,\"easing\":\"linear\"}}],\"label\":\"2021-02-13\",\"method\":\"animate\"},{\"args\":[[\"2021-02-14\"],{\"frame\":{\"duration\":0,\"redraw\":true},\"mode\":\"immediate\",\"fromcurrent\":true,\"transition\":{\"duration\":0,\"easing\":\"linear\"}}],\"label\":\"2021-02-14\",\"method\":\"animate\"},{\"args\":[[\"2021-02-15\"],{\"frame\":{\"duration\":0,\"redraw\":true},\"mode\":\"immediate\",\"fromcurrent\":true,\"transition\":{\"duration\":0,\"easing\":\"linear\"}}],\"label\":\"2021-02-15\",\"method\":\"animate\"}],\"x\":0.1,\"xanchor\":\"left\",\"y\":0,\"yanchor\":\"top\"}]},                        {\"responsive\": true}                    ).then(function(){\n",
       "                            Plotly.addFrames('dcc53dd1-ece0-408e-a273-abc2738510bc', [{\"data\":[{\"coloraxis\":\"coloraxis\",\"geo\":\"geo\",\"hovertemplate\":\"<b>%{hovertext}</b><br><br>date=2020-12-14<br>iso_code=%{location}<br>people_vaccinated=%{z}<extra></extra>\",\"hovertext\":[\"United Kingdom\"],\"locations\":[\"GBR\"],\"name\":\"\",\"z\":[86215.0],\"type\":\"choropleth\"}],\"name\":\"2020-12-14\"},{\"data\":[{\"coloraxis\":\"coloraxis\",\"geo\":\"geo\",\"hovertemplate\":\"<b>%{hovertext}</b><br><br>date=2020-12-15<br>iso_code=%{location}<br>people_vaccinated=%{z}<extra></extra>\",\"hovertext\":[\"United Kingdom\"],\"locations\":[\"GBR\"],\"name\":\"\",\"z\":[86215.0],\"type\":\"choropleth\"}],\"name\":\"2020-12-15\"},{\"data\":[{\"coloraxis\":\"coloraxis\",\"geo\":\"geo\",\"hovertemplate\":\"<b>%{hovertext}</b><br><br>date=2020-12-16<br>iso_code=%{location}<br>people_vaccinated=%{z}<extra></extra>\",\"hovertext\":[\"Russia\"],\"locations\":[\"RUS\"],\"name\":\"\",\"z\":[28500.0],\"type\":\"choropleth\"}],\"name\":\"2020-12-16\"},{\"data\":[{\"coloraxis\":\"coloraxis\",\"geo\":\"geo\",\"hovertemplate\":\"<b>%{hovertext}</b><br><br>date=2020-12-17<br>iso_code=%{location}<br>people_vaccinated=%{z}<extra></extra>\",\"hovertext\":[\"Russia\"],\"locations\":[\"RUS\"],\"name\":\"\",\"z\":[28500.0],\"type\":\"choropleth\"}],\"name\":\"2020-12-17\"},{\"data\":[{\"coloraxis\":\"coloraxis\",\"geo\":\"geo\",\"hovertemplate\":\"<b>%{hovertext}</b><br><br>date=2020-12-20<br>iso_code=%{location}<br>people_vaccinated=%{z}<extra></extra>\",\"hovertext\":[\"United Kingdom\",\"Israel\"],\"locations\":[\"GBR\",\"ISR\"],\"name\":\"\",\"z\":[673798.0,7409.0],\"type\":\"choropleth\"}],\"name\":\"2020-12-20\"},{\"data\":[{\"coloraxis\":\"coloraxis\",\"geo\":\"geo\",\"hovertemplate\":\"<b>%{hovertext}</b><br><br>date=2020-12-21<br>iso_code=%{location}<br>people_vaccinated=%{z}<extra></extra>\",\"hovertext\":[\"Israel\",\"United States\",\"United Kingdom\"],\"locations\":[\"ISR\",\"USA\",\"GBR\"],\"name\":\"\",\"z\":[32272.0,614117.0,673798.0],\"type\":\"choropleth\"}],\"name\":\"2020-12-21\"},{\"data\":[{\"coloraxis\":\"coloraxis\",\"geo\":\"geo\",\"hovertemplate\":\"<b>%{hovertext}</b><br><br>date=2020-12-22<br>iso_code=%{location}<br>people_vaccinated=%{z}<extra></extra>\",\"hovertext\":[\"Russia\",\"Israel\",\"United Kingdom\",\"United States\"],\"locations\":[\"RUS\",\"ISR\",\"GBR\",\"USA\"],\"name\":\"\",\"z\":[52000.0,76880.0,673798.0,585162.5],\"type\":\"choropleth\"}],\"name\":\"2020-12-22\"},{\"data\":[{\"coloraxis\":\"coloraxis\",\"geo\":\"geo\",\"hovertemplate\":\"<b>%{hovertext}</b><br><br>date=2020-12-23<br>iso_code=%{location}<br>people_vaccinated=%{z}<extra></extra>\",\"hovertext\":[\"United States\",\"Israel\",\"Russia\"],\"locations\":[\"USA\",\"ISR\",\"RUS\"],\"name\":\"\",\"z\":[1008025.0,139554.0,52000.0],\"type\":\"choropleth\"}],\"name\":\"2020-12-23\"},{\"data\":[{\"coloraxis\":\"coloraxis\",\"geo\":\"geo\",\"hovertemplate\":\"<b>%{hovertext}</b><br><br>date=2020-12-24<br>iso_code=%{location}<br>people_vaccinated=%{z}<extra></extra>\",\"hovertext\":[\"Israel\",\"Russia\",\"United States\",\"Bahrain\"],\"locations\":[\"ISR\",\"RUS\",\"USA\",\"BHR\"],\"name\":\"\",\"z\":[212886.0,52000.0,1008025.0,50071.0],\"type\":\"choropleth\"}],\"name\":\"2020-12-24\"},{\"data\":[{\"coloraxis\":\"coloraxis\",\"geo\":\"geo\",\"hovertemplate\":\"<b>%{hovertext}</b><br><br>date=2020-12-25<br>iso_code=%{location}<br>people_vaccinated=%{z}<extra></extra>\",\"hovertext\":[\"United States\",\"Israel\",\"Mexico\",\"Bahrain\",\"Chile\"],\"locations\":[\"USA\",\"ISR\",\"MEX\",\"BHR\",\"CHL\"],\"name\":\"\",\"z\":[1008025.0,251448.0,2924.0,50543.0,5199.0],\"type\":\"choropleth\"}],\"name\":\"2020-12-25\"},{\"data\":[{\"coloraxis\":\"coloraxis\",\"geo\":\"geo\",\"hovertemplate\":\"<b>%{hovertext}</b><br><br>date=2020-12-26<br>iso_code=%{location}<br>people_vaccinated=%{z}<extra></extra>\",\"hovertext\":[\"Chile\",\"Mexico\",\"Israel\",\"United States\",\"Bahrain\"],\"locations\":[\"CHL\",\"MEX\",\"ISR\",\"USA\",\"BHR\"],\"name\":\"\",\"z\":[8339.0,2924.0,284107.0,1944585.0,51556.0],\"type\":\"choropleth\"}],\"name\":\"2020-12-26\"},{\"data\":[{\"coloraxis\":\"coloraxis\",\"geo\":\"geo\",\"hovertemplate\":\"<b>%{hovertext}</b><br><br>date=2020-12-27<br>iso_code=%{location}<br>people_vaccinated=%{z}<extra></extra>\",\"hovertext\":[\"United States\",\"Bahrain\",\"Israel\",\"Mexico\",\"Chile\",\"United Kingdom\"],\"locations\":[\"USA\",\"BHR\",\"ISR\",\"MEX\",\"CHL\",\"GBR\"],\"name\":\"\",\"z\":[1944585.0,53614.0,388767.0,6824.0,8650.0,1002930.0],\"type\":\"choropleth\"}],\"name\":\"2020-12-27\"},{\"data\":[{\"coloraxis\":\"coloraxis\",\"geo\":\"geo\",\"hovertemplate\":\"<b>%{hovertext}</b><br><br>date=2020-12-28<br>iso_code=%{location}<br>people_vaccinated=%{z}<extra></extra>\",\"hovertext\":[\"Germany\",\"Lithuania\",\"Sweden\",\"United States\",\"Czechia\",\"Bahrain\",\"Chile\",\"Mexico\",\"France\",\"Norway\",\"United Kingdom\",\"Italy\",\"Slovenia\",\"Denmark\",\"Israel\"],\"locations\":[\"DEU\",\"LTU\",\"SWE\",\"USA\",\"CZE\",\"BHR\",\"CHL\",\"MEX\",\"FRA\",\"NOR\",\"GBR\",\"ITA\",\"SVN\",\"DNK\",\"ISR\"],\"name\":\"\",\"z\":[42071.0,5203.0,1885.0,2127143.0,3541.0,55014.0,8650.0,9579.0,52.0,606.0,1002930.0,7985.0,7367.0,8479.0,523779.0],\"type\":\"choropleth\"}],\"name\":\"2020-12-28\"},{\"data\":[{\"coloraxis\":\"coloraxis\",\"geo\":\"geo\",\"hovertemplate\":\"<b>%{hovertext}</b><br><br>date=2020-12-29<br>iso_code=%{location}<br>people_vaccinated=%{z}<extra></extra>\",\"hovertext\":[\"Czechia\",\"Portugal\",\"Poland\",\"Mexico\",\"United States\",\"Greece\",\"Bahrain\",\"Norway\",\"France\",\"Romania\",\"Oman\",\"United Kingdom\",\"Belgium\",\"Sweden\",\"Israel\",\"Slovenia\",\"Lithuania\",\"Germany\",\"Italy\",\"Chile\",\"Denmark\"],\"locations\":[\"CZE\",\"PRT\",\"POL\",\"MEX\",\"USA\",\"GRC\",\"BHR\",\"NOR\",\"FRA\",\"ROU\",\"OMN\",\"GBR\",\"BEL\",\"SWE\",\"ISR\",\"SVN\",\"LTU\",\"DEU\",\"ITA\",\"CHL\",\"DNK\"],\"name\":\"\",\"z\":[7001.0,16701.0,6300.0,18529.0,2127143.0,1077.0,56041.0,1674.0,138.0,2778.0,3363.0,1002930.0,298.0,1885.0,680107.0,8470.0,8189.0,84516.0,8912.0,8650.0,17440.0],\"type\":\"choropleth\"}],\"name\":\"2020-12-29\"},{\"data\":[{\"coloraxis\":\"coloraxis\",\"geo\":\"geo\",\"hovertemplate\":\"<b>%{hovertext}</b><br><br>date=2020-12-30<br>iso_code=%{location}<br>people_vaccinated=%{z}<extra></extra>\",\"hovertext\":[\"Romania\",\"Lithuania\",\"Italy\",\"Norway\",\"Belgium\",\"Oman\",\"Poland\",\"Germany\",\"Israel\",\"United States\",\"Denmark\",\"Portugal\",\"Chile\",\"Mexico\",\"Bahrain\",\"Bulgaria\",\"Czechia\",\"Greece\",\"France\",\"Slovenia\"],\"locations\":[\"ROU\",\"LTU\",\"ITA\",\"NOR\",\"BEL\",\"OMN\",\"POL\",\"DEU\",\"ISR\",\"USA\",\"DNK\",\"PRT\",\"CHL\",\"MEX\",\"BHR\",\"BGR\",\"CZE\",\"GRC\",\"FRA\",\"SVN\"],\"name\":\"\",\"z\":[5666.0,9722.0,13580.0,2098.0,777.0,5043.0,36300.0,142211.0,833126.0,2794588.0,28917.0,26850.0,8650.0,24998.0,57317.0,4608.0,10467.0,1722.0,237.0,8911.0],\"type\":\"choropleth\"}],\"name\":\"2020-12-30\"},{\"data\":[{\"coloraxis\":\"coloraxis\",\"geo\":\"geo\",\"hovertemplate\":\"<b>%{hovertext}</b><br><br>date=2020-12-31<br>iso_code=%{location}<br>people_vaccinated=%{z}<extra></extra>\",\"hovertext\":[\"Italy\",\"Belgium\",\"Oman\",\"Israel\",\"Germany\",\"Norway\",\"Lithuania\",\"Luxembourg\",\"Bulgaria\",\"France\",\"Mexico\",\"Chile\",\"Iceland\",\"United States\",\"Poland\",\"Greece\",\"Slovenia\",\"Czechia\",\"Portugal\",\"Romania\",\"Bahrain\",\"Croatia\",\"Denmark\"],\"locations\":[\"ITA\",\"BEL\",\"OMN\",\"ISR\",\"DEU\",\"NOR\",\"LTU\",\"LUX\",\"BGR\",\"FRA\",\"MEX\",\"CHL\",\"ISL\",\"USA\",\"POL\",\"GRC\",\"SVN\",\"CZE\",\"PRT\",\"ROU\",\"BHR\",\"HRV\",\"DNK\"],\"name\":\"\",\"z\":[38838.0,786.0,6516.0,992388.0,180326.0,2170.0,9747.0,1200.0,3163.5,316.0,21763.5,8650.0,4875.0,2794588.0,47600.0,2339.0,10619.0,11777.0,21775.5,10289.0,58643.0,7864.0,35114.0],\"type\":\"choropleth\"}],\"name\":\"2020-12-31\"},{\"data\":[{\"coloraxis\":\"coloraxis\",\"geo\":\"geo\",\"hovertemplate\":\"<b>%{hovertext}</b><br><br>date=2021-01-01<br>iso_code=%{location}<br>people_vaccinated=%{z}<extra></extra>\",\"hovertext\":[\"Greece\",\"Denmark\",\"Czechia\",\"Norway\",\"Germany\",\"Romania\",\"Lithuania\",\"Bahrain\",\"France\",\"Iceland\",\"Mexico\",\"Bulgaria\",\"Luxembourg\",\"United States\",\"Chile\",\"Belgium\",\"Italy\",\"Portugal\",\"Croatia\",\"Israel\",\"Poland\",\"Slovenia\",\"Oman\"],\"locations\":[\"GRC\",\"DNK\",\"CZE\",\"NOR\",\"DEU\",\"ROU\",\"LTU\",\"BHR\",\"FRA\",\"ISL\",\"MEX\",\"BGR\",\"LUX\",\"USA\",\"CHL\",\"BEL\",\"ITA\",\"PRT\",\"HRV\",\"ISR\",\"POL\",\"SVN\",\"OMN\"],\"name\":\"\",\"z\":[2603.0,37458.0,12039.0,2176.0,204782.0,11656.0,9734.5,59351.0,325.0,4875.0,24998.0,4739.0,1200.0,2794588.0,8650.0,793.0,49875.0,26850.0,7864.0,1064321.0,41950.0,10766.0,5779.5],\"type\":\"choropleth\"}],\"name\":\"2021-01-01\"},{\"data\":[{\"coloraxis\":\"coloraxis\",\"geo\":\"geo\",\"hovertemplate\":\"<b>%{hovertext}</b><br><br>date=2021-01-02<br>iso_code=%{location}<br>people_vaccinated=%{z}<extra></extra>\",\"hovertext\":[\"Bulgaria\",\"Italy\",\"Bahrain\",\"France\",\"Poland\",\"Slovenia\",\"Romania\",\"Russia\",\"Greece\",\"Denmark\",\"Oman\",\"Germany\",\"Norway\",\"Chile\",\"Israel\",\"Czechia\",\"United States\",\"Belgium\",\"Lithuania\"],\"locations\":[\"BGR\",\"ITA\",\"BHR\",\"FRA\",\"POL\",\"SVN\",\"ROU\",\"RUS\",\"GRC\",\"DNK\",\"OMN\",\"DEU\",\"NOR\",\"CHL\",\"ISR\",\"CZE\",\"USA\",\"BEL\",\"LTU\"],\"name\":\"\",\"z\":[4739.0,88361.0,60097.0,367.0,50391.0,11170.0,13242.0,800000.0,3149.0,46353.0,7231.0,256056.0,2176.0,8650.0,1136481.0,13295.0,4225756.0,789.5,9747.0],\"type\":\"choropleth\"}],\"name\":\"2021-01-02\"},{\"data\":[{\"coloraxis\":\"coloraxis\",\"geo\":\"geo\",\"hovertemplate\":\"<b>%{hovertext}</b><br><br>date=2021-01-03<br>iso_code=%{location}<br>people_vaccinated=%{z}<extra></extra>\",\"hovertext\":[\"United States\",\"Germany\",\"Bulgaria\",\"Russia\",\"Israel\",\"Italy\",\"Denmark\",\"Sweden\",\"Romania\",\"Norway\",\"Oman\",\"Belgium\",\"Bahrain\",\"Croatia\",\"Czechia\",\"United Kingdom\",\"Slovenia\",\"Greece\",\"Portugal\",\"France\",\"Poland\"],\"locations\":[\"USA\",\"DEU\",\"BGR\",\"RUS\",\"ISR\",\"ITA\",\"DNK\",\"SWE\",\"ROU\",\"NOR\",\"OMN\",\"BEL\",\"BHR\",\"HRV\",\"CZE\",\"GBR\",\"SVN\",\"GRC\",\"PRT\",\"FRA\",\"POL\"],\"name\":\"\",\"z\":[4225756.0,281300.0,4739.0,800000.0,1286922.0,123464.0,52377.0,14159.0,13596.0,2179.0,8826.0,793.0,60689.0,12285.0,14211.0,1376994.0,11725.0,3869.0,32000.0,441.0,50833.0],\"type\":\"choropleth\"}],\"name\":\"2021-01-03\"},{\"data\":[{\"coloraxis\":\"coloraxis\",\"geo\":\"geo\",\"hovertemplate\":\"<b>%{hovertext}</b><br><br>date=2021-01-04<br>iso_code=%{location}<br>people_vaccinated=%{z}<extra></extra>\",\"hovertext\":[\"Czechia\",\"United Kingdom\",\"Belgium\",\"Croatia\",\"Germany\",\"Israel\",\"United States\",\"Italy\",\"Greece\",\"Portugal\",\"Poland\",\"Oman\",\"Denmark\",\"France\",\"Romania\",\"Mexico\",\"Russia\",\"Bahrain\",\"Norway\",\"Sweden\",\"Slovenia\",\"Chile\"],\"locations\":[\"CZE\",\"GBR\",\"BEL\",\"HRV\",\"DEU\",\"ISR\",\"USA\",\"ITA\",\"GRC\",\"PRT\",\"POL\",\"OMN\",\"DNK\",\"FRA\",\"ROU\",\"MEX\",\"RUS\",\"BHR\",\"NOR\",\"SWE\",\"SVN\",\"CHL\"],\"name\":\"\",\"z\":[17779.0,1376994.0,794.0,12285.0,329657.0,1439101.0,4563260.0,191773.0,10327.0,32000.0,92220.0,10728.0,54780.0,1800.0,25508.0,43960.0,800000.0,61612.0,2185.0,14159.0,12816.0,9055.0],\"type\":\"choropleth\"}],\"name\":\"2021-01-04\"},{\"data\":[{\"coloraxis\":\"coloraxis\",\"geo\":\"geo\",\"hovertemplate\":\"<b>%{hovertext}</b><br><br>date=2021-01-05<br>iso_code=%{location}<br>people_vaccinated=%{z}<extra></extra>\",\"hovertext\":[\"Sweden\",\"Spain\",\"Israel\",\"Slovenia\",\"Greece\",\"Chile\",\"Czechia\",\"United Kingdom\",\"United States\",\"France\",\"Lithuania\",\"Mexico\",\"Romania\",\"Norway\",\"Denmark\",\"Italy\",\"Bahrain\",\"Croatia\",\"Slovakia\",\"Germany\",\"Belgium\",\"Bulgaria\",\"Portugal\",\"Poland\",\"Oman\"],\"locations\":[\"SWE\",\"ESP\",\"ISR\",\"SVN\",\"GRC\",\"CHL\",\"CZE\",\"GBR\",\"USA\",\"FRA\",\"LTU\",\"MEX\",\"ROU\",\"NOR\",\"DNK\",\"ITA\",\"BHR\",\"HRV\",\"SVK\",\"DEU\",\"BEL\",\"BGR\",\"PRT\",\"POL\",\"OMN\"],\"name\":\"\",\"z\":[14159.0,139339.0,1565031.0,15233.0,16631.0,10498.0,22288.0,1376994.0,4836469.0,6744.0,10369.0,48236.0,41609.0,5570.0,68324.0,271157.0,63893.0,13798.0,425.0,381939.0,2369.0,5448.0,32000.0,140226.0,12751.0],\"type\":\"choropleth\"}],\"name\":\"2021-01-05\"},{\"data\":[{\"coloraxis\":\"coloraxis\",\"geo\":\"geo\",\"hovertemplate\":\"<b>%{hovertext}</b><br><br>date=2021-01-06<br>iso_code=%{location}<br>people_vaccinated=%{z}<extra></extra>\",\"hovertext\":[\"United States\",\"Romania\",\"Mexico\",\"Italy\",\"Bahrain\",\"Portugal\",\"Greece\",\"Belgium\",\"Oman\",\"Norway\",\"Bulgaria\",\"Croatia\",\"France\",\"Germany\",\"Israel\",\"Slovakia\",\"Slovenia\",\"Spain\",\"Denmark\",\"Chile\",\"Lithuania\",\"Poland\",\"Czechia\"],\"locations\":[\"USA\",\"ROU\",\"MEX\",\"ITA\",\"BHR\",\"PRT\",\"GRC\",\"BEL\",\"OMN\",\"NOR\",\"BGR\",\"HRV\",\"FRA\",\"DEU\",\"ISR\",\"SVK\",\"SVN\",\"ESP\",\"DNK\",\"CHL\",\"LTU\",\"POL\",\"CZE\"],\"name\":\"\",\"z\":[5306797.0,58554.0,53185.0,336238.0,68472.0,42035.0,20616.0,6236.0,14005.0,14627.0,7913.0,13798.0,17064.0,440085.0,1668895.0,6618.0,20335.0,111086.5,88148.0,10703.0,13866.0,160359.0,28090.0],\"type\":\"choropleth\"}],\"name\":\"2021-01-06\"},{\"data\":[{\"coloraxis\":\"coloraxis\",\"geo\":\"geo\",\"hovertemplate\":\"<b>%{hovertext}</b><br><br>date=2021-01-07<br>iso_code=%{location}<br>people_vaccinated=%{z}<extra></extra>\",\"hovertext\":[\"Spain\",\"Germany\",\"Poland\",\"Norway\",\"Slovenia\",\"United States\",\"Romania\",\"Oman\",\"Belgium\",\"Slovakia\",\"Italy\",\"Greece\",\"Israel\",\"Portugal\",\"France\",\"Denmark\",\"Lithuania\",\"Mexico\",\"Chile\",\"Czechia\",\"Bahrain\",\"Bulgaria\",\"Croatia\"],\"locations\":[\"ESP\",\"DEU\",\"POL\",\"NOR\",\"SVN\",\"USA\",\"ROU\",\"OMN\",\"BEL\",\"SVK\",\"ITA\",\"GRC\",\"ISR\",\"PRT\",\"FRA\",\"DNK\",\"LTU\",\"MEX\",\"CHL\",\"CZE\",\"BHR\",\"BGR\",\"HRV\"],\"name\":\"\",\"z\":[207323.0,498497.0,188956.0,21194.0,25589.0,5919418.0,76400.0,14911.0,14362.0,13661.0,427914.0,26445.0,1785152.0,42035.0,43282.0,105701.0,18020.0,58402.0,10703.0,36031.0,72239.0,11117.0,20603.0],\"type\":\"choropleth\"}],\"name\":\"2021-01-07\"},{\"data\":[{\"coloraxis\":\"coloraxis\",\"geo\":\"geo\",\"hovertemplate\":\"<b>%{hovertext}</b><br><br>date=2021-01-08<br>iso_code=%{location}<br>people_vaccinated=%{z}<extra></extra>\",\"hovertext\":[\"France\",\"Germany\",\"Croatia\",\"Czechia\",\"Denmark\",\"Belgium\",\"Bulgaria\",\"Spain\",\"Slovenia\",\"Italy\",\"Slovakia\",\"Oman\",\"Lithuania\",\"Mexico\",\"Bahrain\",\"Chile\",\"Israel\",\"Greece\",\"Poland\",\"Norway\",\"Romania\",\"Portugal\",\"United States\"],\"locations\":[\"FRA\",\"DEU\",\"HRV\",\"CZE\",\"DNK\",\"BEL\",\"BGR\",\"ESP\",\"SVN\",\"ITA\",\"SVK\",\"OMN\",\"LTU\",\"MEX\",\"BHR\",\"CHL\",\"ISR\",\"GRC\",\"POL\",\"NOR\",\"ROU\",\"PRT\",\"USA\"],\"name\":\"\",\"z\":[76022.0,558497.0,24985.0,45968.0,114212.0,23513.0,13355.0,277976.0,28780.0,523070.0,20702.0,14980.0,23190.0,67468.0,78291.0,10703.0,1851710.0,35272.0,198787.0,22807.0,92706.0,70000.0,6688231.0],\"type\":\"choropleth\"}],\"name\":\"2021-01-08\"},{\"data\":[{\"coloraxis\":\"coloraxis\",\"geo\":\"geo\",\"hovertemplate\":\"<b>%{hovertext}</b><br><br>date=2021-01-09<br>iso_code=%{location}<br>people_vaccinated=%{z}<extra></extra>\",\"hovertext\":[\"Croatia\",\"Bahrain\",\"Portugal\",\"Poland\",\"Greece\",\"Denmark\",\"Serbia\",\"Slovakia\",\"Slovenia\",\"Spain\",\"Czechia\",\"Romania\",\"Oman\",\"Italy\",\"Israel\",\"Chile\",\"Belgium\",\"United States\",\"France\",\"Lithuania\",\"Mexico\",\"Bulgaria\",\"Norway\",\"Germany\"],\"locations\":[\"HRV\",\"BHR\",\"PRT\",\"POL\",\"GRC\",\"DNK\",\"SRB\",\"SVK\",\"SVN\",\"ESP\",\"CZE\",\"ROU\",\"OMN\",\"ITA\",\"ISR\",\"CHL\",\"BEL\",\"USA\",\"FRA\",\"LTU\",\"MEX\",\"BGR\",\"NOR\",\"DEU\"],\"name\":\"\",\"z\":[30000.0,84157.0,70000.0,200022.0,40427.0,116113.0,7000.0,22311.0,29028.0,242649.5,47963.0,102301.0,15023.0,609850.0,1896338.0,10703.0,26699.0,6303824.5,86315.0,23494.0,74794.0,13473.0,22941.0,615366.0],\"type\":\"choropleth\"}],\"name\":\"2021-01-09\"},{\"data\":[{\"coloraxis\":\"coloraxis\",\"geo\":\"geo\",\"hovertemplate\":\"<b>%{hovertext}</b><br><br>date=2021-01-10<br>iso_code=%{location}<br>people_vaccinated=%{z}<extra></extra>\",\"hovertext\":[\"United Kingdom\",\"Greece\",\"Germany\",\"Spain\",\"United Arab Emirates\",\"Sweden\",\"United States\",\"Slovenia\",\"Czechia\",\"Norway\",\"Slovakia\",\"Oman\",\"Poland\",\"Portugal\",\"Mexico\",\"Israel\",\"Lithuania\",\"France\",\"Denmark\",\"Seychelles\",\"Italy\",\"Romania\",\"Serbia\",\"Croatia\",\"Chile\",\"Belgium\",\"Bahrain\",\"Bulgaria\"],\"locations\":[\"GBR\",\"GRC\",\"DEU\",\"ESP\",\"ARE\",\"SWE\",\"USA\",\"SVN\",\"CZE\",\"NOR\",\"SVK\",\"OMN\",\"POL\",\"PRT\",\"MEX\",\"ISR\",\"LTU\",\"FRA\",\"DNK\",\"SYC\",\"ITA\",\"ROU\",\"SRB\",\"HRV\",\"CHL\",\"BEL\",\"BHR\",\"BGR\"],\"name\":\"\",\"z\":[2286572.0,44645.0,648594.0,277976.0,836568.0,47223.0,6688231.0,29029.0,49677.0,23048.0,25356.0,15907.0,203053.0,70000.0,81300.0,1934042.0,23497.0,91629.0,116926.0,0.0,670081.0,108294.0,9300.0,27492.5,10703.0,27096.0,89250.0,13414.0],\"type\":\"choropleth\"}],\"name\":\"2021-01-10\"},{\"data\":[{\"coloraxis\":\"coloraxis\",\"geo\":\"geo\",\"hovertemplate\":\"<b>%{hovertext}</b><br><br>date=2021-01-11<br>iso_code=%{location}<br>people_vaccinated=%{z}<extra></extra>\",\"hovertext\":[\"Seychelles\",\"Norway\",\"Slovenia\",\"Croatia\",\"France\",\"Italy\",\"Spain\",\"Czechia\",\"Luxembourg\",\"Germany\",\"Belgium\",\"Bulgaria\",\"Oman\",\"United Arab Emirates\",\"Poland\",\"Lithuania\",\"Denmark\",\"Chile\",\"Romania\",\"Bahrain\",\"Israel\",\"Sweden\",\"Greece\",\"Mexico\",\"United States\",\"United Kingdom\",\"Albania\",\"Serbia\",\"Slovakia\"],\"locations\":[\"SYC\",\"NOR\",\"SVN\",\"HRV\",\"FRA\",\"ITA\",\"ESP\",\"CZE\",\"LUX\",\"DEU\",\"BEL\",\"BGR\",\"OMN\",\"ARE\",\"POL\",\"LTU\",\"DNK\",\"CHL\",\"ROU\",\"BHR\",\"ISR\",\"SWE\",\"GRC\",\"MEX\",\"USA\",\"GBR\",\"ALB\",\"SRB\",\"SVK\"],\"name\":\"\",\"z\":[0.0,23395.0,29513.0,30000.0,125412.0,750646.0,406091.0,59444.0,1943.0,714229.0,32546.0,14161.0,18287.0,836568.0,257834.0,25704.0,117583.0,10703.0,125190.0,92598.0,1955180.0,47223.0,50045.0,87060.0,8987322.0,2431648.0,0.0,9300.0,29411.0],\"type\":\"choropleth\"}],\"name\":\"2021-01-11\"},{\"data\":[{\"coloraxis\":\"coloraxis\",\"geo\":\"geo\",\"hovertemplate\":\"<b>%{hovertext}</b><br><br>date=2021-01-12<br>iso_code=%{location}<br>people_vaccinated=%{z}<extra></extra>\",\"hovertext\":[\"Chile\",\"Sweden\",\"Poland\",\"Lithuania\",\"Denmark\",\"United Arab Emirates\",\"Bulgaria\",\"France\",\"Israel\",\"Italy\",\"Bahrain\",\"Romania\",\"Spain\",\"United States\",\"Serbia\",\"Singapore\",\"Slovenia\",\"Luxembourg\",\"Germany\",\"United Kingdom\",\"Czechia\",\"Belgium\",\"Oman\",\"Greece\",\"Albania\",\"Norway\",\"Slovakia\",\"Mexico\"],\"locations\":[\"CHL\",\"SWE\",\"POL\",\"LTU\",\"DNK\",\"ARE\",\"BGR\",\"FRA\",\"ISR\",\"ITA\",\"BHR\",\"ROU\",\"ESP\",\"USA\",\"SRB\",\"SGP\",\"SVN\",\"LUX\",\"DEU\",\"GBR\",\"CZE\",\"BEL\",\"OMN\",\"GRC\",\"ALB\",\"NOR\",\"SVK\",\"MEX\"],\"name\":\"\",\"z\":[10703.0,47223.0,309620.0,27789.0,118045.0,836568.0,15780.0,179119.0,1979129.0,831751.0,97776.0,140447.0,488122.0,9327138.0,9300.0,6200.0,31304.0,2372.0,796285.0,2639309.0,72812.0,47988.0,20649.0,56475.0,128.0,27656.0,39977.0,92879.0],\"type\":\"choropleth\"}],\"name\":\"2021-01-12\"},{\"data\":[{\"coloraxis\":\"coloraxis\",\"geo\":\"geo\",\"hovertemplate\":\"<b>%{hovertext}</b><br><br>date=2021-01-13<br>iso_code=%{location}<br>people_vaccinated=%{z}<extra></extra>\",\"hovertext\":[\"Bahrain\",\"Albania\",\"Norway\",\"Italy\",\"Czechia\",\"Croatia\",\"United States\",\"France\",\"Russia\",\"Slovakia\",\"Chile\",\"Mexico\",\"Romania\",\"Greece\",\"United Kingdom\",\"Israel\",\"Canada\",\"Denmark\",\"Spain\",\"Bulgaria\",\"Belgium\",\"Poland\",\"Luxembourg\",\"Lithuania\",\"Slovenia\",\"Singapore\",\"Germany\",\"Oman\",\"Seychelles\"],\"locations\":[\"BHR\",\"ALB\",\"NOR\",\"ITA\",\"CZE\",\"HRV\",\"USA\",\"FRA\",\"RUS\",\"SVK\",\"CHL\",\"MEX\",\"ROU\",\"GRC\",\"GBR\",\"ISR\",\"CAN\",\"DNK\",\"ESP\",\"BGR\",\"BEL\",\"POL\",\"LUX\",\"LTU\",\"SVN\",\"SGP\",\"DEU\",\"OMN\",\"SYC\"],\"name\":\"\",\"z\":[101363.0,188.0,37426.0,924694.0,86281.0,34553.0,9157230.0,235786.0,1000000.0,46727.0,10704.0,192567.0,154268.0,64932.0,2918252.0,2030863.0,213147.0,130774.0,581638.0,17038.0,68682.0,369212.0,2871.0,33935.0,35974.0,4800.0,894698.0,22749.0,2000.0],\"type\":\"choropleth\"}],\"name\":\"2021-01-13\"},{\"data\":[{\"coloraxis\":\"coloraxis\",\"geo\":\"geo\",\"hovertemplate\":\"<b>%{hovertext}</b><br><br>date=2021-01-14<br>iso_code=%{location}<br>people_vaccinated=%{z}<extra></extra>\",\"hovertext\":[\"Greece\",\"United Kingdom\",\"Singapore\",\"Austria\",\"Poland\",\"Oman\",\"Bulgaria\",\"Chile\",\"Mexico\",\"Lithuania\",\"Russia\",\"Slovakia\",\"Denmark\",\"Romania\",\"Belgium\",\"Seychelles\",\"Norway\",\"Italy\",\"France\",\"Croatia\",\"Spain\",\"United States\",\"Germany\",\"Czechia\",\"Bahrain\",\"Israel\",\"Slovenia\",\"Luxembourg\",\"Serbia\",\"Albania\"],\"locations\":[\"GRC\",\"GBR\",\"SGP\",\"AUT\",\"POL\",\"OMN\",\"BGR\",\"CHL\",\"MEX\",\"LTU\",\"RUS\",\"SVK\",\"DNK\",\"ROU\",\"BEL\",\"SYC\",\"NOR\",\"ITA\",\"FRA\",\"HRV\",\"ESP\",\"USA\",\"DEU\",\"CZE\",\"BHR\",\"ISR\",\"SVN\",\"LUX\",\"SRB\",\"ALB\"],\"name\":\"\",\"z\":[70960.0,3234946.0,6200.0,29359.0,410480.0,24204.0,17686.0,12822.0,329983.0,42560.0,1000000.0,54183.0,148671.0,167612.0,91263.0,2000.0,45872.0,1016857.0,306206.0,38000.0,676186.0,9690757.0,994710.0,101360.0,109566.0,2086909.0,42628.0,3233.0,18136.0,266.0],\"type\":\"choropleth\"}],\"name\":\"2021-01-14\"},{\"data\":[{\"coloraxis\":\"coloraxis\",\"geo\":\"geo\",\"hovertemplate\":\"<b>%{hovertext}</b><br><br>date=2021-01-15<br>iso_code=%{location}<br>people_vaccinated=%{z}<extra></extra>\",\"hovertext\":[\"Germany\",\"Seychelles\",\"Greece\",\"France\",\"Russia\",\"Costa Rica\",\"Austria\",\"Slovenia\",\"Spain\",\"United States\",\"Serbia\",\"Slovakia\",\"Norway\",\"Bahrain\",\"Luxembourg\",\"Belgium\",\"Oman\",\"Croatia\",\"Israel\",\"Italy\",\"Denmark\",\"Bulgaria\",\"Portugal\",\"Poland\",\"Lithuania\",\"Czechia\",\"Romania\",\"Chile\",\"Mexico\",\"Albania\",\"United Kingdom\"],\"locations\":[\"DEU\",\"SYC\",\"GRC\",\"FRA\",\"RUS\",\"CRI\",\"AUT\",\"SVN\",\"ESP\",\"USA\",\"SRB\",\"SVK\",\"NOR\",\"BHR\",\"LUX\",\"BEL\",\"OMN\",\"HRV\",\"ISR\",\"ITA\",\"DNK\",\"BGR\",\"PRT\",\"POL\",\"LTU\",\"CZE\",\"ROU\",\"CHL\",\"MEX\",\"ALB\",\"GBR\"],\"name\":\"\",\"z\":[1086895.0,4000.0,75412.0,364846.0,1000000.0,24804.0,39751.0,47384.0,768950.0,10595866.0,18136.0,62037.0,50338.0,122819.0,3052.0,114030.0,23476.5,41532.0,2117631.0,1104922.0,163877.0,18126.0,106000.0,436963.0,49825.0,115184.0,183669.0,13779.0,415417.0,308.0,3559179.0],\"type\":\"choropleth\"}],\"name\":\"2021-01-15\"},{\"data\":[{\"coloraxis\":\"coloraxis\",\"geo\":\"geo\",\"hovertemplate\":\"<b>%{hovertext}</b><br><br>date=2021-01-16<br>iso_code=%{location}<br>people_vaccinated=%{z}<extra></extra>\",\"hovertext\":[\"Austria\",\"United Kingdom\",\"Denmark\",\"Bulgaria\",\"United States\",\"Mexico\",\"Costa Rica\",\"Greece\",\"Czechia\",\"Oman\",\"Slovenia\",\"Belgium\",\"Luxembourg\",\"Poland\",\"Germany\",\"Norway\",\"Albania\",\"Lithuania\",\"Israel\",\"Slovakia\",\"Romania\",\"Spain\",\"Serbia\",\"Canada\",\"Croatia\",\"France\",\"Italy\",\"Bahrain\",\"Chile\",\"Portugal\",\"Seychelles\"],\"locations\":[\"AUT\",\"GBR\",\"DNK\",\"BGR\",\"USA\",\"MEX\",\"CRI\",\"GRC\",\"CZE\",\"OMN\",\"SVN\",\"BEL\",\"LUX\",\"POL\",\"DEU\",\"NOR\",\"ALB\",\"LTU\",\"ISR\",\"SVK\",\"ROU\",\"ESP\",\"SRB\",\"CAN\",\"HRV\",\"FRA\",\"ITA\",\"BHR\",\"CHL\",\"PRT\",\"SYC\"],\"name\":\"\",\"z\":[50402.0,3837094.0,168489.0,18332.0,10143311.5,461025.0,24804.0,80389.0,118505.0,24773.0,47708.0,119051.0,3233.0,457303.0,1143459.0,51078.0,369.0,50921.0,2147089.0,63399.0,196090.0,722568.0,18136.0,564874.0,45906.0,382326.0,1169164.0,137159.0,13802.0,106000.0,7000.0],\"type\":\"choropleth\"}],\"name\":\"2021-01-16\"},{\"data\":[{\"coloraxis\":\"coloraxis\",\"geo\":\"geo\",\"hovertemplate\":\"<b>%{hovertext}</b><br><br>date=2021-01-17<br>iso_code=%{location}<br>people_vaccinated=%{z}<extra></extra>\",\"hovertext\":[\"Chile\",\"Romania\",\"Greece\",\"Brazil\",\"Mexico\",\"Austria\",\"Bulgaria\",\"Seychelles\",\"Portugal\",\"Bahrain\",\"Italy\",\"Lithuania\",\"Oman\",\"Belgium\",\"Luxembourg\",\"Norway\",\"Israel\",\"Canada\",\"Poland\",\"Croatia\",\"Sweden\",\"Denmark\",\"United States\",\"Albania\",\"Slovakia\",\"Costa Rica\",\"France\",\"Slovenia\",\"Spain\",\"United Kingdom\",\"Germany\",\"Czechia\"],\"locations\":[\"CHL\",\"ROU\",\"GRC\",\"BRA\",\"MEX\",\"AUT\",\"BGR\",\"SYC\",\"PRT\",\"BHR\",\"ITA\",\"LTU\",\"OMN\",\"BEL\",\"LUX\",\"NOR\",\"ISR\",\"CAN\",\"POL\",\"HRV\",\"SWE\",\"DNK\",\"USA\",\"ALB\",\"SVK\",\"CRI\",\"FRA\",\"SVN\",\"ESP\",\"GBR\",\"DEU\",\"CZE\"],\"name\":\"\",\"z\":[13802.0,204185.0,77900.5,112.0,468708.0,55450.0,18453.0,5500.0,106000.0,141563.0,1202615.0,50963.0,24773.0,122259.0,3755.0,51418.0,2215529.0,564874.0,468795.0,43719.0,118490.0,171028.0,10595866.0,405.0,63453.0,24804.0,391910.0,47712.0,768950.0,4062501.0,1174410.0,120951.0],\"type\":\"choropleth\"}],\"name\":\"2021-01-17\"},{\"data\":[{\"coloraxis\":\"coloraxis\",\"geo\":\"geo\",\"hovertemplate\":\"<b>%{hovertext}</b><br><br>date=2021-01-18<br>iso_code=%{location}<br>people_vaccinated=%{z}<extra></extra>\",\"hovertext\":[\"Israel\",\"Romania\",\"Sweden\",\"Chile\",\"Azerbaijan\",\"Spain\",\"Slovakia\",\"Mexico\",\"Brazil\",\"United Kingdom\",\"Czechia\",\"Malta\",\"Albania\",\"Norway\",\"Luxembourg\",\"Belgium\",\"Canada\",\"Lithuania\",\"Denmark\",\"Bulgaria\",\"Poland\",\"Bahrain\",\"Italy\",\"Croatia\",\"France\",\"Oman\",\"Seychelles\",\"Slovenia\",\"Costa Rica\",\"Hungary\",\"Greece\",\"Austria\",\"Germany\"],\"locations\":[\"ISR\",\"ROU\",\"SWE\",\"CHL\",\"AZE\",\"ESP\",\"SVK\",\"MEX\",\"BRA\",\"GBR\",\"CZE\",\"MLT\",\"ALB\",\"NOR\",\"LUX\",\"BEL\",\"CAN\",\"LTU\",\"DNK\",\"BGR\",\"POL\",\"BHR\",\"ITA\",\"HRV\",\"FRA\",\"OMN\",\"SYC\",\"SVN\",\"CRI\",\"HUN\",\"GRC\",\"AUT\",\"DEU\"],\"name\":\"\",\"z\":[2285461.0,233288.0,118490.0,24846.0,0.0,895627.0,71674.0,485983.0,1109.0,4266577.0,133347.0,13002.0,447.0,52697.0,4569.0,132883.0,564874.0,53789.0,174911.0,18524.0,491696.0,142831.0,1240104.0,45906.0,468073.0,24773.0,7000.0,47774.0,29257.0,129689.0,85475.0,60708.0,1232291.0],\"type\":\"choropleth\"}],\"name\":\"2021-01-18\"},{\"data\":[{\"coloraxis\":\"coloraxis\",\"geo\":\"geo\",\"hovertemplate\":\"<b>%{hovertext}</b><br><br>date=2021-01-19<br>iso_code=%{location}<br>people_vaccinated=%{z}<extra></extra>\",\"hovertext\":[\"Hungary\",\"Norway\",\"Chile\",\"Albania\",\"Luxembourg\",\"Germany\",\"Oman\",\"Lithuania\",\"Greece\",\"Denmark\",\"Bulgaria\",\"Belgium\",\"Poland\",\"Spain\",\"Latvia\",\"Slovenia\",\"Costa Rica\",\"France\",\"Malta\",\"Mexico\",\"Romania\",\"Brazil\",\"United Kingdom\",\"Croatia\",\"Seychelles\",\"Slovakia\",\"Sweden\",\"Israel\",\"Czechia\",\"Azerbaijan\",\"United States\",\"Bahrain\",\"Italy\",\"Austria\"],\"locations\":[\"HUN\",\"NOR\",\"CHL\",\"ALB\",\"LUX\",\"DEU\",\"OMN\",\"LTU\",\"GRC\",\"DNK\",\"BGR\",\"BEL\",\"POL\",\"ESP\",\"LVA\",\"SVN\",\"CRI\",\"FRA\",\"MLT\",\"MEX\",\"ROU\",\"BRA\",\"GBR\",\"HRV\",\"SYC\",\"SVK\",\"SWE\",\"ISR\",\"CZE\",\"AZE\",\"USA\",\"BHR\",\"ITA\",\"AUT\"],\"name\":\"\",\"z\":[130318.0,57249.0,44147.0,483.0,5294.0,1299539.0,24773.0,56153.0,93382.0,177393.0,19058.0,151701.0,530055.0,956756.0,16294.0,48324.0,29257.0,585735.0,14276.0,488513.0,267424.0,11470.0,4609740.0,54304.0,10976.0,79129.0,118490.0,2358771.0,145618.0,0.0,13595803.0,143596.0,1270254.0,70474.0],\"type\":\"choropleth\"}],\"name\":\"2021-01-19\"},{\"data\":[{\"coloraxis\":\"coloraxis\",\"geo\":\"geo\",\"hovertemplate\":\"<b>%{hovertext}</b><br><br>date=2021-01-20<br>iso_code=%{location}<br>people_vaccinated=%{z}<extra></extra>\",\"hovertext\":[\"Germany\",\"Lithuania\",\"Bulgaria\",\"Romania\",\"United States\",\"Israel\",\"Poland\",\"Bahrain\",\"Italy\",\"Chile\",\"Austria\",\"Croatia\",\"Argentina\",\"Latvia\",\"Denmark\",\"Iceland\",\"Brazil\",\"Belgium\",\"Czechia\",\"Luxembourg\",\"Malta\",\"France\",\"Slovakia\",\"Mexico\",\"United Kingdom\",\"Seychelles\",\"Norway\",\"Albania\",\"Serbia\",\"Greece\",\"Oman\",\"Costa Rica\",\"Hungary\",\"Slovenia\",\"Spain\"],\"locations\":[\"DEU\",\"LTU\",\"BGR\",\"ROU\",\"USA\",\"ISR\",\"POL\",\"BHR\",\"ITA\",\"CHL\",\"AUT\",\"HRV\",\"ARG\",\"LVA\",\"DNK\",\"ISL\",\"BRA\",\"BEL\",\"CZE\",\"LUX\",\"MLT\",\"FRA\",\"SVK\",\"MEX\",\"GBR\",\"SYC\",\"NOR\",\"ALB\",\"SRB\",\"GRC\",\"OMN\",\"CRI\",\"HUN\",\"SVN\",\"ESP\"],\"name\":\"\",\"z\":[1376972.0,57790.0,19834.0,302570.0,14270441.0,2435411.0,566793.0,144130.0,1295129.0,53397.0,86888.0,54304.0,243539.0,16313.0,178901.0,5725.0,28543.0,171779.0,158763.0,6193.0,15316.0,708973.0,86147.0,489628.0,4973248.0,13163.0,67275.0,519.0,44611.0,108167.0,24773.0,29257.0,134554.0,49490.0,1010295.0],\"type\":\"choropleth\"}],\"name\":\"2021-01-20\"},{\"data\":[{\"coloraxis\":\"coloraxis\",\"geo\":\"geo\",\"hovertemplate\":\"<b>%{hovertext}</b><br><br>date=2021-01-21<br>iso_code=%{location}<br>people_vaccinated=%{z}<extra></extra>\",\"hovertext\":[\"Italy\",\"France\",\"Malta\",\"Bahrain\",\"Czechia\",\"Lithuania\",\"Croatia\",\"Hungary\",\"Israel\",\"Slovenia\",\"Mexico\",\"Romania\",\"United Kingdom\",\"Slovakia\",\"Brazil\",\"Austria\",\"Seychelles\",\"Chile\",\"Albania\",\"Latvia\",\"Iceland\",\"Spain\",\"Bulgaria\",\"Denmark\",\"Greece\",\"Germany\",\"Oman\",\"Luxembourg\",\"Serbia\",\"Poland\",\"Norway\",\"Argentina\",\"Belgium\",\"United States\"],\"locations\":[\"ITA\",\"FRA\",\"MLT\",\"BHR\",\"CZE\",\"LTU\",\"HRV\",\"HUN\",\"ISR\",\"SVN\",\"MEX\",\"ROU\",\"GBR\",\"SVK\",\"BRA\",\"AUT\",\"SYC\",\"CHL\",\"ALB\",\"LVA\",\"ISL\",\"ESP\",\"BGR\",\"DNK\",\"GRC\",\"DEU\",\"OMN\",\"LUX\",\"SRB\",\"POL\",\"NOR\",\"ARG\",\"BEL\",\"USA\"],\"name\":\"\",\"z\":[1310176.0,850380.0,16531.0,143863.0,173940.0,58701.0,54304.0,138983.0,2504881.0,50768.0,534317.0,338252.0,5383103.0,92818.0,136519.0,105038.0,12069.5,56454.0,549.0,16579.0,5725.0,1054245.0,20719.0,180432.0,123667.0,1437073.0,24773.0,6897.0,84832.0,605313.0,75664.0,249372.0,201364.0,15053257.0],\"type\":\"choropleth\"}],\"name\":\"2021-01-21\"},{\"data\":[{\"coloraxis\":\"coloraxis\",\"geo\":\"geo\",\"hovertemplate\":\"<b>%{hovertext}</b><br><br>date=2021-01-22<br>iso_code=%{location}<br>people_vaccinated=%{z}<extra></extra>\",\"hovertext\":[\"United States\",\"Denmark\",\"Ecuador\",\"Czechia\",\"Greece\",\"Mexico\",\"Cyprus\",\"Singapore\",\"Cyprus\",\"Oman\",\"Lithuania\",\"Israel\",\"Bulgaria\",\"Italy\",\"Malta\",\"Luxembourg\",\"Latvia\",\"United Kingdom\",\"Poland\",\"Albania\",\"Brazil\",\"Norway\",\"Slovakia\",\"Belgium\",\"Bahrain\",\"Spain\",\"Seychelles\",\"France\",\"Austria\",\"Iceland\",\"Slovenia\",\"Serbia\",\"Chile\",\"Argentina\",\"Germany\",\"Hungary\",\"Romania\"],\"locations\":[\"USA\",\"DNK\",\"ECU\",\"CZE\",\"GRC\",\"MEX\",\"CYP\",\"SGP\",\"OWID_NCY\",\"OMN\",\"LTU\",\"ISR\",\"BGR\",\"ITA\",\"MLT\",\"LUX\",\"LVA\",\"GBR\",\"POL\",\"ALB\",\"BRA\",\"NOR\",\"SVK\",\"BEL\",\"BHR\",\"ESP\",\"SYC\",\"FRA\",\"AUT\",\"ISL\",\"SVN\",\"SRB\",\"CHL\",\"ARG\",\"DEU\",\"HUN\",\"ROU\"],\"name\":\"\",\"z\":[16243093.0,181089.0,108.0,188449.0,141298.0,594725.0,15322.0,60000.0,15322.0,24773.0,59024.0,2542496.0,21496.0,1321940.0,17767.0,6545.0,16777.0,5861351.0,638798.0,534.0,245877.0,78951.0,99455.0,230243.0,144130.0,1097369.0,16890.0,959716.0,121216.0,5725.0,51966.0,119711.0,56865.0,254456.0,1520603.0,143184.0,374681.0],\"type\":\"choropleth\"}],\"name\":\"2021-01-22\"},{\"data\":[{\"coloraxis\":\"coloraxis\",\"geo\":\"geo\",\"hovertemplate\":\"<b>%{hovertext}</b><br><br>date=2021-01-23<br>iso_code=%{location}<br>people_vaccinated=%{z}<extra></extra>\",\"hovertext\":[\"Italy\",\"Serbia\",\"France\",\"Germany\",\"Poland\",\"Czechia\",\"Malta\",\"Belgium\",\"Austria\",\"Luxembourg\",\"Slovakia\",\"Chile\",\"Albania\",\"Bulgaria\",\"Argentina\",\"Denmark\",\"Singapore\",\"Lithuania\",\"Ecuador\",\"Greece\",\"United Kingdom\",\"Slovenia\",\"Cyprus\",\"Israel\",\"Hungary\",\"Mexico\",\"Romania\",\"Norway\",\"Seychelles\",\"United States\",\"Latvia\",\"Brazil\",\"Spain\",\"Oman\",\"Canada\"],\"locations\":[\"ITA\",\"SRB\",\"FRA\",\"DEU\",\"POL\",\"CZE\",\"MLT\",\"BEL\",\"AUT\",\"LUX\",\"SVK\",\"CHL\",\"ALB\",\"BGR\",\"ARG\",\"DNK\",\"SGP\",\"LTU\",\"ECU\",\"GRC\",\"GBR\",\"SVN\",\"CYP\",\"ISR\",\"HUN\",\"MEX\",\"ROU\",\"NOR\",\"SYC\",\"USA\",\"LVA\",\"BRA\",\"ESP\",\"OMN\",\"CAN\"],\"name\":\"\",\"z\":[1327565.0,163355.0,995147.0,1569182.0,654184.0,191652.0,18930.0,238128.0,132105.0,6897.0,99731.0,56865.0,549.0,21509.0,258876.0,181861.0,60000.0,59032.0,54.0,156966.0,6353321.0,52197.0,15322.0,2582283.0,145257.0,596296.0,406006.0,79304.0,18353.0,17390345.0,16903.0,537774.0,1075807.0,24773.0,781559.0],\"type\":\"choropleth\"}],\"name\":\"2021-01-23\"},{\"data\":[{\"coloraxis\":\"coloraxis\",\"geo\":\"geo\",\"hovertemplate\":\"<b>%{hovertext}</b><br><br>date=2021-01-24<br>iso_code=%{location}<br>people_vaccinated=%{z}<extra></extra>\",\"hovertext\":[\"Argentina\",\"Serbia\",\"Norway\",\"Greece\",\"Oman\",\"Latvia\",\"Lithuania\",\"Austria\",\"Denmark\",\"Spain\",\"Poland\",\"Bulgaria\",\"Italy\",\"France\",\"Slovenia\",\"United States\",\"Ecuador\",\"Brazil\",\"Canada\",\"Germany\",\"Singapore\",\"Seychelles\",\"United Kingdom\",\"Mexico\",\"Romania\",\"Hungary\",\"Sweden\",\"Slovakia\",\"Israel\",\"Czechia\",\"Belgium\",\"Chile\",\"Malta\"],\"locations\":[\"ARG\",\"SRB\",\"NOR\",\"GRC\",\"OMN\",\"LVA\",\"LTU\",\"AUT\",\"DNK\",\"ESP\",\"POL\",\"BGR\",\"ITA\",\"FRA\",\"SVN\",\"USA\",\"ECU\",\"BRA\",\"CAN\",\"DEU\",\"SGP\",\"SYC\",\"GBR\",\"MEX\",\"ROU\",\"HUN\",\"SWE\",\"SVK\",\"ISR\",\"CZE\",\"BEL\",\"CHL\",\"MLT\"],\"name\":\"\",\"z\":[260036.0,217800.0,79370.0,149132.0,24773.0,16840.0,59028.0,135249.0,182473.0,1148895.0,659753.0,21533.0,1330572.0,1003968.0,52213.0,18502131.0,108.0,604722.0,781559.0,1607133.0,60000.0,17621.5,6573570.0,604441.0,433129.0,146695.0,217738.0,99731.0,2651163.0,193873.0,239974.0,56865.0,18783.0],\"type\":\"choropleth\"}],\"name\":\"2021-01-24\"},{\"data\":[{\"coloraxis\":\"coloraxis\",\"geo\":\"geo\",\"hovertemplate\":\"<b>%{hovertext}</b><br><br>date=2021-01-25<br>iso_code=%{location}<br>people_vaccinated=%{z}<extra></extra>\",\"hovertext\":[\"Hungary\",\"Denmark\",\"Croatia\",\"Spain\",\"Mexico\",\"Argentina\",\"United Kingdom\",\"Slovenia\",\"Norway\",\"Oman\",\"Serbia\",\"Slovakia\",\"Luxembourg\",\"Czechia\",\"Belgium\",\"Costa Rica\",\"Austria\",\"Malta\",\"France\",\"Brazil\",\"Seychelles\",\"Lithuania\",\"Iceland\",\"Canada\",\"Germany\",\"United States\",\"Bulgaria\",\"Greece\",\"Finland\",\"Latvia\",\"Romania\",\"Chile\",\"Poland\",\"Sweden\",\"Israel\",\"Italy\"],\"locations\":[\"HUN\",\"DNK\",\"HRV\",\"ESP\",\"MEX\",\"ARG\",\"GBR\",\"SVN\",\"NOR\",\"OMN\",\"SRB\",\"SVK\",\"LUX\",\"CZE\",\"BEL\",\"CRI\",\"AUT\",\"MLT\",\"FRA\",\"BRA\",\"SYC\",\"LTU\",\"ISL\",\"CAN\",\"DEU\",\"USA\",\"BGR\",\"GRC\",\"FIN\",\"LVA\",\"ROU\",\"CHL\",\"POL\",\"SWE\",\"ISR\",\"ITA\"],\"name\":\"\",\"z\":[149676.0,182720.0,58077.0,1167519.0,616390.0,260122.0,6853327.0,52215.0,79945.0,24773.0,256521.0,106399.0,7309.0,203332.0,250881.0,45707.0,137044.0,19709.0,1075045.0,700608.0,19889.0,59134.0,10433.0,781559.0,1664606.0,19252279.0,22129.0,171890.0,106098.0,16922.0,459567.0,56883.0,701222.0,217738.0,2731741.0,1335050.0],\"type\":\"choropleth\"}],\"name\":\"2021-01-25\"},{\"data\":[{\"coloraxis\":\"coloraxis\",\"geo\":\"geo\",\"hovertemplate\":\"<b>%{hovertext}</b><br><br>date=2021-01-26<br>iso_code=%{location}<br>people_vaccinated=%{z}<extra></extra>\",\"hovertext\":[\"Luxembourg\",\"Finland\",\"Costa Rica\",\"Bahrain\",\"Brazil\",\"Italy\",\"Mauritius\",\"Belgium\",\"Norway\",\"Portugal\",\"Germany\",\"Poland\",\"Slovakia\",\"Iceland\",\"Serbia\",\"Chile\",\"France\",\"Czechia\",\"Bulgaria\",\"Greece\",\"United Kingdom\",\"Oman\",\"United States\",\"Lithuania\",\"Andorra\",\"Croatia\",\"Mexico\",\"Hungary\",\"Israel\",\"Denmark\",\"Argentina\",\"Sweden\",\"Spain\",\"Austria\",\"Romania\",\"Seychelles\",\"Latvia\",\"Malta\",\"Slovenia\"],\"locations\":[\"LUX\",\"FIN\",\"CRI\",\"BHR\",\"BRA\",\"ITA\",\"MUS\",\"BEL\",\"NOR\",\"PRT\",\"DEU\",\"POL\",\"SVK\",\"ISL\",\"SRB\",\"CHL\",\"FRA\",\"CZE\",\"BGR\",\"GRC\",\"GBR\",\"OMN\",\"USA\",\"LTU\",\"AND\",\"HRV\",\"MEX\",\"HUN\",\"ISR\",\"DNK\",\"ARG\",\"SWE\",\"ESP\",\"AUT\",\"ROU\",\"SYC\",\"LVA\",\"MLT\",\"SVN\"],\"name\":\"\",\"z\":[8280.0,110047.0,45707.0,165953.0,848883.0,1339169.0,0.0,260982.0,82178.0,225499.0,1717708.0,782413.0,113371.0,10433.0,319504.0,56905.0,1165852.0,213598.0,23667.0,184610.0,7164387.0,24773.0,19902237.0,61601.0,576.0,58077.0,621005.0,152704.0,2809685.0,182933.0,266969.0,217738.0,1183395.0,146587.0,487711.0,22712.0,16952.0,20677.0,52303.0],\"type\":\"choropleth\"}],\"name\":\"2021-01-26\"},{\"data\":[{\"coloraxis\":\"coloraxis\",\"geo\":\"geo\",\"hovertemplate\":\"<b>%{hovertext}</b><br><br>date=2021-01-27<br>iso_code=%{location}<br>people_vaccinated=%{z}<extra></extra>\",\"hovertext\":[\"Slovenia\",\"Romania\",\"Brazil\",\"Israel\",\"Mexico\",\"Singapore\",\"Ireland\",\"United Kingdom\",\"Hungary\",\"Malta\",\"Seychelles\",\"Mauritius\",\"France\",\"Bahrain\",\"Costa Rica\",\"United States\",\"Poland\",\"Italy\",\"Latvia\",\"Croatia\",\"Austria\",\"Lithuania\",\"Andorra\",\"Denmark\",\"Spain\",\"Argentina\",\"Bulgaria\",\"Oman\",\"Slovakia\",\"Bangladesh\",\"Czechia\",\"Portugal\",\"Iceland\",\"Belgium\",\"Norway\",\"Serbia\",\"Germany\",\"Greece\",\"Finland\",\"Chile\",\"Luxembourg\"],\"locations\":[\"SVN\",\"ROU\",\"BRA\",\"ISR\",\"MEX\",\"SGP\",\"IRL\",\"GBR\",\"HUN\",\"MLT\",\"SYC\",\"MUS\",\"FRA\",\"BHR\",\"CRI\",\"USA\",\"POL\",\"ITA\",\"LVA\",\"HRV\",\"AUT\",\"LTU\",\"AND\",\"DNK\",\"ESP\",\"ARG\",\"BGR\",\"OMN\",\"SVK\",\"BGD\",\"CZE\",\"PRT\",\"ISL\",\"BEL\",\"NOR\",\"SRB\",\"DEU\",\"GRC\",\"FIN\",\"CHL\",\"LUX\"],\"name\":\"\",\"z\":[52589.0,513429.0,1129885.0,2887099.0,624730.0,113000.0,147700.0,7476765.0,161215.0,21417.0,25587.0,0.0,1262972.0,167731.0,45707.0,20687970.0,858474.0,1345038.0,17033.0,58077.0,153859.0,65433.0,576.0,183145.0,1202859.0,272323.0,25245.0,24773.0,120162.0,26.0,222359.0,225499.0,10702.0,273776.0,93366.0,361830.0,1771536.0,198161.0,117555.0,56906.0,9107.0],\"type\":\"choropleth\"}],\"name\":\"2021-01-27\"},{\"data\":[{\"coloraxis\":\"coloraxis\",\"geo\":\"geo\",\"hovertemplate\":\"<b>%{hovertext}</b><br><br>date=2021-01-28<br>iso_code=%{location}<br>people_vaccinated=%{z}<extra></extra>\",\"hovertext\":[\"Serbia\",\"Bahrain\",\"Bangladesh\",\"Spain\",\"Argentina\",\"Oman\",\"Portugal\",\"Poland\",\"Norway\",\"Slovakia\",\"Seychelles\",\"Singapore\",\"Austria\",\"Slovenia\",\"Romania\",\"Belgium\",\"United Kingdom\",\"Malta\",\"Luxembourg\",\"Lithuania\",\"Denmark\",\"Latvia\",\"Bulgaria\",\"Ecuador\",\"Italy\",\"France\",\"Estonia\",\"Israel\",\"Ireland\",\"Chile\",\"Indonesia\",\"Iceland\",\"Finland\",\"United States\",\"Hungary\",\"Greece\",\"Germany\",\"Czechia\",\"Brazil\",\"Mexico\"],\"locations\":[\"SRB\",\"BHR\",\"BGD\",\"ESP\",\"ARG\",\"OMN\",\"PRT\",\"POL\",\"NOR\",\"SVK\",\"SYC\",\"SGP\",\"AUT\",\"SVN\",\"ROU\",\"BEL\",\"GBR\",\"MLT\",\"LUX\",\"LTU\",\"DNK\",\"LVA\",\"BGR\",\"ECU\",\"ITA\",\"FRA\",\"EST\",\"ISR\",\"IRL\",\"CHL\",\"IDN\",\"ISL\",\"FIN\",\"USA\",\"HUN\",\"GRC\",\"DEU\",\"CZE\",\"BRA\",\"MEX\"],\"name\":\"\",\"z\":[401556.0,169440.0,567.0,1222323.0,276548.0,24773.0,225499.0,917908.0,104109.0,128350.0,28779.0,113000.0,163806.0,53080.0,534346.0,288547.0,7891184.0,22162.0,9890.0,68808.0,183386.0,17062.0,26753.0,2982.0,1349378.0,1372680.0,25415.0,2966253.0,147700.0,56906.0,368318.0,10702.0,127783.0,21698606.0,175283.0,210488.0,1823058.0,229356.0,1450900.0,626528.0],\"type\":\"choropleth\"}],\"name\":\"2021-01-28\"},{\"data\":[{\"coloraxis\":\"coloraxis\",\"geo\":\"geo\",\"hovertemplate\":\"<b>%{hovertext}</b><br><br>date=2021-01-29<br>iso_code=%{location}<br>people_vaccinated=%{z}<extra></extra>\",\"hovertext\":[\"Denmark\",\"Iceland\",\"Serbia\",\"Finland\",\"Oman\",\"Lithuania\",\"Seychelles\",\"Argentina\",\"Hungary\",\"United Kingdom\",\"Singapore\",\"Norway\",\"Greece\",\"Cyprus\",\"Belgium\",\"Slovakia\",\"Malta\",\"Germany\",\"Luxembourg\",\"Estonia\",\"Italy\",\"Israel\",\"Bahrain\",\"United States\",\"Romania\",\"Ecuador\",\"Ireland\",\"Chile\",\"Poland\",\"Bulgaria\",\"Latvia\",\"Bangladesh\",\"Austria\",\"Indonesia\",\"France\",\"Brazil\",\"Mexico\",\"Spain\",\"Czechia\",\"Slovenia\"],\"locations\":[\"DNK\",\"ISL\",\"SRB\",\"FIN\",\"OMN\",\"LTU\",\"SYC\",\"ARG\",\"HUN\",\"GBR\",\"SGP\",\"NOR\",\"GRC\",\"CYP\",\"BEL\",\"SVK\",\"MLT\",\"DEU\",\"LUX\",\"EST\",\"ITA\",\"ISR\",\"BHR\",\"USA\",\"ROU\",\"ECU\",\"IRL\",\"CHL\",\"POL\",\"BGR\",\"LVA\",\"BGD\",\"AUT\",\"IDN\",\"FRA\",\"BRA\",\"MEX\",\"ESP\",\"CZE\",\"SVN\"],\"name\":\"\",\"z\":[184518.0,10702.0,430759.0,137551.0,24773.0,71778.0,30861.0,278451.0,198283.0,8378940.0,113000.0,107850.0,220621.0,19617.0,299707.0,137815.0,22853.0,1879564.0,9498.5,26412.0,1353802.0,3002696.0,169810.0,22858318.0,554924.0,2982.0,147700.0,56906.0,945600.0,27856.0,17114.0,296.5,174262.0,405012.0,1453325.0,1656851.0,630820.0,1212591.0,235371.0,53605.0],\"type\":\"choropleth\"}],\"name\":\"2021-01-29\"},{\"data\":[{\"coloraxis\":\"coloraxis\",\"geo\":\"geo\",\"hovertemplate\":\"<b>%{hovertext}</b><br><br>date=2021-01-30<br>iso_code=%{location}<br>people_vaccinated=%{z}<extra></extra>\",\"hovertext\":[\"Poland\",\"United States\",\"Cyprus\",\"Argentina\",\"Brazil\",\"Norway\",\"Luxembourg\",\"Romania\",\"Bulgaria\",\"Czechia\",\"Greece\",\"Estonia\",\"Mexico\",\"Seychelles\",\"Lithuania\",\"Chile\",\"Finland\",\"Hungary\",\"Indonesia\",\"United Kingdom\",\"Ecuador\",\"Serbia\",\"Denmark\",\"Germany\",\"Israel\",\"Italy\",\"Bangladesh\",\"Malta\",\"Latvia\",\"Austria\",\"Slovakia\",\"France\",\"Slovenia\",\"Spain\",\"Faeroe Islands\",\"Bahrain\",\"Belgium\",\"Canada\"],\"locations\":[\"POL\",\"USA\",\"CYP\",\"ARG\",\"BRA\",\"NOR\",\"LUX\",\"ROU\",\"BGR\",\"CZE\",\"GRC\",\"EST\",\"MEX\",\"SYC\",\"LTU\",\"CHL\",\"FIN\",\"HUN\",\"IDN\",\"GBR\",\"ECU\",\"SRB\",\"DNK\",\"DEU\",\"ISR\",\"ITA\",\"BGD\",\"MLT\",\"LVA\",\"AUT\",\"SVK\",\"FRA\",\"SVN\",\"ESP\",\"FRO\",\"BHR\",\"BEL\",\"CAN\"],\"name\":\"\",\"z\":[958453.0,24064165.0,19617.0,281023.0,1923813.0,107979.0,9890.0,571091.0,27957.0,236085.0,232399.0,27633.0,631298.0,29820.0,71973.0,56906.0,144520.0,222005.0,482145.0,8977329.0,2982.0,437380.0,185748.0,1918003.0,3036877.0,1357661.0,567.0,23391.0,17118.0,183628.0,139204.0,1479909.0,53610.0,1222323.0,3993.0,170433.0,301345.0,871905.0],\"type\":\"choropleth\"}],\"name\":\"2021-01-30\"},{\"data\":[{\"coloraxis\":\"coloraxis\",\"geo\":\"geo\",\"hovertemplate\":\"<b>%{hovertext}</b><br><br>date=2021-01-31<br>iso_code=%{location}<br>people_vaccinated=%{z}<extra></extra>\",\"hovertext\":[\"Sweden\",\"United Kingdom\",\"Lithuania\",\"Denmark\",\"Finland\",\"Chile\",\"Latvia\",\"Faeroe Islands\",\"Brazil\",\"Bulgaria\",\"Poland\",\"Serbia\",\"Austria\",\"Indonesia\",\"Slovenia\",\"Luxembourg\",\"Portugal\",\"Canada\",\"Greece\",\"Czechia\",\"Estonia\",\"Ireland\",\"Malta\",\"France\",\"Italy\",\"Bahrain\",\"Belgium\",\"Slovakia\",\"Norway\",\"Argentina\",\"Germany\",\"Seychelles\",\"Hungary\",\"Cyprus\",\"Spain\",\"United States\",\"Israel\",\"Romania\",\"Mexico\",\"Singapore\"],\"locations\":[\"SWE\",\"GBR\",\"LTU\",\"DNK\",\"FIN\",\"CHL\",\"LVA\",\"FRO\",\"BRA\",\"BGR\",\"POL\",\"SRB\",\"AUT\",\"IDN\",\"SVN\",\"LUX\",\"PRT\",\"CAN\",\"GRC\",\"CZE\",\"EST\",\"IRL\",\"MLT\",\"FRA\",\"ITA\",\"BHR\",\"BEL\",\"SVK\",\"NOR\",\"ARG\",\"DEU\",\"SYC\",\"HUN\",\"CYP\",\"ESP\",\"USA\",\"ISR\",\"ROU\",\"MEX\",\"SGP\"],\"name\":\"\",\"z\":[278114.0,9296367.0,71981.0,187010.0,141035.5,56906.0,17116.0,3993.0,2046523.0,28041.0,976367.0,434069.5,185291.0,493133.0,53610.0,10748.0,268386.0,871905.0,226510.0,236779.0,27900.0,150500.0,23811.0,1486493.0,1360109.0,171568.0,301909.0,139317.0,108059.0,279737.0,1949239.0,30861.0,237872.0,19617.0,1251369.0,25201143.0,3109851.0,585218.0,631485.0,155000.0],\"type\":\"choropleth\"}],\"name\":\"2021-01-31\"},{\"data\":[{\"coloraxis\":\"coloraxis\",\"geo\":\"geo\",\"hovertemplate\":\"<b>%{hovertext}</b><br><br>date=2021-02-01<br>iso_code=%{location}<br>people_vaccinated=%{z}<extra></extra>\",\"hovertext\":[\"Sweden\",\"Italy\",\"Israel\",\"Canada\",\"Chile\",\"Austria\",\"Bahrain\",\"Ireland\",\"Andorra\",\"Indonesia\",\"Romania\",\"Poland\",\"Argentina\",\"Bulgaria\",\"Portugal\",\"Estonia\",\"France\",\"Latvia\",\"United States\",\"Malta\",\"Seychelles\",\"Croatia\",\"Costa Rica\",\"Serbia\",\"Czechia\",\"Greece\",\"Luxembourg\",\"Norway\",\"Slovenia\",\"Lithuania\",\"Singapore\",\"Finland\",\"Hungary\",\"Belgium\",\"Slovakia\",\"Brazil\",\"Mauritius\",\"Denmark\",\"Mexico\",\"Germany\",\"Spain\",\"United Kingdom\"],\"locations\":[\"SWE\",\"ITA\",\"ISR\",\"CAN\",\"CHL\",\"AUT\",\"BHR\",\"IRL\",\"AND\",\"IDN\",\"ROU\",\"POL\",\"ARG\",\"BGR\",\"PRT\",\"EST\",\"FRA\",\"LVA\",\"USA\",\"MLT\",\"SYC\",\"HRV\",\"CRI\",\"SRB\",\"CZE\",\"GRC\",\"LUX\",\"NOR\",\"SVN\",\"LTU\",\"SGP\",\"FIN\",\"HUN\",\"BEL\",\"SVK\",\"BRA\",\"MUS\",\"DNK\",\"MEX\",\"DEU\",\"ESP\",\"GBR\"],\"name\":\"\",\"z\":[278114.0,1364548.0,3191812.0,871905.0,56906.0,186479.0,172912.0,150500.0,1036.0,539532.0,598135.0,998587.0,281577.0,28978.0,269814.0,28186.0,1541079.0,17131.0,26023153.0,24526.0,35079.0,58829.0,45863.0,437380.0,240433.0,247251.0,11336.0,108239.0,53628.0,73032.0,155000.0,145557.0,243136.0,305532.0,148168.0,2107624.0,207.0,187758.0,631747.0,1997481.0,1254535.0,9646715.0],\"type\":\"choropleth\"}],\"name\":\"2021-02-01\"},{\"data\":[{\"coloraxis\":\"coloraxis\",\"geo\":\"geo\",\"hovertemplate\":\"<b>%{hovertext}</b><br><br>date=2021-02-02<br>iso_code=%{location}<br>people_vaccinated=%{z}<extra></extra>\",\"hovertext\":[\"Romania\",\"United Kingdom\",\"Mexico\",\"Singapore\",\"Greece\",\"Spain\",\"Norway\",\"Hungary\",\"Argentina\",\"Germany\",\"Portugal\",\"Luxembourg\",\"Belgium\",\"Czechia\",\"Slovakia\",\"Bahrain\",\"Italy\",\"United States\",\"France\",\"Estonia\",\"Bulgaria\",\"Poland\",\"Israel\",\"Seychelles\",\"Croatia\",\"Chile\",\"Latvia\",\"Malta\",\"Brazil\",\"Sweden\",\"Denmark\",\"Serbia\",\"Lithuania\",\"Andorra\",\"Costa Rica\",\"Ireland\",\"Austria\",\"Slovenia\",\"Finland\",\"Indonesia\"],\"locations\":[\"ROU\",\"GBR\",\"MEX\",\"SGP\",\"GRC\",\"ESP\",\"NOR\",\"HUN\",\"ARG\",\"DEU\",\"PRT\",\"LUX\",\"BEL\",\"CZE\",\"SVK\",\"BHR\",\"ITA\",\"USA\",\"FRA\",\"EST\",\"BGR\",\"POL\",\"ISR\",\"SYC\",\"HRV\",\"CHL\",\"LVA\",\"MLT\",\"BRA\",\"SWE\",\"DNK\",\"SRB\",\"LTU\",\"AND\",\"CRI\",\"IRL\",\"AUT\",\"SVN\",\"FIN\",\"IDN\"],\"name\":\"\",\"z\":[610383.0,10021471.0,631791.0,175000.0,261543.0,1265800.0,114511.0,247270.0,281577.0,2053765.0,269100.0,11925.0,314931.0,244460.0,156980.0,174075.0,1370744.0,26440836.0,1615088.0,28907.0,30817.0,1053245.0,3261365.0,36284.0,58829.0,70016.0,17266.0,25361.0,2292551.0,278114.0,189818.0,495964.0,74675.0,1036.0,45863.0,150500.0,189926.0,53644.0,145770.0,596260.0],\"type\":\"choropleth\"}],\"name\":\"2021-02-02\"},{\"data\":[{\"coloraxis\":\"coloraxis\",\"geo\":\"geo\",\"hovertemplate\":\"<b>%{hovertext}</b><br><br>date=2021-02-03<br>iso_code=%{location}<br>people_vaccinated=%{z}<extra></extra>\",\"hovertext\":[\"France\",\"United Kingdom\",\"Hungary\",\"Romania\",\"Seychelles\",\"Finland\",\"Costa Rica\",\"Spain\",\"Germany\",\"Estonia\",\"Serbia\",\"Slovenia\",\"Chile\",\"Slovakia\",\"Indonesia\",\"Iceland\",\"Austria\",\"Greece\",\"Andorra\",\"Singapore\",\"Argentina\",\"Israel\",\"Mexico\",\"Malta\",\"Croatia\",\"Pakistan\",\"Bulgaria\",\"Norway\",\"Lithuania\",\"Belgium\",\"Portugal\",\"Albania\",\"Bahrain\",\"Italy\",\"Denmark\",\"Luxembourg\",\"Latvia\",\"United States\",\"Brazil\",\"Czechia\",\"Poland\"],\"locations\":[\"FRA\",\"GBR\",\"HUN\",\"ROU\",\"SYC\",\"FIN\",\"CRI\",\"ESP\",\"DEU\",\"EST\",\"SRB\",\"SVN\",\"CHL\",\"SVK\",\"IDN\",\"ISL\",\"AUT\",\"GRC\",\"AND\",\"SGP\",\"ARG\",\"ISR\",\"MEX\",\"MLT\",\"HRV\",\"PAK\",\"BGR\",\"NOR\",\"LTU\",\"BEL\",\"PRT\",\"ALB\",\"BHR\",\"ITA\",\"DNK\",\"LUX\",\"LVA\",\"USA\",\"BRA\",\"CZE\",\"POL\"],\"name\":\"\",\"z\":[1687026.0,10490487.0,249687.0,620176.0,37087.0,149951.0,45863.0,1279220.0,2108944.0,30158.0,513652.0,53792.0,239693.0,166355.0,646026.0,12098.0,194287.0,276103.0,1036.0,175000.0,284196.0,3321221.0,632439.0,26223.0,59064.0,0.0,33691.0,139149.0,76298.0,323991.0,275093.0,549.0,175094.0,1379815.0,191370.0,12597.0,17506.0,27154956.0,2521704.0,248714.0,1117146.0],\"type\":\"choropleth\"}],\"name\":\"2021-02-03\"},{\"data\":[{\"coloraxis\":\"coloraxis\",\"geo\":\"geo\",\"hovertemplate\":\"<b>%{hovertext}</b><br><br>date=2021-02-04<br>iso_code=%{location}<br>people_vaccinated=%{z}<extra></extra>\",\"hovertext\":[\"Pakistan\",\"Iceland\",\"Chile\",\"Croatia\",\"Israel\",\"Mexico\",\"Latvia\",\"Poland\",\"Indonesia\",\"Denmark\",\"Norway\",\"Hungary\",\"Argentina\",\"United Kingdom\",\"United States\",\"Slovenia\",\"France\",\"Malta\",\"Spain\",\"Czechia\",\"Slovakia\",\"Brazil\",\"Belgium\",\"Germany\",\"Albania\",\"Luxembourg\",\"Singapore\",\"Greece\",\"Finland\",\"Seychelles\",\"Lithuania\",\"Bulgaria\",\"Serbia\",\"Portugal\",\"Italy\",\"Bahrain\",\"Estonia\",\"Austria\",\"Romania\",\"Ecuador\"],\"locations\":[\"PAK\",\"ISL\",\"CHL\",\"HRV\",\"ISR\",\"MEX\",\"LVA\",\"POL\",\"IDN\",\"DNK\",\"NOR\",\"HUN\",\"ARG\",\"GBR\",\"USA\",\"SVN\",\"FRA\",\"MLT\",\"ESP\",\"CZE\",\"SVK\",\"BRA\",\"BEL\",\"DEU\",\"ALB\",\"LUX\",\"SGP\",\"GRC\",\"FIN\",\"SYC\",\"LTU\",\"BGR\",\"SRB\",\"PRT\",\"ITA\",\"BHR\",\"EST\",\"AUT\",\"ROU\",\"ECU\"],\"name\":\"\",\"z\":[0.0,12098.0,412948.0,59593.0,3392818.0,634346.0,17646.0,1171229.0,700266.0,192806.0,164547.0,264530.0,297717.0,10971047.0,27905197.0,54452.0,1772602.0,27020.0,1305251.0,253449.0,175225.0,3073057.0,332563.0,2170344.0,549.0,13256.0,175000.0,291259.0,159624.0,36685.5,77823.0,36929.0,526930.0,279236.0,1392839.0,177233.0,31864.0,198912.0,629279.0,6228.0],\"type\":\"choropleth\"}],\"name\":\"2021-02-04\"},{\"data\":[{\"coloraxis\":\"coloraxis\",\"geo\":\"geo\",\"hovertemplate\":\"<b>%{hovertext}</b><br><br>date=2021-02-05<br>iso_code=%{location}<br>people_vaccinated=%{z}<extra></extra>\",\"hovertext\":[\"Israel\",\"United Kingdom\",\"Croatia\",\"Iceland\",\"Ireland\",\"Spain\",\"Serbia\",\"Czechia\",\"Mexico\",\"Slovakia\",\"Finland\",\"Chile\",\"Norway\",\"Greece\",\"Luxembourg\",\"Brazil\",\"Seychelles\",\"Romania\",\"Estonia\",\"United States\",\"Hungary\",\"Lithuania\",\"Germany\",\"Bulgaria\",\"Portugal\",\"Belgium\",\"Bahrain\",\"Latvia\",\"Sweden\",\"Italy\",\"Argentina\",\"France\",\"Poland\",\"Slovenia\",\"Cyprus\",\"Denmark\",\"Austria\",\"Indonesia\",\"Malta\"],\"locations\":[\"ISR\",\"GBR\",\"HRV\",\"ISL\",\"IRL\",\"ESP\",\"SRB\",\"CZE\",\"MEX\",\"SVK\",\"FIN\",\"CHL\",\"NOR\",\"GRC\",\"LUX\",\"BRA\",\"SYC\",\"ROU\",\"EST\",\"USA\",\"HUN\",\"LTU\",\"DEU\",\"BGR\",\"PRT\",\"BEL\",\"BHR\",\"LVA\",\"SWE\",\"ITA\",\"ARG\",\"FRA\",\"POL\",\"SVN\",\"CYP\",\"DNK\",\"AUT\",\"IDN\",\"MLT\"],\"name\":\"\",\"z\":[3426473.0,11465210.0,59328.5,12660.0,151212.0,1292235.5,538373.0,258645.0,636070.0,183591.0,164636.0,580928.0,174953.0,306441.0,12926.5,3074906.0,37087.0,638886.0,33927.0,28909497.0,279410.0,78781.0,2228516.0,39468.0,277164.5,339658.0,179550.0,17807.0,286853.0,1409926.0,290956.5,1843763.0,1193034.0,54812.0,22813.0,194386.0,202160.0,744884.0,28082.0],\"type\":\"choropleth\"}],\"name\":\"2021-02-05\"},{\"data\":[{\"coloraxis\":\"coloraxis\",\"geo\":\"geo\",\"hovertemplate\":\"<b>%{hovertext}</b><br><br>date=2021-02-06<br>iso_code=%{location}<br>people_vaccinated=%{z}<extra></extra>\",\"hovertext\":[\"Estonia\",\"Italy\",\"Indonesia\",\"Chile\",\"Brazil\",\"Finland\",\"Slovenia\",\"Belgium\",\"Bulgaria\",\"Seychelles\",\"Germany\",\"Sweden\",\"Latvia\",\"Lithuania\",\"Hungary\",\"Luxembourg\",\"Cyprus\",\"Romania\",\"Austria\",\"United States\",\"Poland\",\"Portugal\",\"Serbia\",\"Greece\",\"Faeroe Islands\",\"Bahrain\",\"Spain\",\"Mexico\",\"Canada\",\"Argentina\",\"France\",\"Israel\",\"Slovakia\",\"Iceland\",\"Azerbaijan\",\"United Kingdom\",\"Croatia\",\"Norway\",\"Ireland\",\"Denmark\",\"Malta\",\"Czechia\"],\"locations\":[\"EST\",\"ITA\",\"IDN\",\"CHL\",\"BRA\",\"FIN\",\"SVN\",\"BEL\",\"BGR\",\"SYC\",\"DEU\",\"SWE\",\"LVA\",\"LTU\",\"HUN\",\"LUX\",\"CYP\",\"ROU\",\"AUT\",\"USA\",\"POL\",\"PRT\",\"SRB\",\"GRC\",\"FRO\",\"BHR\",\"ESP\",\"MEX\",\"CAN\",\"ARG\",\"FRA\",\"ISR\",\"SVK\",\"ISL\",\"AZE\",\"GBR\",\"HRV\",\"NOR\",\"IRL\",\"DNK\",\"MLT\",\"CZE\"],\"name\":\"\",\"z\":[35492.0,1424245.0,777096.0,608296.0,3399421.0,169194.0,54840.0,340856.0,39624.0,37589.0,2275406.0,286853.0,17815.0,78848.0,286379.0,13256.0,22813.0,647690.0,208144.0,30250964.0,1200793.0,284462.0,532651.5,318097.0,4051.0,182543.0,1305251.0,637098.0,922234.0,307501.0,1866091.0,3447299.0,185679.0,12660.0,65000.0,12015018.0,59593.0,175730.0,151212.0,195409.0,28837.0,259477.0],\"type\":\"choropleth\"}],\"name\":\"2021-02-06\"},{\"data\":[{\"coloraxis\":\"coloraxis\",\"geo\":\"geo\",\"hovertemplate\":\"<b>%{hovertext}</b><br><br>date=2021-02-07<br>iso_code=%{location}<br>people_vaccinated=%{z}<extra></extra>\",\"hovertext\":[\"Ireland\",\"Luxembourg\",\"Israel\",\"Estonia\",\"France\",\"Argentina\",\"Spain\",\"Canada\",\"Italy\",\"Malta\",\"Czechia\",\"Belgium\",\"Slovakia\",\"Portugal\",\"Slovenia\",\"Germany\",\"Cyprus\",\"Norway\",\"United States\",\"Chile\",\"Faeroe Islands\",\"Serbia\",\"United Kingdom\",\"Bahrain\",\"Denmark\",\"Bangladesh\",\"Mexico\",\"Latvia\",\"Austria\",\"Poland\",\"Indonesia\",\"Sweden\",\"Bulgaria\",\"Iceland\",\"Finland\",\"Brazil\",\"Seychelles\",\"Romania\",\"Greece\",\"Hungary\",\"Lithuania\"],\"locations\":[\"IRL\",\"LUX\",\"ISR\",\"EST\",\"FRA\",\"ARG\",\"ESP\",\"CAN\",\"ITA\",\"MLT\",\"CZE\",\"BEL\",\"SVK\",\"PRT\",\"SVN\",\"DEU\",\"CYP\",\"NOR\",\"USA\",\"CHL\",\"FRO\",\"SRB\",\"GBR\",\"BHR\",\"DNK\",\"BGD\",\"MEX\",\"LVA\",\"AUT\",\"POL\",\"IDN\",\"SWE\",\"BGR\",\"ISL\",\"FIN\",\"BRA\",\"SYC\",\"ROU\",\"GRC\",\"HUN\",\"LTU\"],\"name\":\"\",\"z\":[153654.0,13940.0,3499883.0,35905.0,1871604.0,319316.0,1318626.0,922234.0,1433177.0,29339.0,260301.0,341157.0,185859.0,290302.0,54840.0,2307972.0,22813.0,176050.0,31579100.0,616883.0,4051.0,544209.0,12294006.0,191406.0,197321.0,31160.0,637681.0,17817.0,210239.0,1206212.0,784318.0,286853.0,39646.0,12660.0,170335.0,3534004.0,37589.0,656177.0,312269.0,289042.0,78851.0],\"type\":\"choropleth\"}],\"name\":\"2021-02-07\"},{\"data\":[{\"coloraxis\":\"coloraxis\",\"geo\":\"geo\",\"hovertemplate\":\"<b>%{hovertext}</b><br><br>date=2021-02-08<br>iso_code=%{location}<br>people_vaccinated=%{z}<extra></extra>\",\"hovertext\":[\"Portugal\",\"Italy\",\"France\",\"United States\",\"Ireland\",\"Bangladesh\",\"Malta\",\"Hungary\",\"Latvia\",\"Slovenia\",\"Greece\",\"Austria\",\"Indonesia\",\"Poland\",\"Israel\",\"Estonia\",\"Brazil\",\"Denmark\",\"Spain\",\"Belgium\",\"Finland\",\"Slovakia\",\"Serbia\",\"Oman\",\"Faeroe Islands\",\"Costa Rica\",\"Lithuania\",\"Chile\",\"Romania\",\"Germany\",\"Canada\",\"Czechia\",\"Seychelles\",\"United Kingdom\",\"Argentina\",\"Bahrain\",\"Luxembourg\",\"Bulgaria\",\"Iceland\",\"Mexico\",\"Norway\"],\"locations\":[\"PRT\",\"ITA\",\"FRA\",\"USA\",\"IRL\",\"BGD\",\"MLT\",\"HUN\",\"LVA\",\"SVN\",\"GRC\",\"AUT\",\"IDN\",\"POL\",\"ISR\",\"EST\",\"BRA\",\"DNK\",\"ESP\",\"BEL\",\"FIN\",\"SVK\",\"SRB\",\"OMN\",\"FRO\",\"CRI\",\"LTU\",\"CHL\",\"ROU\",\"DEU\",\"CAN\",\"CZE\",\"SYC\",\"GBR\",\"ARG\",\"BHR\",\"LUX\",\"BGR\",\"ISL\",\"MEX\",\"NOR\"],\"name\":\"\",\"z\":[291378.0,1459473.0,1922706.0,32340146.0,154900.0,31160.0,30235.0,291396.0,18072.0,55240.0,332812.0,212062.0,814585.0,1203502.5,3558046.0,35917.0,3579850.0,199868.0,1328459.0,343393.0,170641.0,193204.0,544209.0,26874.0,4098.0,46750.0,79080.0,836412.0,661062.0,2358079.0,922234.0,263909.0,37714.0,12646486.0,322318.0,201116.0,14089.0,41407.0,12801.0,638391.0,176173.0],\"type\":\"choropleth\"}],\"name\":\"2021-02-08\"},{\"data\":[{\"coloraxis\":\"coloraxis\",\"geo\":\"geo\",\"hovertemplate\":\"<b>%{hovertext}</b><br><br>date=2021-02-09<br>iso_code=%{location}<br>people_vaccinated=%{z}<extra></extra>\",\"hovertext\":[\"Spain\",\"Denmark\",\"Sweden\",\"Estonia\",\"Croatia\",\"Albania\",\"Finland\",\"Czechia\",\"Faeroe Islands\",\"Costa Rica\",\"Hungary\",\"Bangladesh\",\"Israel\",\"Slovakia\",\"Germany\",\"Austria\",\"Latvia\",\"Poland\",\"Chile\",\"Greece\",\"Malta\",\"Norway\",\"Luxembourg\",\"Lithuania\",\"Bahrain\",\"Belgium\",\"Indonesia\",\"Seychelles\",\"Oman\",\"Portugal\",\"United States\",\"Slovenia\",\"France\",\"Iceland\",\"Mexico\",\"Serbia\",\"Brazil\",\"Italy\",\"Ireland\",\"Argentina\",\"Romania\",\"Bulgaria\",\"United Kingdom\",\"Iran\"],\"locations\":[\"ESP\",\"DNK\",\"SWE\",\"EST\",\"HRV\",\"ALB\",\"FIN\",\"CZE\",\"FRO\",\"CRI\",\"HUN\",\"BGD\",\"ISR\",\"SVK\",\"DEU\",\"AUT\",\"LVA\",\"POL\",\"CHL\",\"GRC\",\"MLT\",\"NOR\",\"LUX\",\"LTU\",\"BHR\",\"BEL\",\"IDN\",\"SYC\",\"OMN\",\"PRT\",\"USA\",\"SVN\",\"FRA\",\"ISL\",\"MEX\",\"SRB\",\"BRA\",\"ITA\",\"IRL\",\"ARG\",\"ROU\",\"BGR\",\"GBR\",\"IRN\"],\"name\":\"\",\"z\":[1343566.0,203413.0,308622.0,35911.0,61241.0,689.0,173558.0,268632.0,4098.0,46750.0,292627.0,179318.0,3622976.0,200544.0,2421845.0,215592.0,18213.0,1291569.0,1076484.0,345290.0,31202.0,181485.0,14227.0,80088.0,212940.0,350468.0,845407.0,37723.0,31021.0,291758.0,32867213.0,55328.0,1990860.0,12801.0,640129.0,544209.0,3786591.0,1493329.0,158904.0,322975.0,666942.0,44482.0,13058298.0,3000.0],\"type\":\"choropleth\"}],\"name\":\"2021-02-09\"},{\"data\":[{\"coloraxis\":\"coloraxis\",\"geo\":\"geo\",\"hovertemplate\":\"<b>%{hovertext}</b><br><br>date=2021-02-10<br>iso_code=%{location}<br>people_vaccinated=%{z}<extra></extra>\",\"hovertext\":[\"Cambodia\",\"Czechia\",\"Russia\",\"Brazil\",\"Ireland\",\"Romania\",\"United Kingdom\",\"United States\",\"Lithuania\",\"Portugal\",\"Austria\",\"Andorra\",\"Estonia\",\"Italy\",\"Norway\",\"Luxembourg\",\"Sweden\",\"Indonesia\",\"Israel\",\"Poland\",\"Pakistan\",\"Peru\",\"Greece\",\"Singapore\",\"Finland\",\"Germany\",\"Slovakia\",\"Bangladesh\",\"Spain\",\"Latvia\",\"Argentina\",\"Croatia\",\"Slovenia\",\"Iceland\",\"Serbia\",\"Bulgaria\",\"Faeroe Islands\",\"Costa Rica\",\"Chile\",\"Mexico\",\"Denmark\",\"Bahrain\",\"Hungary\",\"Seychelles\",\"France\",\"Belgium\",\"Oman\",\"Malta\"],\"locations\":[\"KHM\",\"CZE\",\"RUS\",\"BRA\",\"IRL\",\"ROU\",\"GBR\",\"USA\",\"LTU\",\"PRT\",\"AUT\",\"AND\",\"EST\",\"ITA\",\"NOR\",\"LUX\",\"SWE\",\"IDN\",\"ISR\",\"POL\",\"PAK\",\"PER\",\"GRC\",\"SGP\",\"FIN\",\"DEU\",\"SVK\",\"BGD\",\"ESP\",\"LVA\",\"ARG\",\"HRV\",\"SVN\",\"ISL\",\"SRB\",\"BGR\",\"FRO\",\"CRI\",\"CHL\",\"MEX\",\"DNK\",\"BHR\",\"HUN\",\"SYC\",\"FRA\",\"BEL\",\"OMN\",\"MLT\"],\"name\":\"\",\"z\":[1492.0,273911.0,2200000.0,4069677.0,166863.0,671448.0,13509108.0,33783384.0,84509.0,294135.0,219286.0,1291.0,39147.0,1537154.0,203681.0,15052.0,316765.0,969546.0,3691595.0,1291569.0,27228.0,9779.0,353412.0,250000.0,178005.0,2493501.0,206966.0,337769.0,1377229.0,18623.0,337772.0,61241.0,57790.0,12801.0,592634.0,47551.0,4134.0,46750.0,1345352.0,640115.0,206691.0,219595.0,294624.0,37726.0,2060675.0,355972.0,37209.0,31670.0],\"type\":\"choropleth\"}],\"name\":\"2021-02-10\"},{\"data\":[{\"coloraxis\":\"coloraxis\",\"geo\":\"geo\",\"hovertemplate\":\"<b>%{hovertext}</b><br><br>date=2021-02-11<br>iso_code=%{location}<br>people_vaccinated=%{z}<extra></extra>\",\"hovertext\":[\"Brazil\",\"Bulgaria\",\"United Kingdom\",\"Lithuania\",\"Latvia\",\"Czechia\",\"Poland\",\"Italy\",\"Oman\",\"Bahrain\",\"Denmark\",\"Peru\",\"Portugal\",\"Indonesia\",\"Chile\",\"Israel\",\"Hungary\",\"Seychelles\",\"Belgium\",\"Croatia\",\"Greece\",\"Cyprus\",\"Germany\",\"Spain\",\"United States\",\"Argentina\",\"Mexico\",\"France\",\"Finland\",\"Slovenia\",\"Slovakia\",\"Malta\",\"Serbia\",\"Ireland\",\"Romania\",\"Norway\",\"Austria\",\"Estonia\",\"Luxembourg\",\"Bangladesh\",\"Sweden\"],\"locations\":[\"BRA\",\"BGR\",\"GBR\",\"LTU\",\"LVA\",\"CZE\",\"POL\",\"ITA\",\"OMN\",\"BHR\",\"DNK\",\"PER\",\"PRT\",\"IDN\",\"CHL\",\"ISR\",\"HUN\",\"SYC\",\"BEL\",\"HRV\",\"GRC\",\"CYP\",\"DEU\",\"ESP\",\"USA\",\"ARG\",\"MEX\",\"FRA\",\"FIN\",\"SVN\",\"SVK\",\"MLT\",\"SRB\",\"IRL\",\"ROU\",\"NOR\",\"AUT\",\"EST\",\"LUX\",\"BGD\",\"SWE\"],\"name\":\"\",\"z\":[4326075.0,51435.0,14012224.0,91891.0,19616.0,279497.0,1413132.0,1589173.0,45229.0,224919.0,212301.0,32921.0,303142.0,1017186.0,1593170.0,3770184.0,310448.0,37952.0,362339.0,64775.0,360800.0,41673.0,2563161.0,1422560.0,34723964.0,362649.0,640115.0,2146212.0,187384.0,64095.0,213893.0,32524.0,636119.0,171239.0,675234.0,223461.0,224467.0,41731.0,16131.0,258543.5,331389.0],\"type\":\"choropleth\"}],\"name\":\"2021-02-11\"},{\"data\":[{\"coloraxis\":\"coloraxis\",\"geo\":\"geo\",\"hovertemplate\":\"<b>%{hovertext}</b><br><br>date=2021-02-12<br>iso_code=%{location}<br>people_vaccinated=%{z}<extra></extra>\",\"hovertext\":[\"Luxembourg\",\"Brazil\",\"Czechia\",\"Malta\",\"Mexico\",\"Lithuania\",\"Latvia\",\"Belgium\",\"Croatia\",\"Oman\",\"Norway\",\"Slovenia\",\"Bangladesh\",\"Ireland\",\"Romania\",\"Austria\",\"Estonia\",\"Indonesia\",\"Iceland\",\"Serbia\",\"Chile\",\"Seychelles\",\"Greece\",\"Germany\",\"Spain\",\"Slovakia\",\"United States\",\"Argentina\",\"France\",\"Finland\",\"Hungary\",\"Israel\",\"Sweden\",\"Peru\",\"United Kingdom\",\"Poland\",\"Denmark\",\"Italy\",\"Bulgaria\",\"Turkey\",\"Portugal\",\"Bahrain\"],\"locations\":[\"LUX\",\"BRA\",\"CZE\",\"MLT\",\"MEX\",\"LTU\",\"LVA\",\"BEL\",\"HRV\",\"OMN\",\"NOR\",\"SVN\",\"BGD\",\"IRL\",\"ROU\",\"AUT\",\"EST\",\"IDN\",\"ISL\",\"SRB\",\"CHL\",\"SYC\",\"GRC\",\"DEU\",\"ESP\",\"SVK\",\"USA\",\"ARG\",\"FRA\",\"FIN\",\"HUN\",\"ISR\",\"SWE\",\"PER\",\"GBR\",\"POL\",\"DNK\",\"ITA\",\"BGR\",\"TUR\",\"PRT\",\"BHR\"],\"name\":\"\",\"z\":[15591.5,4586270.0,284759.0,33735.0,640115.0,97727.0,20637.0,366295.0,64775.0,55013.0,230985.0,70335.0,337769.0,175238.0,679333.0,229317.0,44486.0,993366.0,14086.0,614376.5,1818987.0,37839.0,366749.0,2639096.0,1399894.5,221452.0,35834855.0,368023.0,2225321.0,197540.0,330745.0,3809010.0,341656.0,55279.0,14556827.0,1446102.0,223989.0,1644955.0,54123.0,3067822.0,310715.0,232540.0],\"type\":\"choropleth\"}],\"name\":\"2021-02-12\"},{\"data\":[{\"coloraxis\":\"coloraxis\",\"geo\":\"geo\",\"hovertemplate\":\"<b>%{hovertext}</b><br><br>date=2021-02-13<br>iso_code=%{location}<br>people_vaccinated=%{z}<extra></extra>\",\"hovertext\":[\"Bangladesh\",\"Germany\",\"Seychelles\",\"Greece\",\"Poland\",\"Malta\",\"Oman\",\"Lithuania\",\"Spain\",\"Latvia\",\"Belgium\",\"United Kingdom\",\"Slovakia\",\"Peru\",\"Argentina\",\"Mexico\",\"France\",\"Turkey\",\"Finland\",\"Croatia\",\"Hungary\",\"Serbia\",\"Portugal\",\"Brazil\",\"Israel\",\"Slovenia\",\"Norway\",\"Italy\",\"Romania\",\"Austria\",\"United States\",\"Chile\",\"Bulgaria\",\"Indonesia\",\"Czechia\",\"Luxembourg\",\"Denmark\",\"Iceland\",\"Bahrain\",\"Estonia\"],\"locations\":[\"BGD\",\"DEU\",\"SYC\",\"GRC\",\"POL\",\"MLT\",\"OMN\",\"LTU\",\"ESP\",\"LVA\",\"BEL\",\"GBR\",\"SVK\",\"PER\",\"ARG\",\"MEX\",\"FRA\",\"TUR\",\"FIN\",\"HRV\",\"HUN\",\"SRB\",\"PRT\",\"BRA\",\"ISR\",\"SVN\",\"NOR\",\"ITA\",\"ROU\",\"AUT\",\"USA\",\"CHL\",\"BGR\",\"IDN\",\"CZE\",\"LUX\",\"DNK\",\"ISL\",\"BHR\",\"EST\"],\"name\":\"\",\"z\":[736680.0,2700343.0,41799.0,371462.0,1466439.0,34574.0,65166.0,98163.0,1422560.0,20860.0,366551.0,15062189.0,224953.0,68811.0,371629.0,640125.0,2249685.0,3253005.0,206283.0,64775.0,335188.0,783161.0,320677.0,4946738.0,3836305.0,71011.0,231755.0,1688821.0,683346.0,236728.0,37056122.0,1848061.0,54646.0,1060326.0,286168.0,16131.0,230531.0,14086.0,242260.0,46020.0],\"type\":\"choropleth\"}],\"name\":\"2021-02-13\"},{\"data\":[{\"coloraxis\":\"coloraxis\",\"geo\":\"geo\",\"hovertemplate\":\"<b>%{hovertext}</b><br><br>date=2021-02-14<br>iso_code=%{location}<br>people_vaccinated=%{z}<extra></extra>\",\"hovertext\":[\"United Kingdom\",\"United States\",\"Latvia\",\"Italy\",\"Israel\",\"Indonesia\",\"Iceland\",\"Hungary\",\"Greece\",\"Germany\",\"France\",\"Finland\",\"Estonia\",\"Luxembourg\",\"Denmark\",\"Chile\",\"Bulgaria\",\"Brazil\",\"Belgium\",\"Bangladesh\",\"Bahrain\",\"Austria\",\"Argentina\",\"Czechia\",\"Mexico\",\"Malta\",\"Portugal\",\"Poland\",\"Slovakia\",\"Peru\",\"Romania\",\"Slovenia\",\"Norway\",\"Oman\",\"Spain\",\"Turkey\"],\"locations\":[\"GBR\",\"USA\",\"LVA\",\"ITA\",\"ISR\",\"IDN\",\"ISL\",\"HUN\",\"GRC\",\"DEU\",\"FRA\",\"FIN\",\"EST\",\"LUX\",\"DNK\",\"CHL\",\"BGR\",\"BRA\",\"BEL\",\"BGD\",\"BHR\",\"AUT\",\"ARG\",\"CZE\",\"MEX\",\"MLT\",\"PRT\",\"POL\",\"SVK\",\"PER\",\"ROU\",\"SVN\",\"NOR\",\"OMN\",\"ESP\",\"TUR\"],\"name\":\"\",\"z\":[15300151.0,38292270.0,20861.0,1715393.0,3910283.0,1068747.0,14086.0,336297.0,369105.5,2736109.0,2255597.0,209510.0,46152.0,17257.0,236645.0,1852521.0,54690.0,5042713.0,366558.0,906033.0,248775.0,241795.0,372122.0,287031.0,640120.0,35376.0,328819.0,1476274.0,235556.0,72430.0,686634.0,71025.0,231862.0,76940.0,1491517.0,3336164.0],\"type\":\"choropleth\"}],\"name\":\"2021-02-14\"},{\"data\":[{\"coloraxis\":\"coloraxis\",\"geo\":\"geo\",\"hovertemplate\":\"<b>%{hovertext}</b><br><br>date=2021-02-15<br>iso_code=%{location}<br>people_vaccinated=%{z}<extra></extra>\",\"hovertext\":[\"Bahrain\",\"Slovakia\",\"Brazil\",\"Austria\",\"Bulgaria\",\"Argentina\",\"Turkey\",\"Bangladesh\",\"Romania\",\"Croatia\",\"Costa Rica\",\"Mexico\",\"Israel\",\"Indonesia\",\"Chile\",\"Iceland\",\"Greece\",\"Finland\",\"Estonia\",\"Peru\",\"Portugal\",\"Italy\"],\"locations\":[\"BHR\",\"SVK\",\"BRA\",\"AUT\",\"BGR\",\"ARG\",\"TUR\",\"BGD\",\"ROU\",\"HRV\",\"CRI\",\"MEX\",\"ISR\",\"IDN\",\"CHL\",\"ISL\",\"GRC\",\"FIN\",\"EST\",\"PER\",\"PRT\",\"ITA\"],\"name\":\"\",\"z\":[250946.0,235556.0,5076110.0,242625.0,56113.0,372181.0,3608148.0,1132711.0,696943.0,67825.0,54395.0,663484.0,3988763.0,1096095.0,2092453.0,14087.0,386049.0,210194.0,46154.0,79763.0,331321.0,1756512.0],\"type\":\"choropleth\"}],\"name\":\"2021-02-15\"}]);\n",
       "                        }).then(function(){\n",
       "                            \n",
       "var gd = document.getElementById('dcc53dd1-ece0-408e-a273-abc2738510bc');\n",
       "var x = new MutationObserver(function (mutations, observer) {{\n",
       "        var display = window.getComputedStyle(gd).display;\n",
       "        if (!display || display === 'none') {{\n",
       "            console.log([gd, 'removed!']);\n",
       "            Plotly.purge(gd);\n",
       "            observer.disconnect();\n",
       "        }}\n",
       "}});\n",
       "\n",
       "// Listen for the removal of the full notebook cells\n",
       "var notebookContainer = gd.closest('#notebook-container');\n",
       "if (notebookContainer) {{\n",
       "    x.observe(notebookContainer, {childList: true});\n",
       "}}\n",
       "\n",
       "// Listen for the clearing of the current output cell\n",
       "var outputEl = gd.closest('.output');\n",
       "if (outputEl) {{\n",
       "    x.observe(outputEl, {childList: true});\n",
       "}}\n",
       "\n",
       "                        })                };                });            </script>        </div>"
      ]
     },
     "metadata": {},
     "output_type": "display_data"
    }
   ],
   "source": [
    "datos['date'] = datos['date'].astype(str)\n",
    "datos['iso_code'] = datos['iso_code'].astype(str)\n",
    "\n",
    "fig = px.choropleth(\n",
    "    datos,                         \n",
    "    locations=\"iso_code\",          \n",
    "    color=\"people_vaccinated\",                    \n",
    "    hover_name=\"country\",              \n",
    "    animation_frame=\"date\",\n",
    "    color_continuous_scale='viridis',\n",
    "    projection=\"natural earth\",       \n",
    "    range_color=[0, 5000000],\n",
    "    title='<span style=\"font-size:36px; font-family:Times New Roman\">Número de personas vacunadas por país</span>'\n",
    ")            \n",
    "\n",
    "fig.show()\n",
    "\n",
    "datos['date'] = pd.to_datetime(datos['date'])\n",
    "datos = datos.sort_values('date', ascending=True)"
   ]
  },
  {
   "cell_type": "markdown",
   "metadata": {},
   "source": [
    "Resulta capcioso determinar que el país con el mejor plan de vacunación es aquel que tiene más personas vacunadas, ya que la población de todos los países no es uniforme. Aquellos con una población mayor pueden administrar más vacunas, lo que les otorga una 'ventaja' sobre aquellos con menos población. Por lo tanto, podemos estudiar las vacunaciones por cada cien habitantes para realizar una comparación más equitativa."
   ]
  },
  {
   "cell_type": "code",
   "execution_count": 119,
   "metadata": {
    "scrolled": false
   },
   "outputs": [
    {
     "data": {
      "image/png": "[encoded data removed]",
      "text/plain": [
       "<Figure size 1800x720 with 1 Axes>"
      ]
     },
     "metadata": {
      "needs_background": "light"
     },
     "output_type": "display_data"
    }
   ],
   "source": [
    "data = datos.sort_values('people_vaccinated_per_hundred', ascending=False)\n",
    "plt.figure(figsize=(25, 10))\n",
    "plt.bar(data['country'], data['people_vaccinated_per_hundred'], color='blue')\n",
    "plt.title('Vacunas por cada cien habitantes por país')\n",
    "plt.xlabel('Países')\n",
    "plt.ylabel('Vacunas por cada cien habitantes')\n",
    "plt.xticks(rotation=45, ha='right', fontsize=10)\n",
    "plt.grid(True, color='lightgrey', linestyle='--', linewidth=0.5)\n",
    "plt.gca().spines['top'].set_visible(False)\n",
    "plt.gca().spines['right'].set_visible(False)\n",
    "plt.gca().spines['bottom'].set_linewidth(2)\n",
    "plt.gca().spines['left'].set_linewidth(2)\n",
    "plt.show()"
   ]
  },
  {
   "cell_type": "markdown",
   "metadata": {},
   "source": [
    "Parece ser que tanto Israel como Seychelles son los países con los planes de vacunación más efectivos, ya que han logrado vacunar a más de un 40% de su población respectiva. Además, se distancian significativamente del tercer país con más vacunas por cada cien habitantes, el Reino Unido, que aparentemente ha logrado vacunar a un poco más del 20% de su población."
   ]
  },
  {
   "cell_type": "code",
   "execution_count": 120,
   "metadata": {},
   "outputs": [
    {
     "data": {
      "image/png": "[encoded data removed]",
      "text/plain": [
       "<Figure size 864x576 with 1 Axes>"
      ]
     },
     "metadata": {
      "needs_background": "light"
     },
     "output_type": "display_data"
    }
   ],
   "source": [
    "top_5_paises = datos.groupby('country')['people_vaccinated_per_hundred'].max().nlargest(5).index.tolist()\n",
    "datos_top_5 = datos[datos['country'].isin(top_5_paises)]\n",
    "\n",
    "plt.figure(figsize=(12, 8))\n",
    "for pais in top_5_paises:\n",
    "    datos_pais = datos_top_5[datos_top_5['country'] == pais]\n",
    "    plt.plot(datos_pais['date'], datos_pais['people_vaccinated_per_hundred'], label=pais)\n",
    "\n",
    "plt.title('Variación de los 5 países con más vacunados por 100 habitantes')\n",
    "plt.xlabel('Fecha')\n",
    "plt.ylabel('Vacunados por 100 habitantes')\n",
    "plt.legend()\n",
    "plt.grid(True)\n",
    "plt.xticks(rotation=45)\n",
    "plt.tight_layout()\n",
    "plt.show()"
   ]
  },
  {
   "cell_type": "code",
   "execution_count": 121,
   "metadata": {},
   "outputs": [
    {
     "name": "stdout",
     "output_type": "stream",
     "text": [
      "+----------------+--------+---------------------+\n",
      "|      País      | Media  | Desviación estándar |\n",
      "+----------------+--------+---------------------+\n",
      "|     Israel     | 25.142 |       13.733        |\n",
      "|   Seychelles   | 23.724 |        14.34        |\n",
      "| United Kingdom | 9.509  |        6.971        |\n",
      "|    Bahrain     | 7.782  |        3.671        |\n",
      "|     Serbia     | 4.899  |        3.498        |\n",
      "+----------------+--------+---------------------+\n"
     ]
    }
   ],
   "source": [
    "data_table = []\n",
    "\n",
    "for pais in top_5_paises:\n",
    "    datos_pais = datos_top_5[datos_top_5['country'] == pais]['people_vaccinated_per_hundred']\n",
    "    media = round(datos_pais.mean(), 3)\n",
    "    desviacion_estandar = round(datos_pais.std(), 3)\n",
    "    data_table.append([pais, media, desviacion_estandar])\n",
    "\n",
    "print(tabulate(data_table, headers=[\"País\", \"Media\", \"Desviación estándar\"], tablefmt=\"pretty\"))"
   ]
  },
  {
   "cell_type": "markdown",
   "metadata": {},
   "source": [
    "Israel y Seychelles tienen las tasas más altas de vacunación por cada cien habitantes, lo que podría indicar un progreso significativo en sus programas de vacunación. Sin embargo, la alta desviación estándar en estos países sugiere cierta variabilidad en el proceso de vacunación. El Reino Unido, a pesar de tener una tasa más baja, muestra una desviación estándar moderada, lo que podría indicar una mayor consistencia en el número de personas vacunadas. Bahréin y Serbia tienen tasas más bajas en comparación con los otros países mencionados, pero Bahréin muestra una desviación estándar relativamente baja, lo que sugiere una menor variabilidad en las vacunaciones en comparación con Serbia."
   ]
  },
  {
   "cell_type": "code",
   "execution_count": 122,
   "metadata": {},
   "outputs": [
    {
     "data": {
      "image/png": "[encoded data removed]",
      "text/plain": [
       "<Figure size 1800x720 with 1 Axes>"
      ]
     },
     "metadata": {
      "needs_background": "light"
     },
     "output_type": "display_data"
    }
   ],
   "source": [
    "data = datos.sort_values('people_fully_vaccinated_per_hundred', ascending=False)\n",
    "plt.figure(figsize=(25, 10))\n",
    "plt.bar(data['country'], data['people_fully_vaccinated_per_hundred'], color='blue')\n",
    "plt.title('Vacunados completos por cada cien habitantes por país')\n",
    "plt.xlabel('Países')\n",
    "plt.ylabel('Vacunados completos por cada cien habitantes')\n",
    "plt.xticks(rotation=45, ha='right', fontsize=10)\n",
    "plt.grid(True, color='lightgrey', linestyle='--', linewidth=0.5)\n",
    "plt.gca().spines['top'].set_visible(False)\n",
    "plt.gca().spines['right'].set_visible(False)\n",
    "plt.gca().spines['bottom'].set_linewidth(2)\n",
    "plt.gca().spines['left'].set_linewidth(2)\n",
    "plt.show()"
   ]
  },
  {
   "cell_type": "markdown",
   "metadata": {},
   "source": [
    "Israel ocupa el primer lugar en cuanto al mayor número de vacunados completos por cada cien habitantes, con cerca del 30% de su población completamente vacunada. Además, duplica a Seychelles, que se encuentra en la segunda posición."
   ]
  },
  {
   "cell_type": "markdown",
   "metadata": {},
   "source": [
    "Israel ha logrado vacunar a una mayor proporción de su población, tanto de forma parcial como completa, en comparación con cualquier otro país. Además, su plan de vacunación se ha mantenido relativamente estable y constante, sin presentar grandes diferencias entre fechas. Podemos concluir que Israel tiene el plan de vacunación más efectivo."
   ]
  }
 ],
 "metadata": {
  "kernelspec": {
   "display_name": "Python 3 (ipykernel)",
   "language": "python",
   "name": "python3"
  },
  "language_info": {
   "codemirror_mode": {
    "name": "ipython",
    "version": 3
   },
   "file_extension": ".py",
   "mimetype": "text/x-python",
   "name": "python",
   "nbconvert_exporter": "python",
   "pygments_lexer": "ipython3",
   "version": "3.9.12"
  }
 },
 "nbformat": 4,
 "nbformat_minor": 2
}
