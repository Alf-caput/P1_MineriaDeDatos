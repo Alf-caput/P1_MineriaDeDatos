{
  "cells": [
    {
      "cell_type": "markdown",
      "metadata": {
        "id": "view-in-github",
        "colab_type": "text"
      },
      "source": [
        "<a href=\"https://colab.research.google.com/github/Alf-caput/P1_MineriaDeDatos/blob/dev1/Copia_de_P3_ReduccionDimensionalidad.ipynb\" target=\"_parent\"><img src=\"https://colab.research.google.com/assets/colab-badge.svg\" alt=\"Open In Colab\"/></a>"
      ]
    },
    {
      "cell_type": "markdown",
      "metadata": {
        "id": "PEX1VpyBsOjG"
      },
      "source": [
        "Importamos las dependencias"
      ]
    },
    {
      "cell_type": "code",
      "execution_count": null,
      "metadata": {
        "id": "Lyc41W9IsOjI"
      },
      "outputs": [],
      "source": [
        "import pandas as pd\n",
        "import matplotlib.pyplot as plt\n",
        "import seaborn as sns\n",
        "import numpy as np\n",
        "from numpy import linalg as LA\n",
        "from sklearn.preprocessing import StandardScaler\n",
        "from sklearn.decomposition import PCA"
      ]
    },
    {
      "cell_type": "markdown",
      "metadata": {
        "id": "y77Y6JBDsOjJ"
      },
      "source": [
        "Cargamos desde el repositorio de github los datos"
      ]
    },
    {
      "cell_type": "code",
      "execution_count": null,
      "metadata": {
        "id": "XG4BAR36sOjJ",
        "outputId": "e32be215-4352-4f73-8b9b-8545a5de131a",
        "colab": {
          "base_uri": "https://localhost:8080/",
          "height": 223
        }
      },
      "outputs": [
        {
          "output_type": "execute_result",
          "data": {
            "text/plain": [
              "          Ciudad   SO2  Neg.Temp  Empresas  Poblacion  Viento  Precip   Dias\n",
              "0        Phoenix  10.0      70.3     213.0      582.0     6.0    7.05   36.0\n",
              "1    Little Rock  13.0      61.0      91.0      132.0     8.2   48.52  100.0\n",
              "2  San Francisco  12.0      56.7     453.0      716.0     8.7   20.66   67.0\n",
              "3         Denver  17.0      51.9     454.0      515.0     9.0   12.95   86.0\n",
              "4       Hartford  56.0      49.1     412.0      158.0     9.0   43.37  127.0"
            ],
            "text/html": [
              "\n",
              "  <div id=\"df-c19404ed-6dab-4825-a58e-4ffdf3238cd2\" class=\"colab-df-container\">\n",
              "    <div>\n",
              "<style scoped>\n",
              "    .dataframe tbody tr th:only-of-type {\n",
              "        vertical-align: middle;\n",
              "    }\n",
              "\n",
              "    .dataframe tbody tr th {\n",
              "        vertical-align: top;\n",
              "    }\n",
              "\n",
              "    .dataframe thead th {\n",
              "        text-align: right;\n",
              "    }\n",
              "</style>\n",
              "<table border=\"1\" class=\"dataframe\">\n",
              "  <thead>\n",
              "    <tr style=\"text-align: right;\">\n",
              "      <th></th>\n",
              "      <th>Ciudad</th>\n",
              "      <th>SO2</th>\n",
              "      <th>Neg.Temp</th>\n",
              "      <th>Empresas</th>\n",
              "      <th>Poblacion</th>\n",
              "      <th>Viento</th>\n",
              "      <th>Precip</th>\n",
              "      <th>Dias</th>\n",
              "    </tr>\n",
              "  </thead>\n",
              "  <tbody>\n",
              "    <tr>\n",
              "      <th>0</th>\n",
              "      <td>Phoenix</td>\n",
              "      <td>10.0</td>\n",
              "      <td>70.3</td>\n",
              "      <td>213.0</td>\n",
              "      <td>582.0</td>\n",
              "      <td>6.0</td>\n",
              "      <td>7.05</td>\n",
              "      <td>36.0</td>\n",
              "    </tr>\n",
              "    <tr>\n",
              "      <th>1</th>\n",
              "      <td>Little Rock</td>\n",
              "      <td>13.0</td>\n",
              "      <td>61.0</td>\n",
              "      <td>91.0</td>\n",
              "      <td>132.0</td>\n",
              "      <td>8.2</td>\n",
              "      <td>48.52</td>\n",
              "      <td>100.0</td>\n",
              "    </tr>\n",
              "    <tr>\n",
              "      <th>2</th>\n",
              "      <td>San Francisco</td>\n",
              "      <td>12.0</td>\n",
              "      <td>56.7</td>\n",
              "      <td>453.0</td>\n",
              "      <td>716.0</td>\n",
              "      <td>8.7</td>\n",
              "      <td>20.66</td>\n",
              "      <td>67.0</td>\n",
              "    </tr>\n",
              "    <tr>\n",
              "      <th>3</th>\n",
              "      <td>Denver</td>\n",
              "      <td>17.0</td>\n",
              "      <td>51.9</td>\n",
              "      <td>454.0</td>\n",
              "      <td>515.0</td>\n",
              "      <td>9.0</td>\n",
              "      <td>12.95</td>\n",
              "      <td>86.0</td>\n",
              "    </tr>\n",
              "    <tr>\n",
              "      <th>4</th>\n",
              "      <td>Hartford</td>\n",
              "      <td>56.0</td>\n",
              "      <td>49.1</td>\n",
              "      <td>412.0</td>\n",
              "      <td>158.0</td>\n",
              "      <td>9.0</td>\n",
              "      <td>43.37</td>\n",
              "      <td>127.0</td>\n",
              "    </tr>\n",
              "  </tbody>\n",
              "</table>\n",
              "</div>\n",
              "    <div class=\"colab-df-buttons\">\n",
              "\n",
              "  <div class=\"colab-df-container\">\n",
              "    <button class=\"colab-df-convert\" onclick=\"convertToInteractive('df-c19404ed-6dab-4825-a58e-4ffdf3238cd2')\"\n",
              "            title=\"Convert this dataframe to an interactive table.\"\n",
              "            style=\"display:none;\">\n",
              "\n",
              "  <svg xmlns=\"http://www.w3.org/2000/svg\" height=\"24px\" viewBox=\"0 -960 960 960\">\n",
              "    <path d=\"M120-120v-720h720v720H120Zm60-500h600v-160H180v160Zm220 220h160v-160H400v160Zm0 220h160v-160H400v160ZM180-400h160v-160H180v160Zm440 0h160v-160H620v160ZM180-180h160v-160H180v160Zm440 0h160v-160H620v160Z\"/>\n",
              "  </svg>\n",
              "    </button>\n",
              "\n",
              "  <style>\n",
              "    .colab-df-container {\n",
              "      display:flex;\n",
              "      gap: 12px;\n",
              "    }\n",
              "\n",
              "    .colab-df-convert {\n",
              "      background-color: #E8F0FE;\n",
              "      border: none;\n",
              "      border-radius: 50%;\n",
              "      cursor: pointer;\n",
              "      display: none;\n",
              "      fill: #1967D2;\n",
              "      height: 32px;\n",
              "      padding: 0 0 0 0;\n",
              "      width: 32px;\n",
              "    }\n",
              "\n",
              "    .colab-df-convert:hover {\n",
              "      background-color: #E2EBFA;\n",
              "      box-shadow: 0px 1px 2px rgba(60, 64, 67, 0.3), 0px 1px 3px 1px rgba(60, 64, 67, 0.15);\n",
              "      fill: #174EA6;\n",
              "    }\n",
              "\n",
              "    .colab-df-buttons div {\n",
              "      margin-bottom: 4px;\n",
              "    }\n",
              "\n",
              "    [theme=dark] .colab-df-convert {\n",
              "      background-color: #3B4455;\n",
              "      fill: #D2E3FC;\n",
              "    }\n",
              "\n",
              "    [theme=dark] .colab-df-convert:hover {\n",
              "      background-color: #434B5C;\n",
              "      box-shadow: 0px 1px 3px 1px rgba(0, 0, 0, 0.15);\n",
              "      filter: drop-shadow(0px 1px 2px rgba(0, 0, 0, 0.3));\n",
              "      fill: #FFFFFF;\n",
              "    }\n",
              "  </style>\n",
              "\n",
              "    <script>\n",
              "      const buttonEl =\n",
              "        document.querySelector('#df-c19404ed-6dab-4825-a58e-4ffdf3238cd2 button.colab-df-convert');\n",
              "      buttonEl.style.display =\n",
              "        google.colab.kernel.accessAllowed ? 'block' : 'none';\n",
              "\n",
              "      async function convertToInteractive(key) {\n",
              "        const element = document.querySelector('#df-c19404ed-6dab-4825-a58e-4ffdf3238cd2');\n",
              "        const dataTable =\n",
              "          await google.colab.kernel.invokeFunction('convertToInteractive',\n",
              "                                                    [key], {});\n",
              "        if (!dataTable) return;\n",
              "\n",
              "        const docLinkHtml = 'Like what you see? Visit the ' +\n",
              "          '<a target=\"_blank\" href=https://colab.research.google.com/notebooks/data_table.ipynb>data table notebook</a>'\n",
              "          + ' to learn more about interactive tables.';\n",
              "        element.innerHTML = '';\n",
              "        dataTable['output_type'] = 'display_data';\n",
              "        await google.colab.output.renderOutput(dataTable, element);\n",
              "        const docLink = document.createElement('div');\n",
              "        docLink.innerHTML = docLinkHtml;\n",
              "        element.appendChild(docLink);\n",
              "      }\n",
              "    </script>\n",
              "  </div>\n",
              "\n",
              "\n",
              "<div id=\"df-742a6cf9-07bc-4b36-a44b-f10a93410115\">\n",
              "  <button class=\"colab-df-quickchart\" onclick=\"quickchart('df-742a6cf9-07bc-4b36-a44b-f10a93410115')\"\n",
              "            title=\"Suggest charts\"\n",
              "            style=\"display:none;\">\n",
              "\n",
              "<svg xmlns=\"http://www.w3.org/2000/svg\" height=\"24px\"viewBox=\"0 0 24 24\"\n",
              "     width=\"24px\">\n",
              "    <g>\n",
              "        <path d=\"M19 3H5c-1.1 0-2 .9-2 2v14c0 1.1.9 2 2 2h14c1.1 0 2-.9 2-2V5c0-1.1-.9-2-2-2zM9 17H7v-7h2v7zm4 0h-2V7h2v10zm4 0h-2v-4h2v4z\"/>\n",
              "    </g>\n",
              "</svg>\n",
              "  </button>\n",
              "\n",
              "<style>\n",
              "  .colab-df-quickchart {\n",
              "      --bg-color: #E8F0FE;\n",
              "      --fill-color: #1967D2;\n",
              "      --hover-bg-color: #E2EBFA;\n",
              "      --hover-fill-color: #174EA6;\n",
              "      --disabled-fill-color: #AAA;\n",
              "      --disabled-bg-color: #DDD;\n",
              "  }\n",
              "\n",
              "  [theme=dark] .colab-df-quickchart {\n",
              "      --bg-color: #3B4455;\n",
              "      --fill-color: #D2E3FC;\n",
              "      --hover-bg-color: #434B5C;\n",
              "      --hover-fill-color: #FFFFFF;\n",
              "      --disabled-bg-color: #3B4455;\n",
              "      --disabled-fill-color: #666;\n",
              "  }\n",
              "\n",
              "  .colab-df-quickchart {\n",
              "    background-color: var(--bg-color);\n",
              "    border: none;\n",
              "    border-radius: 50%;\n",
              "    cursor: pointer;\n",
              "    display: none;\n",
              "    fill: var(--fill-color);\n",
              "    height: 32px;\n",
              "    padding: 0;\n",
              "    width: 32px;\n",
              "  }\n",
              "\n",
              "  .colab-df-quickchart:hover {\n",
              "    background-color: var(--hover-bg-color);\n",
              "    box-shadow: 0 1px 2px rgba(60, 64, 67, 0.3), 0 1px 3px 1px rgba(60, 64, 67, 0.15);\n",
              "    fill: var(--button-hover-fill-color);\n",
              "  }\n",
              "\n",
              "  .colab-df-quickchart-complete:disabled,\n",
              "  .colab-df-quickchart-complete:disabled:hover {\n",
              "    background-color: var(--disabled-bg-color);\n",
              "    fill: var(--disabled-fill-color);\n",
              "    box-shadow: none;\n",
              "  }\n",
              "\n",
              "  .colab-df-spinner {\n",
              "    border: 2px solid var(--fill-color);\n",
              "    border-color: transparent;\n",
              "    border-bottom-color: var(--fill-color);\n",
              "    animation:\n",
              "      spin 1s steps(1) infinite;\n",
              "  }\n",
              "\n",
              "  @keyframes spin {\n",
              "    0% {\n",
              "      border-color: transparent;\n",
              "      border-bottom-color: var(--fill-color);\n",
              "      border-left-color: var(--fill-color);\n",
              "    }\n",
              "    20% {\n",
              "      border-color: transparent;\n",
              "      border-left-color: var(--fill-color);\n",
              "      border-top-color: var(--fill-color);\n",
              "    }\n",
              "    30% {\n",
              "      border-color: transparent;\n",
              "      border-left-color: var(--fill-color);\n",
              "      border-top-color: var(--fill-color);\n",
              "      border-right-color: var(--fill-color);\n",
              "    }\n",
              "    40% {\n",
              "      border-color: transparent;\n",
              "      border-right-color: var(--fill-color);\n",
              "      border-top-color: var(--fill-color);\n",
              "    }\n",
              "    60% {\n",
              "      border-color: transparent;\n",
              "      border-right-color: var(--fill-color);\n",
              "    }\n",
              "    80% {\n",
              "      border-color: transparent;\n",
              "      border-right-color: var(--fill-color);\n",
              "      border-bottom-color: var(--fill-color);\n",
              "    }\n",
              "    90% {\n",
              "      border-color: transparent;\n",
              "      border-bottom-color: var(--fill-color);\n",
              "    }\n",
              "  }\n",
              "</style>\n",
              "\n",
              "  <script>\n",
              "    async function quickchart(key) {\n",
              "      const quickchartButtonEl =\n",
              "        document.querySelector('#' + key + ' button');\n",
              "      quickchartButtonEl.disabled = true;  // To prevent multiple clicks.\n",
              "      quickchartButtonEl.classList.add('colab-df-spinner');\n",
              "      try {\n",
              "        const charts = await google.colab.kernel.invokeFunction(\n",
              "            'suggestCharts', [key], {});\n",
              "      } catch (error) {\n",
              "        console.error('Error during call to suggestCharts:', error);\n",
              "      }\n",
              "      quickchartButtonEl.classList.remove('colab-df-spinner');\n",
              "      quickchartButtonEl.classList.add('colab-df-quickchart-complete');\n",
              "    }\n",
              "    (() => {\n",
              "      let quickchartButtonEl =\n",
              "        document.querySelector('#df-742a6cf9-07bc-4b36-a44b-f10a93410115 button');\n",
              "      quickchartButtonEl.style.display =\n",
              "        google.colab.kernel.accessAllowed ? 'block' : 'none';\n",
              "    })();\n",
              "  </script>\n",
              "</div>\n",
              "    </div>\n",
              "  </div>\n"
            ]
          },
          "metadata": {},
          "execution_count": 35
        },
        {
          "output_type": "stream",
          "name": "stdout",
          "text": [
            "WARNING: Runtime no longer has a reference to this dataframe, please re-run this cell and try again.\n"
          ]
        }
      ],
      "source": [
        "url = 'https://github.com/Alf-caput/P1_MineriaDeDatos/raw/main/P3_ReduccionDimensionalidad/USA.xlsx'\n",
        "df = pd.read_excel(url)\n",
        "df.head()"
      ]
    },
    {
      "cell_type": "markdown",
      "metadata": {
        "id": "ll70QLf1sOjK"
      },
      "source": [
        "Con df.info() podemos ver el tamaño del dataset, valores no nulos y tipos de las variables"
      ]
    },
    {
      "cell_type": "code",
      "execution_count": null,
      "metadata": {
        "id": "mJG-bt_zsOjK",
        "outputId": "50ae7896-d3ac-4a2b-b0c8-b168bfc308c5",
        "colab": {
          "base_uri": "https://localhost:8080/"
        }
      },
      "outputs": [
        {
          "output_type": "stream",
          "name": "stdout",
          "text": [
            "<class 'pandas.core.frame.DataFrame'>\n",
            "RangeIndex: 41 entries, 0 to 40\n",
            "Data columns (total 8 columns):\n",
            " #   Column     Non-Null Count  Dtype  \n",
            "---  ------     --------------  -----  \n",
            " 0   Ciudad     41 non-null     object \n",
            " 1   SO2        41 non-null     float64\n",
            " 2   Neg.Temp   41 non-null     float64\n",
            " 3   Empresas   41 non-null     float64\n",
            " 4   Poblacion  41 non-null     float64\n",
            " 5   Viento     41 non-null     float64\n",
            " 6   Precip     41 non-null     float64\n",
            " 7   Dias       41 non-null     float64\n",
            "dtypes: float64(7), object(1)\n",
            "memory usage: 2.7+ KB\n"
          ]
        }
      ],
      "source": [
        "df.info()"
      ]
    },
    {
      "cell_type": "markdown",
      "metadata": {
        "id": "a2Xy6F15sOjK"
      },
      "source": [
        "Se trata de un set de datos sobre ciudades, las variables del mismo son:"
      ]
    },
    {
      "cell_type": "code",
      "execution_count": null,
      "metadata": {
        "id": "IlHHIHQbsOjK",
        "outputId": "63180b10-ef71-4faa-fcec-f5f3d976be62",
        "colab": {
          "base_uri": "https://localhost:8080/"
        }
      },
      "outputs": [
        {
          "output_type": "execute_result",
          "data": {
            "text/plain": [
              "Index(['Ciudad', 'SO2', 'Neg.Temp', 'Empresas', 'Poblacion', 'Viento',\n",
              "       'Precip', 'Dias'],\n",
              "      dtype='object')"
            ]
          },
          "metadata": {},
          "execution_count": 37
        }
      ],
      "source": [
        "df.columns"
      ]
    },
    {
      "cell_type": "markdown",
      "metadata": {
        "id": "9tlX7oPJsOjK"
      },
      "source": [
        "Parece que tiene que ver con mediciones del ambiente y demografía en ciudades.\\\n",
        "Buscando documentación online encontramos el valor de los datos:\n",
        "- Ciudad, nombre de ciudad (EEUU)\n",
        "- SO2, contenido en SO2\n",
        "- Neg.Temp, temperatura Fahrenheit\n",
        "- Empresas, número de empresas con más de 20 trabajadores\n",
        "- Poblacion, en miles de habitantes\n",
        "- Viento, velocidad media del viento\n",
        "- Precip, precipitación anual media\n",
        "- Dias, número de días lluviosos al año"
      ]
    },
    {
      "cell_type": "markdown",
      "metadata": {
        "id": "L8uncHdjsOjL"
      },
      "source": [
        "Con df.info() se podía ver que el número de no nulos coincide con el número de filas, no obstante para datasets más grandes podríamos comprobar el número de NA con:"
      ]
    },
    {
      "cell_type": "code",
      "execution_count": null,
      "metadata": {
        "id": "cC8fB56OsOjL",
        "outputId": "f3e95d59-9bc9-4730-e3f3-349cdbbf179e",
        "colab": {
          "base_uri": "https://localhost:8080/",
          "height": 300
        }
      },
      "outputs": [
        {
          "output_type": "execute_result",
          "data": {
            "text/plain": [
              "           Valores NA\n",
              "Ciudad              0\n",
              "SO2                 0\n",
              "Neg.Temp            0\n",
              "Empresas            0\n",
              "Poblacion           0\n",
              "Viento              0\n",
              "Precip              0\n",
              "Dias                0"
            ],
            "text/html": [
              "\n",
              "  <div id=\"df-cb1bea88-ab56-4534-ad2f-66bad9215334\" class=\"colab-df-container\">\n",
              "    <div>\n",
              "<style scoped>\n",
              "    .dataframe tbody tr th:only-of-type {\n",
              "        vertical-align: middle;\n",
              "    }\n",
              "\n",
              "    .dataframe tbody tr th {\n",
              "        vertical-align: top;\n",
              "    }\n",
              "\n",
              "    .dataframe thead th {\n",
              "        text-align: right;\n",
              "    }\n",
              "</style>\n",
              "<table border=\"1\" class=\"dataframe\">\n",
              "  <thead>\n",
              "    <tr style=\"text-align: right;\">\n",
              "      <th></th>\n",
              "      <th>Valores NA</th>\n",
              "    </tr>\n",
              "  </thead>\n",
              "  <tbody>\n",
              "    <tr>\n",
              "      <th>Ciudad</th>\n",
              "      <td>0</td>\n",
              "    </tr>\n",
              "    <tr>\n",
              "      <th>SO2</th>\n",
              "      <td>0</td>\n",
              "    </tr>\n",
              "    <tr>\n",
              "      <th>Neg.Temp</th>\n",
              "      <td>0</td>\n",
              "    </tr>\n",
              "    <tr>\n",
              "      <th>Empresas</th>\n",
              "      <td>0</td>\n",
              "    </tr>\n",
              "    <tr>\n",
              "      <th>Poblacion</th>\n",
              "      <td>0</td>\n",
              "    </tr>\n",
              "    <tr>\n",
              "      <th>Viento</th>\n",
              "      <td>0</td>\n",
              "    </tr>\n",
              "    <tr>\n",
              "      <th>Precip</th>\n",
              "      <td>0</td>\n",
              "    </tr>\n",
              "    <tr>\n",
              "      <th>Dias</th>\n",
              "      <td>0</td>\n",
              "    </tr>\n",
              "  </tbody>\n",
              "</table>\n",
              "</div>\n",
              "    <div class=\"colab-df-buttons\">\n",
              "\n",
              "  <div class=\"colab-df-container\">\n",
              "    <button class=\"colab-df-convert\" onclick=\"convertToInteractive('df-cb1bea88-ab56-4534-ad2f-66bad9215334')\"\n",
              "            title=\"Convert this dataframe to an interactive table.\"\n",
              "            style=\"display:none;\">\n",
              "\n",
              "  <svg xmlns=\"http://www.w3.org/2000/svg\" height=\"24px\" viewBox=\"0 -960 960 960\">\n",
              "    <path d=\"M120-120v-720h720v720H120Zm60-500h600v-160H180v160Zm220 220h160v-160H400v160Zm0 220h160v-160H400v160ZM180-400h160v-160H180v160Zm440 0h160v-160H620v160ZM180-180h160v-160H180v160Zm440 0h160v-160H620v160Z\"/>\n",
              "  </svg>\n",
              "    </button>\n",
              "\n",
              "  <style>\n",
              "    .colab-df-container {\n",
              "      display:flex;\n",
              "      gap: 12px;\n",
              "    }\n",
              "\n",
              "    .colab-df-convert {\n",
              "      background-color: #E8F0FE;\n",
              "      border: none;\n",
              "      border-radius: 50%;\n",
              "      cursor: pointer;\n",
              "      display: none;\n",
              "      fill: #1967D2;\n",
              "      height: 32px;\n",
              "      padding: 0 0 0 0;\n",
              "      width: 32px;\n",
              "    }\n",
              "\n",
              "    .colab-df-convert:hover {\n",
              "      background-color: #E2EBFA;\n",
              "      box-shadow: 0px 1px 2px rgba(60, 64, 67, 0.3), 0px 1px 3px 1px rgba(60, 64, 67, 0.15);\n",
              "      fill: #174EA6;\n",
              "    }\n",
              "\n",
              "    .colab-df-buttons div {\n",
              "      margin-bottom: 4px;\n",
              "    }\n",
              "\n",
              "    [theme=dark] .colab-df-convert {\n",
              "      background-color: #3B4455;\n",
              "      fill: #D2E3FC;\n",
              "    }\n",
              "\n",
              "    [theme=dark] .colab-df-convert:hover {\n",
              "      background-color: #434B5C;\n",
              "      box-shadow: 0px 1px 3px 1px rgba(0, 0, 0, 0.15);\n",
              "      filter: drop-shadow(0px 1px 2px rgba(0, 0, 0, 0.3));\n",
              "      fill: #FFFFFF;\n",
              "    }\n",
              "  </style>\n",
              "\n",
              "    <script>\n",
              "      const buttonEl =\n",
              "        document.querySelector('#df-cb1bea88-ab56-4534-ad2f-66bad9215334 button.colab-df-convert');\n",
              "      buttonEl.style.display =\n",
              "        google.colab.kernel.accessAllowed ? 'block' : 'none';\n",
              "\n",
              "      async function convertToInteractive(key) {\n",
              "        const element = document.querySelector('#df-cb1bea88-ab56-4534-ad2f-66bad9215334');\n",
              "        const dataTable =\n",
              "          await google.colab.kernel.invokeFunction('convertToInteractive',\n",
              "                                                    [key], {});\n",
              "        if (!dataTable) return;\n",
              "\n",
              "        const docLinkHtml = 'Like what you see? Visit the ' +\n",
              "          '<a target=\"_blank\" href=https://colab.research.google.com/notebooks/data_table.ipynb>data table notebook</a>'\n",
              "          + ' to learn more about interactive tables.';\n",
              "        element.innerHTML = '';\n",
              "        dataTable['output_type'] = 'display_data';\n",
              "        await google.colab.output.renderOutput(dataTable, element);\n",
              "        const docLink = document.createElement('div');\n",
              "        docLink.innerHTML = docLinkHtml;\n",
              "        element.appendChild(docLink);\n",
              "      }\n",
              "    </script>\n",
              "  </div>\n",
              "\n",
              "\n",
              "<div id=\"df-ca2dd5c3-4035-473f-9c8e-fadb9a229dd2\">\n",
              "  <button class=\"colab-df-quickchart\" onclick=\"quickchart('df-ca2dd5c3-4035-473f-9c8e-fadb9a229dd2')\"\n",
              "            title=\"Suggest charts\"\n",
              "            style=\"display:none;\">\n",
              "\n",
              "<svg xmlns=\"http://www.w3.org/2000/svg\" height=\"24px\"viewBox=\"0 0 24 24\"\n",
              "     width=\"24px\">\n",
              "    <g>\n",
              "        <path d=\"M19 3H5c-1.1 0-2 .9-2 2v14c0 1.1.9 2 2 2h14c1.1 0 2-.9 2-2V5c0-1.1-.9-2-2-2zM9 17H7v-7h2v7zm4 0h-2V7h2v10zm4 0h-2v-4h2v4z\"/>\n",
              "    </g>\n",
              "</svg>\n",
              "  </button>\n",
              "\n",
              "<style>\n",
              "  .colab-df-quickchart {\n",
              "      --bg-color: #E8F0FE;\n",
              "      --fill-color: #1967D2;\n",
              "      --hover-bg-color: #E2EBFA;\n",
              "      --hover-fill-color: #174EA6;\n",
              "      --disabled-fill-color: #AAA;\n",
              "      --disabled-bg-color: #DDD;\n",
              "  }\n",
              "\n",
              "  [theme=dark] .colab-df-quickchart {\n",
              "      --bg-color: #3B4455;\n",
              "      --fill-color: #D2E3FC;\n",
              "      --hover-bg-color: #434B5C;\n",
              "      --hover-fill-color: #FFFFFF;\n",
              "      --disabled-bg-color: #3B4455;\n",
              "      --disabled-fill-color: #666;\n",
              "  }\n",
              "\n",
              "  .colab-df-quickchart {\n",
              "    background-color: var(--bg-color);\n",
              "    border: none;\n",
              "    border-radius: 50%;\n",
              "    cursor: pointer;\n",
              "    display: none;\n",
              "    fill: var(--fill-color);\n",
              "    height: 32px;\n",
              "    padding: 0;\n",
              "    width: 32px;\n",
              "  }\n",
              "\n",
              "  .colab-df-quickchart:hover {\n",
              "    background-color: var(--hover-bg-color);\n",
              "    box-shadow: 0 1px 2px rgba(60, 64, 67, 0.3), 0 1px 3px 1px rgba(60, 64, 67, 0.15);\n",
              "    fill: var(--button-hover-fill-color);\n",
              "  }\n",
              "\n",
              "  .colab-df-quickchart-complete:disabled,\n",
              "  .colab-df-quickchart-complete:disabled:hover {\n",
              "    background-color: var(--disabled-bg-color);\n",
              "    fill: var(--disabled-fill-color);\n",
              "    box-shadow: none;\n",
              "  }\n",
              "\n",
              "  .colab-df-spinner {\n",
              "    border: 2px solid var(--fill-color);\n",
              "    border-color: transparent;\n",
              "    border-bottom-color: var(--fill-color);\n",
              "    animation:\n",
              "      spin 1s steps(1) infinite;\n",
              "  }\n",
              "\n",
              "  @keyframes spin {\n",
              "    0% {\n",
              "      border-color: transparent;\n",
              "      border-bottom-color: var(--fill-color);\n",
              "      border-left-color: var(--fill-color);\n",
              "    }\n",
              "    20% {\n",
              "      border-color: transparent;\n",
              "      border-left-color: var(--fill-color);\n",
              "      border-top-color: var(--fill-color);\n",
              "    }\n",
              "    30% {\n",
              "      border-color: transparent;\n",
              "      border-left-color: var(--fill-color);\n",
              "      border-top-color: var(--fill-color);\n",
              "      border-right-color: var(--fill-color);\n",
              "    }\n",
              "    40% {\n",
              "      border-color: transparent;\n",
              "      border-right-color: var(--fill-color);\n",
              "      border-top-color: var(--fill-color);\n",
              "    }\n",
              "    60% {\n",
              "      border-color: transparent;\n",
              "      border-right-color: var(--fill-color);\n",
              "    }\n",
              "    80% {\n",
              "      border-color: transparent;\n",
              "      border-right-color: var(--fill-color);\n",
              "      border-bottom-color: var(--fill-color);\n",
              "    }\n",
              "    90% {\n",
              "      border-color: transparent;\n",
              "      border-bottom-color: var(--fill-color);\n",
              "    }\n",
              "  }\n",
              "</style>\n",
              "\n",
              "  <script>\n",
              "    async function quickchart(key) {\n",
              "      const quickchartButtonEl =\n",
              "        document.querySelector('#' + key + ' button');\n",
              "      quickchartButtonEl.disabled = true;  // To prevent multiple clicks.\n",
              "      quickchartButtonEl.classList.add('colab-df-spinner');\n",
              "      try {\n",
              "        const charts = await google.colab.kernel.invokeFunction(\n",
              "            'suggestCharts', [key], {});\n",
              "      } catch (error) {\n",
              "        console.error('Error during call to suggestCharts:', error);\n",
              "      }\n",
              "      quickchartButtonEl.classList.remove('colab-df-spinner');\n",
              "      quickchartButtonEl.classList.add('colab-df-quickchart-complete');\n",
              "    }\n",
              "    (() => {\n",
              "      let quickchartButtonEl =\n",
              "        document.querySelector('#df-ca2dd5c3-4035-473f-9c8e-fadb9a229dd2 button');\n",
              "      quickchartButtonEl.style.display =\n",
              "        google.colab.kernel.accessAllowed ? 'block' : 'none';\n",
              "    })();\n",
              "  </script>\n",
              "</div>\n",
              "    </div>\n",
              "  </div>\n"
            ]
          },
          "metadata": {},
          "execution_count": 38
        }
      ],
      "source": [
        "pd.DataFrame({'Valores NA': df.isna().sum()})"
      ]
    },
    {
      "cell_type": "markdown",
      "metadata": {
        "id": "rhkRoqHgsOjL"
      },
      "source": [
        "En df.info() nos fijamos que son float64 excepto los valores que toma la variable ciudad que son strings (pandas por defecto considera strings como tipo obj)\\\n",
        "A simple vista parece que las ciudades del dataset son únicas, lo podemos comprobar:"
      ]
    },
    {
      "cell_type": "code",
      "execution_count": null,
      "metadata": {
        "id": "v0loDOwKsOjL",
        "outputId": "aba0058c-0dc9-4f2b-e097-0be33c49ee80",
        "colab": {
          "base_uri": "https://localhost:8080/"
        }
      },
      "outputs": [
        {
          "output_type": "execute_result",
          "data": {
            "text/plain": [
              "True"
            ]
          },
          "metadata": {},
          "execution_count": 39
        }
      ],
      "source": [
        "df.loc[:, 'Ciudad'].nunique() == len(df.loc[:, 'Ciudad'])"
      ]
    },
    {
      "cell_type": "markdown",
      "metadata": {
        "id": "pPuzyXtMsOjL"
      },
      "source": [
        "Utilizaremos el nombre de la ciudad como índice de fila (es conveniente para estandarizar el resto de variables)"
      ]
    },
    {
      "cell_type": "code",
      "execution_count": null,
      "metadata": {
        "id": "uLxUUBrCsOjL",
        "outputId": "9b51db6b-e810-4009-eee3-f53f197027de",
        "colab": {
          "base_uri": "https://localhost:8080/",
          "height": 237
        }
      },
      "outputs": [
        {
          "output_type": "execute_result",
          "data": {
            "text/plain": [
              "                SO2  Neg.Temp  Empresas  Poblacion  Viento  Precip   Dias\n",
              "Ciudad                                                                   \n",
              "Phoenix        10.0      70.3     213.0      582.0     6.0    7.05   36.0\n",
              "Little Rock    13.0      61.0      91.0      132.0     8.2   48.52  100.0\n",
              "San Francisco  12.0      56.7     453.0      716.0     8.7   20.66   67.0\n",
              "Denver         17.0      51.9     454.0      515.0     9.0   12.95   86.0\n",
              "Hartford       56.0      49.1     412.0      158.0     9.0   43.37  127.0"
            ],
            "text/html": [
              "\n",
              "  <div id=\"df-68c47082-c254-43dc-9865-3bed2ce897f4\" class=\"colab-df-container\">\n",
              "    <div>\n",
              "<style scoped>\n",
              "    .dataframe tbody tr th:only-of-type {\n",
              "        vertical-align: middle;\n",
              "    }\n",
              "\n",
              "    .dataframe tbody tr th {\n",
              "        vertical-align: top;\n",
              "    }\n",
              "\n",
              "    .dataframe thead th {\n",
              "        text-align: right;\n",
              "    }\n",
              "</style>\n",
              "<table border=\"1\" class=\"dataframe\">\n",
              "  <thead>\n",
              "    <tr style=\"text-align: right;\">\n",
              "      <th></th>\n",
              "      <th>SO2</th>\n",
              "      <th>Neg.Temp</th>\n",
              "      <th>Empresas</th>\n",
              "      <th>Poblacion</th>\n",
              "      <th>Viento</th>\n",
              "      <th>Precip</th>\n",
              "      <th>Dias</th>\n",
              "    </tr>\n",
              "    <tr>\n",
              "      <th>Ciudad</th>\n",
              "      <th></th>\n",
              "      <th></th>\n",
              "      <th></th>\n",
              "      <th></th>\n",
              "      <th></th>\n",
              "      <th></th>\n",
              "      <th></th>\n",
              "    </tr>\n",
              "  </thead>\n",
              "  <tbody>\n",
              "    <tr>\n",
              "      <th>Phoenix</th>\n",
              "      <td>10.0</td>\n",
              "      <td>70.3</td>\n",
              "      <td>213.0</td>\n",
              "      <td>582.0</td>\n",
              "      <td>6.0</td>\n",
              "      <td>7.05</td>\n",
              "      <td>36.0</td>\n",
              "    </tr>\n",
              "    <tr>\n",
              "      <th>Little Rock</th>\n",
              "      <td>13.0</td>\n",
              "      <td>61.0</td>\n",
              "      <td>91.0</td>\n",
              "      <td>132.0</td>\n",
              "      <td>8.2</td>\n",
              "      <td>48.52</td>\n",
              "      <td>100.0</td>\n",
              "    </tr>\n",
              "    <tr>\n",
              "      <th>San Francisco</th>\n",
              "      <td>12.0</td>\n",
              "      <td>56.7</td>\n",
              "      <td>453.0</td>\n",
              "      <td>716.0</td>\n",
              "      <td>8.7</td>\n",
              "      <td>20.66</td>\n",
              "      <td>67.0</td>\n",
              "    </tr>\n",
              "    <tr>\n",
              "      <th>Denver</th>\n",
              "      <td>17.0</td>\n",
              "      <td>51.9</td>\n",
              "      <td>454.0</td>\n",
              "      <td>515.0</td>\n",
              "      <td>9.0</td>\n",
              "      <td>12.95</td>\n",
              "      <td>86.0</td>\n",
              "    </tr>\n",
              "    <tr>\n",
              "      <th>Hartford</th>\n",
              "      <td>56.0</td>\n",
              "      <td>49.1</td>\n",
              "      <td>412.0</td>\n",
              "      <td>158.0</td>\n",
              "      <td>9.0</td>\n",
              "      <td>43.37</td>\n",
              "      <td>127.0</td>\n",
              "    </tr>\n",
              "  </tbody>\n",
              "</table>\n",
              "</div>\n",
              "    <div class=\"colab-df-buttons\">\n",
              "\n",
              "  <div class=\"colab-df-container\">\n",
              "    <button class=\"colab-df-convert\" onclick=\"convertToInteractive('df-68c47082-c254-43dc-9865-3bed2ce897f4')\"\n",
              "            title=\"Convert this dataframe to an interactive table.\"\n",
              "            style=\"display:none;\">\n",
              "\n",
              "  <svg xmlns=\"http://www.w3.org/2000/svg\" height=\"24px\" viewBox=\"0 -960 960 960\">\n",
              "    <path d=\"M120-120v-720h720v720H120Zm60-500h600v-160H180v160Zm220 220h160v-160H400v160Zm0 220h160v-160H400v160ZM180-400h160v-160H180v160Zm440 0h160v-160H620v160ZM180-180h160v-160H180v160Zm440 0h160v-160H620v160Z\"/>\n",
              "  </svg>\n",
              "    </button>\n",
              "\n",
              "  <style>\n",
              "    .colab-df-container {\n",
              "      display:flex;\n",
              "      gap: 12px;\n",
              "    }\n",
              "\n",
              "    .colab-df-convert {\n",
              "      background-color: #E8F0FE;\n",
              "      border: none;\n",
              "      border-radius: 50%;\n",
              "      cursor: pointer;\n",
              "      display: none;\n",
              "      fill: #1967D2;\n",
              "      height: 32px;\n",
              "      padding: 0 0 0 0;\n",
              "      width: 32px;\n",
              "    }\n",
              "\n",
              "    .colab-df-convert:hover {\n",
              "      background-color: #E2EBFA;\n",
              "      box-shadow: 0px 1px 2px rgba(60, 64, 67, 0.3), 0px 1px 3px 1px rgba(60, 64, 67, 0.15);\n",
              "      fill: #174EA6;\n",
              "    }\n",
              "\n",
              "    .colab-df-buttons div {\n",
              "      margin-bottom: 4px;\n",
              "    }\n",
              "\n",
              "    [theme=dark] .colab-df-convert {\n",
              "      background-color: #3B4455;\n",
              "      fill: #D2E3FC;\n",
              "    }\n",
              "\n",
              "    [theme=dark] .colab-df-convert:hover {\n",
              "      background-color: #434B5C;\n",
              "      box-shadow: 0px 1px 3px 1px rgba(0, 0, 0, 0.15);\n",
              "      filter: drop-shadow(0px 1px 2px rgba(0, 0, 0, 0.3));\n",
              "      fill: #FFFFFF;\n",
              "    }\n",
              "  </style>\n",
              "\n",
              "    <script>\n",
              "      const buttonEl =\n",
              "        document.querySelector('#df-68c47082-c254-43dc-9865-3bed2ce897f4 button.colab-df-convert');\n",
              "      buttonEl.style.display =\n",
              "        google.colab.kernel.accessAllowed ? 'block' : 'none';\n",
              "\n",
              "      async function convertToInteractive(key) {\n",
              "        const element = document.querySelector('#df-68c47082-c254-43dc-9865-3bed2ce897f4');\n",
              "        const dataTable =\n",
              "          await google.colab.kernel.invokeFunction('convertToInteractive',\n",
              "                                                    [key], {});\n",
              "        if (!dataTable) return;\n",
              "\n",
              "        const docLinkHtml = 'Like what you see? Visit the ' +\n",
              "          '<a target=\"_blank\" href=https://colab.research.google.com/notebooks/data_table.ipynb>data table notebook</a>'\n",
              "          + ' to learn more about interactive tables.';\n",
              "        element.innerHTML = '';\n",
              "        dataTable['output_type'] = 'display_data';\n",
              "        await google.colab.output.renderOutput(dataTable, element);\n",
              "        const docLink = document.createElement('div');\n",
              "        docLink.innerHTML = docLinkHtml;\n",
              "        element.appendChild(docLink);\n",
              "      }\n",
              "    </script>\n",
              "  </div>\n",
              "\n",
              "\n",
              "<div id=\"df-74a61b98-a596-4d19-b2d7-0a634fd8d063\">\n",
              "  <button class=\"colab-df-quickchart\" onclick=\"quickchart('df-74a61b98-a596-4d19-b2d7-0a634fd8d063')\"\n",
              "            title=\"Suggest charts\"\n",
              "            style=\"display:none;\">\n",
              "\n",
              "<svg xmlns=\"http://www.w3.org/2000/svg\" height=\"24px\"viewBox=\"0 0 24 24\"\n",
              "     width=\"24px\">\n",
              "    <g>\n",
              "        <path d=\"M19 3H5c-1.1 0-2 .9-2 2v14c0 1.1.9 2 2 2h14c1.1 0 2-.9 2-2V5c0-1.1-.9-2-2-2zM9 17H7v-7h2v7zm4 0h-2V7h2v10zm4 0h-2v-4h2v4z\"/>\n",
              "    </g>\n",
              "</svg>\n",
              "  </button>\n",
              "\n",
              "<style>\n",
              "  .colab-df-quickchart {\n",
              "      --bg-color: #E8F0FE;\n",
              "      --fill-color: #1967D2;\n",
              "      --hover-bg-color: #E2EBFA;\n",
              "      --hover-fill-color: #174EA6;\n",
              "      --disabled-fill-color: #AAA;\n",
              "      --disabled-bg-color: #DDD;\n",
              "  }\n",
              "\n",
              "  [theme=dark] .colab-df-quickchart {\n",
              "      --bg-color: #3B4455;\n",
              "      --fill-color: #D2E3FC;\n",
              "      --hover-bg-color: #434B5C;\n",
              "      --hover-fill-color: #FFFFFF;\n",
              "      --disabled-bg-color: #3B4455;\n",
              "      --disabled-fill-color: #666;\n",
              "  }\n",
              "\n",
              "  .colab-df-quickchart {\n",
              "    background-color: var(--bg-color);\n",
              "    border: none;\n",
              "    border-radius: 50%;\n",
              "    cursor: pointer;\n",
              "    display: none;\n",
              "    fill: var(--fill-color);\n",
              "    height: 32px;\n",
              "    padding: 0;\n",
              "    width: 32px;\n",
              "  }\n",
              "\n",
              "  .colab-df-quickchart:hover {\n",
              "    background-color: var(--hover-bg-color);\n",
              "    box-shadow: 0 1px 2px rgba(60, 64, 67, 0.3), 0 1px 3px 1px rgba(60, 64, 67, 0.15);\n",
              "    fill: var(--button-hover-fill-color);\n",
              "  }\n",
              "\n",
              "  .colab-df-quickchart-complete:disabled,\n",
              "  .colab-df-quickchart-complete:disabled:hover {\n",
              "    background-color: var(--disabled-bg-color);\n",
              "    fill: var(--disabled-fill-color);\n",
              "    box-shadow: none;\n",
              "  }\n",
              "\n",
              "  .colab-df-spinner {\n",
              "    border: 2px solid var(--fill-color);\n",
              "    border-color: transparent;\n",
              "    border-bottom-color: var(--fill-color);\n",
              "    animation:\n",
              "      spin 1s steps(1) infinite;\n",
              "  }\n",
              "\n",
              "  @keyframes spin {\n",
              "    0% {\n",
              "      border-color: transparent;\n",
              "      border-bottom-color: var(--fill-color);\n",
              "      border-left-color: var(--fill-color);\n",
              "    }\n",
              "    20% {\n",
              "      border-color: transparent;\n",
              "      border-left-color: var(--fill-color);\n",
              "      border-top-color: var(--fill-color);\n",
              "    }\n",
              "    30% {\n",
              "      border-color: transparent;\n",
              "      border-left-color: var(--fill-color);\n",
              "      border-top-color: var(--fill-color);\n",
              "      border-right-color: var(--fill-color);\n",
              "    }\n",
              "    40% {\n",
              "      border-color: transparent;\n",
              "      border-right-color: var(--fill-color);\n",
              "      border-top-color: var(--fill-color);\n",
              "    }\n",
              "    60% {\n",
              "      border-color: transparent;\n",
              "      border-right-color: var(--fill-color);\n",
              "    }\n",
              "    80% {\n",
              "      border-color: transparent;\n",
              "      border-right-color: var(--fill-color);\n",
              "      border-bottom-color: var(--fill-color);\n",
              "    }\n",
              "    90% {\n",
              "      border-color: transparent;\n",
              "      border-bottom-color: var(--fill-color);\n",
              "    }\n",
              "  }\n",
              "</style>\n",
              "\n",
              "  <script>\n",
              "    async function quickchart(key) {\n",
              "      const quickchartButtonEl =\n",
              "        document.querySelector('#' + key + ' button');\n",
              "      quickchartButtonEl.disabled = true;  // To prevent multiple clicks.\n",
              "      quickchartButtonEl.classList.add('colab-df-spinner');\n",
              "      try {\n",
              "        const charts = await google.colab.kernel.invokeFunction(\n",
              "            'suggestCharts', [key], {});\n",
              "      } catch (error) {\n",
              "        console.error('Error during call to suggestCharts:', error);\n",
              "      }\n",
              "      quickchartButtonEl.classList.remove('colab-df-spinner');\n",
              "      quickchartButtonEl.classList.add('colab-df-quickchart-complete');\n",
              "    }\n",
              "    (() => {\n",
              "      let quickchartButtonEl =\n",
              "        document.querySelector('#df-74a61b98-a596-4d19-b2d7-0a634fd8d063 button');\n",
              "      quickchartButtonEl.style.display =\n",
              "        google.colab.kernel.accessAllowed ? 'block' : 'none';\n",
              "    })();\n",
              "  </script>\n",
              "</div>\n",
              "    </div>\n",
              "  </div>\n"
            ]
          },
          "metadata": {},
          "execution_count": 40
        }
      ],
      "source": [
        "df = df.set_index('Ciudad')\n",
        "df.head()"
      ]
    },
    {
      "cell_type": "markdown",
      "metadata": {
        "id": "G5uf5ygDsOjL"
      },
      "source": [
        "Para hacernos una idea de los datos y ver rangos usamos .describe()\\\n",
        "Nota: Eliminamos la columna conteo y transponemos para que quede más legible"
      ]
    },
    {
      "cell_type": "code",
      "execution_count": null,
      "metadata": {
        "id": "3rF1r3kJsOjL",
        "outputId": "f3a05632-ec99-48c1-edbb-8733f7f42a3f",
        "colab": {
          "base_uri": "https://localhost:8080/",
          "height": 269
        }
      },
      "outputs": [
        {
          "output_type": "execute_result",
          "data": {
            "text/plain": [
              "                 mean         std    min     25%     50%     75%     max\n",
              "SO2         30.048780   23.472272   8.00   13.00   26.00   35.00   110.0\n",
              "Neg.Temp    55.763415    7.227716  43.50   50.60   54.60   59.30    75.5\n",
              "Empresas   463.097561  563.473948  35.00  181.00  347.00  462.00  3344.0\n",
              "Poblacion  608.609756  579.113023  71.00  299.00  515.00  717.00  3369.0\n",
              "Viento       9.443902    1.428644   6.00    8.70    9.30   10.60    12.7\n",
              "Precip      36.769024   11.771550   7.05   30.96   38.74   43.11    59.8\n",
              "Dias       113.902439   26.506419  36.00  103.00  115.00  128.00   166.0"
            ],
            "text/html": [
              "\n",
              "  <div id=\"df-ff678f31-7fbf-43c9-9f95-a93d0649928d\" class=\"colab-df-container\">\n",
              "    <div>\n",
              "<style scoped>\n",
              "    .dataframe tbody tr th:only-of-type {\n",
              "        vertical-align: middle;\n",
              "    }\n",
              "\n",
              "    .dataframe tbody tr th {\n",
              "        vertical-align: top;\n",
              "    }\n",
              "\n",
              "    .dataframe thead th {\n",
              "        text-align: right;\n",
              "    }\n",
              "</style>\n",
              "<table border=\"1\" class=\"dataframe\">\n",
              "  <thead>\n",
              "    <tr style=\"text-align: right;\">\n",
              "      <th></th>\n",
              "      <th>mean</th>\n",
              "      <th>std</th>\n",
              "      <th>min</th>\n",
              "      <th>25%</th>\n",
              "      <th>50%</th>\n",
              "      <th>75%</th>\n",
              "      <th>max</th>\n",
              "    </tr>\n",
              "  </thead>\n",
              "  <tbody>\n",
              "    <tr>\n",
              "      <th>SO2</th>\n",
              "      <td>30.048780</td>\n",
              "      <td>23.472272</td>\n",
              "      <td>8.00</td>\n",
              "      <td>13.00</td>\n",
              "      <td>26.00</td>\n",
              "      <td>35.00</td>\n",
              "      <td>110.0</td>\n",
              "    </tr>\n",
              "    <tr>\n",
              "      <th>Neg.Temp</th>\n",
              "      <td>55.763415</td>\n",
              "      <td>7.227716</td>\n",
              "      <td>43.50</td>\n",
              "      <td>50.60</td>\n",
              "      <td>54.60</td>\n",
              "      <td>59.30</td>\n",
              "      <td>75.5</td>\n",
              "    </tr>\n",
              "    <tr>\n",
              "      <th>Empresas</th>\n",
              "      <td>463.097561</td>\n",
              "      <td>563.473948</td>\n",
              "      <td>35.00</td>\n",
              "      <td>181.00</td>\n",
              "      <td>347.00</td>\n",
              "      <td>462.00</td>\n",
              "      <td>3344.0</td>\n",
              "    </tr>\n",
              "    <tr>\n",
              "      <th>Poblacion</th>\n",
              "      <td>608.609756</td>\n",
              "      <td>579.113023</td>\n",
              "      <td>71.00</td>\n",
              "      <td>299.00</td>\n",
              "      <td>515.00</td>\n",
              "      <td>717.00</td>\n",
              "      <td>3369.0</td>\n",
              "    </tr>\n",
              "    <tr>\n",
              "      <th>Viento</th>\n",
              "      <td>9.443902</td>\n",
              "      <td>1.428644</td>\n",
              "      <td>6.00</td>\n",
              "      <td>8.70</td>\n",
              "      <td>9.30</td>\n",
              "      <td>10.60</td>\n",
              "      <td>12.7</td>\n",
              "    </tr>\n",
              "    <tr>\n",
              "      <th>Precip</th>\n",
              "      <td>36.769024</td>\n",
              "      <td>11.771550</td>\n",
              "      <td>7.05</td>\n",
              "      <td>30.96</td>\n",
              "      <td>38.74</td>\n",
              "      <td>43.11</td>\n",
              "      <td>59.8</td>\n",
              "    </tr>\n",
              "    <tr>\n",
              "      <th>Dias</th>\n",
              "      <td>113.902439</td>\n",
              "      <td>26.506419</td>\n",
              "      <td>36.00</td>\n",
              "      <td>103.00</td>\n",
              "      <td>115.00</td>\n",
              "      <td>128.00</td>\n",
              "      <td>166.0</td>\n",
              "    </tr>\n",
              "  </tbody>\n",
              "</table>\n",
              "</div>\n",
              "    <div class=\"colab-df-buttons\">\n",
              "\n",
              "  <div class=\"colab-df-container\">\n",
              "    <button class=\"colab-df-convert\" onclick=\"convertToInteractive('df-ff678f31-7fbf-43c9-9f95-a93d0649928d')\"\n",
              "            title=\"Convert this dataframe to an interactive table.\"\n",
              "            style=\"display:none;\">\n",
              "\n",
              "  <svg xmlns=\"http://www.w3.org/2000/svg\" height=\"24px\" viewBox=\"0 -960 960 960\">\n",
              "    <path d=\"M120-120v-720h720v720H120Zm60-500h600v-160H180v160Zm220 220h160v-160H400v160Zm0 220h160v-160H400v160ZM180-400h160v-160H180v160Zm440 0h160v-160H620v160ZM180-180h160v-160H180v160Zm440 0h160v-160H620v160Z\"/>\n",
              "  </svg>\n",
              "    </button>\n",
              "\n",
              "  <style>\n",
              "    .colab-df-container {\n",
              "      display:flex;\n",
              "      gap: 12px;\n",
              "    }\n",
              "\n",
              "    .colab-df-convert {\n",
              "      background-color: #E8F0FE;\n",
              "      border: none;\n",
              "      border-radius: 50%;\n",
              "      cursor: pointer;\n",
              "      display: none;\n",
              "      fill: #1967D2;\n",
              "      height: 32px;\n",
              "      padding: 0 0 0 0;\n",
              "      width: 32px;\n",
              "    }\n",
              "\n",
              "    .colab-df-convert:hover {\n",
              "      background-color: #E2EBFA;\n",
              "      box-shadow: 0px 1px 2px rgba(60, 64, 67, 0.3), 0px 1px 3px 1px rgba(60, 64, 67, 0.15);\n",
              "      fill: #174EA6;\n",
              "    }\n",
              "\n",
              "    .colab-df-buttons div {\n",
              "      margin-bottom: 4px;\n",
              "    }\n",
              "\n",
              "    [theme=dark] .colab-df-convert {\n",
              "      background-color: #3B4455;\n",
              "      fill: #D2E3FC;\n",
              "    }\n",
              "\n",
              "    [theme=dark] .colab-df-convert:hover {\n",
              "      background-color: #434B5C;\n",
              "      box-shadow: 0px 1px 3px 1px rgba(0, 0, 0, 0.15);\n",
              "      filter: drop-shadow(0px 1px 2px rgba(0, 0, 0, 0.3));\n",
              "      fill: #FFFFFF;\n",
              "    }\n",
              "  </style>\n",
              "\n",
              "    <script>\n",
              "      const buttonEl =\n",
              "        document.querySelector('#df-ff678f31-7fbf-43c9-9f95-a93d0649928d button.colab-df-convert');\n",
              "      buttonEl.style.display =\n",
              "        google.colab.kernel.accessAllowed ? 'block' : 'none';\n",
              "\n",
              "      async function convertToInteractive(key) {\n",
              "        const element = document.querySelector('#df-ff678f31-7fbf-43c9-9f95-a93d0649928d');\n",
              "        const dataTable =\n",
              "          await google.colab.kernel.invokeFunction('convertToInteractive',\n",
              "                                                    [key], {});\n",
              "        if (!dataTable) return;\n",
              "\n",
              "        const docLinkHtml = 'Like what you see? Visit the ' +\n",
              "          '<a target=\"_blank\" href=https://colab.research.google.com/notebooks/data_table.ipynb>data table notebook</a>'\n",
              "          + ' to learn more about interactive tables.';\n",
              "        element.innerHTML = '';\n",
              "        dataTable['output_type'] = 'display_data';\n",
              "        await google.colab.output.renderOutput(dataTable, element);\n",
              "        const docLink = document.createElement('div');\n",
              "        docLink.innerHTML = docLinkHtml;\n",
              "        element.appendChild(docLink);\n",
              "      }\n",
              "    </script>\n",
              "  </div>\n",
              "\n",
              "\n",
              "<div id=\"df-ab285639-d7fc-4eb1-842e-e12027729b96\">\n",
              "  <button class=\"colab-df-quickchart\" onclick=\"quickchart('df-ab285639-d7fc-4eb1-842e-e12027729b96')\"\n",
              "            title=\"Suggest charts\"\n",
              "            style=\"display:none;\">\n",
              "\n",
              "<svg xmlns=\"http://www.w3.org/2000/svg\" height=\"24px\"viewBox=\"0 0 24 24\"\n",
              "     width=\"24px\">\n",
              "    <g>\n",
              "        <path d=\"M19 3H5c-1.1 0-2 .9-2 2v14c0 1.1.9 2 2 2h14c1.1 0 2-.9 2-2V5c0-1.1-.9-2-2-2zM9 17H7v-7h2v7zm4 0h-2V7h2v10zm4 0h-2v-4h2v4z\"/>\n",
              "    </g>\n",
              "</svg>\n",
              "  </button>\n",
              "\n",
              "<style>\n",
              "  .colab-df-quickchart {\n",
              "      --bg-color: #E8F0FE;\n",
              "      --fill-color: #1967D2;\n",
              "      --hover-bg-color: #E2EBFA;\n",
              "      --hover-fill-color: #174EA6;\n",
              "      --disabled-fill-color: #AAA;\n",
              "      --disabled-bg-color: #DDD;\n",
              "  }\n",
              "\n",
              "  [theme=dark] .colab-df-quickchart {\n",
              "      --bg-color: #3B4455;\n",
              "      --fill-color: #D2E3FC;\n",
              "      --hover-bg-color: #434B5C;\n",
              "      --hover-fill-color: #FFFFFF;\n",
              "      --disabled-bg-color: #3B4455;\n",
              "      --disabled-fill-color: #666;\n",
              "  }\n",
              "\n",
              "  .colab-df-quickchart {\n",
              "    background-color: var(--bg-color);\n",
              "    border: none;\n",
              "    border-radius: 50%;\n",
              "    cursor: pointer;\n",
              "    display: none;\n",
              "    fill: var(--fill-color);\n",
              "    height: 32px;\n",
              "    padding: 0;\n",
              "    width: 32px;\n",
              "  }\n",
              "\n",
              "  .colab-df-quickchart:hover {\n",
              "    background-color: var(--hover-bg-color);\n",
              "    box-shadow: 0 1px 2px rgba(60, 64, 67, 0.3), 0 1px 3px 1px rgba(60, 64, 67, 0.15);\n",
              "    fill: var(--button-hover-fill-color);\n",
              "  }\n",
              "\n",
              "  .colab-df-quickchart-complete:disabled,\n",
              "  .colab-df-quickchart-complete:disabled:hover {\n",
              "    background-color: var(--disabled-bg-color);\n",
              "    fill: var(--disabled-fill-color);\n",
              "    box-shadow: none;\n",
              "  }\n",
              "\n",
              "  .colab-df-spinner {\n",
              "    border: 2px solid var(--fill-color);\n",
              "    border-color: transparent;\n",
              "    border-bottom-color: var(--fill-color);\n",
              "    animation:\n",
              "      spin 1s steps(1) infinite;\n",
              "  }\n",
              "\n",
              "  @keyframes spin {\n",
              "    0% {\n",
              "      border-color: transparent;\n",
              "      border-bottom-color: var(--fill-color);\n",
              "      border-left-color: var(--fill-color);\n",
              "    }\n",
              "    20% {\n",
              "      border-color: transparent;\n",
              "      border-left-color: var(--fill-color);\n",
              "      border-top-color: var(--fill-color);\n",
              "    }\n",
              "    30% {\n",
              "      border-color: transparent;\n",
              "      border-left-color: var(--fill-color);\n",
              "      border-top-color: var(--fill-color);\n",
              "      border-right-color: var(--fill-color);\n",
              "    }\n",
              "    40% {\n",
              "      border-color: transparent;\n",
              "      border-right-color: var(--fill-color);\n",
              "      border-top-color: var(--fill-color);\n",
              "    }\n",
              "    60% {\n",
              "      border-color: transparent;\n",
              "      border-right-color: var(--fill-color);\n",
              "    }\n",
              "    80% {\n",
              "      border-color: transparent;\n",
              "      border-right-color: var(--fill-color);\n",
              "      border-bottom-color: var(--fill-color);\n",
              "    }\n",
              "    90% {\n",
              "      border-color: transparent;\n",
              "      border-bottom-color: var(--fill-color);\n",
              "    }\n",
              "  }\n",
              "</style>\n",
              "\n",
              "  <script>\n",
              "    async function quickchart(key) {\n",
              "      const quickchartButtonEl =\n",
              "        document.querySelector('#' + key + ' button');\n",
              "      quickchartButtonEl.disabled = true;  // To prevent multiple clicks.\n",
              "      quickchartButtonEl.classList.add('colab-df-spinner');\n",
              "      try {\n",
              "        const charts = await google.colab.kernel.invokeFunction(\n",
              "            'suggestCharts', [key], {});\n",
              "      } catch (error) {\n",
              "        console.error('Error during call to suggestCharts:', error);\n",
              "      }\n",
              "      quickchartButtonEl.classList.remove('colab-df-spinner');\n",
              "      quickchartButtonEl.classList.add('colab-df-quickchart-complete');\n",
              "    }\n",
              "    (() => {\n",
              "      let quickchartButtonEl =\n",
              "        document.querySelector('#df-ab285639-d7fc-4eb1-842e-e12027729b96 button');\n",
              "      quickchartButtonEl.style.display =\n",
              "        google.colab.kernel.accessAllowed ? 'block' : 'none';\n",
              "    })();\n",
              "  </script>\n",
              "</div>\n",
              "    </div>\n",
              "  </div>\n"
            ]
          },
          "metadata": {},
          "execution_count": 41
        }
      ],
      "source": [
        "df.describe().drop('count').T"
      ]
    },
    {
      "cell_type": "markdown",
      "metadata": {
        "id": "f-B8eRuisOjL"
      },
      "source": [
        "Por una parte no observamos valores carentes de sentido, como una cantidad de días negativa o una tempertatura extraña."
      ]
    },
    {
      "cell_type": "markdown",
      "metadata": {
        "id": "URz944_PsOjM"
      },
      "source": [
        "Por otro lado como no conocemos bien el dominio del problema y no contamos con gran cantidad de datos, no eliminaremos posibles outliers, que podemos observar con boxplots:"
      ]
    },
    {
      "cell_type": "code",
      "execution_count": null,
      "metadata": {
        "id": "Xrn4qNNusOjM",
        "outputId": "6837eb34-8182-42bb-a90f-9457db4f97d5",
        "colab": {
          "base_uri": "https://localhost:8080/",
          "height": 466
        }
      },
      "outputs": [
        {
          "output_type": "display_data",
          "data": {
            "text/plain": [
              "<Figure size 1500x500 with 7 Axes>"
            ],
            "image/png": "[encoded data removed]"
          },
          "metadata": {}
        }
      ],
      "source": [
        "fig, axs = plt.subplots(nrows=1, ncols=len(df.columns), figsize=(15, 5))\n",
        "\n",
        "for i, columna in enumerate(df.columns):\n",
        "    axs[i].boxplot(df[columna])\n",
        "    axs[i].set_title(columna)\n",
        "\n",
        "plt.tight_layout()\n",
        "\n",
        "plt.show()"
      ]
    },
    {
      "cell_type": "markdown",
      "source": [
        "Para poder interpretar los resultados de forma correcta, se realizará una breve explicación sobre el rango intercuartílico(IQR).El IQR abarca el rango medio del conjunto de datos, representando el 50% central de las observaciones.\n",
        "\n",
        " En un gráfico de cajas, la \"caja\" en sí representa el rango intercuartílico. La línea que divide la caja en dos partes es la mediana (Q2), que indica la posición central de los datos. Las \"líneas whisker\" (bigotes) que se extienden desde la caja representan el rango completo de los datos, excluyendo valores extremos o atípicos. ¿Y como se determinan dichos valores extremos o atípicos?\n",
        "\n",
        "IQR = Q3 - Q1\n",
        "\n",
        "Una vez determinado el IQR, se empleará \"la regla de los 1.5* IQR\". Esto es: cualquier valor que esté por debajo del primer cuartil menos el rango intercuartílico por 1.5 (Q1-IQR*1.5) y cualquier valor que este por encima del tercer cuartil más el rango intercuartílico por 1.5 (Q3 + IQR*1.5).\n",
        "\n",
        "En suma, cualquier valor que cumpla dichas condiciones representa un valor significativamente alejado de la mayoría del conjunto de datos.\n",
        "\n",
        "\n",
        "\n",
        "\n"
      ],
      "metadata": {
        "id": "L3KJLqQozl5k"
      }
    },
    {
      "cell_type": "code",
      "source": [
        "# Calcular el rango intercuartílico (IQR)\n",
        "Q1 = df.quantile(0.25)\n",
        "Q3 = df.quantile(0.75)\n",
        "IQR = Q3 - Q1\n",
        "# Calcular los límites para identificar valores atípicos\n",
        "lower_limit = Q1 - 1.5 * IQR\n",
        "upper_limit = Q3 + 1.5 * IQR\n",
        "\n",
        "mask = (df['Dias'] < lower_limit) | (df['Dias'] > upper_limit)\n",
        "df[mask]"
      ],
      "metadata": {
        "colab": {
          "base_uri": "https://localhost:8080/",
          "height": 462
        },
        "id": "fXWPcLyyUekP",
        "outputId": "29d04465-e1cc-414a-9e7d-bfa882a0f57a"
      },
      "execution_count": null,
      "outputs": [
        {
          "output_type": "stream",
          "name": "stderr",
          "text": [
            "<ipython-input-12-ec1213153d19>:2: FutureWarning: The default value of numeric_only in DataFrame.quantile is deprecated. In a future version, it will default to False. Select only valid columns or specify the value of numeric_only to silence this warning.\n",
            "  Q1 = df.quantile(0.25)\n",
            "<ipython-input-12-ec1213153d19>:3: FutureWarning: The default value of numeric_only in DataFrame.quantile is deprecated. In a future version, it will default to False. Select only valid columns or specify the value of numeric_only to silence this warning.\n",
            "  Q3 = df.quantile(0.75)\n"
          ]
        },
        {
          "output_type": "error",
          "ename": "ValueError",
          "evalue": "Can only compare identically-labeled Series objects",
          "traceback": [
            "\u001b[0;31m---------------------------------------------------------------------------\u001b[0m",
            "\u001b[0;31mValueError\u001b[0m                                Traceback (most recent call last)",
            "\u001b[0;32m<ipython-input-12-ec1213153d19>\u001b[0m in \u001b[0;36m<cell line: 9>\u001b[0;34m()\u001b[0m\n\u001b[1;32m      7\u001b[0m \u001b[0mupper_limit\u001b[0m \u001b[0;34m=\u001b[0m \u001b[0mQ3\u001b[0m \u001b[0;34m+\u001b[0m \u001b[0;36m1.5\u001b[0m \u001b[0;34m*\u001b[0m \u001b[0mIQR\u001b[0m\u001b[0;34m\u001b[0m\u001b[0;34m\u001b[0m\u001b[0m\n\u001b[1;32m      8\u001b[0m \u001b[0;34m\u001b[0m\u001b[0m\n\u001b[0;32m----> 9\u001b[0;31m \u001b[0mmask\u001b[0m \u001b[0;34m=\u001b[0m \u001b[0;34m(\u001b[0m\u001b[0mdf\u001b[0m\u001b[0;34m[\u001b[0m\u001b[0;34m'Dias'\u001b[0m\u001b[0;34m]\u001b[0m \u001b[0;34m<\u001b[0m \u001b[0mlower_limit\u001b[0m\u001b[0;34m)\u001b[0m \u001b[0;34m|\u001b[0m \u001b[0;34m(\u001b[0m\u001b[0mdf\u001b[0m\u001b[0;34m[\u001b[0m\u001b[0;34m'Dias'\u001b[0m\u001b[0;34m]\u001b[0m \u001b[0;34m>\u001b[0m \u001b[0mupper_limit\u001b[0m\u001b[0;34m)\u001b[0m\u001b[0;34m\u001b[0m\u001b[0;34m\u001b[0m\u001b[0m\n\u001b[0m\u001b[1;32m     10\u001b[0m \u001b[0mdf\u001b[0m\u001b[0;34m[\u001b[0m\u001b[0mmask\u001b[0m\u001b[0;34m]\u001b[0m\u001b[0;34m\u001b[0m\u001b[0;34m\u001b[0m\u001b[0m\n",
            "\u001b[0;32m/usr/local/lib/python3.10/dist-packages/pandas/core/ops/common.py\u001b[0m in \u001b[0;36mnew_method\u001b[0;34m(self, other)\u001b[0m\n\u001b[1;32m     70\u001b[0m         \u001b[0mother\u001b[0m \u001b[0;34m=\u001b[0m \u001b[0mitem_from_zerodim\u001b[0m\u001b[0;34m(\u001b[0m\u001b[0mother\u001b[0m\u001b[0;34m)\u001b[0m\u001b[0;34m\u001b[0m\u001b[0;34m\u001b[0m\u001b[0m\n\u001b[1;32m     71\u001b[0m \u001b[0;34m\u001b[0m\u001b[0m\n\u001b[0;32m---> 72\u001b[0;31m         \u001b[0;32mreturn\u001b[0m \u001b[0mmethod\u001b[0m\u001b[0;34m(\u001b[0m\u001b[0mself\u001b[0m\u001b[0;34m,\u001b[0m \u001b[0mother\u001b[0m\u001b[0;34m)\u001b[0m\u001b[0;34m\u001b[0m\u001b[0;34m\u001b[0m\u001b[0m\n\u001b[0m\u001b[1;32m     73\u001b[0m \u001b[0;34m\u001b[0m\u001b[0m\n\u001b[1;32m     74\u001b[0m     \u001b[0;32mreturn\u001b[0m \u001b[0mnew_method\u001b[0m\u001b[0;34m\u001b[0m\u001b[0;34m\u001b[0m\u001b[0m\n",
            "\u001b[0;32m/usr/local/lib/python3.10/dist-packages/pandas/core/arraylike.py\u001b[0m in \u001b[0;36m__lt__\u001b[0;34m(self, other)\u001b[0m\n\u001b[1;32m     48\u001b[0m     \u001b[0;34m@\u001b[0m\u001b[0munpack_zerodim_and_defer\u001b[0m\u001b[0;34m(\u001b[0m\u001b[0;34m\"__lt__\"\u001b[0m\u001b[0;34m)\u001b[0m\u001b[0;34m\u001b[0m\u001b[0;34m\u001b[0m\u001b[0m\n\u001b[1;32m     49\u001b[0m     \u001b[0;32mdef\u001b[0m \u001b[0m__lt__\u001b[0m\u001b[0;34m(\u001b[0m\u001b[0mself\u001b[0m\u001b[0;34m,\u001b[0m \u001b[0mother\u001b[0m\u001b[0;34m)\u001b[0m\u001b[0;34m:\u001b[0m\u001b[0;34m\u001b[0m\u001b[0;34m\u001b[0m\u001b[0m\n\u001b[0;32m---> 50\u001b[0;31m         \u001b[0;32mreturn\u001b[0m \u001b[0mself\u001b[0m\u001b[0;34m.\u001b[0m\u001b[0m_cmp_method\u001b[0m\u001b[0;34m(\u001b[0m\u001b[0mother\u001b[0m\u001b[0;34m,\u001b[0m \u001b[0moperator\u001b[0m\u001b[0;34m.\u001b[0m\u001b[0mlt\u001b[0m\u001b[0;34m)\u001b[0m\u001b[0;34m\u001b[0m\u001b[0;34m\u001b[0m\u001b[0m\n\u001b[0m\u001b[1;32m     51\u001b[0m \u001b[0;34m\u001b[0m\u001b[0m\n\u001b[1;32m     52\u001b[0m     \u001b[0;34m@\u001b[0m\u001b[0munpack_zerodim_and_defer\u001b[0m\u001b[0;34m(\u001b[0m\u001b[0;34m\"__le__\"\u001b[0m\u001b[0;34m)\u001b[0m\u001b[0;34m\u001b[0m\u001b[0;34m\u001b[0m\u001b[0m\n",
            "\u001b[0;32m/usr/local/lib/python3.10/dist-packages/pandas/core/series.py\u001b[0m in \u001b[0;36m_cmp_method\u001b[0;34m(self, other, op)\u001b[0m\n\u001b[1;32m   6235\u001b[0m \u001b[0;34m\u001b[0m\u001b[0m\n\u001b[1;32m   6236\u001b[0m         \u001b[0;32mif\u001b[0m \u001b[0misinstance\u001b[0m\u001b[0;34m(\u001b[0m\u001b[0mother\u001b[0m\u001b[0;34m,\u001b[0m \u001b[0mSeries\u001b[0m\u001b[0;34m)\u001b[0m \u001b[0;32mand\u001b[0m \u001b[0;32mnot\u001b[0m \u001b[0mself\u001b[0m\u001b[0;34m.\u001b[0m\u001b[0m_indexed_same\u001b[0m\u001b[0;34m(\u001b[0m\u001b[0mother\u001b[0m\u001b[0;34m)\u001b[0m\u001b[0;34m:\u001b[0m\u001b[0;34m\u001b[0m\u001b[0;34m\u001b[0m\u001b[0m\n\u001b[0;32m-> 6237\u001b[0;31m             \u001b[0;32mraise\u001b[0m \u001b[0mValueError\u001b[0m\u001b[0;34m(\u001b[0m\u001b[0;34m\"Can only compare identically-labeled Series objects\"\u001b[0m\u001b[0;34m)\u001b[0m\u001b[0;34m\u001b[0m\u001b[0;34m\u001b[0m\u001b[0m\n\u001b[0m\u001b[1;32m   6238\u001b[0m \u001b[0;34m\u001b[0m\u001b[0m\n\u001b[1;32m   6239\u001b[0m         \u001b[0mlvalues\u001b[0m \u001b[0;34m=\u001b[0m \u001b[0mself\u001b[0m\u001b[0;34m.\u001b[0m\u001b[0m_values\u001b[0m\u001b[0;34m\u001b[0m\u001b[0;34m\u001b[0m\u001b[0m\n",
            "\u001b[0;31mValueError\u001b[0m: Can only compare identically-labeled Series objects"
          ]
        }
      ]
    },
    {
      "cell_type": "code",
      "source": [
        "import numpy as np\n",
        "import pandas as pd\n",
        "from sklearn.preprocessing import StandardScaler\n",
        "\n",
        "\n",
        "# Leer los datos desde la URL\n",
        "url = 'https://github.com/Alf-caput/P1_MineriaDeDatos/raw/main/P3_ReduccionDimensionalidad/USA.xlsx'\n",
        "df = pd.read_excel(url)\n",
        "\n",
        "# Calcular el rango intercuartílico (IQR)\n",
        "Q1 = df.quantile(0.25)\n",
        "Q3 = df.quantile(0.75)\n",
        "IQR = Q3 - Q1\n",
        "# Calcular los límites para identificar valores atípicos\n",
        "lower_limit = Q1 - 1.5 * IQR\n",
        "upper_limit = Q3 + 1.5 * IQR\n",
        "print(type(lower_limit))\n",
        "type(upper_limit)\n",
        "\n",
        "# Identificar valores atípicos\n",
        "outliers = (df < lower_limit) | (df > upper_limit)\n",
        "\n",
        "# Mostrar los índices de las filas que contienen valores atípicos\n",
        "outliers_indices = outliers.any(axis=1)\n",
        "outliers_indices = outliers_indices[outliers_indices].index\n",
        "print(\"Índices de filas con valores atípicos:\")\n",
        "print(outliers_indices)\n",
        "\n",
        "# Acceder a los datos correspondientes a los índices de valores atípicos\n",
        "outliers_data = df.loc[outliers_indices]\n",
        "\n",
        "# Mostrar los datos correspondientes a los valores atípicos\n",
        "#print(\"Datos correspondientes a los valores atípicos:\")\n",
        "#print(outliers_data)\n",
        "\n",
        "# Identificar y mostrar los valores atípicos\n",
        "outliers_values = df[outliers]\n",
        "\n",
        "print(\"Valores atípicos:\")\n",
        "print(outliers_values)\n",
        "\n",
        "# Identificar y mostrar solo los valores atípicos\n",
        "outliers_values = df.where(outliers)\n",
        "\n",
        "# Convertir True/False a 1/0 y mostrar los valores atípicos\n",
        "outliers_values = outliers.astype(int)\n",
        "\n",
        "print(\"Valores atípicos marcados como 1, valores no atípicos marcados como 0:\")\n",
        "print(outliers_values)\n",
        "\n",
        "# Eliminar las filas que solo contienen \"0\"\n",
        "outliers_removed = outliers_values[(outliers_values.sum(axis=1) != 0)]\n",
        "\n",
        "print(\"Filas con outliers eliminados:\")\n",
        "print(outliers_removed)\n",
        "\n",
        "\n",
        "\n",
        "\n",
        "\n"
      ],
      "metadata": {
        "colab": {
          "base_uri": "https://localhost:8080/"
        },
        "id": "lh8Ta6ca6vMQ",
        "outputId": "922e6ddc-5a7e-47fe-f013-68260eb68e45"
      },
      "execution_count": null,
      "outputs": [
        {
          "output_type": "stream",
          "name": "stdout",
          "text": [
            "<class 'pandas.core.series.Series'>\n",
            "Índices de filas con valores atípicos:\n",
            "Int64Index([0, 8, 10, 17, 22, 24, 26, 28, 30], dtype='int64')\n",
            "Valores atípicos:\n",
            "   Ciudad    SO2  Neg.Temp  Empresas  Poblacion  Viento  Precip   Dias\n",
            "0     NaN    NaN       NaN       NaN        NaN     NaN    7.05   36.0\n",
            "1     NaN    NaN       NaN       NaN        NaN     NaN     NaN    NaN\n",
            "2     NaN    NaN       NaN       NaN        NaN     NaN     NaN    NaN\n",
            "3     NaN    NaN       NaN       NaN        NaN     NaN     NaN    NaN\n",
            "4     NaN    NaN       NaN       NaN        NaN     NaN     NaN    NaN\n",
            "5     NaN    NaN       NaN       NaN        NaN     NaN     NaN    NaN\n",
            "6     NaN    NaN       NaN       NaN        NaN     NaN     NaN    NaN\n",
            "7     NaN    NaN       NaN       NaN        NaN     NaN     NaN    NaN\n",
            "8     NaN    NaN      75.5       NaN        NaN     NaN     NaN    NaN\n",
            "9     NaN    NaN       NaN       NaN        NaN     NaN     NaN    NaN\n",
            "10    NaN  110.0       NaN    3344.0     3369.0     NaN     NaN    NaN\n",
            "11    NaN    NaN       NaN       NaN        NaN     NaN     NaN    NaN\n",
            "12    NaN    NaN       NaN       NaN        NaN     NaN     NaN    NaN\n",
            "13    NaN    NaN       NaN       NaN        NaN     NaN     NaN    NaN\n",
            "14    NaN    NaN       NaN       NaN        NaN     NaN     NaN    NaN\n",
            "15    NaN    NaN       NaN       NaN        NaN     NaN     NaN    NaN\n",
            "16    NaN    NaN       NaN       NaN        NaN     NaN     NaN    NaN\n",
            "17    NaN    NaN       NaN    1064.0     1513.0     NaN     NaN    NaN\n",
            "18    NaN    NaN       NaN       NaN        NaN     NaN     NaN    NaN\n",
            "19    NaN    NaN       NaN       NaN        NaN     NaN     NaN    NaN\n",
            "20    NaN    NaN       NaN       NaN        NaN     NaN     NaN    NaN\n",
            "21    NaN    NaN       NaN       NaN        NaN     NaN     NaN    NaN\n",
            "22    NaN    NaN       NaN       NaN        NaN     NaN    7.77   58.0\n",
            "23    NaN    NaN       NaN       NaN        NaN     NaN     NaN    NaN\n",
            "24    NaN    NaN       NaN       NaN        NaN     NaN     NaN  166.0\n",
            "25    NaN    NaN       NaN       NaN        NaN     NaN     NaN    NaN\n",
            "26    NaN    NaN       NaN    1007.0        NaN     NaN     NaN    NaN\n",
            "27    NaN    NaN       NaN       NaN        NaN     NaN     NaN    NaN\n",
            "28    NaN   69.0       NaN    1692.0     1950.0     NaN     NaN    NaN\n",
            "29    NaN    NaN       NaN       NaN        NaN     NaN     NaN    NaN\n",
            "30    NaN   94.0       NaN       NaN        NaN     NaN     NaN    NaN\n",
            "31    NaN    NaN       NaN       NaN        NaN     NaN     NaN    NaN\n",
            "32    NaN    NaN       NaN       NaN        NaN     NaN     NaN    NaN\n",
            "33    NaN    NaN       NaN       NaN        NaN     NaN     NaN    NaN\n",
            "34    NaN    NaN       NaN       NaN        NaN     NaN     NaN    NaN\n",
            "35    NaN    NaN       NaN       NaN        NaN     NaN     NaN    NaN\n",
            "36    NaN    NaN       NaN       NaN        NaN     NaN     NaN    NaN\n",
            "37    NaN    NaN       NaN       NaN        NaN     NaN     NaN    NaN\n",
            "38    NaN    NaN       NaN       NaN        NaN     NaN     NaN    NaN\n",
            "39    NaN    NaN       NaN       NaN        NaN     NaN     NaN    NaN\n",
            "40    NaN    NaN       NaN       NaN        NaN     NaN     NaN    NaN\n",
            "Valores atípicos marcados como 1, valores no atípicos marcados como 0:\n",
            "    Ciudad  Dias  Empresas  Neg.Temp  Poblacion  Precip  SO2  Viento\n",
            "0        0     1         0         0          0       1    0       0\n",
            "1        0     0         0         0          0       0    0       0\n",
            "2        0     0         0         0          0       0    0       0\n",
            "3        0     0         0         0          0       0    0       0\n",
            "4        0     0         0         0          0       0    0       0\n",
            "5        0     0         0         0          0       0    0       0\n",
            "6        0     0         0         0          0       0    0       0\n",
            "7        0     0         0         0          0       0    0       0\n",
            "8        0     0         0         1          0       0    0       0\n",
            "9        0     0         0         0          0       0    0       0\n",
            "10       0     0         1         0          1       0    1       0\n",
            "11       0     0         0         0          0       0    0       0\n",
            "12       0     0         0         0          0       0    0       0\n",
            "13       0     0         0         0          0       0    0       0\n",
            "14       0     0         0         0          0       0    0       0\n",
            "15       0     0         0         0          0       0    0       0\n",
            "16       0     0         0         0          0       0    0       0\n",
            "17       0     0         1         0          1       0    0       0\n",
            "18       0     0         0         0          0       0    0       0\n",
            "19       0     0         0         0          0       0    0       0\n",
            "20       0     0         0         0          0       0    0       0\n",
            "21       0     0         0         0          0       0    0       0\n",
            "22       0     1         0         0          0       1    0       0\n",
            "23       0     0         0         0          0       0    0       0\n",
            "24       0     1         0         0          0       0    0       0\n",
            "25       0     0         0         0          0       0    0       0\n",
            "26       0     0         1         0          0       0    0       0\n",
            "27       0     0         0         0          0       0    0       0\n",
            "28       0     0         1         0          1       0    1       0\n",
            "29       0     0         0         0          0       0    0       0\n",
            "30       0     0         0         0          0       0    1       0\n",
            "31       0     0         0         0          0       0    0       0\n",
            "32       0     0         0         0          0       0    0       0\n",
            "33       0     0         0         0          0       0    0       0\n",
            "34       0     0         0         0          0       0    0       0\n",
            "35       0     0         0         0          0       0    0       0\n",
            "36       0     0         0         0          0       0    0       0\n",
            "37       0     0         0         0          0       0    0       0\n",
            "38       0     0         0         0          0       0    0       0\n",
            "39       0     0         0         0          0       0    0       0\n",
            "40       0     0         0         0          0       0    0       0\n",
            "Filas con outliers eliminados:\n",
            "    Ciudad  Dias  Empresas  Neg.Temp  Poblacion  Precip  SO2  Viento\n",
            "0        0     1         0         0          0       1    0       0\n",
            "8        0     0         0         1          0       0    0       0\n",
            "10       0     0         1         0          1       0    1       0\n",
            "17       0     0         1         0          1       0    0       0\n",
            "22       0     1         0         0          0       1    0       0\n",
            "24       0     1         0         0          0       0    0       0\n",
            "26       0     0         1         0          0       0    0       0\n",
            "28       0     0         1         0          1       0    1       0\n",
            "30       0     0         0         0          0       0    1       0\n"
          ]
        },
        {
          "output_type": "stream",
          "name": "stderr",
          "text": [
            "<ipython-input-17-f38c54077c66>:11: FutureWarning: The default value of numeric_only in DataFrame.quantile is deprecated. In a future version, it will default to False. Select only valid columns or specify the value of numeric_only to silence this warning.\n",
            "  Q1 = df.quantile(0.25)\n",
            "<ipython-input-17-f38c54077c66>:12: FutureWarning: The default value of numeric_only in DataFrame.quantile is deprecated. In a future version, it will default to False. Select only valid columns or specify the value of numeric_only to silence this warning.\n",
            "  Q3 = df.quantile(0.75)\n",
            "<ipython-input-17-f38c54077c66>:21: FutureWarning: Automatic reindexing on DataFrame vs Series comparisons is deprecated and will raise ValueError in a future version. Do `left, right = left.align(right, axis=1, copy=False)` before e.g. `left == right`\n",
            "  outliers = (df < lower_limit) | (df > upper_limit)\n"
          ]
        }
      ]
    },
    {
      "cell_type": "markdown",
      "metadata": {
        "id": "c5iPKnsrsOjM"
      },
      "source": [
        "### 1.- (1 punto) Estandarizar los datos"
      ]
    },
    {
      "cell_type": "markdown",
      "metadata": {
        "id": "lBfhSNS6sOjM"
      },
      "source": [
        "Estandarizamos el dataframe, para pasar todas las variables al mismo rango, para ello nos serviremos de un objeto scaler obtenido de sklearn.preprocessing.StandardScaler\\\n",
        "Los nuevos datos estandarizados se meten en un nuevo pandas.DataFrame"
      ]
    },
    {
      "cell_type": "code",
      "execution_count": null,
      "metadata": {
        "id": "zNcfgcG2sOjM"
      },
      "outputs": [],
      "source": [
        "from sklearn.preprocessing import StandardScaler\n",
        "\n",
        "scaler = StandardScaler()\n",
        "df_std = scaler.fit_transform(df)\n",
        "\n",
        "df_std = pd.DataFrame(df_std, columns=df.columns, index=df.index)\n",
        "df_std.head()"
      ]
    },
    {
      "cell_type": "markdown",
      "metadata": {
        "id": "Pl3-rucIsOjM"
      },
      "source": [
        "Generamos estadísticas con .describe().\\\n",
        "(Para que se muestren resultados con 2 decimales se usa un context manager que cambia la configuración del display y una vez se termina el bloque with devuelve a la configuración inicial)"
      ]
    },
    {
      "cell_type": "code",
      "execution_count": null,
      "metadata": {
        "id": "SP0lC4ljsOjM"
      },
      "outputs": [],
      "source": [
        "class Notation2Decimal:\n",
        "    def __enter__(self):\n",
        "        self.original_config = pd.get_option('display.float_format')\n",
        "        pd.set_option('display.float_format', lambda x: '%.2f' % x)\n",
        "\n",
        "    def __exit__(self, exc_type, exc_value, traceback):\n",
        "        pd.set_option('display.float_format', self.original_config)\n",
        "\n",
        "with Notation2Decimal():\n",
        "    print(df_std.describe().drop('count').T)"
      ]
    },
    {
      "cell_type": "markdown",
      "metadata": {
        "id": "jnkTBoLgsOjM"
      },
      "source": [
        "Vemos que las variables se encuentran en un rango con media 0 y desviación típica 1.\\\n",
        "(No son exactos por problemas de redondeo)"
      ]
    },
    {
      "cell_type": "markdown",
      "metadata": {
        "id": "iO5OuGXYsOjM"
      },
      "source": [
        "### 2.- (1 punto) Obtención de autovalores y autovectores"
      ]
    },
    {
      "cell_type": "code",
      "execution_count": null,
      "metadata": {
        "id": "m5NUwuP8sOjN"
      },
      "outputs": [],
      "source": [
        "df_std.head()"
      ]
    },
    {
      "cell_type": "markdown",
      "metadata": {
        "id": "z15J0YL8sOjN"
      },
      "source": [
        "Sobre el dataframe estandarizado (df_std) obtenemos la matriz de correlación (df_corr)"
      ]
    },
    {
      "cell_type": "code",
      "execution_count": null,
      "metadata": {
        "id": "UE-HxSQysOjN"
      },
      "outputs": [],
      "source": [
        "df_corr = df_std.corr()\n",
        "df_corr"
      ]
    },
    {
      "cell_type": "markdown",
      "metadata": {
        "id": "00IwvIgysOjN"
      },
      "source": [
        "Usando la librería seaborn podemos con una línea de código mostrar las correlaciones de manera gráfica"
      ]
    },
    {
      "cell_type": "code",
      "execution_count": null,
      "metadata": {
        "id": "i35WS5nJsOjN"
      },
      "outputs": [],
      "source": [
        "import seaborn as sns\n",
        "sns.heatmap(df_corr, cmap='RdBu', vmin=-1, vmax=1, annot=True)\n",
        "plt.title('Mapa de Calor - Matriz de Correlación')\n",
        "plt.show()"
      ]
    },
    {
      "cell_type": "markdown",
      "metadata": {
        "id": "eXrqhStYsOjN"
      },
      "source": [
        "Para obtener los autovalores y autovectores utilizamos linalg.eig de numpy, una vez obtenidos los reordenamos de mayor a menor:"
      ]
    },
    {
      "cell_type": "code",
      "execution_count": null,
      "metadata": {
        "id": "2qWoY9RjsOjN"
      },
      "outputs": [],
      "source": [
        "eigenvalues, eigenvectors = np.linalg.eig(df_corr.values)\n",
        "sorted_indices = np.argsort(eigenvalues)[::-1]\n",
        "eigenvalues = eigenvalues[sorted_indices]\n",
        "eigenvectors = eigenvectors[:, sorted_indices]\n",
        "eigenvalues"
      ]
    },
    {
      "cell_type": "markdown",
      "metadata": {
        "id": "07Ia12kisOjN"
      },
      "source": [
        "Calculamos la varianza explicada (y su acumulación) por cada una de las nuevas componentes y lo mostramos en un dataframe"
      ]
    },
    {
      "cell_type": "code",
      "execution_count": null,
      "metadata": {
        "id": "CgyBr-1VsOjN"
      },
      "outputs": [],
      "source": [
        "variance_perc = (eigenvalues * 100 / np.sum(eigenvalues))\n",
        "acc_variance_perc = np.cumsum(variance_perc)\n",
        "comp_index = pd.Index((f'PC{i+1}' for i in range(len(eigenvalues))), name='Componentes')\n",
        "\n",
        "df_variance = pd.DataFrame({\n",
        "    'Autovalor': eigenvalues,\n",
        "    'Varianza explicada(%)': variance_perc,\n",
        "    'Varianza acumulada(%)': acc_variance_perc},\n",
        "    index=comp_index)\n",
        "\n",
        "with Notation2Decimal():\n",
        "    print(df_variance)"
      ]
    },
    {
      "cell_type": "markdown",
      "metadata": {
        "id": "H5p7CgBzsOjN"
      },
      "source": [
        "Gráficamente se entiende de manera más intuitiva:"
      ]
    },
    {
      "cell_type": "code",
      "execution_count": null,
      "metadata": {
        "id": "jDFEzf44sOjO"
      },
      "outputs": [],
      "source": [
        "import pandas as pd\n",
        "import matplotlib.pyplot as plt\n",
        "import matplotlib.ticker as mtick\n",
        "\n",
        "x = df_variance.index\n",
        "y = df_variance.loc[:, 'Varianza explicada(%)']\n",
        "y_cum = df_variance.loc[:, 'Varianza acumulada(%)']\n",
        "\n",
        "ax = y_cum.plot(kind='bar', color='lime', alpha=0.3)\n",
        "for i, valor in enumerate(y_cum):\n",
        "    plt.text(i, valor, f'{valor:.2f}%', ha='center', va='bottom')\n",
        "\n",
        "ax = y.plot(kind='bar')\n",
        "for i, valor in enumerate(y):\n",
        "    # Acumulada[0] == Individual[0] omit first Acumulada\n",
        "    if i:\n",
        "        plt.text(i, valor, f'{valor:.2f}%', ha='center', va='bottom')\n",
        "\n",
        "# Rotate labels\n",
        "ax.set_xticklabels(ax.get_xticklabels(), rotation=0)\n",
        "\n",
        "plt.xlabel('Componente')\n",
        "plt.ylabel('Varianza explicada(%)')\n",
        "plt.title('PCA - Varianza explicada')\n",
        "plt.legend(['Varianza acumulada', 'Varianza individual'], loc='best')\n",
        "plt.show()"
      ]
    },
    {
      "cell_type": "markdown",
      "metadata": {
        "id": "JhB5mdFasOjO"
      },
      "source": [
        "¿Cuánta información perdemos con 2 componentes?"
      ]
    },
    {
      "cell_type": "code",
      "execution_count": null,
      "metadata": {
        "id": "5NP2HbWvsOjS"
      },
      "outputs": [],
      "source": [
        "num_comp = 2\n",
        "info_loss = 100-df_variance.loc[f\"PC{num_comp}\", \"Varianza acumulada(%)\"]\n",
        "print(f'Con {num_comp} componentes perdemos un {info_loss:.2f}%')"
      ]
    },
    {
      "cell_type": "markdown",
      "metadata": {
        "id": "PIivzXnMsOjS"
      },
      "source": [
        "¿Cuánta información representamos con 3 componentes?"
      ]
    },
    {
      "cell_type": "code",
      "execution_count": null,
      "metadata": {
        "id": "zPv8hIPNsOjS"
      },
      "outputs": [],
      "source": [
        "num_comp = 3\n",
        "info = df_variance.loc[f\"PC{num_comp}\", \"Varianza acumulada(%)\"]\n",
        "print(f'Con {num_comp} componentes representamos un {info:.2f}%')"
      ]
    },
    {
      "cell_type": "markdown",
      "metadata": {
        "id": "8WI1l-ZOsOjT"
      },
      "source": [
        "##### 3.- (1 punto)Obtén un diagrama de dispersión en 3 dimensiones y comenta qué has interpretado en él. Elige al menos 4 ciudades de forma aleatoria y explica qué pasa con ellas."
      ]
    },
    {
      "cell_type": "markdown",
      "metadata": {
        "id": "awg6MRDMsOjT"
      },
      "source": [
        "En coordenadas de las 3 primeras componentes principales los datos quedan como sigue:"
      ]
    },
    {
      "cell_type": "code",
      "execution_count": null,
      "metadata": {
        "id": "-rbHZtxqsOjT"
      },
      "outputs": [],
      "source": [
        "num_comp = 3\n",
        "comp_index = pd.Index(f'PC{i+1}' for i in range(num_comp))\n",
        "\n",
        "df_pca = pd.DataFrame(\n",
        "    data=np.dot(df_std, eigenvectors[:, :num_comp]),\n",
        "    columns=comp_index,\n",
        "    index=df_std.index)\n",
        "\n",
        "with Notation2Decimal():\n",
        "    print(df_pca.head())"
      ]
    },
    {
      "cell_type": "markdown",
      "metadata": {
        "id": "q9mqxZB1sOjT"
      },
      "source": [
        "Si elegimos 3 componentes principales los 3 autovectores asociados nos dan información sobre las variables iniciales"
      ]
    },
    {
      "cell_type": "code",
      "execution_count": null,
      "metadata": {
        "id": "M5DGCWexsOjT"
      },
      "outputs": [],
      "source": [
        "num_comp = 3\n",
        "comp_index = pd.Index(f'PC{i+1}' for i in range(num_comp))\n",
        "\n",
        "df_3eig = pd.DataFrame(data=eigenvectors[:, :num_comp], index=df_std.columns, columns=comp_index)\n",
        "with Notation2Decimal():\n",
        "    print(df_3eig)"
      ]
    },
    {
      "cell_type": "markdown",
      "metadata": {
        "id": "UzOnw9FcsOjT"
      },
      "source": [
        "Podemos representar las componentes principales contra sí mismas, en 2 dimensiones"
      ]
    },
    {
      "cell_type": "code",
      "execution_count": null,
      "metadata": {
        "id": "u1CvDuatsOjT"
      },
      "outputs": [],
      "source": [
        "fig, axs = plt.subplots(1, 3, figsize=(15, 5))\n",
        "\n",
        "axs[0].scatter(df_pca['PC1'], df_pca['PC2'], color='lightblue')\n",
        "for i, variable in enumerate(df_std.columns):\n",
        "    x, y, z = np.zeros(3)\n",
        "    u, v, w = eigenvectors[i, :3] * 3\n",
        "    axs[0].arrow(x, y, u, v, color='r', alpha=0.7, head_width=0.05, head_length=0.05)\n",
        "    axs[0].text(u, v, variable, color='k', ha='right', va='bottom', fontsize=8)\n",
        "    axs[0].set_xlabel('PC1')\n",
        "    axs[0].set_ylabel('PC2')\n",
        "\n",
        "axs[1].scatter(df_pca['PC1'], df_pca['PC3'], color='lightblue')\n",
        "for i, variable in enumerate(df_std.columns):\n",
        "    x, y, z = np.zeros(3)\n",
        "    u, v, w = eigenvectors[i, :3] * 3\n",
        "    axs[1].arrow(x, z, u, w, color='r', alpha=0.7, head_width=0.05, head_length=0.05)\n",
        "    axs[1].text(u, w, variable, color='k', ha='right', va='bottom', fontsize=8)\n",
        "    axs[1].set_xlabel('PC1')\n",
        "    axs[1].set_ylabel('PC3')\n",
        "\n",
        "axs[2].scatter(df_pca['PC2'], df_pca['PC3'], color='lightblue')\n",
        "for i, variable in enumerate(df_std.columns):\n",
        "    x, y, z = np.zeros(3)\n",
        "    u, v, w = eigenvectors[i, :3] * 3\n",
        "    axs[2].arrow(y, z, v, w, color='r', alpha=0.7, head_width=0.05, head_length=0.05)\n",
        "    axs[2].text(v, w, variable, color='k', ha='right', va='bottom', fontsize=8)\n",
        "    axs[2].set_xlabel('PC2')\n",
        "    axs[2].set_ylabel('PC3')\n"
      ]
    },
    {
      "cell_type": "code",
      "execution_count": null,
      "metadata": {
        "id": "ZZS4RGTdsOjT"
      },
      "outputs": [],
      "source": [
        "fig, axs = plt.subplots(1, 3, figsize=(15, 5))\n",
        "num_comp = 3\n",
        "scale_factor = 3\n",
        "pc_eigenvectors = eigenvectors[:, :num_comp] * scale_factor\n",
        "pc_axs = {'PC1': 0, 'PC2': 1, 'PC3': 2}\n",
        "for i, (x, y) in enumerate([('PC1', 'PC2'), ('PC1', 'PC3'), ('PC2', 'PC3')]):\n",
        "    axs[i].scatter(df_pca[x], df_pca[y], color='lightblue')\n",
        "    for j, variable in enumerate(df_std.columns):\n",
        "        # Components of the eigenvector (same as coords of initial variables) in pc_axs[x], pc_axs[y] dimensions\n",
        "        u, v = pc_eigenvectors[j, pc_axs[x]], pc_eigenvectors[j, pc_axs[y]]\n",
        "        axs[i].arrow(0, 0, u, v, color='r', alpha=0.7, head_width=0.05, head_length=0.05)\n",
        "        axs[i].text(u, v, variable, color='k', ha='right', va='bottom', fontsize=8)\n",
        "        axs[i].set_xlabel(x)\n",
        "        axs[i].set_ylabel(y)\n"
      ]
    },
    {
      "cell_type": "markdown",
      "metadata": {
        "id": "bDSbqmuksOjU"
      },
      "source": [
        "En 3 dimensiones queda:"
      ]
    },
    {
      "cell_type": "code",
      "execution_count": null,
      "metadata": {
        "id": "gx-BLq9rsOjU"
      },
      "outputs": [],
      "source": [
        "fig, ax = plt.subplots()\n",
        "ax = plt.subplot(projection='3d')\n",
        "ax.scatter(df_pca['PC1'], df_pca['PC2'], df_pca['PC3'])\n",
        "for i, variable in enumerate(df_std.columns):\n",
        "    x, y, z = np.zeros(3)\n",
        "    u, v, w = eigenvectors[i, :3] * 3\n",
        "    plt.quiver(x, y, z, u, v, w, color='r')"
      ]
    },
    {
      "cell_type": "markdown",
      "metadata": {
        "id": "DbFWtrTDsOjU"
      },
      "source": [
        "Adicional: sklearn dispone del objeto PCA que consigue lo que hemos ido haciendo paso a paso"
      ]
    },
    {
      "cell_type": "code",
      "execution_count": null,
      "metadata": {
        "id": "H4Wy4A00sOjU"
      },
      "outputs": [],
      "source": [
        "from sklearn.decomposition import PCA\n",
        "\n",
        "pca = PCA()\n",
        "pca.fit(df_std)\n",
        "\n",
        "variance_perc = pca.explained_variance_ratio_ * 100\n",
        "acc_variance_perc = variance_perc.cumsum()\n",
        "comp_index = pd.Index([f'PC{i+1}' for i in range(len(eigenvalues))], name='Componentes')\n",
        "\n",
        "df_variance = pd.DataFrame({\n",
        "    'Autovalor': eigenvalues,\n",
        "    'Varianza explicada(%)': variance_perc,\n",
        "    'Varianza Acumulada(%)': acc_variance_perc},\n",
        "    index=comp_index)\n",
        "\n",
        "with Notation2Decimal():\n",
        "    print(df_variance)"
      ]
    },
    {
      "cell_type": "code",
      "execution_count": null,
      "metadata": {
        "id": "GsntS03WsOjU"
      },
      "outputs": [],
      "source": [
        "import pandas as pd\n",
        "import matplotlib.pyplot as plt\n",
        "from mpl_toolkits.mplot3d import Axes3D\n",
        "from sklearn.preprocessing import StandardScaler\n",
        "from sklearn.decomposition import PCA\n",
        "\n",
        "# Leer los datos desde la URL\n",
        "url = 'https://github.com/Alf-caput/P1_MineriaDeDatos/raw/main/P3_ReduccionDimensionalidad/USA.xlsx'\n",
        "df = pd.read_excel(url)\n",
        "\n",
        "# Eliminar columnas no numéricas (en este caso, 'Ciudad')\n",
        "df_numeric = df.drop(columns=['Ciudad'])\n",
        "\n",
        "# Estandarizar los datos\n",
        "scaler = StandardScaler()\n",
        "df_std = scaler.fit_transform(df_numeric)\n",
        "\n",
        "# Aplicar PCA\n",
        "pca = PCA(n_components=3)\n",
        "df_pca = pca.fit_transform(df_std)\n",
        "\n",
        "# Crear un DataFrame para los componentes principales\n",
        "df_pca = pd.DataFrame(data=df_pca, columns=['PC1', 'PC2', 'PC3'], index=df.index)\n",
        "\n",
        "# Visualizar en 3D\n",
        "fig = plt.figure()\n",
        "ax = fig.add_subplot(111, projection='3d')\n",
        "ax.scatter(df_pca['PC1'], df_pca['PC2'], df_pca['PC3'])\n",
        "\n",
        "# Añadir etiquetas\n",
        "for i, ciudad in enumerate(df.index):\n",
        "    ax.text(df_pca.loc[ciudad, 'PC1'], df_pca.loc[ciudad, 'PC2'], df_pca.loc[ciudad, 'PC3'], ciudad)\n",
        "\n",
        "# Etiquetar ejes\n",
        "ax.set_xlabel('PC1')\n",
        "ax.set_ylabel('PC2')\n",
        "ax.set_zlabel('PC3')\n",
        "\n",
        "plt.show()\n"
      ]
    }
  ],
  "metadata": {
    "kernelspec": {
      "display_name": ".venv",
      "language": "python",
      "name": "python3"
    },
    "language_info": {
      "codemirror_mode": {
        "name": "ipython",
        "version": 3
      },
      "file_extension": ".py",
      "mimetype": "text/x-python",
      "name": "python",
      "nbconvert_exporter": "python",
      "pygments_lexer": "ipython3",
      "version": "3.11.4"
    },
    "colab": {
      "provenance": [],
      "include_colab_link": true
    }
  },
  "nbformat": 4,
  "nbformat_minor": 0
}