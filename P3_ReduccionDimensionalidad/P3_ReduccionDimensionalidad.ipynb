{
 "cells": [
  {
   "cell_type": "markdown",
   "metadata": {},
   "source": [
    "Importamos las dependencias"
   ]
  },
  {
   "cell_type": "code",
   "execution_count": 11,
   "metadata": {},
   "outputs": [],
   "source": [
    "import sklearn as sk\n",
    "import pandas as pd\n",
    "import matplotlib.pyplot as plt"
   ]
  },
  {
   "cell_type": "markdown",
   "metadata": {},
   "source": [
    "Cargamos desde el repositorio de github los datos"
   ]
  },
  {
   "cell_type": "code",
   "execution_count": 30,
   "metadata": {},
   "outputs": [
    {
     "data": {
      "text/plain": [
       "((41, 8),\n",
       "           Ciudad   SO2  Neg.Temp  Empresas  Poblacion  Viento  Precip   Dias\n",
       " 0        Phoenix  10.0      70.3     213.0      582.0     6.0    7.05   36.0\n",
       " 1    Little Rock  13.0      61.0      91.0      132.0     8.2   48.52  100.0\n",
       " 2  San Francisco  12.0      56.7     453.0      716.0     8.7   20.66   67.0\n",
       " 3         Denver  17.0      51.9     454.0      515.0     9.0   12.95   86.0\n",
       " 4       Hartford  56.0      49.1     412.0      158.0     9.0   43.37  127.0)"
      ]
     },
     "execution_count": 30,
     "metadata": {},
     "output_type": "execute_result"
    }
   ],
   "source": [
    "url = 'https://github.com/Alf-caput/P1_MineriaDeDatos/raw/main/P3_ReduccionDimensionalidad/USA.xlsx'\n",
    "df = pd.read_excel(url)\n",
    "df.head()"
   ]
  },
  {
   "cell_type": "markdown",
   "metadata": {},
   "source": [
    "Tamaño del dataframe:"
   ]
  },
  {
   "cell_type": "code",
   "execution_count": 29,
   "metadata": {},
   "outputs": [
    {
     "data": {
      "text/plain": [
       "(41, 7)"
      ]
     },
     "execution_count": 29,
     "metadata": {},
     "output_type": "execute_result"
    }
   ],
   "source": [
    "df.shape"
   ]
  },
  {
   "cell_type": "markdown",
   "metadata": {},
   "source": [
    "Se trata de un set de datos sobre ciudades, las variables del mismo son:"
   ]
  },
  {
   "cell_type": "code",
   "execution_count": 13,
   "metadata": {},
   "outputs": [
    {
     "data": {
      "text/plain": [
       "Index(['Ciudad', 'SO2', 'Neg.Temp', 'Empresas', 'Poblacion', 'Viento',\n",
       "       'Precip', 'Dias'],\n",
       "      dtype='object')"
      ]
     },
     "execution_count": 13,
     "metadata": {},
     "output_type": "execute_result"
    }
   ],
   "source": [
    "df.columns"
   ]
  },
  {
   "cell_type": "markdown",
   "metadata": {},
   "source": [
    "No contamos con documentación, pero parece que tiene que ver con mediciones del ambiente y demografía en ciudades.\\\n",
    "Podemos tratar de interpretar que pueden significar:\n",
    "- Ciudad, nombre de ciudad\n",
    "- SO2, concentración dióxido de azufre en el aire\n",
    "- Neg.Temp, temperatura Fahrenheit\n",
    "- Empresas, número de empresas\n",
    "- Poblacion, dato relacionado con la población de la ciudad (no puede ser el número de habitantes)\n",
    "- Viento, velocidad del viento\n",
    "- Precip, precipitaciones\n",
    "- Dias, número de días"
   ]
  },
  {
   "cell_type": "markdown",
   "metadata": {},
   "source": [
    "Comprobamos la existencia de valores NA o nulos"
   ]
  },
  {
   "cell_type": "code",
   "execution_count": 14,
   "metadata": {},
   "outputs": [
    {
     "data": {
      "text/html": [
       "<div>\n",
       "<style scoped>\n",
       "    .dataframe tbody tr th:only-of-type {\n",
       "        vertical-align: middle;\n",
       "    }\n",
       "\n",
       "    .dataframe tbody tr th {\n",
       "        vertical-align: top;\n",
       "    }\n",
       "\n",
       "    .dataframe thead th {\n",
       "        text-align: right;\n",
       "    }\n",
       "</style>\n",
       "<table border=\"1\" class=\"dataframe\">\n",
       "  <thead>\n",
       "    <tr style=\"text-align: right;\">\n",
       "      <th></th>\n",
       "      <th>Valores NA</th>\n",
       "      <th>Valores NULL</th>\n",
       "    </tr>\n",
       "  </thead>\n",
       "  <tbody>\n",
       "    <tr>\n",
       "      <th>Ciudad</th>\n",
       "      <td>0</td>\n",
       "      <td>0</td>\n",
       "    </tr>\n",
       "    <tr>\n",
       "      <th>SO2</th>\n",
       "      <td>0</td>\n",
       "      <td>0</td>\n",
       "    </tr>\n",
       "    <tr>\n",
       "      <th>Neg.Temp</th>\n",
       "      <td>0</td>\n",
       "      <td>0</td>\n",
       "    </tr>\n",
       "    <tr>\n",
       "      <th>Empresas</th>\n",
       "      <td>0</td>\n",
       "      <td>0</td>\n",
       "    </tr>\n",
       "    <tr>\n",
       "      <th>Poblacion</th>\n",
       "      <td>0</td>\n",
       "      <td>0</td>\n",
       "    </tr>\n",
       "    <tr>\n",
       "      <th>Viento</th>\n",
       "      <td>0</td>\n",
       "      <td>0</td>\n",
       "    </tr>\n",
       "    <tr>\n",
       "      <th>Precip</th>\n",
       "      <td>0</td>\n",
       "      <td>0</td>\n",
       "    </tr>\n",
       "    <tr>\n",
       "      <th>Dias</th>\n",
       "      <td>0</td>\n",
       "      <td>0</td>\n",
       "    </tr>\n",
       "  </tbody>\n",
       "</table>\n",
       "</div>"
      ],
      "text/plain": [
       "           Valores NA  Valores NULL\n",
       "Ciudad              0             0\n",
       "SO2                 0             0\n",
       "Neg.Temp            0             0\n",
       "Empresas            0             0\n",
       "Poblacion           0             0\n",
       "Viento              0             0\n",
       "Precip              0             0\n",
       "Dias                0             0"
      ]
     },
     "execution_count": 14,
     "metadata": {},
     "output_type": "execute_result"
    }
   ],
   "source": [
    "count_df = pd.DataFrame({\n",
    "    'Valores NA': df.isna().sum(),\n",
    "    'Valores NULL': df.isnull().sum(),\n",
    "})\n",
    "count_df"
   ]
  },
  {
   "cell_type": "markdown",
   "metadata": {},
   "source": [
    "Comprobamos el tipo de dato de cada columna"
   ]
  },
  {
   "cell_type": "code",
   "execution_count": 15,
   "metadata": {},
   "outputs": [
    {
     "data": {
      "text/plain": [
       "Ciudad        object\n",
       "SO2          float64\n",
       "Neg.Temp     float64\n",
       "Empresas     float64\n",
       "Poblacion    float64\n",
       "Viento       float64\n",
       "Precip       float64\n",
       "Dias         float64\n",
       "dtype: object"
      ]
     },
     "execution_count": 15,
     "metadata": {},
     "output_type": "execute_result"
    }
   ],
   "source": [
    "df.dtypes"
   ]
  },
  {
   "cell_type": "markdown",
   "metadata": {},
   "source": [
    "Nos fijamos que son float64 excepto los valores que toma la variable ciudad que son strings (pandas por defecto considera strings como tipo obj)\\\n",
    "A simple vista parece que las ciudades del dataset son únicas, lo podemos comprobar:"
   ]
  },
  {
   "cell_type": "code",
   "execution_count": 16,
   "metadata": {},
   "outputs": [
    {
     "data": {
      "text/plain": [
       "True"
      ]
     },
     "execution_count": 16,
     "metadata": {},
     "output_type": "execute_result"
    }
   ],
   "source": [
    "df.loc[:, 'Ciudad'].nunique() == len(df.loc[:, 'Ciudad'])"
   ]
  },
  {
   "cell_type": "markdown",
   "metadata": {},
   "source": [
    "Utilizaremos el nombre de la ciudad como índice de fila (es conveniente para estandarizar el resto de variables)"
   ]
  },
  {
   "cell_type": "code",
   "execution_count": 17,
   "metadata": {},
   "outputs": [
    {
     "data": {
      "text/html": [
       "<div>\n",
       "<style scoped>\n",
       "    .dataframe tbody tr th:only-of-type {\n",
       "        vertical-align: middle;\n",
       "    }\n",
       "\n",
       "    .dataframe tbody tr th {\n",
       "        vertical-align: top;\n",
       "    }\n",
       "\n",
       "    .dataframe thead th {\n",
       "        text-align: right;\n",
       "    }\n",
       "</style>\n",
       "<table border=\"1\" class=\"dataframe\">\n",
       "  <thead>\n",
       "    <tr style=\"text-align: right;\">\n",
       "      <th></th>\n",
       "      <th>SO2</th>\n",
       "      <th>Neg.Temp</th>\n",
       "      <th>Empresas</th>\n",
       "      <th>Poblacion</th>\n",
       "      <th>Viento</th>\n",
       "      <th>Precip</th>\n",
       "      <th>Dias</th>\n",
       "    </tr>\n",
       "    <tr>\n",
       "      <th>Ciudad</th>\n",
       "      <th></th>\n",
       "      <th></th>\n",
       "      <th></th>\n",
       "      <th></th>\n",
       "      <th></th>\n",
       "      <th></th>\n",
       "      <th></th>\n",
       "    </tr>\n",
       "  </thead>\n",
       "  <tbody>\n",
       "    <tr>\n",
       "      <th>Phoenix</th>\n",
       "      <td>10.0</td>\n",
       "      <td>70.3</td>\n",
       "      <td>213.0</td>\n",
       "      <td>582.0</td>\n",
       "      <td>6.0</td>\n",
       "      <td>7.05</td>\n",
       "      <td>36.0</td>\n",
       "    </tr>\n",
       "    <tr>\n",
       "      <th>Little Rock</th>\n",
       "      <td>13.0</td>\n",
       "      <td>61.0</td>\n",
       "      <td>91.0</td>\n",
       "      <td>132.0</td>\n",
       "      <td>8.2</td>\n",
       "      <td>48.52</td>\n",
       "      <td>100.0</td>\n",
       "    </tr>\n",
       "    <tr>\n",
       "      <th>San Francisco</th>\n",
       "      <td>12.0</td>\n",
       "      <td>56.7</td>\n",
       "      <td>453.0</td>\n",
       "      <td>716.0</td>\n",
       "      <td>8.7</td>\n",
       "      <td>20.66</td>\n",
       "      <td>67.0</td>\n",
       "    </tr>\n",
       "    <tr>\n",
       "      <th>Denver</th>\n",
       "      <td>17.0</td>\n",
       "      <td>51.9</td>\n",
       "      <td>454.0</td>\n",
       "      <td>515.0</td>\n",
       "      <td>9.0</td>\n",
       "      <td>12.95</td>\n",
       "      <td>86.0</td>\n",
       "    </tr>\n",
       "    <tr>\n",
       "      <th>Hartford</th>\n",
       "      <td>56.0</td>\n",
       "      <td>49.1</td>\n",
       "      <td>412.0</td>\n",
       "      <td>158.0</td>\n",
       "      <td>9.0</td>\n",
       "      <td>43.37</td>\n",
       "      <td>127.0</td>\n",
       "    </tr>\n",
       "  </tbody>\n",
       "</table>\n",
       "</div>"
      ],
      "text/plain": [
       "                SO2  Neg.Temp  Empresas  Poblacion  Viento  Precip   Dias\n",
       "Ciudad                                                                   \n",
       "Phoenix        10.0      70.3     213.0      582.0     6.0    7.05   36.0\n",
       "Little Rock    13.0      61.0      91.0      132.0     8.2   48.52  100.0\n",
       "San Francisco  12.0      56.7     453.0      716.0     8.7   20.66   67.0\n",
       "Denver         17.0      51.9     454.0      515.0     9.0   12.95   86.0\n",
       "Hartford       56.0      49.1     412.0      158.0     9.0   43.37  127.0"
      ]
     },
     "execution_count": 17,
     "metadata": {},
     "output_type": "execute_result"
    }
   ],
   "source": [
    "df = df.set_index('Ciudad')\n",
    "df.head()"
   ]
  },
  {
   "cell_type": "markdown",
   "metadata": {},
   "source": [
    "Para hacernos una idea de los datos y ver rangos usamos .describe()"
   ]
  },
  {
   "cell_type": "code",
   "execution_count": 32,
   "metadata": {},
   "outputs": [
    {
     "data": {
      "text/html": [
       "<div>\n",
       "<style scoped>\n",
       "    .dataframe tbody tr th:only-of-type {\n",
       "        vertical-align: middle;\n",
       "    }\n",
       "\n",
       "    .dataframe tbody tr th {\n",
       "        vertical-align: top;\n",
       "    }\n",
       "\n",
       "    .dataframe thead th {\n",
       "        text-align: right;\n",
       "    }\n",
       "</style>\n",
       "<table border=\"1\" class=\"dataframe\">\n",
       "  <thead>\n",
       "    <tr style=\"text-align: right;\">\n",
       "      <th></th>\n",
       "      <th>mean</th>\n",
       "      <th>std</th>\n",
       "      <th>min</th>\n",
       "      <th>25%</th>\n",
       "      <th>50%</th>\n",
       "      <th>75%</th>\n",
       "      <th>max</th>\n",
       "    </tr>\n",
       "  </thead>\n",
       "  <tbody>\n",
       "    <tr>\n",
       "      <th>SO2</th>\n",
       "      <td>30.048780</td>\n",
       "      <td>23.472272</td>\n",
       "      <td>8.00</td>\n",
       "      <td>13.00</td>\n",
       "      <td>26.00</td>\n",
       "      <td>35.00</td>\n",
       "      <td>110.0</td>\n",
       "    </tr>\n",
       "    <tr>\n",
       "      <th>Neg.Temp</th>\n",
       "      <td>55.763415</td>\n",
       "      <td>7.227716</td>\n",
       "      <td>43.50</td>\n",
       "      <td>50.60</td>\n",
       "      <td>54.60</td>\n",
       "      <td>59.30</td>\n",
       "      <td>75.5</td>\n",
       "    </tr>\n",
       "    <tr>\n",
       "      <th>Empresas</th>\n",
       "      <td>463.097561</td>\n",
       "      <td>563.473948</td>\n",
       "      <td>35.00</td>\n",
       "      <td>181.00</td>\n",
       "      <td>347.00</td>\n",
       "      <td>462.00</td>\n",
       "      <td>3344.0</td>\n",
       "    </tr>\n",
       "    <tr>\n",
       "      <th>Poblacion</th>\n",
       "      <td>608.609756</td>\n",
       "      <td>579.113023</td>\n",
       "      <td>71.00</td>\n",
       "      <td>299.00</td>\n",
       "      <td>515.00</td>\n",
       "      <td>717.00</td>\n",
       "      <td>3369.0</td>\n",
       "    </tr>\n",
       "    <tr>\n",
       "      <th>Viento</th>\n",
       "      <td>9.443902</td>\n",
       "      <td>1.428644</td>\n",
       "      <td>6.00</td>\n",
       "      <td>8.70</td>\n",
       "      <td>9.30</td>\n",
       "      <td>10.60</td>\n",
       "      <td>12.7</td>\n",
       "    </tr>\n",
       "    <tr>\n",
       "      <th>Precip</th>\n",
       "      <td>36.769024</td>\n",
       "      <td>11.771550</td>\n",
       "      <td>7.05</td>\n",
       "      <td>30.96</td>\n",
       "      <td>38.74</td>\n",
       "      <td>43.11</td>\n",
       "      <td>59.8</td>\n",
       "    </tr>\n",
       "    <tr>\n",
       "      <th>Dias</th>\n",
       "      <td>113.902439</td>\n",
       "      <td>26.506419</td>\n",
       "      <td>36.00</td>\n",
       "      <td>103.00</td>\n",
       "      <td>115.00</td>\n",
       "      <td>128.00</td>\n",
       "      <td>166.0</td>\n",
       "    </tr>\n",
       "  </tbody>\n",
       "</table>\n",
       "</div>"
      ],
      "text/plain": [
       "                 mean         std    min     25%     50%     75%     max\n",
       "SO2         30.048780   23.472272   8.00   13.00   26.00   35.00   110.0\n",
       "Neg.Temp    55.763415    7.227716  43.50   50.60   54.60   59.30    75.5\n",
       "Empresas   463.097561  563.473948  35.00  181.00  347.00  462.00  3344.0\n",
       "Poblacion  608.609756  579.113023  71.00  299.00  515.00  717.00  3369.0\n",
       "Viento       9.443902    1.428644   6.00    8.70    9.30   10.60    12.7\n",
       "Precip      36.769024   11.771550   7.05   30.96   38.74   43.11    59.8\n",
       "Dias       113.902439   26.506419  36.00  103.00  115.00  128.00   166.0"
      ]
     },
     "execution_count": 32,
     "metadata": {},
     "output_type": "execute_result"
    }
   ],
   "source": [
    "# Remove count and transpose for clearer output\n",
    "df.describe().drop('count').T"
   ]
  },
  {
   "cell_type": "markdown",
   "metadata": {},
   "source": [
    "### 1.- (1 punto) Estandarizar los datos "
   ]
  },
  {
   "cell_type": "markdown",
   "metadata": {},
   "source": [
    "Estandarizamos el dataframe, para pasar todas las variables al mismo rango"
   ]
  },
  {
   "cell_type": "code",
   "execution_count": 18,
   "metadata": {},
   "outputs": [
    {
     "data": {
      "text/html": [
       "<div>\n",
       "<style scoped>\n",
       "    .dataframe tbody tr th:only-of-type {\n",
       "        vertical-align: middle;\n",
       "    }\n",
       "\n",
       "    .dataframe tbody tr th {\n",
       "        vertical-align: top;\n",
       "    }\n",
       "\n",
       "    .dataframe thead th {\n",
       "        text-align: right;\n",
       "    }\n",
       "</style>\n",
       "<table border=\"1\" class=\"dataframe\">\n",
       "  <thead>\n",
       "    <tr style=\"text-align: right;\">\n",
       "      <th></th>\n",
       "      <th>SO2</th>\n",
       "      <th>Neg.Temp</th>\n",
       "      <th>Empresas</th>\n",
       "      <th>Poblacion</th>\n",
       "      <th>Viento</th>\n",
       "      <th>Precip</th>\n",
       "      <th>Dias</th>\n",
       "    </tr>\n",
       "    <tr>\n",
       "      <th>Ciudad</th>\n",
       "      <th></th>\n",
       "      <th></th>\n",
       "      <th></th>\n",
       "      <th></th>\n",
       "      <th></th>\n",
       "      <th></th>\n",
       "      <th></th>\n",
       "    </tr>\n",
       "  </thead>\n",
       "  <tbody>\n",
       "    <tr>\n",
       "      <th>Phoenix</th>\n",
       "      <td>-0.864758</td>\n",
       "      <td>2.036213</td>\n",
       "      <td>-0.449363</td>\n",
       "      <td>-0.046520</td>\n",
       "      <td>-2.440555</td>\n",
       "      <td>-2.556012</td>\n",
       "      <td>-2.975514</td>\n",
       "    </tr>\n",
       "    <tr>\n",
       "      <th>Little Rock</th>\n",
       "      <td>-0.735360</td>\n",
       "      <td>0.733515</td>\n",
       "      <td>-0.668567</td>\n",
       "      <td>-0.833224</td>\n",
       "      <td>-0.881504</td>\n",
       "      <td>1.010653</td>\n",
       "      <td>-0.531009</td>\n",
       "    </tr>\n",
       "    <tr>\n",
       "      <th>San Francisco</th>\n",
       "      <td>-0.778493</td>\n",
       "      <td>0.131192</td>\n",
       "      <td>-0.018143</td>\n",
       "      <td>0.187743</td>\n",
       "      <td>-0.527174</td>\n",
       "      <td>-1.385471</td>\n",
       "      <td>-1.791457</td>\n",
       "    </tr>\n",
       "    <tr>\n",
       "      <th>Denver</th>\n",
       "      <td>-0.562829</td>\n",
       "      <td>-0.541168</td>\n",
       "      <td>-0.016346</td>\n",
       "      <td>-0.163651</td>\n",
       "      <td>-0.314576</td>\n",
       "      <td>-2.048577</td>\n",
       "      <td>-1.065744</td>\n",
       "    </tr>\n",
       "    <tr>\n",
       "      <th>Hartford</th>\n",
       "      <td>1.119347</td>\n",
       "      <td>-0.933378</td>\n",
       "      <td>-0.091810</td>\n",
       "      <td>-0.787770</td>\n",
       "      <td>-0.314576</td>\n",
       "      <td>0.567723</td>\n",
       "      <td>0.500266</td>\n",
       "    </tr>\n",
       "  </tbody>\n",
       "</table>\n",
       "</div>"
      ],
      "text/plain": [
       "                    SO2  Neg.Temp  Empresas  Poblacion    Viento    Precip  \\\n",
       "Ciudad                                                                       \n",
       "Phoenix       -0.864758  2.036213 -0.449363  -0.046520 -2.440555 -2.556012   \n",
       "Little Rock   -0.735360  0.733515 -0.668567  -0.833224 -0.881504  1.010653   \n",
       "San Francisco -0.778493  0.131192 -0.018143   0.187743 -0.527174 -1.385471   \n",
       "Denver        -0.562829 -0.541168 -0.016346  -0.163651 -0.314576 -2.048577   \n",
       "Hartford       1.119347 -0.933378 -0.091810  -0.787770 -0.314576  0.567723   \n",
       "\n",
       "                   Dias  \n",
       "Ciudad                   \n",
       "Phoenix       -2.975514  \n",
       "Little Rock   -0.531009  \n",
       "San Francisco -1.791457  \n",
       "Denver        -1.065744  \n",
       "Hartford       0.500266  "
      ]
     },
     "execution_count": 18,
     "metadata": {},
     "output_type": "execute_result"
    }
   ],
   "source": [
    "from sklearn.preprocessing import StandardScaler\n",
    "\n",
    "# Inicializar el StandardScaler\n",
    "scaler = StandardScaler()\n",
    "\n",
    "# Ajustar el scaler al conjunto de datos y transformar los datos\n",
    "df_std = scaler.fit_transform(df)\n",
    "\n",
    "# Convertir los datos estandarizados de nuevo a un DataFrame\n",
    "df_std = pd.DataFrame(df_std, columns=df.columns, index=df.index)\n",
    "\n",
    "# Imprimir el DataFrame estandarizado\n",
    "df_std.head()"
   ]
  },
  {
   "cell_type": "markdown",
   "metadata": {},
   "source": [
    "Podemos generar estadísticas con .describe().\\\n",
    "(Para que se muestren resultados con 3 decimales se usa un context manager que cambia la configuración del display y una vez se termina el bloque with devuelve a la configuración inicial)"
   ]
  },
  {
   "cell_type": "code",
   "execution_count": 31,
   "metadata": {},
   "outputs": [
    {
     "name": "stdout",
     "output_type": "stream",
     "text": [
      "            mean   std    min    25%    50%    75%   max\n",
      "SO2        0.000 1.012 -0.951 -0.735 -0.175  0.214 3.449\n",
      "Neg.Temp   0.000 1.012 -1.718 -0.723 -0.163  0.495 2.765\n",
      "Empresas  -0.000 1.012 -0.769 -0.507 -0.209 -0.002 5.176\n",
      "Poblacion -0.000 1.012 -0.940 -0.541 -0.164  0.189 4.826\n",
      "Viento     0.000 1.012 -2.441 -0.527 -0.102  0.819 2.307\n",
      "Precip     0.000 1.012 -2.556 -0.500  0.170  0.545 1.981\n",
      "Dias      -0.000 1.012 -2.976 -0.416  0.042  0.538 1.990\n"
     ]
    }
   ],
   "source": [
    "class NoScientificNotation:\n",
    "    def __enter__(self):\n",
    "        # Save the original configuration\n",
    "        self.original_config = pd.get_option('display.float_format')\n",
    "        # Set the display format without scientific notation\n",
    "        pd.set_option('display.float_format', lambda x: '%.3f' % x)\n",
    "    \n",
    "    def __exit__(self, exc_type, exc_value, traceback):\n",
    "        # Restore the original configuration\n",
    "        pd.set_option('display.float_format', self.original_config)\n",
    "\n",
    "with NoScientificNotation():\n",
    "    # Transpose dataframe of statistics\n",
    "    print(df_std.describe().drop('count').T)"
   ]
  },
  {
   "cell_type": "markdown",
   "metadata": {},
   "source": [
    "Vemos que efectivamente las variables se encuentran en un rango con media 0 y desviación típica 1.(No son exactos por problemas de redondeo)"
   ]
  },
  {
   "cell_type": "code",
   "execution_count": 19,
   "metadata": {},
   "outputs": [
    {
     "data": {
      "image/png": "[encoded data removed]",
      "text/plain": [
       "<Figure size 1500x500 with 7 Axes>"
      ]
     },
     "metadata": {},
     "output_type": "display_data"
    }
   ],
   "source": [
    "# Crear subplots\n",
    "fig, axs = plt.subplots(nrows=1, ncols=len(df_std.columns), figsize=(15, 5))\n",
    "\n",
    "# Iterar sobre cada columna y crear un boxplot\n",
    "for i, columna in enumerate(df_std.columns):\n",
    "    axs[i].boxplot(df_std[columna])\n",
    "    axs[i].set_title(columna)\n",
    "\n",
    "# Ajustar el diseño\n",
    "plt.tight_layout()\n",
    "\n",
    "# Mostrar el gráfico\n",
    "plt.show()\n"
   ]
  },
  {
   "cell_type": "markdown",
   "metadata": {},
   "source": [
    "### 2.- (1 punto) Obtención de autovalores y autovectores"
   ]
  },
  {
   "cell_type": "code",
   "execution_count": null,
   "metadata": {},
   "outputs": [],
   "source": []
  },
  {
   "cell_type": "code",
   "execution_count": null,
   "metadata": {},
   "outputs": [],
   "source": []
  }
 ],
 "metadata": {
  "kernelspec": {
   "display_name": ".venv",
   "language": "python",
   "name": "python3"
  },
  "language_info": {
   "codemirror_mode": {
    "name": "ipython",
    "version": 3
   },
   "file_extension": ".py",
   "mimetype": "text/x-python",
   "name": "python",
   "nbconvert_exporter": "python",
   "pygments_lexer": "ipython3",
   "version": "3.11.4"
  }
 },
 "nbformat": 4,
 "nbformat_minor": 2
}
