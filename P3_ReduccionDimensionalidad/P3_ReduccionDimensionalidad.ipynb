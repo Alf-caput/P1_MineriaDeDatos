{
 "cells": [
  {
   "cell_type": "markdown",
   "metadata": {},
   "source": [
    "Importamos las dependencias"
   ]
  },
  {
   "cell_type": "code",
   "execution_count": 1,
   "metadata": {},
   "outputs": [
    {
     "name": "stderr",
     "output_type": "stream",
     "text": [
      "C:\\Users\\alfre\\AppData\\Local\\Temp\\ipykernel_16496\\781607822.py:2: DeprecationWarning: \n",
      "Pyarrow will become a required dependency of pandas in the next major release of pandas (pandas 3.0),\n",
      "(to allow more performant data types, such as the Arrow string type, and better interoperability with other libraries)\n",
      "but was not found to be installed on your system.\n",
      "If this would cause problems for you,\n",
      "please provide us feedback at https://github.com/pandas-dev/pandas/issues/54466\n",
      "        \n",
      "  import pandas as pd\n"
     ]
    }
   ],
   "source": [
    "import sklearn as sk\n",
    "import pandas as pd\n",
    "import matplotlib.pyplot as plt\n",
    "import numpy as np"
   ]
  },
  {
   "cell_type": "markdown",
   "metadata": {},
   "source": [
    "Cargamos desde el repositorio de github los datos"
   ]
  },
  {
   "cell_type": "code",
   "execution_count": 2,
   "metadata": {},
   "outputs": [
    {
     "data": {
      "text/html": [
       "<div>\n",
       "<style scoped>\n",
       "    .dataframe tbody tr th:only-of-type {\n",
       "        vertical-align: middle;\n",
       "    }\n",
       "\n",
       "    .dataframe tbody tr th {\n",
       "        vertical-align: top;\n",
       "    }\n",
       "\n",
       "    .dataframe thead th {\n",
       "        text-align: right;\n",
       "    }\n",
       "</style>\n",
       "<table border=\"1\" class=\"dataframe\">\n",
       "  <thead>\n",
       "    <tr style=\"text-align: right;\">\n",
       "      <th></th>\n",
       "      <th>Ciudad</th>\n",
       "      <th>SO2</th>\n",
       "      <th>Neg.Temp</th>\n",
       "      <th>Empresas</th>\n",
       "      <th>Poblacion</th>\n",
       "      <th>Viento</th>\n",
       "      <th>Precip</th>\n",
       "      <th>Dias</th>\n",
       "    </tr>\n",
       "  </thead>\n",
       "  <tbody>\n",
       "    <tr>\n",
       "      <th>0</th>\n",
       "      <td>Phoenix</td>\n",
       "      <td>10.0</td>\n",
       "      <td>70.3</td>\n",
       "      <td>213.0</td>\n",
       "      <td>582.0</td>\n",
       "      <td>6.0</td>\n",
       "      <td>7.05</td>\n",
       "      <td>36.0</td>\n",
       "    </tr>\n",
       "    <tr>\n",
       "      <th>1</th>\n",
       "      <td>Little Rock</td>\n",
       "      <td>13.0</td>\n",
       "      <td>61.0</td>\n",
       "      <td>91.0</td>\n",
       "      <td>132.0</td>\n",
       "      <td>8.2</td>\n",
       "      <td>48.52</td>\n",
       "      <td>100.0</td>\n",
       "    </tr>\n",
       "    <tr>\n",
       "      <th>2</th>\n",
       "      <td>San Francisco</td>\n",
       "      <td>12.0</td>\n",
       "      <td>56.7</td>\n",
       "      <td>453.0</td>\n",
       "      <td>716.0</td>\n",
       "      <td>8.7</td>\n",
       "      <td>20.66</td>\n",
       "      <td>67.0</td>\n",
       "    </tr>\n",
       "    <tr>\n",
       "      <th>3</th>\n",
       "      <td>Denver</td>\n",
       "      <td>17.0</td>\n",
       "      <td>51.9</td>\n",
       "      <td>454.0</td>\n",
       "      <td>515.0</td>\n",
       "      <td>9.0</td>\n",
       "      <td>12.95</td>\n",
       "      <td>86.0</td>\n",
       "    </tr>\n",
       "    <tr>\n",
       "      <th>4</th>\n",
       "      <td>Hartford</td>\n",
       "      <td>56.0</td>\n",
       "      <td>49.1</td>\n",
       "      <td>412.0</td>\n",
       "      <td>158.0</td>\n",
       "      <td>9.0</td>\n",
       "      <td>43.37</td>\n",
       "      <td>127.0</td>\n",
       "    </tr>\n",
       "  </tbody>\n",
       "</table>\n",
       "</div>"
      ],
      "text/plain": [
       "          Ciudad   SO2  Neg.Temp  Empresas  Poblacion  Viento  Precip   Dias\n",
       "0        Phoenix  10.0      70.3     213.0      582.0     6.0    7.05   36.0\n",
       "1    Little Rock  13.0      61.0      91.0      132.0     8.2   48.52  100.0\n",
       "2  San Francisco  12.0      56.7     453.0      716.0     8.7   20.66   67.0\n",
       "3         Denver  17.0      51.9     454.0      515.0     9.0   12.95   86.0\n",
       "4       Hartford  56.0      49.1     412.0      158.0     9.0   43.37  127.0"
      ]
     },
     "execution_count": 2,
     "metadata": {},
     "output_type": "execute_result"
    }
   ],
   "source": [
    "url = 'https://github.com/Alf-caput/P1_MineriaDeDatos/raw/main/P3_ReduccionDimensionalidad/USA.xlsx'\n",
    "df = pd.read_excel(url)\n",
    "df.head()"
   ]
  },
  {
   "cell_type": "markdown",
   "metadata": {},
   "source": [
    "Con df.info() podemos ver el tamaño del dataset, valores no nulos y tipos de las variables"
   ]
  },
  {
   "cell_type": "code",
   "execution_count": 3,
   "metadata": {},
   "outputs": [
    {
     "name": "stdout",
     "output_type": "stream",
     "text": [
      "<class 'pandas.core.frame.DataFrame'>\n",
      "RangeIndex: 41 entries, 0 to 40\n",
      "Data columns (total 8 columns):\n",
      " #   Column     Non-Null Count  Dtype  \n",
      "---  ------     --------------  -----  \n",
      " 0   Ciudad     41 non-null     object \n",
      " 1   SO2        41 non-null     float64\n",
      " 2   Neg.Temp   41 non-null     float64\n",
      " 3   Empresas   41 non-null     float64\n",
      " 4   Poblacion  41 non-null     float64\n",
      " 5   Viento     41 non-null     float64\n",
      " 6   Precip     41 non-null     float64\n",
      " 7   Dias       41 non-null     float64\n",
      "dtypes: float64(7), object(1)\n",
      "memory usage: 2.7+ KB\n"
     ]
    }
   ],
   "source": [
    "df.info()"
   ]
  },
  {
   "cell_type": "markdown",
   "metadata": {},
   "source": [
    "Se trata de un set de datos sobre ciudades, las variables del mismo son:"
   ]
  },
  {
   "cell_type": "code",
   "execution_count": 4,
   "metadata": {},
   "outputs": [
    {
     "data": {
      "text/plain": [
       "Index(['Ciudad', 'SO2', 'Neg.Temp', 'Empresas', 'Poblacion', 'Viento',\n",
       "       'Precip', 'Dias'],\n",
       "      dtype='object')"
      ]
     },
     "execution_count": 4,
     "metadata": {},
     "output_type": "execute_result"
    }
   ],
   "source": [
    "df.columns"
   ]
  },
  {
   "cell_type": "markdown",
   "metadata": {},
   "source": [
    "Parece que tiene que ver con mediciones del ambiente y demografía en ciudades.\\\n",
    "Buscando documentación online encontramos el valor de los datos:\n",
    "- Ciudad, nombre de ciudad (EEUU)\n",
    "- SO2, contenido en SO2\n",
    "- Neg.Temp, temperatura Fahrenheit\n",
    "- Empresas, número de empresas con más de 20 trabajadores\n",
    "- Poblacion, en miles de habitantes\n",
    "- Viento, velocidad media del viento\n",
    "- Precip, precipitación anual media\n",
    "- Dias, número de días lluviosos al año"
   ]
  },
  {
   "cell_type": "markdown",
   "metadata": {},
   "source": [
    "Con df.info() se podía ver que el número de no nulos coincide con el número de filas, no obstante para datasets más grandes podríamos comprobar el número de NA con:"
   ]
  },
  {
   "cell_type": "code",
   "execution_count": 5,
   "metadata": {},
   "outputs": [
    {
     "data": {
      "text/html": [
       "<div>\n",
       "<style scoped>\n",
       "    .dataframe tbody tr th:only-of-type {\n",
       "        vertical-align: middle;\n",
       "    }\n",
       "\n",
       "    .dataframe tbody tr th {\n",
       "        vertical-align: top;\n",
       "    }\n",
       "\n",
       "    .dataframe thead th {\n",
       "        text-align: right;\n",
       "    }\n",
       "</style>\n",
       "<table border=\"1\" class=\"dataframe\">\n",
       "  <thead>\n",
       "    <tr style=\"text-align: right;\">\n",
       "      <th></th>\n",
       "      <th>Valores NA</th>\n",
       "    </tr>\n",
       "  </thead>\n",
       "  <tbody>\n",
       "    <tr>\n",
       "      <th>Ciudad</th>\n",
       "      <td>0</td>\n",
       "    </tr>\n",
       "    <tr>\n",
       "      <th>SO2</th>\n",
       "      <td>0</td>\n",
       "    </tr>\n",
       "    <tr>\n",
       "      <th>Neg.Temp</th>\n",
       "      <td>0</td>\n",
       "    </tr>\n",
       "    <tr>\n",
       "      <th>Empresas</th>\n",
       "      <td>0</td>\n",
       "    </tr>\n",
       "    <tr>\n",
       "      <th>Poblacion</th>\n",
       "      <td>0</td>\n",
       "    </tr>\n",
       "    <tr>\n",
       "      <th>Viento</th>\n",
       "      <td>0</td>\n",
       "    </tr>\n",
       "    <tr>\n",
       "      <th>Precip</th>\n",
       "      <td>0</td>\n",
       "    </tr>\n",
       "    <tr>\n",
       "      <th>Dias</th>\n",
       "      <td>0</td>\n",
       "    </tr>\n",
       "  </tbody>\n",
       "</table>\n",
       "</div>"
      ],
      "text/plain": [
       "           Valores NA\n",
       "Ciudad              0\n",
       "SO2                 0\n",
       "Neg.Temp            0\n",
       "Empresas            0\n",
       "Poblacion           0\n",
       "Viento              0\n",
       "Precip              0\n",
       "Dias                0"
      ]
     },
     "execution_count": 5,
     "metadata": {},
     "output_type": "execute_result"
    }
   ],
   "source": [
    "pd.DataFrame({'Valores NA': df.isna().sum()})"
   ]
  },
  {
   "cell_type": "markdown",
   "metadata": {},
   "source": [
    "En df.info() nos fijamos que son float64 excepto los valores que toma la variable ciudad que son strings (pandas por defecto considera strings como tipo obj)\\\n",
    "A simple vista parece que las ciudades del dataset son únicas, lo podemos comprobar:"
   ]
  },
  {
   "cell_type": "code",
   "execution_count": 6,
   "metadata": {},
   "outputs": [
    {
     "data": {
      "text/plain": [
       "True"
      ]
     },
     "execution_count": 6,
     "metadata": {},
     "output_type": "execute_result"
    }
   ],
   "source": [
    "df.loc[:, 'Ciudad'].nunique() == len(df.loc[:, 'Ciudad'])"
   ]
  },
  {
   "cell_type": "markdown",
   "metadata": {},
   "source": [
    "Utilizaremos el nombre de la ciudad como índice de fila (es conveniente para estandarizar el resto de variables)"
   ]
  },
  {
   "cell_type": "code",
   "execution_count": 7,
   "metadata": {},
   "outputs": [
    {
     "data": {
      "text/html": [
       "<div>\n",
       "<style scoped>\n",
       "    .dataframe tbody tr th:only-of-type {\n",
       "        vertical-align: middle;\n",
       "    }\n",
       "\n",
       "    .dataframe tbody tr th {\n",
       "        vertical-align: top;\n",
       "    }\n",
       "\n",
       "    .dataframe thead th {\n",
       "        text-align: right;\n",
       "    }\n",
       "</style>\n",
       "<table border=\"1\" class=\"dataframe\">\n",
       "  <thead>\n",
       "    <tr style=\"text-align: right;\">\n",
       "      <th></th>\n",
       "      <th>SO2</th>\n",
       "      <th>Neg.Temp</th>\n",
       "      <th>Empresas</th>\n",
       "      <th>Poblacion</th>\n",
       "      <th>Viento</th>\n",
       "      <th>Precip</th>\n",
       "      <th>Dias</th>\n",
       "    </tr>\n",
       "    <tr>\n",
       "      <th>Ciudad</th>\n",
       "      <th></th>\n",
       "      <th></th>\n",
       "      <th></th>\n",
       "      <th></th>\n",
       "      <th></th>\n",
       "      <th></th>\n",
       "      <th></th>\n",
       "    </tr>\n",
       "  </thead>\n",
       "  <tbody>\n",
       "    <tr>\n",
       "      <th>Phoenix</th>\n",
       "      <td>10.0</td>\n",
       "      <td>70.3</td>\n",
       "      <td>213.0</td>\n",
       "      <td>582.0</td>\n",
       "      <td>6.0</td>\n",
       "      <td>7.05</td>\n",
       "      <td>36.0</td>\n",
       "    </tr>\n",
       "    <tr>\n",
       "      <th>Little Rock</th>\n",
       "      <td>13.0</td>\n",
       "      <td>61.0</td>\n",
       "      <td>91.0</td>\n",
       "      <td>132.0</td>\n",
       "      <td>8.2</td>\n",
       "      <td>48.52</td>\n",
       "      <td>100.0</td>\n",
       "    </tr>\n",
       "    <tr>\n",
       "      <th>San Francisco</th>\n",
       "      <td>12.0</td>\n",
       "      <td>56.7</td>\n",
       "      <td>453.0</td>\n",
       "      <td>716.0</td>\n",
       "      <td>8.7</td>\n",
       "      <td>20.66</td>\n",
       "      <td>67.0</td>\n",
       "    </tr>\n",
       "    <tr>\n",
       "      <th>Denver</th>\n",
       "      <td>17.0</td>\n",
       "      <td>51.9</td>\n",
       "      <td>454.0</td>\n",
       "      <td>515.0</td>\n",
       "      <td>9.0</td>\n",
       "      <td>12.95</td>\n",
       "      <td>86.0</td>\n",
       "    </tr>\n",
       "    <tr>\n",
       "      <th>Hartford</th>\n",
       "      <td>56.0</td>\n",
       "      <td>49.1</td>\n",
       "      <td>412.0</td>\n",
       "      <td>158.0</td>\n",
       "      <td>9.0</td>\n",
       "      <td>43.37</td>\n",
       "      <td>127.0</td>\n",
       "    </tr>\n",
       "  </tbody>\n",
       "</table>\n",
       "</div>"
      ],
      "text/plain": [
       "                SO2  Neg.Temp  Empresas  Poblacion  Viento  Precip   Dias\n",
       "Ciudad                                                                   \n",
       "Phoenix        10.0      70.3     213.0      582.0     6.0    7.05   36.0\n",
       "Little Rock    13.0      61.0      91.0      132.0     8.2   48.52  100.0\n",
       "San Francisco  12.0      56.7     453.0      716.0     8.7   20.66   67.0\n",
       "Denver         17.0      51.9     454.0      515.0     9.0   12.95   86.0\n",
       "Hartford       56.0      49.1     412.0      158.0     9.0   43.37  127.0"
      ]
     },
     "execution_count": 7,
     "metadata": {},
     "output_type": "execute_result"
    }
   ],
   "source": [
    "df = df.set_index('Ciudad')\n",
    "df.head()"
   ]
  },
  {
   "cell_type": "markdown",
   "metadata": {},
   "source": [
    "Para hacernos una idea de los datos y ver rangos usamos .describe()\\\n",
    "Nota: Eliminamos la columna conteo y transponemos para que quede más legible"
   ]
  },
  {
   "cell_type": "code",
   "execution_count": 8,
   "metadata": {},
   "outputs": [
    {
     "data": {
      "text/html": [
       "<div>\n",
       "<style scoped>\n",
       "    .dataframe tbody tr th:only-of-type {\n",
       "        vertical-align: middle;\n",
       "    }\n",
       "\n",
       "    .dataframe tbody tr th {\n",
       "        vertical-align: top;\n",
       "    }\n",
       "\n",
       "    .dataframe thead th {\n",
       "        text-align: right;\n",
       "    }\n",
       "</style>\n",
       "<table border=\"1\" class=\"dataframe\">\n",
       "  <thead>\n",
       "    <tr style=\"text-align: right;\">\n",
       "      <th></th>\n",
       "      <th>mean</th>\n",
       "      <th>std</th>\n",
       "      <th>min</th>\n",
       "      <th>25%</th>\n",
       "      <th>50%</th>\n",
       "      <th>75%</th>\n",
       "      <th>max</th>\n",
       "    </tr>\n",
       "  </thead>\n",
       "  <tbody>\n",
       "    <tr>\n",
       "      <th>SO2</th>\n",
       "      <td>30.048780</td>\n",
       "      <td>23.472272</td>\n",
       "      <td>8.00</td>\n",
       "      <td>13.00</td>\n",
       "      <td>26.00</td>\n",
       "      <td>35.00</td>\n",
       "      <td>110.0</td>\n",
       "    </tr>\n",
       "    <tr>\n",
       "      <th>Neg.Temp</th>\n",
       "      <td>55.763415</td>\n",
       "      <td>7.227716</td>\n",
       "      <td>43.50</td>\n",
       "      <td>50.60</td>\n",
       "      <td>54.60</td>\n",
       "      <td>59.30</td>\n",
       "      <td>75.5</td>\n",
       "    </tr>\n",
       "    <tr>\n",
       "      <th>Empresas</th>\n",
       "      <td>463.097561</td>\n",
       "      <td>563.473948</td>\n",
       "      <td>35.00</td>\n",
       "      <td>181.00</td>\n",
       "      <td>347.00</td>\n",
       "      <td>462.00</td>\n",
       "      <td>3344.0</td>\n",
       "    </tr>\n",
       "    <tr>\n",
       "      <th>Poblacion</th>\n",
       "      <td>608.609756</td>\n",
       "      <td>579.113023</td>\n",
       "      <td>71.00</td>\n",
       "      <td>299.00</td>\n",
       "      <td>515.00</td>\n",
       "      <td>717.00</td>\n",
       "      <td>3369.0</td>\n",
       "    </tr>\n",
       "    <tr>\n",
       "      <th>Viento</th>\n",
       "      <td>9.443902</td>\n",
       "      <td>1.428644</td>\n",
       "      <td>6.00</td>\n",
       "      <td>8.70</td>\n",
       "      <td>9.30</td>\n",
       "      <td>10.60</td>\n",
       "      <td>12.7</td>\n",
       "    </tr>\n",
       "    <tr>\n",
       "      <th>Precip</th>\n",
       "      <td>36.769024</td>\n",
       "      <td>11.771550</td>\n",
       "      <td>7.05</td>\n",
       "      <td>30.96</td>\n",
       "      <td>38.74</td>\n",
       "      <td>43.11</td>\n",
       "      <td>59.8</td>\n",
       "    </tr>\n",
       "    <tr>\n",
       "      <th>Dias</th>\n",
       "      <td>113.902439</td>\n",
       "      <td>26.506419</td>\n",
       "      <td>36.00</td>\n",
       "      <td>103.00</td>\n",
       "      <td>115.00</td>\n",
       "      <td>128.00</td>\n",
       "      <td>166.0</td>\n",
       "    </tr>\n",
       "  </tbody>\n",
       "</table>\n",
       "</div>"
      ],
      "text/plain": [
       "                 mean         std    min     25%     50%     75%     max\n",
       "SO2         30.048780   23.472272   8.00   13.00   26.00   35.00   110.0\n",
       "Neg.Temp    55.763415    7.227716  43.50   50.60   54.60   59.30    75.5\n",
       "Empresas   463.097561  563.473948  35.00  181.00  347.00  462.00  3344.0\n",
       "Poblacion  608.609756  579.113023  71.00  299.00  515.00  717.00  3369.0\n",
       "Viento       9.443902    1.428644   6.00    8.70    9.30   10.60    12.7\n",
       "Precip      36.769024   11.771550   7.05   30.96   38.74   43.11    59.8\n",
       "Dias       113.902439   26.506419  36.00  103.00  115.00  128.00   166.0"
      ]
     },
     "execution_count": 8,
     "metadata": {},
     "output_type": "execute_result"
    }
   ],
   "source": [
    "df.describe().drop('count').T"
   ]
  },
  {
   "cell_type": "markdown",
   "metadata": {},
   "source": [
    "Por una parte no observamos valores carentes de sentido, como una cantidad de días negativa o una tempertatura extraña."
   ]
  },
  {
   "cell_type": "markdown",
   "metadata": {},
   "source": [
    "Por otro lado como no conocemos bien el dominio del problema y no contamos con gran cantidad de datos, no eliminaremos posibles outliers, que podemos observar con boxplots:"
   ]
  },
  {
   "cell_type": "code",
   "execution_count": 9,
   "metadata": {},
   "outputs": [
    {
     "data": {
      "image/png": "[encoded data removed]",
      "text/plain": [
       "<Figure size 1500x500 with 7 Axes>"
      ]
     },
     "metadata": {},
     "output_type": "display_data"
    }
   ],
   "source": [
    "fig, axs = plt.subplots(nrows=1, ncols=len(df.columns), figsize=(15, 5))\n",
    "\n",
    "for i, columna in enumerate(df.columns):\n",
    "    axs[i].boxplot(df[columna])\n",
    "    axs[i].set_title(columna)\n",
    "\n",
    "plt.tight_layout()\n",
    "\n",
    "plt.show()"
   ]
  },
  {
   "cell_type": "markdown",
   "metadata": {},
   "source": [
    "### 1.- (1 punto) Estandarizar los datos "
   ]
  },
  {
   "cell_type": "markdown",
   "metadata": {},
   "source": [
    "Estandarizamos el dataframe, para pasar todas las variables al mismo rango, para ello nos serviremos de un objeto scaler obtenido de sklearn.preprocessing.StandardScaler\\\n",
    "Los nuevos datos estandarizados se meten en un nuevo pandas.DataFrame"
   ]
  },
  {
   "cell_type": "code",
   "execution_count": 10,
   "metadata": {},
   "outputs": [
    {
     "data": {
      "text/html": [
       "<div>\n",
       "<style scoped>\n",
       "    .dataframe tbody tr th:only-of-type {\n",
       "        vertical-align: middle;\n",
       "    }\n",
       "\n",
       "    .dataframe tbody tr th {\n",
       "        vertical-align: top;\n",
       "    }\n",
       "\n",
       "    .dataframe thead th {\n",
       "        text-align: right;\n",
       "    }\n",
       "</style>\n",
       "<table border=\"1\" class=\"dataframe\">\n",
       "  <thead>\n",
       "    <tr style=\"text-align: right;\">\n",
       "      <th></th>\n",
       "      <th>SO2</th>\n",
       "      <th>Neg.Temp</th>\n",
       "      <th>Empresas</th>\n",
       "      <th>Poblacion</th>\n",
       "      <th>Viento</th>\n",
       "      <th>Precip</th>\n",
       "      <th>Dias</th>\n",
       "    </tr>\n",
       "    <tr>\n",
       "      <th>Ciudad</th>\n",
       "      <th></th>\n",
       "      <th></th>\n",
       "      <th></th>\n",
       "      <th></th>\n",
       "      <th></th>\n",
       "      <th></th>\n",
       "      <th></th>\n",
       "    </tr>\n",
       "  </thead>\n",
       "  <tbody>\n",
       "    <tr>\n",
       "      <th>Phoenix</th>\n",
       "      <td>-0.864758</td>\n",
       "      <td>2.036213</td>\n",
       "      <td>-0.449363</td>\n",
       "      <td>-0.046520</td>\n",
       "      <td>-2.440555</td>\n",
       "      <td>-2.556012</td>\n",
       "      <td>-2.975514</td>\n",
       "    </tr>\n",
       "    <tr>\n",
       "      <th>Little Rock</th>\n",
       "      <td>-0.735360</td>\n",
       "      <td>0.733515</td>\n",
       "      <td>-0.668567</td>\n",
       "      <td>-0.833224</td>\n",
       "      <td>-0.881504</td>\n",
       "      <td>1.010653</td>\n",
       "      <td>-0.531009</td>\n",
       "    </tr>\n",
       "    <tr>\n",
       "      <th>San Francisco</th>\n",
       "      <td>-0.778493</td>\n",
       "      <td>0.131192</td>\n",
       "      <td>-0.018143</td>\n",
       "      <td>0.187743</td>\n",
       "      <td>-0.527174</td>\n",
       "      <td>-1.385471</td>\n",
       "      <td>-1.791457</td>\n",
       "    </tr>\n",
       "    <tr>\n",
       "      <th>Denver</th>\n",
       "      <td>-0.562829</td>\n",
       "      <td>-0.541168</td>\n",
       "      <td>-0.016346</td>\n",
       "      <td>-0.163651</td>\n",
       "      <td>-0.314576</td>\n",
       "      <td>-2.048577</td>\n",
       "      <td>-1.065744</td>\n",
       "    </tr>\n",
       "    <tr>\n",
       "      <th>Hartford</th>\n",
       "      <td>1.119347</td>\n",
       "      <td>-0.933378</td>\n",
       "      <td>-0.091810</td>\n",
       "      <td>-0.787770</td>\n",
       "      <td>-0.314576</td>\n",
       "      <td>0.567723</td>\n",
       "      <td>0.500266</td>\n",
       "    </tr>\n",
       "  </tbody>\n",
       "</table>\n",
       "</div>"
      ],
      "text/plain": [
       "                    SO2  Neg.Temp  Empresas  Poblacion    Viento    Precip  \\\n",
       "Ciudad                                                                       \n",
       "Phoenix       -0.864758  2.036213 -0.449363  -0.046520 -2.440555 -2.556012   \n",
       "Little Rock   -0.735360  0.733515 -0.668567  -0.833224 -0.881504  1.010653   \n",
       "San Francisco -0.778493  0.131192 -0.018143   0.187743 -0.527174 -1.385471   \n",
       "Denver        -0.562829 -0.541168 -0.016346  -0.163651 -0.314576 -2.048577   \n",
       "Hartford       1.119347 -0.933378 -0.091810  -0.787770 -0.314576  0.567723   \n",
       "\n",
       "                   Dias  \n",
       "Ciudad                   \n",
       "Phoenix       -2.975514  \n",
       "Little Rock   -0.531009  \n",
       "San Francisco -1.791457  \n",
       "Denver        -1.065744  \n",
       "Hartford       0.500266  "
      ]
     },
     "execution_count": 10,
     "metadata": {},
     "output_type": "execute_result"
    }
   ],
   "source": [
    "from sklearn.preprocessing import StandardScaler\n",
    "\n",
    "scaler = StandardScaler()\n",
    "df_std = scaler.fit_transform(df)\n",
    "\n",
    "df_std = pd.DataFrame(df_std, columns=df.columns, index=df.index)\n",
    "df_std.head()"
   ]
  },
  {
   "cell_type": "markdown",
   "metadata": {},
   "source": [
    "Generamos estadísticas con .describe().\\\n",
    "(Para que se muestren resultados con 2 decimales se usa un context manager que cambia la configuración del display y una vez se termina el bloque with devuelve a la configuración inicial)"
   ]
  },
  {
   "cell_type": "code",
   "execution_count": 11,
   "metadata": {},
   "outputs": [
    {
     "name": "stdout",
     "output_type": "stream",
     "text": [
      "           mean  std   min   25%   50%   75%  max\n",
      "SO2        0.00 1.01 -0.95 -0.74 -0.17  0.21 3.45\n",
      "Neg.Temp   0.00 1.01 -1.72 -0.72 -0.16  0.50 2.76\n",
      "Empresas  -0.00 1.01 -0.77 -0.51 -0.21 -0.00 5.18\n",
      "Poblacion -0.00 1.01 -0.94 -0.54 -0.16  0.19 4.83\n",
      "Viento     0.00 1.01 -2.44 -0.53 -0.10  0.82 2.31\n",
      "Precip     0.00 1.01 -2.56 -0.50  0.17  0.55 1.98\n",
      "Dias      -0.00 1.01 -2.98 -0.42  0.04  0.54 1.99\n"
     ]
    }
   ],
   "source": [
    "class Notation2Decimal:\n",
    "    def __enter__(self):\n",
    "        self.original_config = pd.get_option('display.float_format')\n",
    "        pd.set_option('display.float_format', lambda x: '%.2f' % x)\n",
    "    \n",
    "    def __exit__(self, exc_type, exc_value, traceback):\n",
    "        pd.set_option('display.float_format', self.original_config)\n",
    "\n",
    "with Notation2Decimal():\n",
    "    print(df_std.describe().drop('count').T)"
   ]
  },
  {
   "cell_type": "markdown",
   "metadata": {},
   "source": [
    "Vemos que las variables se encuentran en un rango con media 0 y desviación típica 1.\\\n",
    "(No son exactos por problemas de redondeo)"
   ]
  },
  {
   "cell_type": "markdown",
   "metadata": {},
   "source": [
    "### 2.- (1 punto) Obtención de autovalores y autovectores"
   ]
  },
  {
   "cell_type": "code",
   "execution_count": 12,
   "metadata": {},
   "outputs": [
    {
     "data": {
      "text/html": [
       "<div>\n",
       "<style scoped>\n",
       "    .dataframe tbody tr th:only-of-type {\n",
       "        vertical-align: middle;\n",
       "    }\n",
       "\n",
       "    .dataframe tbody tr th {\n",
       "        vertical-align: top;\n",
       "    }\n",
       "\n",
       "    .dataframe thead th {\n",
       "        text-align: right;\n",
       "    }\n",
       "</style>\n",
       "<table border=\"1\" class=\"dataframe\">\n",
       "  <thead>\n",
       "    <tr style=\"text-align: right;\">\n",
       "      <th></th>\n",
       "      <th>SO2</th>\n",
       "      <th>Neg.Temp</th>\n",
       "      <th>Empresas</th>\n",
       "      <th>Poblacion</th>\n",
       "      <th>Viento</th>\n",
       "      <th>Precip</th>\n",
       "      <th>Dias</th>\n",
       "    </tr>\n",
       "    <tr>\n",
       "      <th>Ciudad</th>\n",
       "      <th></th>\n",
       "      <th></th>\n",
       "      <th></th>\n",
       "      <th></th>\n",
       "      <th></th>\n",
       "      <th></th>\n",
       "      <th></th>\n",
       "    </tr>\n",
       "  </thead>\n",
       "  <tbody>\n",
       "    <tr>\n",
       "      <th>Phoenix</th>\n",
       "      <td>-0.864758</td>\n",
       "      <td>2.036213</td>\n",
       "      <td>-0.449363</td>\n",
       "      <td>-0.046520</td>\n",
       "      <td>-2.440555</td>\n",
       "      <td>-2.556012</td>\n",
       "      <td>-2.975514</td>\n",
       "    </tr>\n",
       "    <tr>\n",
       "      <th>Little Rock</th>\n",
       "      <td>-0.735360</td>\n",
       "      <td>0.733515</td>\n",
       "      <td>-0.668567</td>\n",
       "      <td>-0.833224</td>\n",
       "      <td>-0.881504</td>\n",
       "      <td>1.010653</td>\n",
       "      <td>-0.531009</td>\n",
       "    </tr>\n",
       "    <tr>\n",
       "      <th>San Francisco</th>\n",
       "      <td>-0.778493</td>\n",
       "      <td>0.131192</td>\n",
       "      <td>-0.018143</td>\n",
       "      <td>0.187743</td>\n",
       "      <td>-0.527174</td>\n",
       "      <td>-1.385471</td>\n",
       "      <td>-1.791457</td>\n",
       "    </tr>\n",
       "    <tr>\n",
       "      <th>Denver</th>\n",
       "      <td>-0.562829</td>\n",
       "      <td>-0.541168</td>\n",
       "      <td>-0.016346</td>\n",
       "      <td>-0.163651</td>\n",
       "      <td>-0.314576</td>\n",
       "      <td>-2.048577</td>\n",
       "      <td>-1.065744</td>\n",
       "    </tr>\n",
       "    <tr>\n",
       "      <th>Hartford</th>\n",
       "      <td>1.119347</td>\n",
       "      <td>-0.933378</td>\n",
       "      <td>-0.091810</td>\n",
       "      <td>-0.787770</td>\n",
       "      <td>-0.314576</td>\n",
       "      <td>0.567723</td>\n",
       "      <td>0.500266</td>\n",
       "    </tr>\n",
       "  </tbody>\n",
       "</table>\n",
       "</div>"
      ],
      "text/plain": [
       "                    SO2  Neg.Temp  Empresas  Poblacion    Viento    Precip  \\\n",
       "Ciudad                                                                       \n",
       "Phoenix       -0.864758  2.036213 -0.449363  -0.046520 -2.440555 -2.556012   \n",
       "Little Rock   -0.735360  0.733515 -0.668567  -0.833224 -0.881504  1.010653   \n",
       "San Francisco -0.778493  0.131192 -0.018143   0.187743 -0.527174 -1.385471   \n",
       "Denver        -0.562829 -0.541168 -0.016346  -0.163651 -0.314576 -2.048577   \n",
       "Hartford       1.119347 -0.933378 -0.091810  -0.787770 -0.314576  0.567723   \n",
       "\n",
       "                   Dias  \n",
       "Ciudad                   \n",
       "Phoenix       -2.975514  \n",
       "Little Rock   -0.531009  \n",
       "San Francisco -1.791457  \n",
       "Denver        -1.065744  \n",
       "Hartford       0.500266  "
      ]
     },
     "execution_count": 12,
     "metadata": {},
     "output_type": "execute_result"
    }
   ],
   "source": [
    "df_std.head()"
   ]
  },
  {
   "cell_type": "markdown",
   "metadata": {},
   "source": [
    "Sobre el dataframe estandarizado (df_std) obtenemos la matriz de correlación (df_corr)"
   ]
  },
  {
   "cell_type": "code",
   "execution_count": 13,
   "metadata": {},
   "outputs": [
    {
     "data": {
      "text/html": [
       "<div>\n",
       "<style scoped>\n",
       "    .dataframe tbody tr th:only-of-type {\n",
       "        vertical-align: middle;\n",
       "    }\n",
       "\n",
       "    .dataframe tbody tr th {\n",
       "        vertical-align: top;\n",
       "    }\n",
       "\n",
       "    .dataframe thead th {\n",
       "        text-align: right;\n",
       "    }\n",
       "</style>\n",
       "<table border=\"1\" class=\"dataframe\">\n",
       "  <thead>\n",
       "    <tr style=\"text-align: right;\">\n",
       "      <th></th>\n",
       "      <th>SO2</th>\n",
       "      <th>Neg.Temp</th>\n",
       "      <th>Empresas</th>\n",
       "      <th>Poblacion</th>\n",
       "      <th>Viento</th>\n",
       "      <th>Precip</th>\n",
       "      <th>Dias</th>\n",
       "    </tr>\n",
       "  </thead>\n",
       "  <tbody>\n",
       "    <tr>\n",
       "      <th>SO2</th>\n",
       "      <td>1.000000</td>\n",
       "      <td>-0.433600</td>\n",
       "      <td>0.644769</td>\n",
       "      <td>0.493780</td>\n",
       "      <td>0.094690</td>\n",
       "      <td>0.054294</td>\n",
       "      <td>0.369564</td>\n",
       "    </tr>\n",
       "    <tr>\n",
       "      <th>Neg.Temp</th>\n",
       "      <td>-0.433600</td>\n",
       "      <td>1.000000</td>\n",
       "      <td>-0.190042</td>\n",
       "      <td>-0.062678</td>\n",
       "      <td>-0.349740</td>\n",
       "      <td>0.386253</td>\n",
       "      <td>-0.430242</td>\n",
       "    </tr>\n",
       "    <tr>\n",
       "      <th>Empresas</th>\n",
       "      <td>0.644769</td>\n",
       "      <td>-0.190042</td>\n",
       "      <td>1.000000</td>\n",
       "      <td>0.955269</td>\n",
       "      <td>0.237947</td>\n",
       "      <td>-0.032417</td>\n",
       "      <td>0.131829</td>\n",
       "    </tr>\n",
       "    <tr>\n",
       "      <th>Poblacion</th>\n",
       "      <td>0.493780</td>\n",
       "      <td>-0.062678</td>\n",
       "      <td>0.955269</td>\n",
       "      <td>1.000000</td>\n",
       "      <td>0.212644</td>\n",
       "      <td>-0.026119</td>\n",
       "      <td>0.042083</td>\n",
       "    </tr>\n",
       "    <tr>\n",
       "      <th>Viento</th>\n",
       "      <td>0.094690</td>\n",
       "      <td>-0.349740</td>\n",
       "      <td>0.237947</td>\n",
       "      <td>0.212644</td>\n",
       "      <td>1.000000</td>\n",
       "      <td>-0.012994</td>\n",
       "      <td>0.164106</td>\n",
       "    </tr>\n",
       "    <tr>\n",
       "      <th>Precip</th>\n",
       "      <td>0.054294</td>\n",
       "      <td>0.386253</td>\n",
       "      <td>-0.032417</td>\n",
       "      <td>-0.026119</td>\n",
       "      <td>-0.012994</td>\n",
       "      <td>1.000000</td>\n",
       "      <td>0.496097</td>\n",
       "    </tr>\n",
       "    <tr>\n",
       "      <th>Dias</th>\n",
       "      <td>0.369564</td>\n",
       "      <td>-0.430242</td>\n",
       "      <td>0.131829</td>\n",
       "      <td>0.042083</td>\n",
       "      <td>0.164106</td>\n",
       "      <td>0.496097</td>\n",
       "      <td>1.000000</td>\n",
       "    </tr>\n",
       "  </tbody>\n",
       "</table>\n",
       "</div>"
      ],
      "text/plain": [
       "                SO2  Neg.Temp  Empresas  Poblacion    Viento    Precip  \\\n",
       "SO2        1.000000 -0.433600  0.644769   0.493780  0.094690  0.054294   \n",
       "Neg.Temp  -0.433600  1.000000 -0.190042  -0.062678 -0.349740  0.386253   \n",
       "Empresas   0.644769 -0.190042  1.000000   0.955269  0.237947 -0.032417   \n",
       "Poblacion  0.493780 -0.062678  0.955269   1.000000  0.212644 -0.026119   \n",
       "Viento     0.094690 -0.349740  0.237947   0.212644  1.000000 -0.012994   \n",
       "Precip     0.054294  0.386253 -0.032417  -0.026119 -0.012994  1.000000   \n",
       "Dias       0.369564 -0.430242  0.131829   0.042083  0.164106  0.496097   \n",
       "\n",
       "               Dias  \n",
       "SO2        0.369564  \n",
       "Neg.Temp  -0.430242  \n",
       "Empresas   0.131829  \n",
       "Poblacion  0.042083  \n",
       "Viento     0.164106  \n",
       "Precip     0.496097  \n",
       "Dias       1.000000  "
      ]
     },
     "execution_count": 13,
     "metadata": {},
     "output_type": "execute_result"
    }
   ],
   "source": [
    "df_corr = df_std.corr()\n",
    "df_corr"
   ]
  },
  {
   "cell_type": "markdown",
   "metadata": {},
   "source": [
    "Usando la librería seaborn podemos con una línea de código mostrar las correlaciones de manera gráfica"
   ]
  },
  {
   "cell_type": "code",
   "execution_count": 14,
   "metadata": {},
   "outputs": [
    {
     "data": {
      "image/png": "[encoded data removed]",
      "text/plain": [
       "<Figure size 640x480 with 2 Axes>"
      ]
     },
     "metadata": {},
     "output_type": "display_data"
    }
   ],
   "source": [
    "import seaborn as sns\n",
    "sns.heatmap(df_corr, cmap='RdBu', vmin=-1, vmax=1, annot=True)\n",
    "plt.title('Mapa de Calor - Matriz de Correlación')\n",
    "plt.show()"
   ]
  },
  {
   "cell_type": "markdown",
   "metadata": {},
   "source": [
    "Para obtener los autovalores y autovectores utilizamos linalg.eig de numpy, una vez obtenidos los reordenamos de mayor a menor:"
   ]
  },
  {
   "cell_type": "code",
   "execution_count": 15,
   "metadata": {},
   "outputs": [
    {
     "data": {
      "text/plain": [
       "array([2.72811968, 1.51233485, 1.39497299, 0.89199129, 0.34677866,\n",
       "       0.10028759, 0.02551493])"
      ]
     },
     "execution_count": 15,
     "metadata": {},
     "output_type": "execute_result"
    }
   ],
   "source": [
    "eigenvalues, eigenvectors = np.linalg.eig(df_corr.values)\n",
    "sorted_indices = np.argsort(eigenvalues)[::-1]\n",
    "eigenvalues = eigenvalues[sorted_indices]\n",
    "eigenvectors = eigenvectors[:, sorted_indices]\n",
    "eigenvalues"
   ]
  },
  {
   "cell_type": "markdown",
   "metadata": {},
   "source": [
    "Calculamos la varianza explicada (y su acumulación) por cada una de las nuevas componentes y lo mostramos en un dataframe"
   ]
  },
  {
   "cell_type": "code",
   "execution_count": 16,
   "metadata": {},
   "outputs": [
    {
     "name": "stdout",
     "output_type": "stream",
     "text": [
      "             Autovalor  Varianza explicada(%)  Varianza acumulada(%)\n",
      "Componentes                                                         \n",
      "PC1               2.73                  38.97                  38.97\n",
      "PC2               1.51                  21.60                  60.58\n",
      "PC3               1.39                  19.93                  80.51\n",
      "PC4               0.89                  12.74                  93.25\n",
      "PC5               0.35                   4.95                  98.20\n",
      "PC6               0.10                   1.43                  99.64\n",
      "PC7               0.03                   0.36                 100.00\n"
     ]
    }
   ],
   "source": [
    "variance_perc = (eigenvalues * 100 / np.sum(eigenvalues))\n",
    "acc_variance_perc = np.cumsum(variance_perc)\n",
    "comp_index = pd.Index([f'PC{i+1}' for i in range(len(eigenvalues))], name='Componentes')\n",
    "\n",
    "df_variance = pd.DataFrame({\n",
    "    'Autovalor': eigenvalues,\n",
    "    'Varianza explicada(%)': variance_perc,\n",
    "    'Varianza acumulada(%)': acc_variance_perc},\n",
    "    index=comp_index)\n",
    "\n",
    "with Notation2Decimal():\n",
    "    print(df_variance)"
   ]
  },
  {
   "cell_type": "markdown",
   "metadata": {},
   "source": [
    "De manera gráfica se entiende de manera más intuitiva:"
   ]
  },
  {
   "cell_type": "code",
   "execution_count": 42,
   "metadata": {},
   "outputs": [
    {
     "data": {
      "image/png": "[encoded data removed]",
      "text/plain": [
       "<Figure size 640x480 with 1 Axes>"
      ]
     },
     "metadata": {},
     "output_type": "display_data"
    }
   ],
   "source": [
    "plt.figure()\n",
    "x = df_variance.index\n",
    "y = df_variance.loc[:, 'Varianza explicada(%)']\n",
    "plt.bar(x, y.cumsum(), color='lime', alpha=0.3)\n",
    "plt.bar(x, y)\n",
    "plt.xlabel('Componente')\n",
    "plt.ylabel('Porcentaje (%)')\n",
    "plt.legend(['Varianza acumulada', 'Varianza individual'], loc='best')\n",
    "plt.show()"
   ]
  },
  {
   "cell_type": "markdown",
   "metadata": {},
   "source": [
    "¿Cuánta información perdemos con 2 componentes?"
   ]
  },
  {
   "cell_type": "code",
   "execution_count": null,
   "metadata": {},
   "outputs": [
    {
     "name": "stdout",
     "output_type": "stream",
     "text": [
      "Con 2 componentes perdemos un 39.42%\n"
     ]
    }
   ],
   "source": [
    "num_comp = 2\n",
    "info_loss = 100-df_variance.loc[f\"PC{num_comp}\", \"Varianza acumulada(%)\"]\n",
    "print(f'Con {num_comp} componentes perdemos un {info_loss:.2f}%')"
   ]
  },
  {
   "cell_type": "markdown",
   "metadata": {},
   "source": [
    "¿Cuánta información representamos con 3 componentes?"
   ]
  },
  {
   "cell_type": "code",
   "execution_count": null,
   "metadata": {},
   "outputs": [
    {
     "name": "stdout",
     "output_type": "stream",
     "text": [
      "Con 3 componentes representamos un 80.51%\n"
     ]
    }
   ],
   "source": [
    "num_comp = 3\n",
    "info = df_variance.loc[f\"PC{num_comp}\", \"Varianza acumulada(%)\"]\n",
    "print(f'Con {num_comp} componentes representamos un {info:.2f}%')"
   ]
  },
  {
   "cell_type": "markdown",
   "metadata": {},
   "source": [
    "En coordenadas de las componentes principales los datos quedan como sigue:"
   ]
  },
  {
   "cell_type": "code",
   "execution_count": null,
   "metadata": {},
   "outputs": [
    {
     "name": "stdout",
     "output_type": "stream",
     "text": [
      "                PC1   PC2   PC3   PC4   PC5   PC6   PC7\n",
      "Ciudad                                                 \n",
      "Phoenix       -2.72 -3.89 -1.06 -1.54 -0.03  0.65 -0.09\n",
      "Little Rock   -1.72  0.48 -0.85 -0.19 -0.14 -0.54  0.20\n",
      "San Francisco -0.94 -2.24  0.18 -0.15  0.19 -0.30 -0.01\n",
      "Denver        -0.55 -1.97  1.23 -0.42  0.38  0.13  0.16\n",
      "Hartford       0.46  1.10  0.59 -0.94 -0.74 -0.40  0.26\n"
     ]
    }
   ],
   "source": [
    "comp_index = pd.Index([f'PC{i+1}' for i in range(len(eigenvalues))])\n",
    "\n",
    "df_pca = pd.DataFrame(\n",
    "    data=np.dot(df_std, eigenvectors),\n",
    "    columns=comp_index,\n",
    "    index=df_std.index)\n",
    "\n",
    "with Notation2Decimal():\n",
    "    print(df_pca.head())"
   ]
  },
  {
   "cell_type": "markdown",
   "metadata": {},
   "source": [
    "##### 3.- (1 punto)Obtén un diagrama de dispersión en 3 dimensiones y comenta qué has interpretado en él. Elige al menos 4 ciudades de forma aleatoria y explica qué pasa con ellas."
   ]
  },
  {
   "cell_type": "code",
   "execution_count": null,
   "metadata": {},
   "outputs": [
    {
     "data": {
      "image/png": "[encoded data removed]",
      "text/plain": [
       "<Figure size 640x480 with 1 Axes>"
      ]
     },
     "metadata": {},
     "output_type": "display_data"
    }
   ],
   "source": [
    "n = 3\n",
    "fig = plt.figure()\n",
    "ax = fig.add_subplot(1, 1, 1, projection='3d')\n",
    "\n",
    "X, Y, Z = (df_pca[f'PC{i+1}'].values for i in range(n))\n",
    "ax.scatter(X, Y, Z, marker='o', color='b')\n",
    "for eig3d in eigenvectors[:, :n].T:\n",
    "    ax.quiver(0, 0, 0, *eig3d[0: n])\n",
    "\n",
    "plt.show()"
   ]
  },
  {
   "cell_type": "code",
   "execution_count": null,
   "metadata": {},
   "outputs": [
    {
     "data": {
      "image/png": "[encoded data removed]",
      "text/plain": [
       "<Figure size 1500x500 with 3 Axes>"
      ]
     },
     "metadata": {},
     "output_type": "display_data"
    }
   ],
   "source": [
    "n = 3\n",
    "X, Y, Z = (df_pca[f'PC{i+1}'].values for i in range(n))\n",
    "\n",
    "fig, axes = plt.subplots(1, 3, figsize=(15, 5))\n",
    "\n",
    "axes[0].scatter(X, Y, marker='o', color='b')\n",
    "axes[1].scatter(X, Z, marker='o', color='b')\n",
    "axes[2].scatter(Y, Z, marker='o', color='b')\n",
    "plt.show()"
   ]
  },
  {
   "cell_type": "markdown",
   "metadata": {},
   "source": [
    "Adicional: sklearn dispone del objeto PCA que consigue lo que hemos ido haciendo paso a paso"
   ]
  },
  {
   "cell_type": "code",
   "execution_count": null,
   "metadata": {},
   "outputs": [
    {
     "name": "stdout",
     "output_type": "stream",
     "text": [
      "             Autovalor  Varianza explicada(%)  Varianza Acumulada(%)\n",
      "Componentes                                                         \n",
      "PC1               2.73                  38.97                  38.97\n",
      "PC2               1.51                  21.60                  60.58\n",
      "PC3               1.39                  19.93                  80.51\n",
      "PC4               0.89                  12.74                  93.25\n",
      "PC5               0.35                   4.95                  98.20\n",
      "PC6               0.10                   1.43                  99.64\n",
      "PC7               0.03                   0.36                 100.00\n"
     ]
    }
   ],
   "source": [
    "from sklearn.decomposition import PCA\n",
    "\n",
    "pca = PCA()\n",
    "pca.fit(df_std)\n",
    "\n",
    "variance_perc = pca.explained_variance_ratio_ * 100\n",
    "acc_variance_perc = variance_perc.cumsum()\n",
    "comp_index = pd.Index([f'PC{i+1}' for i in range(len(eigenvalues))], name='Componentes')\n",
    "\n",
    "df_variance = pd.DataFrame({    \n",
    "    'Autovalor': eigenvalues,\n",
    "    'Varianza explicada(%)': variance_perc,\n",
    "    'Varianza Acumulada(%)': acc_variance_perc},\n",
    "    index=comp_index)\n",
    "\n",
    "with Notation2Decimal():\n",
    "    print(df_variance)"
   ]
  },
  {
   "cell_type": "code",
   "execution_count": null,
   "metadata": {},
   "outputs": [],
   "source": []
  }
 ],
 "metadata": {
  "kernelspec": {
   "display_name": ".venv",
   "language": "python",
   "name": "python3"
  },
  "language_info": {
   "codemirror_mode": {
    "name": "ipython",
    "version": 3
   },
   "file_extension": ".py",
   "mimetype": "text/x-python",
   "name": "python",
   "nbconvert_exporter": "python",
   "pygments_lexer": "ipython3",
   "version": "3.11.4"
  }
 },
 "nbformat": 4,
 "nbformat_minor": 2
}
